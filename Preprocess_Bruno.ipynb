{
 "cells": [
  {
   "cell_type": "code",
   "execution_count": 1,
   "metadata": {},
   "outputs": [
    {
     "data": {
      "text/html": [
       "<style>.container { width:100% !important; }</style>"
      ],
      "text/plain": [
       "<IPython.core.display.HTML object>"
      ]
     },
     "metadata": {},
     "output_type": "display_data"
    }
   ],
   "source": [
    "import h5py\n",
    "import scipy.io as io\n",
    "import PIL.Image as Image\n",
    "import numpy as np\n",
    "import os\n",
    "import glob\n",
    "from matplotlib import pyplot as plt\n",
    "from scipy.ndimage.filters import gaussian_filter \n",
    "import scipy\n",
    "import json\n",
    "from matplotlib import cm as CM\n",
    "#from image import *\n",
    "from scipy import spatial\n",
    "\n",
    "\n",
    "\n",
    "from IPython.core.display import display, HTML\n",
    "display(HTML(\"<style>.container { width:100% !important; }</style>\"))"
   ]
  },
  {
   "cell_type": "code",
   "execution_count": 2,
   "metadata": {},
   "outputs": [],
   "source": [
    "def gaussian_filter_density(gt):\n",
    "    #Generates a density map using Gaussian filter transformation\n",
    "    print (gt.shape)\n",
    "    density = np.zeros(gt.shape, dtype=np.float32)\n",
    "    \n",
    "    gt_count = np.count_nonzero(gt)\n",
    "    \n",
    "    if gt_count == 0:\n",
    "        return density\n",
    "\n",
    "    # FInd out the K nearest neighbours using a KDTree\n",
    "    \n",
    "    pts = np.array(list(zip(np.nonzero(gt)[1].ravel(), np.nonzero(gt)[0].ravel())))\n",
    "    leafsize = 2048\n",
    "    \n",
    "    # build kdtree\n",
    "    tree = scipy.spatial.KDTree(pts.copy(), leafsize=leafsize)\n",
    "    \n",
    "    # query kdtree\n",
    "    distances, locations = tree.query(pts, k=4)\n",
    "\n",
    "    print ('generating density...')    \n",
    "    for i, pt in enumerate(pts):\n",
    "        pt2d = np.zeros(gt.shape, dtype=np.float32)\n",
    "        pt2d[pt[1],pt[0]] = 1.\n",
    "        if gt_count > 1:\n",
    "            sigma = (distances[i][1]+distances[i][2]+distances[i][3])*0.1\n",
    "        else:\n",
    "            sigma = np.average(np.array(gt.shape))/2./2. #case: 1 point\n",
    "        \n",
    "        #Convolve with the gaussian filter\n",
    "        \n",
    "        density += scipy.ndimage.filters.gaussian_filter(pt2d, sigma, mode='constant')\n",
    "    print ('done.')\n",
    "    return density"
   ]
  },
  {
   "cell_type": "code",
   "execution_count": 3,
   "metadata": {},
   "outputs": [],
   "source": [
    "root = r'data/'"
   ]
  },
  {
   "cell_type": "code",
   "execution_count": 4,
   "metadata": {},
   "outputs": [],
   "source": [
    "part_A_train = os.path.join(root,'part_A/train_data','images')\n",
    "part_A_test = os.path.join(root,'part_A/test_data','images')\n",
    "part_B_train = os.path.join(root,'part_B/train_data','images')\n",
    "part_B_test = os.path.join(root,'part_B/test_data','images')\n",
    "path_sets = [part_A_train,part_A_test,part_B_train,part_B_test]"
   ]
  },
  {
   "cell_type": "code",
   "execution_count": 5,
   "metadata": {},
   "outputs": [
    {
     "data": {
      "text/plain": [
       "'data/part_A/train_data\\\\images'"
      ]
     },
     "execution_count": 5,
     "metadata": {},
     "output_type": "execute_result"
    }
   ],
   "source": [
    "part_A_train"
   ]
  },
  {
   "cell_type": "code",
   "execution_count": 6,
   "metadata": {},
   "outputs": [
    {
     "name": "stdout",
     "output_type": "stream",
     "text": [
      "1198\n"
     ]
    }
   ],
   "source": [
    "# List of all image paths\n",
    "\n",
    "img_paths = []\n",
    "for path in path_sets:\n",
    "    for img_path in glob.glob(os.path.join(path, '*.jpg')):\n",
    "        img_paths.append(img_path)\n",
    "print(len(img_paths))"
   ]
  },
  {
   "cell_type": "code",
   "execution_count": 7,
   "metadata": {
    "collapsed": true
   },
   "outputs": [
    {
     "data": {
      "text/plain": [
       "['data/part_A/train_data\\\\images\\\\IMG_1.jpg',\n",
       " 'data/part_A/train_data\\\\images\\\\IMG_10.jpg',\n",
       " 'data/part_A/train_data\\\\images\\\\IMG_100.jpg',\n",
       " 'data/part_A/train_data\\\\images\\\\IMG_101.jpg',\n",
       " 'data/part_A/train_data\\\\images\\\\IMG_102.jpg',\n",
       " 'data/part_A/train_data\\\\images\\\\IMG_103.jpg',\n",
       " 'data/part_A/train_data\\\\images\\\\IMG_104.jpg',\n",
       " 'data/part_A/train_data\\\\images\\\\IMG_105.jpg',\n",
       " 'data/part_A/train_data\\\\images\\\\IMG_106.jpg',\n",
       " 'data/part_A/train_data\\\\images\\\\IMG_107.jpg',\n",
       " 'data/part_A/train_data\\\\images\\\\IMG_108.jpg',\n",
       " 'data/part_A/train_data\\\\images\\\\IMG_109.jpg',\n",
       " 'data/part_A/train_data\\\\images\\\\IMG_11.jpg',\n",
       " 'data/part_A/train_data\\\\images\\\\IMG_110.jpg',\n",
       " 'data/part_A/train_data\\\\images\\\\IMG_111.jpg',\n",
       " 'data/part_A/train_data\\\\images\\\\IMG_112.jpg',\n",
       " 'data/part_A/train_data\\\\images\\\\IMG_113.jpg',\n",
       " 'data/part_A/train_data\\\\images\\\\IMG_114.jpg',\n",
       " 'data/part_A/train_data\\\\images\\\\IMG_115.jpg',\n",
       " 'data/part_A/train_data\\\\images\\\\IMG_116.jpg',\n",
       " 'data/part_A/train_data\\\\images\\\\IMG_117.jpg',\n",
       " 'data/part_A/train_data\\\\images\\\\IMG_118.jpg',\n",
       " 'data/part_A/train_data\\\\images\\\\IMG_119.jpg',\n",
       " 'data/part_A/train_data\\\\images\\\\IMG_12.jpg',\n",
       " 'data/part_A/train_data\\\\images\\\\IMG_120.jpg',\n",
       " 'data/part_A/train_data\\\\images\\\\IMG_121.jpg',\n",
       " 'data/part_A/train_data\\\\images\\\\IMG_122.jpg',\n",
       " 'data/part_A/train_data\\\\images\\\\IMG_123.jpg',\n",
       " 'data/part_A/train_data\\\\images\\\\IMG_124.jpg',\n",
       " 'data/part_A/train_data\\\\images\\\\IMG_125.jpg',\n",
       " 'data/part_A/train_data\\\\images\\\\IMG_126.jpg',\n",
       " 'data/part_A/train_data\\\\images\\\\IMG_127.jpg',\n",
       " 'data/part_A/train_data\\\\images\\\\IMG_128.jpg',\n",
       " 'data/part_A/train_data\\\\images\\\\IMG_129.jpg',\n",
       " 'data/part_A/train_data\\\\images\\\\IMG_13.jpg',\n",
       " 'data/part_A/train_data\\\\images\\\\IMG_130.jpg',\n",
       " 'data/part_A/train_data\\\\images\\\\IMG_131.jpg',\n",
       " 'data/part_A/train_data\\\\images\\\\IMG_132.jpg',\n",
       " 'data/part_A/train_data\\\\images\\\\IMG_133.jpg',\n",
       " 'data/part_A/train_data\\\\images\\\\IMG_134.jpg',\n",
       " 'data/part_A/train_data\\\\images\\\\IMG_135.jpg',\n",
       " 'data/part_A/train_data\\\\images\\\\IMG_136.jpg',\n",
       " 'data/part_A/train_data\\\\images\\\\IMG_137.jpg',\n",
       " 'data/part_A/train_data\\\\images\\\\IMG_138.jpg',\n",
       " 'data/part_A/train_data\\\\images\\\\IMG_139.jpg',\n",
       " 'data/part_A/train_data\\\\images\\\\IMG_14.jpg',\n",
       " 'data/part_A/train_data\\\\images\\\\IMG_140.jpg',\n",
       " 'data/part_A/train_data\\\\images\\\\IMG_141.jpg',\n",
       " 'data/part_A/train_data\\\\images\\\\IMG_142.jpg',\n",
       " 'data/part_A/train_data\\\\images\\\\IMG_143.jpg',\n",
       " 'data/part_A/train_data\\\\images\\\\IMG_144.jpg',\n",
       " 'data/part_A/train_data\\\\images\\\\IMG_145.jpg',\n",
       " 'data/part_A/train_data\\\\images\\\\IMG_146.jpg',\n",
       " 'data/part_A/train_data\\\\images\\\\IMG_147.jpg',\n",
       " 'data/part_A/train_data\\\\images\\\\IMG_148.jpg',\n",
       " 'data/part_A/train_data\\\\images\\\\IMG_149.jpg',\n",
       " 'data/part_A/train_data\\\\images\\\\IMG_15.jpg',\n",
       " 'data/part_A/train_data\\\\images\\\\IMG_150.jpg',\n",
       " 'data/part_A/train_data\\\\images\\\\IMG_151.jpg',\n",
       " 'data/part_A/train_data\\\\images\\\\IMG_152.jpg',\n",
       " 'data/part_A/train_data\\\\images\\\\IMG_153.jpg',\n",
       " 'data/part_A/train_data\\\\images\\\\IMG_154.jpg',\n",
       " 'data/part_A/train_data\\\\images\\\\IMG_155.jpg',\n",
       " 'data/part_A/train_data\\\\images\\\\IMG_156.jpg',\n",
       " 'data/part_A/train_data\\\\images\\\\IMG_157.jpg',\n",
       " 'data/part_A/train_data\\\\images\\\\IMG_158.jpg',\n",
       " 'data/part_A/train_data\\\\images\\\\IMG_159.jpg',\n",
       " 'data/part_A/train_data\\\\images\\\\IMG_16.jpg',\n",
       " 'data/part_A/train_data\\\\images\\\\IMG_160.jpg',\n",
       " 'data/part_A/train_data\\\\images\\\\IMG_161.jpg',\n",
       " 'data/part_A/train_data\\\\images\\\\IMG_162.jpg',\n",
       " 'data/part_A/train_data\\\\images\\\\IMG_163.jpg',\n",
       " 'data/part_A/train_data\\\\images\\\\IMG_164.jpg',\n",
       " 'data/part_A/train_data\\\\images\\\\IMG_165.jpg',\n",
       " 'data/part_A/train_data\\\\images\\\\IMG_166.jpg',\n",
       " 'data/part_A/train_data\\\\images\\\\IMG_167.jpg',\n",
       " 'data/part_A/train_data\\\\images\\\\IMG_168.jpg',\n",
       " 'data/part_A/train_data\\\\images\\\\IMG_169.jpg',\n",
       " 'data/part_A/train_data\\\\images\\\\IMG_17.jpg',\n",
       " 'data/part_A/train_data\\\\images\\\\IMG_170.jpg',\n",
       " 'data/part_A/train_data\\\\images\\\\IMG_171.jpg',\n",
       " 'data/part_A/train_data\\\\images\\\\IMG_172.jpg',\n",
       " 'data/part_A/train_data\\\\images\\\\IMG_173.jpg',\n",
       " 'data/part_A/train_data\\\\images\\\\IMG_174.jpg',\n",
       " 'data/part_A/train_data\\\\images\\\\IMG_175.jpg',\n",
       " 'data/part_A/train_data\\\\images\\\\IMG_176.jpg',\n",
       " 'data/part_A/train_data\\\\images\\\\IMG_177.jpg',\n",
       " 'data/part_A/train_data\\\\images\\\\IMG_178.jpg',\n",
       " 'data/part_A/train_data\\\\images\\\\IMG_179.jpg',\n",
       " 'data/part_A/train_data\\\\images\\\\IMG_18.jpg',\n",
       " 'data/part_A/train_data\\\\images\\\\IMG_180.jpg',\n",
       " 'data/part_A/train_data\\\\images\\\\IMG_181.jpg',\n",
       " 'data/part_A/train_data\\\\images\\\\IMG_182.jpg',\n",
       " 'data/part_A/train_data\\\\images\\\\IMG_183.jpg',\n",
       " 'data/part_A/train_data\\\\images\\\\IMG_184.jpg',\n",
       " 'data/part_A/train_data\\\\images\\\\IMG_185.jpg',\n",
       " 'data/part_A/train_data\\\\images\\\\IMG_186.jpg',\n",
       " 'data/part_A/train_data\\\\images\\\\IMG_187.jpg',\n",
       " 'data/part_A/train_data\\\\images\\\\IMG_188.jpg',\n",
       " 'data/part_A/train_data\\\\images\\\\IMG_189.jpg',\n",
       " 'data/part_A/train_data\\\\images\\\\IMG_19.jpg',\n",
       " 'data/part_A/train_data\\\\images\\\\IMG_190.jpg',\n",
       " 'data/part_A/train_data\\\\images\\\\IMG_191.jpg',\n",
       " 'data/part_A/train_data\\\\images\\\\IMG_192.jpg',\n",
       " 'data/part_A/train_data\\\\images\\\\IMG_193.jpg',\n",
       " 'data/part_A/train_data\\\\images\\\\IMG_194.jpg',\n",
       " 'data/part_A/train_data\\\\images\\\\IMG_195.jpg',\n",
       " 'data/part_A/train_data\\\\images\\\\IMG_196.jpg',\n",
       " 'data/part_A/train_data\\\\images\\\\IMG_197.jpg',\n",
       " 'data/part_A/train_data\\\\images\\\\IMG_198.jpg',\n",
       " 'data/part_A/train_data\\\\images\\\\IMG_199.jpg',\n",
       " 'data/part_A/train_data\\\\images\\\\IMG_2.jpg',\n",
       " 'data/part_A/train_data\\\\images\\\\IMG_20.jpg',\n",
       " 'data/part_A/train_data\\\\images\\\\IMG_200.jpg',\n",
       " 'data/part_A/train_data\\\\images\\\\IMG_201.jpg',\n",
       " 'data/part_A/train_data\\\\images\\\\IMG_202.jpg',\n",
       " 'data/part_A/train_data\\\\images\\\\IMG_203.jpg',\n",
       " 'data/part_A/train_data\\\\images\\\\IMG_204.jpg',\n",
       " 'data/part_A/train_data\\\\images\\\\IMG_205.jpg',\n",
       " 'data/part_A/train_data\\\\images\\\\IMG_206.jpg',\n",
       " 'data/part_A/train_data\\\\images\\\\IMG_207.jpg',\n",
       " 'data/part_A/train_data\\\\images\\\\IMG_208.jpg',\n",
       " 'data/part_A/train_data\\\\images\\\\IMG_209.jpg',\n",
       " 'data/part_A/train_data\\\\images\\\\IMG_21.jpg',\n",
       " 'data/part_A/train_data\\\\images\\\\IMG_210.jpg',\n",
       " 'data/part_A/train_data\\\\images\\\\IMG_211.jpg',\n",
       " 'data/part_A/train_data\\\\images\\\\IMG_212.jpg',\n",
       " 'data/part_A/train_data\\\\images\\\\IMG_213.jpg',\n",
       " 'data/part_A/train_data\\\\images\\\\IMG_214.jpg',\n",
       " 'data/part_A/train_data\\\\images\\\\IMG_215.jpg',\n",
       " 'data/part_A/train_data\\\\images\\\\IMG_216.jpg',\n",
       " 'data/part_A/train_data\\\\images\\\\IMG_217.jpg',\n",
       " 'data/part_A/train_data\\\\images\\\\IMG_218.jpg',\n",
       " 'data/part_A/train_data\\\\images\\\\IMG_219.jpg',\n",
       " 'data/part_A/train_data\\\\images\\\\IMG_22.jpg',\n",
       " 'data/part_A/train_data\\\\images\\\\IMG_220.jpg',\n",
       " 'data/part_A/train_data\\\\images\\\\IMG_221.jpg',\n",
       " 'data/part_A/train_data\\\\images\\\\IMG_222.jpg',\n",
       " 'data/part_A/train_data\\\\images\\\\IMG_223.jpg',\n",
       " 'data/part_A/train_data\\\\images\\\\IMG_224.jpg',\n",
       " 'data/part_A/train_data\\\\images\\\\IMG_225.jpg',\n",
       " 'data/part_A/train_data\\\\images\\\\IMG_226.jpg',\n",
       " 'data/part_A/train_data\\\\images\\\\IMG_227.jpg',\n",
       " 'data/part_A/train_data\\\\images\\\\IMG_228.jpg',\n",
       " 'data/part_A/train_data\\\\images\\\\IMG_229.jpg',\n",
       " 'data/part_A/train_data\\\\images\\\\IMG_23.jpg',\n",
       " 'data/part_A/train_data\\\\images\\\\IMG_230.jpg',\n",
       " 'data/part_A/train_data\\\\images\\\\IMG_231.jpg',\n",
       " 'data/part_A/train_data\\\\images\\\\IMG_232.jpg',\n",
       " 'data/part_A/train_data\\\\images\\\\IMG_233.jpg',\n",
       " 'data/part_A/train_data\\\\images\\\\IMG_234.jpg',\n",
       " 'data/part_A/train_data\\\\images\\\\IMG_235.jpg',\n",
       " 'data/part_A/train_data\\\\images\\\\IMG_236.jpg',\n",
       " 'data/part_A/train_data\\\\images\\\\IMG_237.jpg',\n",
       " 'data/part_A/train_data\\\\images\\\\IMG_238.jpg',\n",
       " 'data/part_A/train_data\\\\images\\\\IMG_239.jpg',\n",
       " 'data/part_A/train_data\\\\images\\\\IMG_24.jpg',\n",
       " 'data/part_A/train_data\\\\images\\\\IMG_240.jpg',\n",
       " 'data/part_A/train_data\\\\images\\\\IMG_241.jpg',\n",
       " 'data/part_A/train_data\\\\images\\\\IMG_242.jpg',\n",
       " 'data/part_A/train_data\\\\images\\\\IMG_243.jpg',\n",
       " 'data/part_A/train_data\\\\images\\\\IMG_244.jpg',\n",
       " 'data/part_A/train_data\\\\images\\\\IMG_245.jpg',\n",
       " 'data/part_A/train_data\\\\images\\\\IMG_246.jpg',\n",
       " 'data/part_A/train_data\\\\images\\\\IMG_247.jpg',\n",
       " 'data/part_A/train_data\\\\images\\\\IMG_248.jpg',\n",
       " 'data/part_A/train_data\\\\images\\\\IMG_249.jpg',\n",
       " 'data/part_A/train_data\\\\images\\\\IMG_25.jpg',\n",
       " 'data/part_A/train_data\\\\images\\\\IMG_250.jpg',\n",
       " 'data/part_A/train_data\\\\images\\\\IMG_251.jpg',\n",
       " 'data/part_A/train_data\\\\images\\\\IMG_252.jpg',\n",
       " 'data/part_A/train_data\\\\images\\\\IMG_253.jpg',\n",
       " 'data/part_A/train_data\\\\images\\\\IMG_254.jpg',\n",
       " 'data/part_A/train_data\\\\images\\\\IMG_255.jpg',\n",
       " 'data/part_A/train_data\\\\images\\\\IMG_256.jpg',\n",
       " 'data/part_A/train_data\\\\images\\\\IMG_257.jpg',\n",
       " 'data/part_A/train_data\\\\images\\\\IMG_258.jpg',\n",
       " 'data/part_A/train_data\\\\images\\\\IMG_259.jpg',\n",
       " 'data/part_A/train_data\\\\images\\\\IMG_26.jpg',\n",
       " 'data/part_A/train_data\\\\images\\\\IMG_260.jpg',\n",
       " 'data/part_A/train_data\\\\images\\\\IMG_261.jpg',\n",
       " 'data/part_A/train_data\\\\images\\\\IMG_262.jpg',\n",
       " 'data/part_A/train_data\\\\images\\\\IMG_263.jpg',\n",
       " 'data/part_A/train_data\\\\images\\\\IMG_264.jpg',\n",
       " 'data/part_A/train_data\\\\images\\\\IMG_265.jpg',\n",
       " 'data/part_A/train_data\\\\images\\\\IMG_266.jpg',\n",
       " 'data/part_A/train_data\\\\images\\\\IMG_267.jpg',\n",
       " 'data/part_A/train_data\\\\images\\\\IMG_268.jpg',\n",
       " 'data/part_A/train_data\\\\images\\\\IMG_269.jpg',\n",
       " 'data/part_A/train_data\\\\images\\\\IMG_27.jpg',\n",
       " 'data/part_A/train_data\\\\images\\\\IMG_270.jpg',\n",
       " 'data/part_A/train_data\\\\images\\\\IMG_271.jpg',\n",
       " 'data/part_A/train_data\\\\images\\\\IMG_272.jpg',\n",
       " 'data/part_A/train_data\\\\images\\\\IMG_273.jpg',\n",
       " 'data/part_A/train_data\\\\images\\\\IMG_274.jpg',\n",
       " 'data/part_A/train_data\\\\images\\\\IMG_275.jpg',\n",
       " 'data/part_A/train_data\\\\images\\\\IMG_276.jpg',\n",
       " 'data/part_A/train_data\\\\images\\\\IMG_277.jpg',\n",
       " 'data/part_A/train_data\\\\images\\\\IMG_278.jpg',\n",
       " 'data/part_A/train_data\\\\images\\\\IMG_279.jpg',\n",
       " 'data/part_A/train_data\\\\images\\\\IMG_28.jpg',\n",
       " 'data/part_A/train_data\\\\images\\\\IMG_280.jpg',\n",
       " 'data/part_A/train_data\\\\images\\\\IMG_281.jpg',\n",
       " 'data/part_A/train_data\\\\images\\\\IMG_282.jpg',\n",
       " 'data/part_A/train_data\\\\images\\\\IMG_283.jpg',\n",
       " 'data/part_A/train_data\\\\images\\\\IMG_284.jpg',\n",
       " 'data/part_A/train_data\\\\images\\\\IMG_285.jpg',\n",
       " 'data/part_A/train_data\\\\images\\\\IMG_286.jpg',\n",
       " 'data/part_A/train_data\\\\images\\\\IMG_287.jpg',\n",
       " 'data/part_A/train_data\\\\images\\\\IMG_288.jpg',\n",
       " 'data/part_A/train_data\\\\images\\\\IMG_289.jpg',\n",
       " 'data/part_A/train_data\\\\images\\\\IMG_29.jpg',\n",
       " 'data/part_A/train_data\\\\images\\\\IMG_290.jpg',\n",
       " 'data/part_A/train_data\\\\images\\\\IMG_291.jpg',\n",
       " 'data/part_A/train_data\\\\images\\\\IMG_292.jpg',\n",
       " 'data/part_A/train_data\\\\images\\\\IMG_293.jpg',\n",
       " 'data/part_A/train_data\\\\images\\\\IMG_294.jpg',\n",
       " 'data/part_A/train_data\\\\images\\\\IMG_295.jpg',\n",
       " 'data/part_A/train_data\\\\images\\\\IMG_296.jpg',\n",
       " 'data/part_A/train_data\\\\images\\\\IMG_297.jpg',\n",
       " 'data/part_A/train_data\\\\images\\\\IMG_298.jpg',\n",
       " 'data/part_A/train_data\\\\images\\\\IMG_299.jpg',\n",
       " 'data/part_A/train_data\\\\images\\\\IMG_3.jpg',\n",
       " 'data/part_A/train_data\\\\images\\\\IMG_30.jpg',\n",
       " 'data/part_A/train_data\\\\images\\\\IMG_300.jpg',\n",
       " 'data/part_A/train_data\\\\images\\\\IMG_31.jpg',\n",
       " 'data/part_A/train_data\\\\images\\\\IMG_32.jpg',\n",
       " 'data/part_A/train_data\\\\images\\\\IMG_33.jpg',\n",
       " 'data/part_A/train_data\\\\images\\\\IMG_34.jpg',\n",
       " 'data/part_A/train_data\\\\images\\\\IMG_35.jpg',\n",
       " 'data/part_A/train_data\\\\images\\\\IMG_36.jpg',\n",
       " 'data/part_A/train_data\\\\images\\\\IMG_37.jpg',\n",
       " 'data/part_A/train_data\\\\images\\\\IMG_38.jpg',\n",
       " 'data/part_A/train_data\\\\images\\\\IMG_39.jpg',\n",
       " 'data/part_A/train_data\\\\images\\\\IMG_4.jpg',\n",
       " 'data/part_A/train_data\\\\images\\\\IMG_40.jpg',\n",
       " 'data/part_A/train_data\\\\images\\\\IMG_41.jpg',\n",
       " 'data/part_A/train_data\\\\images\\\\IMG_42.jpg',\n",
       " 'data/part_A/train_data\\\\images\\\\IMG_43.jpg',\n",
       " 'data/part_A/train_data\\\\images\\\\IMG_44.jpg',\n",
       " 'data/part_A/train_data\\\\images\\\\IMG_45.jpg',\n",
       " 'data/part_A/train_data\\\\images\\\\IMG_46.jpg',\n",
       " 'data/part_A/train_data\\\\images\\\\IMG_47.jpg',\n",
       " 'data/part_A/train_data\\\\images\\\\IMG_48.jpg',\n",
       " 'data/part_A/train_data\\\\images\\\\IMG_49.jpg',\n",
       " 'data/part_A/train_data\\\\images\\\\IMG_5.jpg',\n",
       " 'data/part_A/train_data\\\\images\\\\IMG_50.jpg',\n",
       " 'data/part_A/train_data\\\\images\\\\IMG_51.jpg',\n",
       " 'data/part_A/train_data\\\\images\\\\IMG_52.jpg',\n",
       " 'data/part_A/train_data\\\\images\\\\IMG_53.jpg',\n",
       " 'data/part_A/train_data\\\\images\\\\IMG_54.jpg',\n",
       " 'data/part_A/train_data\\\\images\\\\IMG_55.jpg',\n",
       " 'data/part_A/train_data\\\\images\\\\IMG_56.jpg',\n",
       " 'data/part_A/train_data\\\\images\\\\IMG_57.jpg',\n",
       " 'data/part_A/train_data\\\\images\\\\IMG_58.jpg',\n",
       " 'data/part_A/train_data\\\\images\\\\IMG_59.jpg',\n",
       " 'data/part_A/train_data\\\\images\\\\IMG_6.jpg',\n",
       " 'data/part_A/train_data\\\\images\\\\IMG_60.jpg',\n",
       " 'data/part_A/train_data\\\\images\\\\IMG_61.jpg',\n",
       " 'data/part_A/train_data\\\\images\\\\IMG_62.jpg',\n",
       " 'data/part_A/train_data\\\\images\\\\IMG_63.jpg',\n",
       " 'data/part_A/train_data\\\\images\\\\IMG_64.jpg',\n",
       " 'data/part_A/train_data\\\\images\\\\IMG_65.jpg',\n",
       " 'data/part_A/train_data\\\\images\\\\IMG_66.jpg',\n",
       " 'data/part_A/train_data\\\\images\\\\IMG_67.jpg',\n",
       " 'data/part_A/train_data\\\\images\\\\IMG_68.jpg',\n",
       " 'data/part_A/train_data\\\\images\\\\IMG_69.jpg',\n",
       " 'data/part_A/train_data\\\\images\\\\IMG_7.jpg',\n",
       " 'data/part_A/train_data\\\\images\\\\IMG_70.jpg',\n",
       " 'data/part_A/train_data\\\\images\\\\IMG_71.jpg',\n",
       " 'data/part_A/train_data\\\\images\\\\IMG_72.jpg',\n",
       " 'data/part_A/train_data\\\\images\\\\IMG_73.jpg',\n",
       " 'data/part_A/train_data\\\\images\\\\IMG_74.jpg',\n",
       " 'data/part_A/train_data\\\\images\\\\IMG_75.jpg',\n",
       " 'data/part_A/train_data\\\\images\\\\IMG_76.jpg',\n",
       " 'data/part_A/train_data\\\\images\\\\IMG_77.jpg',\n",
       " 'data/part_A/train_data\\\\images\\\\IMG_78.jpg',\n",
       " 'data/part_A/train_data\\\\images\\\\IMG_79.jpg',\n",
       " 'data/part_A/train_data\\\\images\\\\IMG_8.jpg',\n",
       " 'data/part_A/train_data\\\\images\\\\IMG_80.jpg',\n",
       " 'data/part_A/train_data\\\\images\\\\IMG_81.jpg',\n",
       " 'data/part_A/train_data\\\\images\\\\IMG_82.jpg',\n",
       " 'data/part_A/train_data\\\\images\\\\IMG_83.jpg',\n",
       " 'data/part_A/train_data\\\\images\\\\IMG_84.jpg',\n",
       " 'data/part_A/train_data\\\\images\\\\IMG_85.jpg',\n",
       " 'data/part_A/train_data\\\\images\\\\IMG_86.jpg',\n",
       " 'data/part_A/train_data\\\\images\\\\IMG_87.jpg',\n",
       " 'data/part_A/train_data\\\\images\\\\IMG_88.jpg',\n",
       " 'data/part_A/train_data\\\\images\\\\IMG_89.jpg',\n",
       " 'data/part_A/train_data\\\\images\\\\IMG_9.jpg',\n",
       " 'data/part_A/train_data\\\\images\\\\IMG_90.jpg',\n",
       " 'data/part_A/train_data\\\\images\\\\IMG_91.jpg',\n",
       " 'data/part_A/train_data\\\\images\\\\IMG_92.jpg',\n",
       " 'data/part_A/train_data\\\\images\\\\IMG_93.jpg',\n",
       " 'data/part_A/train_data\\\\images\\\\IMG_94.jpg',\n",
       " 'data/part_A/train_data\\\\images\\\\IMG_95.jpg',\n",
       " 'data/part_A/train_data\\\\images\\\\IMG_96.jpg',\n",
       " 'data/part_A/train_data\\\\images\\\\IMG_97.jpg',\n",
       " 'data/part_A/train_data\\\\images\\\\IMG_98.jpg',\n",
       " 'data/part_A/train_data\\\\images\\\\IMG_99.jpg',\n",
       " 'data/part_A/test_data\\\\images\\\\IMG_1.jpg',\n",
       " 'data/part_A/test_data\\\\images\\\\IMG_10.jpg',\n",
       " 'data/part_A/test_data\\\\images\\\\IMG_100.jpg',\n",
       " 'data/part_A/test_data\\\\images\\\\IMG_101.jpg',\n",
       " 'data/part_A/test_data\\\\images\\\\IMG_102.jpg',\n",
       " 'data/part_A/test_data\\\\images\\\\IMG_103.jpg',\n",
       " 'data/part_A/test_data\\\\images\\\\IMG_104.jpg',\n",
       " 'data/part_A/test_data\\\\images\\\\IMG_105.jpg',\n",
       " 'data/part_A/test_data\\\\images\\\\IMG_106.jpg',\n",
       " 'data/part_A/test_data\\\\images\\\\IMG_107.jpg',\n",
       " 'data/part_A/test_data\\\\images\\\\IMG_108.jpg',\n",
       " 'data/part_A/test_data\\\\images\\\\IMG_109.jpg',\n",
       " 'data/part_A/test_data\\\\images\\\\IMG_11.jpg',\n",
       " 'data/part_A/test_data\\\\images\\\\IMG_110.jpg',\n",
       " 'data/part_A/test_data\\\\images\\\\IMG_111.jpg',\n",
       " 'data/part_A/test_data\\\\images\\\\IMG_112.jpg',\n",
       " 'data/part_A/test_data\\\\images\\\\IMG_113.jpg',\n",
       " 'data/part_A/test_data\\\\images\\\\IMG_114.jpg',\n",
       " 'data/part_A/test_data\\\\images\\\\IMG_115.jpg',\n",
       " 'data/part_A/test_data\\\\images\\\\IMG_116.jpg',\n",
       " 'data/part_A/test_data\\\\images\\\\IMG_117.jpg',\n",
       " 'data/part_A/test_data\\\\images\\\\IMG_118.jpg',\n",
       " 'data/part_A/test_data\\\\images\\\\IMG_119.jpg',\n",
       " 'data/part_A/test_data\\\\images\\\\IMG_12.jpg',\n",
       " 'data/part_A/test_data\\\\images\\\\IMG_120.jpg',\n",
       " 'data/part_A/test_data\\\\images\\\\IMG_121.jpg',\n",
       " 'data/part_A/test_data\\\\images\\\\IMG_122.jpg',\n",
       " 'data/part_A/test_data\\\\images\\\\IMG_123.jpg',\n",
       " 'data/part_A/test_data\\\\images\\\\IMG_124.jpg',\n",
       " 'data/part_A/test_data\\\\images\\\\IMG_125.jpg',\n",
       " 'data/part_A/test_data\\\\images\\\\IMG_126.jpg',\n",
       " 'data/part_A/test_data\\\\images\\\\IMG_127.jpg',\n",
       " 'data/part_A/test_data\\\\images\\\\IMG_128.jpg',\n",
       " 'data/part_A/test_data\\\\images\\\\IMG_129.jpg',\n",
       " 'data/part_A/test_data\\\\images\\\\IMG_13.jpg',\n",
       " 'data/part_A/test_data\\\\images\\\\IMG_130.jpg',\n",
       " 'data/part_A/test_data\\\\images\\\\IMG_131.jpg',\n",
       " 'data/part_A/test_data\\\\images\\\\IMG_132.jpg',\n",
       " 'data/part_A/test_data\\\\images\\\\IMG_133.jpg',\n",
       " 'data/part_A/test_data\\\\images\\\\IMG_134.jpg',\n",
       " 'data/part_A/test_data\\\\images\\\\IMG_135.jpg',\n",
       " 'data/part_A/test_data\\\\images\\\\IMG_136.jpg',\n",
       " 'data/part_A/test_data\\\\images\\\\IMG_137.jpg',\n",
       " 'data/part_A/test_data\\\\images\\\\IMG_138.jpg',\n",
       " 'data/part_A/test_data\\\\images\\\\IMG_139.jpg',\n",
       " 'data/part_A/test_data\\\\images\\\\IMG_14.jpg',\n",
       " 'data/part_A/test_data\\\\images\\\\IMG_140.jpg',\n",
       " 'data/part_A/test_data\\\\images\\\\IMG_141.jpg',\n",
       " 'data/part_A/test_data\\\\images\\\\IMG_142.jpg',\n",
       " 'data/part_A/test_data\\\\images\\\\IMG_143.jpg',\n",
       " 'data/part_A/test_data\\\\images\\\\IMG_144.jpg',\n",
       " 'data/part_A/test_data\\\\images\\\\IMG_145.jpg',\n",
       " 'data/part_A/test_data\\\\images\\\\IMG_146.jpg',\n",
       " 'data/part_A/test_data\\\\images\\\\IMG_147.jpg',\n",
       " 'data/part_A/test_data\\\\images\\\\IMG_148.jpg',\n",
       " 'data/part_A/test_data\\\\images\\\\IMG_149.jpg',\n",
       " 'data/part_A/test_data\\\\images\\\\IMG_15.jpg',\n",
       " 'data/part_A/test_data\\\\images\\\\IMG_150.jpg',\n",
       " 'data/part_A/test_data\\\\images\\\\IMG_151.jpg',\n",
       " 'data/part_A/test_data\\\\images\\\\IMG_152.jpg',\n",
       " 'data/part_A/test_data\\\\images\\\\IMG_153.jpg',\n",
       " 'data/part_A/test_data\\\\images\\\\IMG_154.jpg',\n",
       " 'data/part_A/test_data\\\\images\\\\IMG_155.jpg',\n",
       " 'data/part_A/test_data\\\\images\\\\IMG_156.jpg',\n",
       " 'data/part_A/test_data\\\\images\\\\IMG_157.jpg',\n",
       " 'data/part_A/test_data\\\\images\\\\IMG_158.jpg',\n",
       " 'data/part_A/test_data\\\\images\\\\IMG_159.jpg',\n",
       " 'data/part_A/test_data\\\\images\\\\IMG_16.jpg',\n",
       " 'data/part_A/test_data\\\\images\\\\IMG_160.jpg',\n",
       " 'data/part_A/test_data\\\\images\\\\IMG_161.jpg',\n",
       " 'data/part_A/test_data\\\\images\\\\IMG_162.jpg',\n",
       " 'data/part_A/test_data\\\\images\\\\IMG_163.jpg',\n",
       " 'data/part_A/test_data\\\\images\\\\IMG_164.jpg',\n",
       " 'data/part_A/test_data\\\\images\\\\IMG_165.jpg',\n",
       " 'data/part_A/test_data\\\\images\\\\IMG_166.jpg',\n",
       " 'data/part_A/test_data\\\\images\\\\IMG_167.jpg',\n",
       " 'data/part_A/test_data\\\\images\\\\IMG_168.jpg',\n",
       " 'data/part_A/test_data\\\\images\\\\IMG_169.jpg',\n",
       " 'data/part_A/test_data\\\\images\\\\IMG_17.jpg',\n",
       " 'data/part_A/test_data\\\\images\\\\IMG_170.jpg',\n",
       " 'data/part_A/test_data\\\\images\\\\IMG_171.jpg',\n",
       " 'data/part_A/test_data\\\\images\\\\IMG_172.jpg',\n",
       " 'data/part_A/test_data\\\\images\\\\IMG_173.jpg',\n",
       " 'data/part_A/test_data\\\\images\\\\IMG_174.jpg',\n",
       " 'data/part_A/test_data\\\\images\\\\IMG_175.jpg',\n",
       " 'data/part_A/test_data\\\\images\\\\IMG_176.jpg',\n",
       " 'data/part_A/test_data\\\\images\\\\IMG_177.jpg',\n",
       " 'data/part_A/test_data\\\\images\\\\IMG_178.jpg',\n",
       " 'data/part_A/test_data\\\\images\\\\IMG_179.jpg',\n",
       " 'data/part_A/test_data\\\\images\\\\IMG_18.jpg',\n",
       " 'data/part_A/test_data\\\\images\\\\IMG_180.jpg',\n",
       " 'data/part_A/test_data\\\\images\\\\IMG_181.jpg',\n",
       " 'data/part_A/test_data\\\\images\\\\IMG_182.jpg',\n",
       " 'data/part_A/test_data\\\\images\\\\IMG_19.jpg',\n",
       " 'data/part_A/test_data\\\\images\\\\IMG_2.jpg',\n",
       " 'data/part_A/test_data\\\\images\\\\IMG_20.jpg',\n",
       " 'data/part_A/test_data\\\\images\\\\IMG_21.jpg',\n",
       " 'data/part_A/test_data\\\\images\\\\IMG_22.jpg',\n",
       " 'data/part_A/test_data\\\\images\\\\IMG_23.jpg',\n",
       " 'data/part_A/test_data\\\\images\\\\IMG_24.jpg',\n",
       " 'data/part_A/test_data\\\\images\\\\IMG_25.jpg',\n",
       " 'data/part_A/test_data\\\\images\\\\IMG_26.jpg',\n",
       " 'data/part_A/test_data\\\\images\\\\IMG_27.jpg',\n",
       " 'data/part_A/test_data\\\\images\\\\IMG_28.jpg',\n",
       " 'data/part_A/test_data\\\\images\\\\IMG_29.jpg',\n",
       " 'data/part_A/test_data\\\\images\\\\IMG_3.jpg',\n",
       " 'data/part_A/test_data\\\\images\\\\IMG_30.jpg',\n",
       " 'data/part_A/test_data\\\\images\\\\IMG_31.jpg',\n",
       " 'data/part_A/test_data\\\\images\\\\IMG_32.jpg',\n",
       " 'data/part_A/test_data\\\\images\\\\IMG_33.jpg',\n",
       " 'data/part_A/test_data\\\\images\\\\IMG_34.jpg',\n",
       " 'data/part_A/test_data\\\\images\\\\IMG_35.jpg',\n",
       " 'data/part_A/test_data\\\\images\\\\IMG_36.jpg',\n",
       " 'data/part_A/test_data\\\\images\\\\IMG_37.jpg',\n",
       " 'data/part_A/test_data\\\\images\\\\IMG_38.jpg',\n",
       " 'data/part_A/test_data\\\\images\\\\IMG_39.jpg',\n",
       " 'data/part_A/test_data\\\\images\\\\IMG_4.jpg',\n",
       " 'data/part_A/test_data\\\\images\\\\IMG_40.jpg',\n",
       " 'data/part_A/test_data\\\\images\\\\IMG_41.jpg',\n",
       " 'data/part_A/test_data\\\\images\\\\IMG_42.jpg',\n",
       " 'data/part_A/test_data\\\\images\\\\IMG_43.jpg',\n",
       " 'data/part_A/test_data\\\\images\\\\IMG_44.jpg',\n",
       " 'data/part_A/test_data\\\\images\\\\IMG_45.jpg',\n",
       " 'data/part_A/test_data\\\\images\\\\IMG_46.jpg',\n",
       " 'data/part_A/test_data\\\\images\\\\IMG_47.jpg',\n",
       " 'data/part_A/test_data\\\\images\\\\IMG_48.jpg',\n",
       " 'data/part_A/test_data\\\\images\\\\IMG_49.jpg',\n",
       " 'data/part_A/test_data\\\\images\\\\IMG_5.jpg',\n",
       " 'data/part_A/test_data\\\\images\\\\IMG_50.jpg',\n",
       " 'data/part_A/test_data\\\\images\\\\IMG_51.jpg',\n",
       " 'data/part_A/test_data\\\\images\\\\IMG_52.jpg',\n",
       " 'data/part_A/test_data\\\\images\\\\IMG_53.jpg',\n",
       " 'data/part_A/test_data\\\\images\\\\IMG_54.jpg',\n",
       " 'data/part_A/test_data\\\\images\\\\IMG_55.jpg',\n",
       " 'data/part_A/test_data\\\\images\\\\IMG_56.jpg',\n",
       " 'data/part_A/test_data\\\\images\\\\IMG_57.jpg',\n",
       " 'data/part_A/test_data\\\\images\\\\IMG_58.jpg',\n",
       " 'data/part_A/test_data\\\\images\\\\IMG_59.jpg',\n",
       " 'data/part_A/test_data\\\\images\\\\IMG_6.jpg',\n",
       " 'data/part_A/test_data\\\\images\\\\IMG_60.jpg',\n",
       " 'data/part_A/test_data\\\\images\\\\IMG_61.jpg',\n",
       " 'data/part_A/test_data\\\\images\\\\IMG_62.jpg',\n",
       " 'data/part_A/test_data\\\\images\\\\IMG_63.jpg',\n",
       " 'data/part_A/test_data\\\\images\\\\IMG_64.jpg',\n",
       " 'data/part_A/test_data\\\\images\\\\IMG_65.jpg',\n",
       " 'data/part_A/test_data\\\\images\\\\IMG_66.jpg',\n",
       " 'data/part_A/test_data\\\\images\\\\IMG_67.jpg',\n",
       " 'data/part_A/test_data\\\\images\\\\IMG_68.jpg',\n",
       " 'data/part_A/test_data\\\\images\\\\IMG_69.jpg',\n",
       " 'data/part_A/test_data\\\\images\\\\IMG_7.jpg',\n",
       " 'data/part_A/test_data\\\\images\\\\IMG_70.jpg',\n",
       " 'data/part_A/test_data\\\\images\\\\IMG_71.jpg',\n",
       " 'data/part_A/test_data\\\\images\\\\IMG_72.jpg',\n",
       " 'data/part_A/test_data\\\\images\\\\IMG_73.jpg',\n",
       " 'data/part_A/test_data\\\\images\\\\IMG_74.jpg',\n",
       " 'data/part_A/test_data\\\\images\\\\IMG_75.jpg',\n",
       " 'data/part_A/test_data\\\\images\\\\IMG_76.jpg',\n",
       " 'data/part_A/test_data\\\\images\\\\IMG_77.jpg',\n",
       " 'data/part_A/test_data\\\\images\\\\IMG_78.jpg',\n",
       " 'data/part_A/test_data\\\\images\\\\IMG_79.jpg',\n",
       " 'data/part_A/test_data\\\\images\\\\IMG_8.jpg',\n",
       " 'data/part_A/test_data\\\\images\\\\IMG_80.jpg',\n",
       " 'data/part_A/test_data\\\\images\\\\IMG_81.jpg',\n",
       " 'data/part_A/test_data\\\\images\\\\IMG_82.jpg',\n",
       " 'data/part_A/test_data\\\\images\\\\IMG_83.jpg',\n",
       " 'data/part_A/test_data\\\\images\\\\IMG_84.jpg',\n",
       " 'data/part_A/test_data\\\\images\\\\IMG_85.jpg',\n",
       " 'data/part_A/test_data\\\\images\\\\IMG_86.jpg',\n",
       " 'data/part_A/test_data\\\\images\\\\IMG_87.jpg',\n",
       " 'data/part_A/test_data\\\\images\\\\IMG_88.jpg',\n",
       " 'data/part_A/test_data\\\\images\\\\IMG_89.jpg',\n",
       " 'data/part_A/test_data\\\\images\\\\IMG_9.jpg',\n",
       " 'data/part_A/test_data\\\\images\\\\IMG_90.jpg',\n",
       " 'data/part_A/test_data\\\\images\\\\IMG_91.jpg',\n",
       " 'data/part_A/test_data\\\\images\\\\IMG_92.jpg',\n",
       " 'data/part_A/test_data\\\\images\\\\IMG_93.jpg',\n",
       " 'data/part_A/test_data\\\\images\\\\IMG_94.jpg',\n",
       " 'data/part_A/test_data\\\\images\\\\IMG_95.jpg',\n",
       " 'data/part_A/test_data\\\\images\\\\IMG_96.jpg',\n",
       " 'data/part_A/test_data\\\\images\\\\IMG_97.jpg',\n",
       " 'data/part_A/test_data\\\\images\\\\IMG_98.jpg',\n",
       " 'data/part_A/test_data\\\\images\\\\IMG_99.jpg',\n",
       " 'data/part_B/train_data\\\\images\\\\IMG_1.jpg',\n",
       " 'data/part_B/train_data\\\\images\\\\IMG_10.jpg',\n",
       " 'data/part_B/train_data\\\\images\\\\IMG_100.jpg',\n",
       " 'data/part_B/train_data\\\\images\\\\IMG_101.jpg',\n",
       " 'data/part_B/train_data\\\\images\\\\IMG_102.jpg',\n",
       " 'data/part_B/train_data\\\\images\\\\IMG_103.jpg',\n",
       " 'data/part_B/train_data\\\\images\\\\IMG_104.jpg',\n",
       " 'data/part_B/train_data\\\\images\\\\IMG_105.jpg',\n",
       " 'data/part_B/train_data\\\\images\\\\IMG_106.jpg',\n",
       " 'data/part_B/train_data\\\\images\\\\IMG_107.jpg',\n",
       " 'data/part_B/train_data\\\\images\\\\IMG_108.jpg',\n",
       " 'data/part_B/train_data\\\\images\\\\IMG_109.jpg',\n",
       " 'data/part_B/train_data\\\\images\\\\IMG_11.jpg',\n",
       " 'data/part_B/train_data\\\\images\\\\IMG_110.jpg',\n",
       " 'data/part_B/train_data\\\\images\\\\IMG_111.jpg',\n",
       " 'data/part_B/train_data\\\\images\\\\IMG_112.jpg',\n",
       " 'data/part_B/train_data\\\\images\\\\IMG_113.jpg',\n",
       " 'data/part_B/train_data\\\\images\\\\IMG_114.jpg',\n",
       " 'data/part_B/train_data\\\\images\\\\IMG_115.jpg',\n",
       " 'data/part_B/train_data\\\\images\\\\IMG_116.jpg',\n",
       " 'data/part_B/train_data\\\\images\\\\IMG_117.jpg',\n",
       " 'data/part_B/train_data\\\\images\\\\IMG_118.jpg',\n",
       " 'data/part_B/train_data\\\\images\\\\IMG_119.jpg',\n",
       " 'data/part_B/train_data\\\\images\\\\IMG_12.jpg',\n",
       " 'data/part_B/train_data\\\\images\\\\IMG_120.jpg',\n",
       " 'data/part_B/train_data\\\\images\\\\IMG_121.jpg',\n",
       " 'data/part_B/train_data\\\\images\\\\IMG_122.jpg',\n",
       " 'data/part_B/train_data\\\\images\\\\IMG_123.jpg',\n",
       " 'data/part_B/train_data\\\\images\\\\IMG_124.jpg',\n",
       " 'data/part_B/train_data\\\\images\\\\IMG_125.jpg',\n",
       " 'data/part_B/train_data\\\\images\\\\IMG_126.jpg',\n",
       " 'data/part_B/train_data\\\\images\\\\IMG_127.jpg',\n",
       " 'data/part_B/train_data\\\\images\\\\IMG_128.jpg',\n",
       " 'data/part_B/train_data\\\\images\\\\IMG_129.jpg',\n",
       " 'data/part_B/train_data\\\\images\\\\IMG_13.jpg',\n",
       " 'data/part_B/train_data\\\\images\\\\IMG_130.jpg',\n",
       " 'data/part_B/train_data\\\\images\\\\IMG_131.jpg',\n",
       " 'data/part_B/train_data\\\\images\\\\IMG_132.jpg',\n",
       " 'data/part_B/train_data\\\\images\\\\IMG_133.jpg',\n",
       " 'data/part_B/train_data\\\\images\\\\IMG_134.jpg',\n",
       " 'data/part_B/train_data\\\\images\\\\IMG_135.jpg',\n",
       " 'data/part_B/train_data\\\\images\\\\IMG_136.jpg',\n",
       " 'data/part_B/train_data\\\\images\\\\IMG_137.jpg',\n",
       " 'data/part_B/train_data\\\\images\\\\IMG_138.jpg',\n",
       " 'data/part_B/train_data\\\\images\\\\IMG_139.jpg',\n",
       " 'data/part_B/train_data\\\\images\\\\IMG_14.jpg',\n",
       " 'data/part_B/train_data\\\\images\\\\IMG_140.jpg',\n",
       " 'data/part_B/train_data\\\\images\\\\IMG_141.jpg',\n",
       " 'data/part_B/train_data\\\\images\\\\IMG_142.jpg',\n",
       " 'data/part_B/train_data\\\\images\\\\IMG_143.jpg',\n",
       " 'data/part_B/train_data\\\\images\\\\IMG_144.jpg',\n",
       " 'data/part_B/train_data\\\\images\\\\IMG_145.jpg',\n",
       " 'data/part_B/train_data\\\\images\\\\IMG_146.jpg',\n",
       " 'data/part_B/train_data\\\\images\\\\IMG_147.jpg',\n",
       " 'data/part_B/train_data\\\\images\\\\IMG_148.jpg',\n",
       " 'data/part_B/train_data\\\\images\\\\IMG_149.jpg',\n",
       " 'data/part_B/train_data\\\\images\\\\IMG_15.jpg',\n",
       " 'data/part_B/train_data\\\\images\\\\IMG_150.jpg',\n",
       " 'data/part_B/train_data\\\\images\\\\IMG_151.jpg',\n",
       " 'data/part_B/train_data\\\\images\\\\IMG_152.jpg',\n",
       " 'data/part_B/train_data\\\\images\\\\IMG_153.jpg',\n",
       " 'data/part_B/train_data\\\\images\\\\IMG_154.jpg',\n",
       " 'data/part_B/train_data\\\\images\\\\IMG_155.jpg',\n",
       " 'data/part_B/train_data\\\\images\\\\IMG_156.jpg',\n",
       " 'data/part_B/train_data\\\\images\\\\IMG_157.jpg',\n",
       " 'data/part_B/train_data\\\\images\\\\IMG_158.jpg',\n",
       " 'data/part_B/train_data\\\\images\\\\IMG_159.jpg',\n",
       " 'data/part_B/train_data\\\\images\\\\IMG_16.jpg',\n",
       " 'data/part_B/train_data\\\\images\\\\IMG_160.jpg',\n",
       " 'data/part_B/train_data\\\\images\\\\IMG_161.jpg',\n",
       " 'data/part_B/train_data\\\\images\\\\IMG_162.jpg',\n",
       " 'data/part_B/train_data\\\\images\\\\IMG_163.jpg',\n",
       " 'data/part_B/train_data\\\\images\\\\IMG_164.jpg',\n",
       " 'data/part_B/train_data\\\\images\\\\IMG_165.jpg',\n",
       " 'data/part_B/train_data\\\\images\\\\IMG_166.jpg',\n",
       " 'data/part_B/train_data\\\\images\\\\IMG_167.jpg',\n",
       " 'data/part_B/train_data\\\\images\\\\IMG_168.jpg',\n",
       " 'data/part_B/train_data\\\\images\\\\IMG_169.jpg',\n",
       " 'data/part_B/train_data\\\\images\\\\IMG_17.jpg',\n",
       " 'data/part_B/train_data\\\\images\\\\IMG_170.jpg',\n",
       " 'data/part_B/train_data\\\\images\\\\IMG_171.jpg',\n",
       " 'data/part_B/train_data\\\\images\\\\IMG_172.jpg',\n",
       " 'data/part_B/train_data\\\\images\\\\IMG_173.jpg',\n",
       " 'data/part_B/train_data\\\\images\\\\IMG_174.jpg',\n",
       " 'data/part_B/train_data\\\\images\\\\IMG_175.jpg',\n",
       " 'data/part_B/train_data\\\\images\\\\IMG_176.jpg',\n",
       " 'data/part_B/train_data\\\\images\\\\IMG_177.jpg',\n",
       " 'data/part_B/train_data\\\\images\\\\IMG_178.jpg',\n",
       " 'data/part_B/train_data\\\\images\\\\IMG_179.jpg',\n",
       " 'data/part_B/train_data\\\\images\\\\IMG_18.jpg',\n",
       " 'data/part_B/train_data\\\\images\\\\IMG_180.jpg',\n",
       " 'data/part_B/train_data\\\\images\\\\IMG_181.jpg',\n",
       " 'data/part_B/train_data\\\\images\\\\IMG_182.jpg',\n",
       " 'data/part_B/train_data\\\\images\\\\IMG_183.jpg',\n",
       " 'data/part_B/train_data\\\\images\\\\IMG_184.jpg',\n",
       " 'data/part_B/train_data\\\\images\\\\IMG_185.jpg',\n",
       " 'data/part_B/train_data\\\\images\\\\IMG_186.jpg',\n",
       " 'data/part_B/train_data\\\\images\\\\IMG_187.jpg',\n",
       " 'data/part_B/train_data\\\\images\\\\IMG_188.jpg',\n",
       " 'data/part_B/train_data\\\\images\\\\IMG_189.jpg',\n",
       " 'data/part_B/train_data\\\\images\\\\IMG_19.jpg',\n",
       " 'data/part_B/train_data\\\\images\\\\IMG_190.jpg',\n",
       " 'data/part_B/train_data\\\\images\\\\IMG_191.jpg',\n",
       " 'data/part_B/train_data\\\\images\\\\IMG_192.jpg',\n",
       " 'data/part_B/train_data\\\\images\\\\IMG_193.jpg',\n",
       " 'data/part_B/train_data\\\\images\\\\IMG_194.jpg',\n",
       " 'data/part_B/train_data\\\\images\\\\IMG_195.jpg',\n",
       " 'data/part_B/train_data\\\\images\\\\IMG_196.jpg',\n",
       " 'data/part_B/train_data\\\\images\\\\IMG_197.jpg',\n",
       " 'data/part_B/train_data\\\\images\\\\IMG_198.jpg',\n",
       " 'data/part_B/train_data\\\\images\\\\IMG_199.jpg',\n",
       " 'data/part_B/train_data\\\\images\\\\IMG_2.jpg',\n",
       " 'data/part_B/train_data\\\\images\\\\IMG_20.jpg',\n",
       " 'data/part_B/train_data\\\\images\\\\IMG_200.jpg',\n",
       " 'data/part_B/train_data\\\\images\\\\IMG_201.jpg',\n",
       " 'data/part_B/train_data\\\\images\\\\IMG_202.jpg',\n",
       " 'data/part_B/train_data\\\\images\\\\IMG_203.jpg',\n",
       " 'data/part_B/train_data\\\\images\\\\IMG_204.jpg',\n",
       " 'data/part_B/train_data\\\\images\\\\IMG_205.jpg',\n",
       " 'data/part_B/train_data\\\\images\\\\IMG_206.jpg',\n",
       " 'data/part_B/train_data\\\\images\\\\IMG_207.jpg',\n",
       " 'data/part_B/train_data\\\\images\\\\IMG_208.jpg',\n",
       " 'data/part_B/train_data\\\\images\\\\IMG_209.jpg',\n",
       " 'data/part_B/train_data\\\\images\\\\IMG_21.jpg',\n",
       " 'data/part_B/train_data\\\\images\\\\IMG_210.jpg',\n",
       " 'data/part_B/train_data\\\\images\\\\IMG_211.jpg',\n",
       " 'data/part_B/train_data\\\\images\\\\IMG_212.jpg',\n",
       " 'data/part_B/train_data\\\\images\\\\IMG_213.jpg',\n",
       " 'data/part_B/train_data\\\\images\\\\IMG_214.jpg',\n",
       " 'data/part_B/train_data\\\\images\\\\IMG_215.jpg',\n",
       " 'data/part_B/train_data\\\\images\\\\IMG_216.jpg',\n",
       " 'data/part_B/train_data\\\\images\\\\IMG_217.jpg',\n",
       " 'data/part_B/train_data\\\\images\\\\IMG_218.jpg',\n",
       " 'data/part_B/train_data\\\\images\\\\IMG_219.jpg',\n",
       " 'data/part_B/train_data\\\\images\\\\IMG_22.jpg',\n",
       " 'data/part_B/train_data\\\\images\\\\IMG_220.jpg',\n",
       " 'data/part_B/train_data\\\\images\\\\IMG_221.jpg',\n",
       " 'data/part_B/train_data\\\\images\\\\IMG_222.jpg',\n",
       " 'data/part_B/train_data\\\\images\\\\IMG_223.jpg',\n",
       " 'data/part_B/train_data\\\\images\\\\IMG_224.jpg',\n",
       " 'data/part_B/train_data\\\\images\\\\IMG_225.jpg',\n",
       " 'data/part_B/train_data\\\\images\\\\IMG_226.jpg',\n",
       " 'data/part_B/train_data\\\\images\\\\IMG_227.jpg',\n",
       " 'data/part_B/train_data\\\\images\\\\IMG_228.jpg',\n",
       " 'data/part_B/train_data\\\\images\\\\IMG_229.jpg',\n",
       " 'data/part_B/train_data\\\\images\\\\IMG_23.jpg',\n",
       " 'data/part_B/train_data\\\\images\\\\IMG_230.jpg',\n",
       " 'data/part_B/train_data\\\\images\\\\IMG_231.jpg',\n",
       " 'data/part_B/train_data\\\\images\\\\IMG_232.jpg',\n",
       " 'data/part_B/train_data\\\\images\\\\IMG_233.jpg',\n",
       " 'data/part_B/train_data\\\\images\\\\IMG_234.jpg',\n",
       " 'data/part_B/train_data\\\\images\\\\IMG_235.jpg',\n",
       " 'data/part_B/train_data\\\\images\\\\IMG_236.jpg',\n",
       " 'data/part_B/train_data\\\\images\\\\IMG_237.jpg',\n",
       " 'data/part_B/train_data\\\\images\\\\IMG_238.jpg',\n",
       " 'data/part_B/train_data\\\\images\\\\IMG_239.jpg',\n",
       " 'data/part_B/train_data\\\\images\\\\IMG_24.jpg',\n",
       " 'data/part_B/train_data\\\\images\\\\IMG_240.jpg',\n",
       " 'data/part_B/train_data\\\\images\\\\IMG_241.jpg',\n",
       " 'data/part_B/train_data\\\\images\\\\IMG_242.jpg',\n",
       " 'data/part_B/train_data\\\\images\\\\IMG_243.jpg',\n",
       " 'data/part_B/train_data\\\\images\\\\IMG_244.jpg',\n",
       " 'data/part_B/train_data\\\\images\\\\IMG_245.jpg',\n",
       " 'data/part_B/train_data\\\\images\\\\IMG_246.jpg',\n",
       " 'data/part_B/train_data\\\\images\\\\IMG_247.jpg',\n",
       " 'data/part_B/train_data\\\\images\\\\IMG_248.jpg',\n",
       " 'data/part_B/train_data\\\\images\\\\IMG_249.jpg',\n",
       " 'data/part_B/train_data\\\\images\\\\IMG_25.jpg',\n",
       " 'data/part_B/train_data\\\\images\\\\IMG_250.jpg',\n",
       " 'data/part_B/train_data\\\\images\\\\IMG_251.jpg',\n",
       " 'data/part_B/train_data\\\\images\\\\IMG_252.jpg',\n",
       " 'data/part_B/train_data\\\\images\\\\IMG_253.jpg',\n",
       " 'data/part_B/train_data\\\\images\\\\IMG_254.jpg',\n",
       " 'data/part_B/train_data\\\\images\\\\IMG_255.jpg',\n",
       " 'data/part_B/train_data\\\\images\\\\IMG_256.jpg',\n",
       " 'data/part_B/train_data\\\\images\\\\IMG_257.jpg',\n",
       " 'data/part_B/train_data\\\\images\\\\IMG_258.jpg',\n",
       " 'data/part_B/train_data\\\\images\\\\IMG_259.jpg',\n",
       " 'data/part_B/train_data\\\\images\\\\IMG_26.jpg',\n",
       " 'data/part_B/train_data\\\\images\\\\IMG_260.jpg',\n",
       " 'data/part_B/train_data\\\\images\\\\IMG_261.jpg',\n",
       " 'data/part_B/train_data\\\\images\\\\IMG_262.jpg',\n",
       " 'data/part_B/train_data\\\\images\\\\IMG_263.jpg',\n",
       " 'data/part_B/train_data\\\\images\\\\IMG_264.jpg',\n",
       " 'data/part_B/train_data\\\\images\\\\IMG_265.jpg',\n",
       " 'data/part_B/train_data\\\\images\\\\IMG_266.jpg',\n",
       " 'data/part_B/train_data\\\\images\\\\IMG_267.jpg',\n",
       " 'data/part_B/train_data\\\\images\\\\IMG_268.jpg',\n",
       " 'data/part_B/train_data\\\\images\\\\IMG_269.jpg',\n",
       " 'data/part_B/train_data\\\\images\\\\IMG_27.jpg',\n",
       " 'data/part_B/train_data\\\\images\\\\IMG_270.jpg',\n",
       " 'data/part_B/train_data\\\\images\\\\IMG_271.jpg',\n",
       " 'data/part_B/train_data\\\\images\\\\IMG_272.jpg',\n",
       " 'data/part_B/train_data\\\\images\\\\IMG_273.jpg',\n",
       " 'data/part_B/train_data\\\\images\\\\IMG_274.jpg',\n",
       " 'data/part_B/train_data\\\\images\\\\IMG_275.jpg',\n",
       " 'data/part_B/train_data\\\\images\\\\IMG_276.jpg',\n",
       " 'data/part_B/train_data\\\\images\\\\IMG_277.jpg',\n",
       " 'data/part_B/train_data\\\\images\\\\IMG_278.jpg',\n",
       " 'data/part_B/train_data\\\\images\\\\IMG_279.jpg',\n",
       " 'data/part_B/train_data\\\\images\\\\IMG_28.jpg',\n",
       " 'data/part_B/train_data\\\\images\\\\IMG_280.jpg',\n",
       " 'data/part_B/train_data\\\\images\\\\IMG_281.jpg',\n",
       " 'data/part_B/train_data\\\\images\\\\IMG_282.jpg',\n",
       " 'data/part_B/train_data\\\\images\\\\IMG_283.jpg',\n",
       " 'data/part_B/train_data\\\\images\\\\IMG_284.jpg',\n",
       " 'data/part_B/train_data\\\\images\\\\IMG_285.jpg',\n",
       " 'data/part_B/train_data\\\\images\\\\IMG_286.jpg',\n",
       " 'data/part_B/train_data\\\\images\\\\IMG_287.jpg',\n",
       " 'data/part_B/train_data\\\\images\\\\IMG_288.jpg',\n",
       " 'data/part_B/train_data\\\\images\\\\IMG_289.jpg',\n",
       " 'data/part_B/train_data\\\\images\\\\IMG_29.jpg',\n",
       " 'data/part_B/train_data\\\\images\\\\IMG_290.jpg',\n",
       " 'data/part_B/train_data\\\\images\\\\IMG_291.jpg',\n",
       " 'data/part_B/train_data\\\\images\\\\IMG_292.jpg',\n",
       " 'data/part_B/train_data\\\\images\\\\IMG_293.jpg',\n",
       " 'data/part_B/train_data\\\\images\\\\IMG_294.jpg',\n",
       " 'data/part_B/train_data\\\\images\\\\IMG_295.jpg',\n",
       " 'data/part_B/train_data\\\\images\\\\IMG_296.jpg',\n",
       " 'data/part_B/train_data\\\\images\\\\IMG_297.jpg',\n",
       " 'data/part_B/train_data\\\\images\\\\IMG_298.jpg',\n",
       " 'data/part_B/train_data\\\\images\\\\IMG_299.jpg',\n",
       " 'data/part_B/train_data\\\\images\\\\IMG_3.jpg',\n",
       " 'data/part_B/train_data\\\\images\\\\IMG_30.jpg',\n",
       " 'data/part_B/train_data\\\\images\\\\IMG_300.jpg',\n",
       " 'data/part_B/train_data\\\\images\\\\IMG_301.jpg',\n",
       " 'data/part_B/train_data\\\\images\\\\IMG_302.jpg',\n",
       " 'data/part_B/train_data\\\\images\\\\IMG_303.jpg',\n",
       " 'data/part_B/train_data\\\\images\\\\IMG_304.jpg',\n",
       " 'data/part_B/train_data\\\\images\\\\IMG_305.jpg',\n",
       " 'data/part_B/train_data\\\\images\\\\IMG_306.jpg',\n",
       " 'data/part_B/train_data\\\\images\\\\IMG_307.jpg',\n",
       " 'data/part_B/train_data\\\\images\\\\IMG_308.jpg',\n",
       " 'data/part_B/train_data\\\\images\\\\IMG_309.jpg',\n",
       " 'data/part_B/train_data\\\\images\\\\IMG_31.jpg',\n",
       " 'data/part_B/train_data\\\\images\\\\IMG_310.jpg',\n",
       " 'data/part_B/train_data\\\\images\\\\IMG_311.jpg',\n",
       " 'data/part_B/train_data\\\\images\\\\IMG_312.jpg',\n",
       " 'data/part_B/train_data\\\\images\\\\IMG_313.jpg',\n",
       " 'data/part_B/train_data\\\\images\\\\IMG_314.jpg',\n",
       " 'data/part_B/train_data\\\\images\\\\IMG_315.jpg',\n",
       " 'data/part_B/train_data\\\\images\\\\IMG_316.jpg',\n",
       " 'data/part_B/train_data\\\\images\\\\IMG_317.jpg',\n",
       " 'data/part_B/train_data\\\\images\\\\IMG_318.jpg',\n",
       " 'data/part_B/train_data\\\\images\\\\IMG_319.jpg',\n",
       " 'data/part_B/train_data\\\\images\\\\IMG_32.jpg',\n",
       " 'data/part_B/train_data\\\\images\\\\IMG_320.jpg',\n",
       " 'data/part_B/train_data\\\\images\\\\IMG_321.jpg',\n",
       " 'data/part_B/train_data\\\\images\\\\IMG_322.jpg',\n",
       " 'data/part_B/train_data\\\\images\\\\IMG_323.jpg',\n",
       " 'data/part_B/train_data\\\\images\\\\IMG_324.jpg',\n",
       " 'data/part_B/train_data\\\\images\\\\IMG_325.jpg',\n",
       " 'data/part_B/train_data\\\\images\\\\IMG_326.jpg',\n",
       " 'data/part_B/train_data\\\\images\\\\IMG_327.jpg',\n",
       " 'data/part_B/train_data\\\\images\\\\IMG_328.jpg',\n",
       " 'data/part_B/train_data\\\\images\\\\IMG_329.jpg',\n",
       " 'data/part_B/train_data\\\\images\\\\IMG_33.jpg',\n",
       " 'data/part_B/train_data\\\\images\\\\IMG_330.jpg',\n",
       " 'data/part_B/train_data\\\\images\\\\IMG_331.jpg',\n",
       " 'data/part_B/train_data\\\\images\\\\IMG_332.jpg',\n",
       " 'data/part_B/train_data\\\\images\\\\IMG_333.jpg',\n",
       " 'data/part_B/train_data\\\\images\\\\IMG_334.jpg',\n",
       " 'data/part_B/train_data\\\\images\\\\IMG_335.jpg',\n",
       " 'data/part_B/train_data\\\\images\\\\IMG_336.jpg',\n",
       " 'data/part_B/train_data\\\\images\\\\IMG_337.jpg',\n",
       " 'data/part_B/train_data\\\\images\\\\IMG_338.jpg',\n",
       " 'data/part_B/train_data\\\\images\\\\IMG_339.jpg',\n",
       " 'data/part_B/train_data\\\\images\\\\IMG_34.jpg',\n",
       " 'data/part_B/train_data\\\\images\\\\IMG_340.jpg',\n",
       " 'data/part_B/train_data\\\\images\\\\IMG_341.jpg',\n",
       " 'data/part_B/train_data\\\\images\\\\IMG_342.jpg',\n",
       " 'data/part_B/train_data\\\\images\\\\IMG_343.jpg',\n",
       " 'data/part_B/train_data\\\\images\\\\IMG_344.jpg',\n",
       " 'data/part_B/train_data\\\\images\\\\IMG_345.jpg',\n",
       " 'data/part_B/train_data\\\\images\\\\IMG_346.jpg',\n",
       " 'data/part_B/train_data\\\\images\\\\IMG_347.jpg',\n",
       " 'data/part_B/train_data\\\\images\\\\IMG_348.jpg',\n",
       " 'data/part_B/train_data\\\\images\\\\IMG_349.jpg',\n",
       " 'data/part_B/train_data\\\\images\\\\IMG_35.jpg',\n",
       " 'data/part_B/train_data\\\\images\\\\IMG_350.jpg',\n",
       " 'data/part_B/train_data\\\\images\\\\IMG_351.jpg',\n",
       " 'data/part_B/train_data\\\\images\\\\IMG_352.jpg',\n",
       " 'data/part_B/train_data\\\\images\\\\IMG_353.jpg',\n",
       " 'data/part_B/train_data\\\\images\\\\IMG_354.jpg',\n",
       " 'data/part_B/train_data\\\\images\\\\IMG_355.jpg',\n",
       " 'data/part_B/train_data\\\\images\\\\IMG_356.jpg',\n",
       " 'data/part_B/train_data\\\\images\\\\IMG_357.jpg',\n",
       " 'data/part_B/train_data\\\\images\\\\IMG_358.jpg',\n",
       " 'data/part_B/train_data\\\\images\\\\IMG_359.jpg',\n",
       " 'data/part_B/train_data\\\\images\\\\IMG_36.jpg',\n",
       " 'data/part_B/train_data\\\\images\\\\IMG_360.jpg',\n",
       " 'data/part_B/train_data\\\\images\\\\IMG_361.jpg',\n",
       " 'data/part_B/train_data\\\\images\\\\IMG_362.jpg',\n",
       " 'data/part_B/train_data\\\\images\\\\IMG_363.jpg',\n",
       " 'data/part_B/train_data\\\\images\\\\IMG_364.jpg',\n",
       " 'data/part_B/train_data\\\\images\\\\IMG_365.jpg',\n",
       " 'data/part_B/train_data\\\\images\\\\IMG_366.jpg',\n",
       " 'data/part_B/train_data\\\\images\\\\IMG_367.jpg',\n",
       " 'data/part_B/train_data\\\\images\\\\IMG_368.jpg',\n",
       " 'data/part_B/train_data\\\\images\\\\IMG_369.jpg',\n",
       " 'data/part_B/train_data\\\\images\\\\IMG_37.jpg',\n",
       " 'data/part_B/train_data\\\\images\\\\IMG_370.jpg',\n",
       " 'data/part_B/train_data\\\\images\\\\IMG_371.jpg',\n",
       " 'data/part_B/train_data\\\\images\\\\IMG_372.jpg',\n",
       " 'data/part_B/train_data\\\\images\\\\IMG_373.jpg',\n",
       " 'data/part_B/train_data\\\\images\\\\IMG_374.jpg',\n",
       " 'data/part_B/train_data\\\\images\\\\IMG_375.jpg',\n",
       " 'data/part_B/train_data\\\\images\\\\IMG_376.jpg',\n",
       " 'data/part_B/train_data\\\\images\\\\IMG_377.jpg',\n",
       " 'data/part_B/train_data\\\\images\\\\IMG_378.jpg',\n",
       " 'data/part_B/train_data\\\\images\\\\IMG_379.jpg',\n",
       " 'data/part_B/train_data\\\\images\\\\IMG_38.jpg',\n",
       " 'data/part_B/train_data\\\\images\\\\IMG_380.jpg',\n",
       " 'data/part_B/train_data\\\\images\\\\IMG_381.jpg',\n",
       " 'data/part_B/train_data\\\\images\\\\IMG_382.jpg',\n",
       " 'data/part_B/train_data\\\\images\\\\IMG_383.jpg',\n",
       " 'data/part_B/train_data\\\\images\\\\IMG_384.jpg',\n",
       " 'data/part_B/train_data\\\\images\\\\IMG_385.jpg',\n",
       " 'data/part_B/train_data\\\\images\\\\IMG_386.jpg',\n",
       " 'data/part_B/train_data\\\\images\\\\IMG_387.jpg',\n",
       " 'data/part_B/train_data\\\\images\\\\IMG_388.jpg',\n",
       " 'data/part_B/train_data\\\\images\\\\IMG_389.jpg',\n",
       " 'data/part_B/train_data\\\\images\\\\IMG_39.jpg',\n",
       " 'data/part_B/train_data\\\\images\\\\IMG_390.jpg',\n",
       " 'data/part_B/train_data\\\\images\\\\IMG_391.jpg',\n",
       " 'data/part_B/train_data\\\\images\\\\IMG_392.jpg',\n",
       " 'data/part_B/train_data\\\\images\\\\IMG_393.jpg',\n",
       " 'data/part_B/train_data\\\\images\\\\IMG_394.jpg',\n",
       " 'data/part_B/train_data\\\\images\\\\IMG_395.jpg',\n",
       " 'data/part_B/train_data\\\\images\\\\IMG_396.jpg',\n",
       " 'data/part_B/train_data\\\\images\\\\IMG_397.jpg',\n",
       " 'data/part_B/train_data\\\\images\\\\IMG_398.jpg',\n",
       " 'data/part_B/train_data\\\\images\\\\IMG_399.jpg',\n",
       " 'data/part_B/train_data\\\\images\\\\IMG_4.jpg',\n",
       " 'data/part_B/train_data\\\\images\\\\IMG_40.jpg',\n",
       " 'data/part_B/train_data\\\\images\\\\IMG_400.jpg',\n",
       " 'data/part_B/train_data\\\\images\\\\IMG_41.jpg',\n",
       " 'data/part_B/train_data\\\\images\\\\IMG_42.jpg',\n",
       " 'data/part_B/train_data\\\\images\\\\IMG_43.jpg',\n",
       " 'data/part_B/train_data\\\\images\\\\IMG_44.jpg',\n",
       " 'data/part_B/train_data\\\\images\\\\IMG_45.jpg',\n",
       " 'data/part_B/train_data\\\\images\\\\IMG_46.jpg',\n",
       " 'data/part_B/train_data\\\\images\\\\IMG_47.jpg',\n",
       " 'data/part_B/train_data\\\\images\\\\IMG_48.jpg',\n",
       " 'data/part_B/train_data\\\\images\\\\IMG_49.jpg',\n",
       " 'data/part_B/train_data\\\\images\\\\IMG_5.jpg',\n",
       " 'data/part_B/train_data\\\\images\\\\IMG_50.jpg',\n",
       " 'data/part_B/train_data\\\\images\\\\IMG_51.jpg',\n",
       " 'data/part_B/train_data\\\\images\\\\IMG_52.jpg',\n",
       " 'data/part_B/train_data\\\\images\\\\IMG_53.jpg',\n",
       " 'data/part_B/train_data\\\\images\\\\IMG_54.jpg',\n",
       " 'data/part_B/train_data\\\\images\\\\IMG_55.jpg',\n",
       " 'data/part_B/train_data\\\\images\\\\IMG_56.jpg',\n",
       " 'data/part_B/train_data\\\\images\\\\IMG_57.jpg',\n",
       " 'data/part_B/train_data\\\\images\\\\IMG_58.jpg',\n",
       " 'data/part_B/train_data\\\\images\\\\IMG_59.jpg',\n",
       " 'data/part_B/train_data\\\\images\\\\IMG_6.jpg',\n",
       " 'data/part_B/train_data\\\\images\\\\IMG_60.jpg',\n",
       " 'data/part_B/train_data\\\\images\\\\IMG_61.jpg',\n",
       " 'data/part_B/train_data\\\\images\\\\IMG_62.jpg',\n",
       " 'data/part_B/train_data\\\\images\\\\IMG_63.jpg',\n",
       " 'data/part_B/train_data\\\\images\\\\IMG_64.jpg',\n",
       " 'data/part_B/train_data\\\\images\\\\IMG_65.jpg',\n",
       " 'data/part_B/train_data\\\\images\\\\IMG_66.jpg',\n",
       " 'data/part_B/train_data\\\\images\\\\IMG_67.jpg',\n",
       " 'data/part_B/train_data\\\\images\\\\IMG_68.jpg',\n",
       " 'data/part_B/train_data\\\\images\\\\IMG_69.jpg',\n",
       " 'data/part_B/train_data\\\\images\\\\IMG_7.jpg',\n",
       " 'data/part_B/train_data\\\\images\\\\IMG_70.jpg',\n",
       " 'data/part_B/train_data\\\\images\\\\IMG_71.jpg',\n",
       " 'data/part_B/train_data\\\\images\\\\IMG_72.jpg',\n",
       " 'data/part_B/train_data\\\\images\\\\IMG_73.jpg',\n",
       " 'data/part_B/train_data\\\\images\\\\IMG_74.jpg',\n",
       " 'data/part_B/train_data\\\\images\\\\IMG_75.jpg',\n",
       " 'data/part_B/train_data\\\\images\\\\IMG_76.jpg',\n",
       " 'data/part_B/train_data\\\\images\\\\IMG_77.jpg',\n",
       " 'data/part_B/train_data\\\\images\\\\IMG_78.jpg',\n",
       " 'data/part_B/train_data\\\\images\\\\IMG_79.jpg',\n",
       " 'data/part_B/train_data\\\\images\\\\IMG_8.jpg',\n",
       " 'data/part_B/train_data\\\\images\\\\IMG_80.jpg',\n",
       " 'data/part_B/train_data\\\\images\\\\IMG_81.jpg',\n",
       " 'data/part_B/train_data\\\\images\\\\IMG_82.jpg',\n",
       " 'data/part_B/train_data\\\\images\\\\IMG_83.jpg',\n",
       " 'data/part_B/train_data\\\\images\\\\IMG_84.jpg',\n",
       " 'data/part_B/train_data\\\\images\\\\IMG_85.jpg',\n",
       " 'data/part_B/train_data\\\\images\\\\IMG_86.jpg',\n",
       " 'data/part_B/train_data\\\\images\\\\IMG_87.jpg',\n",
       " 'data/part_B/train_data\\\\images\\\\IMG_88.jpg',\n",
       " 'data/part_B/train_data\\\\images\\\\IMG_89.jpg',\n",
       " 'data/part_B/train_data\\\\images\\\\IMG_9.jpg',\n",
       " 'data/part_B/train_data\\\\images\\\\IMG_90.jpg',\n",
       " 'data/part_B/train_data\\\\images\\\\IMG_91.jpg',\n",
       " 'data/part_B/train_data\\\\images\\\\IMG_92.jpg',\n",
       " 'data/part_B/train_data\\\\images\\\\IMG_93.jpg',\n",
       " 'data/part_B/train_data\\\\images\\\\IMG_94.jpg',\n",
       " 'data/part_B/train_data\\\\images\\\\IMG_95.jpg',\n",
       " 'data/part_B/train_data\\\\images\\\\IMG_96.jpg',\n",
       " 'data/part_B/train_data\\\\images\\\\IMG_97.jpg',\n",
       " 'data/part_B/train_data\\\\images\\\\IMG_98.jpg',\n",
       " 'data/part_B/train_data\\\\images\\\\IMG_99.jpg',\n",
       " 'data/part_B/test_data\\\\images\\\\IMG_1.jpg',\n",
       " 'data/part_B/test_data\\\\images\\\\IMG_10.jpg',\n",
       " 'data/part_B/test_data\\\\images\\\\IMG_100.jpg',\n",
       " 'data/part_B/test_data\\\\images\\\\IMG_101.jpg',\n",
       " 'data/part_B/test_data\\\\images\\\\IMG_102.jpg',\n",
       " 'data/part_B/test_data\\\\images\\\\IMG_103.jpg',\n",
       " 'data/part_B/test_data\\\\images\\\\IMG_104.jpg',\n",
       " 'data/part_B/test_data\\\\images\\\\IMG_105.jpg',\n",
       " 'data/part_B/test_data\\\\images\\\\IMG_106.jpg',\n",
       " 'data/part_B/test_data\\\\images\\\\IMG_107.jpg',\n",
       " 'data/part_B/test_data\\\\images\\\\IMG_108.jpg',\n",
       " 'data/part_B/test_data\\\\images\\\\IMG_109.jpg',\n",
       " 'data/part_B/test_data\\\\images\\\\IMG_11.jpg',\n",
       " 'data/part_B/test_data\\\\images\\\\IMG_110.jpg',\n",
       " 'data/part_B/test_data\\\\images\\\\IMG_111.jpg',\n",
       " 'data/part_B/test_data\\\\images\\\\IMG_112.jpg',\n",
       " 'data/part_B/test_data\\\\images\\\\IMG_113.jpg',\n",
       " 'data/part_B/test_data\\\\images\\\\IMG_114.jpg',\n",
       " 'data/part_B/test_data\\\\images\\\\IMG_115.jpg',\n",
       " 'data/part_B/test_data\\\\images\\\\IMG_116.jpg',\n",
       " 'data/part_B/test_data\\\\images\\\\IMG_117.jpg',\n",
       " 'data/part_B/test_data\\\\images\\\\IMG_118.jpg',\n",
       " 'data/part_B/test_data\\\\images\\\\IMG_119.jpg',\n",
       " 'data/part_B/test_data\\\\images\\\\IMG_12.jpg',\n",
       " 'data/part_B/test_data\\\\images\\\\IMG_120.jpg',\n",
       " 'data/part_B/test_data\\\\images\\\\IMG_121.jpg',\n",
       " 'data/part_B/test_data\\\\images\\\\IMG_122.jpg',\n",
       " 'data/part_B/test_data\\\\images\\\\IMG_123.jpg',\n",
       " 'data/part_B/test_data\\\\images\\\\IMG_124.jpg',\n",
       " 'data/part_B/test_data\\\\images\\\\IMG_125.jpg',\n",
       " 'data/part_B/test_data\\\\images\\\\IMG_126.jpg',\n",
       " 'data/part_B/test_data\\\\images\\\\IMG_127.jpg',\n",
       " 'data/part_B/test_data\\\\images\\\\IMG_128.jpg',\n",
       " 'data/part_B/test_data\\\\images\\\\IMG_129.jpg',\n",
       " 'data/part_B/test_data\\\\images\\\\IMG_13.jpg',\n",
       " 'data/part_B/test_data\\\\images\\\\IMG_130.jpg',\n",
       " 'data/part_B/test_data\\\\images\\\\IMG_131.jpg',\n",
       " 'data/part_B/test_data\\\\images\\\\IMG_132.jpg',\n",
       " 'data/part_B/test_data\\\\images\\\\IMG_133.jpg',\n",
       " 'data/part_B/test_data\\\\images\\\\IMG_134.jpg',\n",
       " 'data/part_B/test_data\\\\images\\\\IMG_135.jpg',\n",
       " 'data/part_B/test_data\\\\images\\\\IMG_136.jpg',\n",
       " 'data/part_B/test_data\\\\images\\\\IMG_137.jpg',\n",
       " 'data/part_B/test_data\\\\images\\\\IMG_138.jpg',\n",
       " 'data/part_B/test_data\\\\images\\\\IMG_139.jpg',\n",
       " 'data/part_B/test_data\\\\images\\\\IMG_14.jpg',\n",
       " 'data/part_B/test_data\\\\images\\\\IMG_140.jpg',\n",
       " 'data/part_B/test_data\\\\images\\\\IMG_141.jpg',\n",
       " 'data/part_B/test_data\\\\images\\\\IMG_142.jpg',\n",
       " 'data/part_B/test_data\\\\images\\\\IMG_143.jpg',\n",
       " 'data/part_B/test_data\\\\images\\\\IMG_144.jpg',\n",
       " 'data/part_B/test_data\\\\images\\\\IMG_145.jpg',\n",
       " 'data/part_B/test_data\\\\images\\\\IMG_146.jpg',\n",
       " 'data/part_B/test_data\\\\images\\\\IMG_147.jpg',\n",
       " 'data/part_B/test_data\\\\images\\\\IMG_148.jpg',\n",
       " 'data/part_B/test_data\\\\images\\\\IMG_149.jpg',\n",
       " 'data/part_B/test_data\\\\images\\\\IMG_15.jpg',\n",
       " 'data/part_B/test_data\\\\images\\\\IMG_150.jpg',\n",
       " 'data/part_B/test_data\\\\images\\\\IMG_151.jpg',\n",
       " 'data/part_B/test_data\\\\images\\\\IMG_152.jpg',\n",
       " 'data/part_B/test_data\\\\images\\\\IMG_153.jpg',\n",
       " 'data/part_B/test_data\\\\images\\\\IMG_154.jpg',\n",
       " 'data/part_B/test_data\\\\images\\\\IMG_155.jpg',\n",
       " 'data/part_B/test_data\\\\images\\\\IMG_156.jpg',\n",
       " 'data/part_B/test_data\\\\images\\\\IMG_157.jpg',\n",
       " 'data/part_B/test_data\\\\images\\\\IMG_158.jpg',\n",
       " 'data/part_B/test_data\\\\images\\\\IMG_159.jpg',\n",
       " 'data/part_B/test_data\\\\images\\\\IMG_16.jpg',\n",
       " 'data/part_B/test_data\\\\images\\\\IMG_160.jpg',\n",
       " 'data/part_B/test_data\\\\images\\\\IMG_161.jpg',\n",
       " 'data/part_B/test_data\\\\images\\\\IMG_162.jpg',\n",
       " 'data/part_B/test_data\\\\images\\\\IMG_163.jpg',\n",
       " 'data/part_B/test_data\\\\images\\\\IMG_164.jpg',\n",
       " 'data/part_B/test_data\\\\images\\\\IMG_165.jpg',\n",
       " 'data/part_B/test_data\\\\images\\\\IMG_166.jpg',\n",
       " 'data/part_B/test_data\\\\images\\\\IMG_167.jpg',\n",
       " 'data/part_B/test_data\\\\images\\\\IMG_168.jpg',\n",
       " 'data/part_B/test_data\\\\images\\\\IMG_169.jpg',\n",
       " 'data/part_B/test_data\\\\images\\\\IMG_17.jpg',\n",
       " 'data/part_B/test_data\\\\images\\\\IMG_170.jpg',\n",
       " 'data/part_B/test_data\\\\images\\\\IMG_171.jpg',\n",
       " 'data/part_B/test_data\\\\images\\\\IMG_172.jpg',\n",
       " 'data/part_B/test_data\\\\images\\\\IMG_173.jpg',\n",
       " 'data/part_B/test_data\\\\images\\\\IMG_174.jpg',\n",
       " 'data/part_B/test_data\\\\images\\\\IMG_175.jpg',\n",
       " 'data/part_B/test_data\\\\images\\\\IMG_176.jpg',\n",
       " 'data/part_B/test_data\\\\images\\\\IMG_177.jpg',\n",
       " 'data/part_B/test_data\\\\images\\\\IMG_178.jpg',\n",
       " 'data/part_B/test_data\\\\images\\\\IMG_179.jpg',\n",
       " 'data/part_B/test_data\\\\images\\\\IMG_18.jpg',\n",
       " 'data/part_B/test_data\\\\images\\\\IMG_180.jpg',\n",
       " 'data/part_B/test_data\\\\images\\\\IMG_181.jpg',\n",
       " 'data/part_B/test_data\\\\images\\\\IMG_182.jpg',\n",
       " 'data/part_B/test_data\\\\images\\\\IMG_183.jpg',\n",
       " 'data/part_B/test_data\\\\images\\\\IMG_184.jpg',\n",
       " 'data/part_B/test_data\\\\images\\\\IMG_185.jpg',\n",
       " 'data/part_B/test_data\\\\images\\\\IMG_186.jpg',\n",
       " 'data/part_B/test_data\\\\images\\\\IMG_187.jpg',\n",
       " 'data/part_B/test_data\\\\images\\\\IMG_188.jpg',\n",
       " 'data/part_B/test_data\\\\images\\\\IMG_189.jpg',\n",
       " 'data/part_B/test_data\\\\images\\\\IMG_19.jpg',\n",
       " 'data/part_B/test_data\\\\images\\\\IMG_190.jpg',\n",
       " 'data/part_B/test_data\\\\images\\\\IMG_191.jpg',\n",
       " 'data/part_B/test_data\\\\images\\\\IMG_192.jpg',\n",
       " 'data/part_B/test_data\\\\images\\\\IMG_193.jpg',\n",
       " 'data/part_B/test_data\\\\images\\\\IMG_194.jpg',\n",
       " 'data/part_B/test_data\\\\images\\\\IMG_195.jpg',\n",
       " 'data/part_B/test_data\\\\images\\\\IMG_196.jpg',\n",
       " 'data/part_B/test_data\\\\images\\\\IMG_197.jpg',\n",
       " 'data/part_B/test_data\\\\images\\\\IMG_198.jpg',\n",
       " 'data/part_B/test_data\\\\images\\\\IMG_199.jpg',\n",
       " 'data/part_B/test_data\\\\images\\\\IMG_2.jpg',\n",
       " 'data/part_B/test_data\\\\images\\\\IMG_20.jpg',\n",
       " 'data/part_B/test_data\\\\images\\\\IMG_200.jpg',\n",
       " 'data/part_B/test_data\\\\images\\\\IMG_201.jpg',\n",
       " 'data/part_B/test_data\\\\images\\\\IMG_202.jpg',\n",
       " 'data/part_B/test_data\\\\images\\\\IMG_203.jpg',\n",
       " 'data/part_B/test_data\\\\images\\\\IMG_204.jpg',\n",
       " ...]"
      ]
     },
     "execution_count": 7,
     "metadata": {},
     "output_type": "execute_result"
    }
   ],
   "source": [
    "img_paths"
   ]
  },
  {
   "cell_type": "code",
   "execution_count": 8,
   "metadata": {},
   "outputs": [
    {
     "name": "stderr",
     "output_type": "stream",
     "text": [
      "\r",
      "  0%|          | 0/1198 [00:00<?, ?it/s]"
     ]
    },
    {
     "name": "stdout",
     "output_type": "stream",
     "text": [
      "data/part_A/train_data\\images\\IMG_1.jpg\n",
      "(768, 1024)\n",
      "generating density...\n"
     ]
    },
    {
     "name": "stderr",
     "output_type": "stream",
     "text": [
      "\r",
      "  0%|          | 1/1198 [00:29<9:44:51, 29.32s/it]"
     ]
    },
    {
     "name": "stdout",
     "output_type": "stream",
     "text": [
      "done.\n",
      "data/part_A/train_data\\images\\IMG_10.jpg\n",
      "(683, 1024)\n",
      "generating density...\n"
     ]
    },
    {
     "name": "stderr",
     "output_type": "stream",
     "text": [
      "\r",
      "  0%|          | 2/1198 [00:58<9:41:45, 29.19s/it]"
     ]
    },
    {
     "name": "stdout",
     "output_type": "stream",
     "text": [
      "done.\n",
      "data/part_A/train_data\\images\\IMG_100.jpg\n",
      "(654, 1024)\n",
      "generating density...\n"
     ]
    },
    {
     "name": "stderr",
     "output_type": "stream",
     "text": [
      "\r",
      "  0%|          | 3/1198 [01:11<7:17:47, 21.98s/it]"
     ]
    },
    {
     "name": "stdout",
     "output_type": "stream",
     "text": [
      "done.\n",
      "data/part_A/train_data\\images\\IMG_101.jpg\n",
      "(768, 1024)\n",
      "generating density...\n"
     ]
    },
    {
     "name": "stderr",
     "output_type": "stream",
     "text": [
      "\r",
      "  0%|          | 4/1198 [01:26<6:23:59, 19.30s/it]"
     ]
    },
    {
     "name": "stdout",
     "output_type": "stream",
     "text": [
      "done.\n",
      "data/part_A/train_data\\images\\IMG_102.jpg\n",
      "(768, 1024)\n",
      "generating density...\n"
     ]
    },
    {
     "name": "stderr",
     "output_type": "stream",
     "text": [
      "\r",
      "  0%|          | 5/1198 [01:37<5:21:16, 16.16s/it]"
     ]
    },
    {
     "name": "stdout",
     "output_type": "stream",
     "text": [
      "done.\n",
      "data/part_A/train_data\\images\\IMG_103.jpg\n",
      "(400, 400)\n",
      "generating density...\n"
     ]
    },
    {
     "name": "stderr",
     "output_type": "stream",
     "text": [
      "\r",
      "  1%|          | 6/1198 [01:38<3:38:27, 11.00s/it]"
     ]
    },
    {
     "name": "stdout",
     "output_type": "stream",
     "text": [
      "done.\n",
      "data/part_A/train_data\\images\\IMG_104.jpg\n",
      "(405, 540)\n",
      "generating density...\n"
     ]
    },
    {
     "name": "stderr",
     "output_type": "stream",
     "text": [
      "\r",
      "  1%|          | 7/1198 [01:41<2:43:28,  8.24s/it]"
     ]
    },
    {
     "name": "stdout",
     "output_type": "stream",
     "text": [
      "done.\n",
      "data/part_A/train_data\\images\\IMG_105.jpg\n",
      "(632, 990)\n",
      "generating density...\n"
     ]
    },
    {
     "name": "stderr",
     "output_type": "stream",
     "text": [
      "\r",
      "  1%|          | 8/1198 [01:52<3:03:08,  9.23s/it]"
     ]
    },
    {
     "name": "stdout",
     "output_type": "stream",
     "text": [
      "done.\n",
      "data/part_A/train_data\\images\\IMG_106.jpg\n",
      "(675, 1024)\n",
      "generating density...\n"
     ]
    },
    {
     "name": "stderr",
     "output_type": "stream",
     "text": [
      "\r",
      "  1%|          | 9/1198 [02:15<4:28:50, 13.57s/it]"
     ]
    },
    {
     "name": "stdout",
     "output_type": "stream",
     "text": [
      "done.\n",
      "data/part_A/train_data\\images\\IMG_107.jpg\n",
      "(517, 800)\n",
      "generating density...\n"
     ]
    },
    {
     "name": "stderr",
     "output_type": "stream",
     "text": [
      "\r",
      "  1%|          | 10/1198 [02:19<3:32:07, 10.71s/it]"
     ]
    },
    {
     "name": "stdout",
     "output_type": "stream",
     "text": [
      "done.\n",
      "data/part_A/train_data\\images\\IMG_108.jpg\n",
      "(767, 1024)\n",
      "generating density...\n"
     ]
    },
    {
     "name": "stderr",
     "output_type": "stream",
     "text": [
      "\r",
      "  1%|          | 11/1198 [02:54<5:58:36, 18.13s/it]"
     ]
    },
    {
     "name": "stdout",
     "output_type": "stream",
     "text": [
      "done.\n",
      "data/part_A/train_data\\images\\IMG_109.jpg\n",
      "(681, 1024)\n",
      "generating density...\n"
     ]
    },
    {
     "name": "stderr",
     "output_type": "stream",
     "text": [
      "\r",
      "  1%|          | 12/1198 [03:15<6:12:15, 18.83s/it]"
     ]
    },
    {
     "name": "stdout",
     "output_type": "stream",
     "text": [
      "done.\n",
      "data/part_A/train_data\\images\\IMG_11.jpg\n",
      "(686, 1024)\n",
      "generating density...\n"
     ]
    },
    {
     "name": "stderr",
     "output_type": "stream",
     "text": [
      "\r",
      "  1%|          | 13/1198 [03:22<5:05:22, 15.46s/it]"
     ]
    },
    {
     "name": "stdout",
     "output_type": "stream",
     "text": [
      "done.\n",
      "data/part_A/train_data\\images\\IMG_110.jpg\n",
      "(498, 1024)\n",
      "generating density...\n"
     ]
    },
    {
     "name": "stderr",
     "output_type": "stream",
     "text": [
      "\r",
      "  1%|          | 14/1198 [03:30<4:18:55, 13.12s/it]"
     ]
    },
    {
     "name": "stdout",
     "output_type": "stream",
     "text": [
      "done.\n",
      "data/part_A/train_data\\images\\IMG_111.jpg\n",
      "(768, 1024)\n",
      "generating density...\n"
     ]
    },
    {
     "name": "stderr",
     "output_type": "stream",
     "text": [
      "\r",
      "  1%|▏         | 15/1198 [04:05<6:28:39, 19.71s/it]"
     ]
    },
    {
     "name": "stdout",
     "output_type": "stream",
     "text": [
      "done.\n",
      "data/part_A/train_data\\images\\IMG_112.jpg\n",
      "(327, 1024)\n",
      "generating density...\n"
     ]
    },
    {
     "name": "stderr",
     "output_type": "stream",
     "text": [
      "\r",
      "  1%|▏         | 16/1198 [04:27<6:42:14, 20.42s/it]"
     ]
    },
    {
     "name": "stdout",
     "output_type": "stream",
     "text": [
      "done.\n",
      "data/part_A/train_data\\images\\IMG_113.jpg\n",
      "(390, 600)\n",
      "generating density...\n"
     ]
    },
    {
     "name": "stderr",
     "output_type": "stream",
     "text": [
      "\r",
      "  1%|▏         | 17/1198 [04:32<5:11:40, 15.83s/it]"
     ]
    },
    {
     "name": "stdout",
     "output_type": "stream",
     "text": [
      "done.\n",
      "data/part_A/train_data\\images\\IMG_114.jpg\n",
      "(375, 500)\n",
      "generating density...\n"
     ]
    },
    {
     "name": "stderr",
     "output_type": "stream",
     "text": [
      "\r",
      "  2%|▏         | 18/1198 [04:35<3:51:09, 11.75s/it]"
     ]
    },
    {
     "name": "stdout",
     "output_type": "stream",
     "text": [
      "done.\n",
      "data/part_A/train_data\\images\\IMG_115.jpg\n",
      "(611, 1021)\n",
      "generating density...\n"
     ]
    },
    {
     "name": "stderr",
     "output_type": "stream",
     "text": [
      "\r",
      "  2%|▏         | 19/1198 [04:48<3:58:21, 12.13s/it]"
     ]
    },
    {
     "name": "stdout",
     "output_type": "stream",
     "text": [
      "done.\n",
      "data/part_A/train_data\\images\\IMG_116.jpg\n",
      "(640, 640)\n",
      "generating density...\n"
     ]
    },
    {
     "name": "stderr",
     "output_type": "stream",
     "text": [
      "\r",
      "  2%|▏         | 20/1198 [04:58<3:49:42, 11.70s/it]"
     ]
    },
    {
     "name": "stdout",
     "output_type": "stream",
     "text": [
      "done.\n",
      "data/part_A/train_data\\images\\IMG_117.jpg\n",
      "(579, 840)\n",
      "generating density...\n"
     ]
    },
    {
     "name": "stderr",
     "output_type": "stream",
     "text": [
      "\r",
      "  2%|▏         | 21/1198 [05:09<3:44:59, 11.47s/it]"
     ]
    },
    {
     "name": "stdout",
     "output_type": "stream",
     "text": [
      "done.\n",
      "data/part_A/train_data\\images\\IMG_118.jpg\n",
      "(651, 1024)\n",
      "generating density...\n"
     ]
    },
    {
     "name": "stderr",
     "output_type": "stream",
     "text": [
      "\r",
      "  2%|▏         | 22/1198 [05:52<6:51:01, 20.97s/it]"
     ]
    },
    {
     "name": "stdout",
     "output_type": "stream",
     "text": [
      "done.\n",
      "data/part_A/train_data\\images\\IMG_119.jpg\n",
      "(594, 1024)\n",
      "generating density...\n"
     ]
    },
    {
     "name": "stderr",
     "output_type": "stream",
     "text": [
      "\r",
      "  2%|▏         | 23/1198 [06:05<6:03:55, 18.58s/it]"
     ]
    },
    {
     "name": "stdout",
     "output_type": "stream",
     "text": [
      "done.\n",
      "data/part_A/train_data\\images\\IMG_12.jpg\n",
      "(680, 1024)\n",
      "generating density...\n"
     ]
    },
    {
     "name": "stderr",
     "output_type": "stream",
     "text": [
      "\r",
      "  2%|▏         | 24/1198 [06:21<5:44:06, 17.59s/it]"
     ]
    },
    {
     "name": "stdout",
     "output_type": "stream",
     "text": [
      "done.\n",
      "data/part_A/train_data\\images\\IMG_120.jpg\n",
      "(768, 1024)\n",
      "generating density...\n"
     ]
    },
    {
     "name": "stderr",
     "output_type": "stream",
     "text": [
      "\r",
      "  2%|▏         | 25/1198 [07:05<8:20:17, 25.59s/it]"
     ]
    },
    {
     "name": "stdout",
     "output_type": "stream",
     "text": [
      "done.\n",
      "data/part_A/train_data\\images\\IMG_121.jpg\n",
      "(373, 561)\n",
      "generating density...\n"
     ]
    },
    {
     "name": "stderr",
     "output_type": "stream",
     "text": [
      "\r",
      "  2%|▏         | 26/1198 [07:07<6:02:29, 18.56s/it]"
     ]
    },
    {
     "name": "stdout",
     "output_type": "stream",
     "text": [
      "done.\n",
      "data/part_A/train_data\\images\\IMG_122.jpg\n",
      "(787, 1024)\n",
      "generating density...\n"
     ]
    },
    {
     "name": "stderr",
     "output_type": "stream",
     "text": [
      "\r",
      "  2%|▏         | 27/1198 [07:24<5:52:30, 18.06s/it]"
     ]
    },
    {
     "name": "stdout",
     "output_type": "stream",
     "text": [
      "done.\n",
      "data/part_A/train_data\\images\\IMG_123.jpg\n",
      "(774, 1024)\n",
      "generating density...\n"
     ]
    },
    {
     "name": "stderr",
     "output_type": "stream",
     "text": [
      "\r",
      "  2%|▏         | 28/1198 [07:46<6:12:36, 19.11s/it]"
     ]
    },
    {
     "name": "stdout",
     "output_type": "stream",
     "text": [
      "done.\n",
      "data/part_A/train_data\\images\\IMG_124.jpg\n",
      "(768, 1024)\n",
      "generating density...\n"
     ]
    },
    {
     "name": "stderr",
     "output_type": "stream",
     "text": [
      "\r",
      "  2%|▏         | 29/1198 [08:15<7:11:22, 22.14s/it]"
     ]
    },
    {
     "name": "stdout",
     "output_type": "stream",
     "text": [
      "done.\n",
      "data/part_A/train_data\\images\\IMG_125.jpg\n",
      "(565, 849)\n",
      "generating density...\n"
     ]
    },
    {
     "name": "stderr",
     "output_type": "stream",
     "text": [
      "\r",
      "  3%|▎         | 30/1198 [08:20<5:29:43, 16.94s/it]"
     ]
    },
    {
     "name": "stdout",
     "output_type": "stream",
     "text": [
      "done.\n",
      "data/part_A/train_data\\images\\IMG_126.jpg\n",
      "(576, 1024)\n",
      "generating density...\n"
     ]
    },
    {
     "name": "stderr",
     "output_type": "stream",
     "text": [
      "\r",
      "  3%|▎         | 31/1198 [08:30<4:53:02, 15.07s/it]"
     ]
    },
    {
     "name": "stdout",
     "output_type": "stream",
     "text": [
      "done.\n",
      "data/part_A/train_data\\images\\IMG_127.jpg\n",
      "(300, 400)\n",
      "generating density...\n"
     ]
    },
    {
     "name": "stderr",
     "output_type": "stream",
     "text": [
      "\r",
      "  3%|▎         | 32/1198 [08:31<3:30:14, 10.82s/it]"
     ]
    },
    {
     "name": "stdout",
     "output_type": "stream",
     "text": [
      "done.\n",
      "data/part_A/train_data\\images\\IMG_128.jpg\n",
      "(683, 1024)\n",
      "generating density...\n"
     ]
    },
    {
     "name": "stderr",
     "output_type": "stream",
     "text": [
      "\r",
      "  3%|▎         | 33/1198 [09:12<6:22:20, 19.69s/it]"
     ]
    },
    {
     "name": "stdout",
     "output_type": "stream",
     "text": [
      "done.\n",
      "data/part_A/train_data\\images\\IMG_129.jpg\n",
      "(689, 998)\n",
      "generating density...\n"
     ]
    },
    {
     "name": "stderr",
     "output_type": "stream",
     "text": [
      "\r",
      "  3%|▎         | 34/1198 [09:26<5:48:29, 17.96s/it]"
     ]
    },
    {
     "name": "stdout",
     "output_type": "stream",
     "text": [
      "done.\n",
      "data/part_A/train_data\\images\\IMG_13.jpg\n",
      "(747, 1024)\n",
      "generating density...\n"
     ]
    },
    {
     "name": "stderr",
     "output_type": "stream",
     "text": [
      "\r",
      "  3%|▎         | 35/1198 [09:43<5:47:26, 17.92s/it]"
     ]
    },
    {
     "name": "stdout",
     "output_type": "stream",
     "text": [
      "done.\n",
      "data/part_A/train_data\\images\\IMG_130.jpg\n",
      "(680, 1024)\n",
      "generating density...\n"
     ]
    },
    {
     "name": "stderr",
     "output_type": "stream",
     "text": [
      "\r",
      "  3%|▎         | 36/1198 [10:15<7:07:42, 22.08s/it]"
     ]
    },
    {
     "name": "stdout",
     "output_type": "stream",
     "text": [
      "done.\n",
      "data/part_A/train_data\\images\\IMG_131.jpg\n",
      "(498, 390)\n",
      "generating density...\n"
     ]
    },
    {
     "name": "stderr",
     "output_type": "stream",
     "text": [
      "\r",
      "  3%|▎         | 37/1198 [10:20<5:25:09, 16.80s/it]"
     ]
    },
    {
     "name": "stdout",
     "output_type": "stream",
     "text": [
      "done.\n",
      "data/part_A/train_data\\images\\IMG_132.jpg\n",
      "(800, 600)\n",
      "generating density...\n"
     ]
    },
    {
     "name": "stderr",
     "output_type": "stream",
     "text": [
      "\r",
      "  3%|▎         | 38/1198 [10:26<4:22:04, 13.56s/it]"
     ]
    },
    {
     "name": "stdout",
     "output_type": "stream",
     "text": [
      "done.\n",
      "data/part_A/train_data\\images\\IMG_133.jpg\n",
      "(683, 1024)\n",
      "generating density...\n"
     ]
    },
    {
     "name": "stderr",
     "output_type": "stream",
     "text": [
      "\r",
      "  3%|▎         | 39/1198 [10:59<6:16:22, 19.48s/it]"
     ]
    },
    {
     "name": "stdout",
     "output_type": "stream",
     "text": [
      "done.\n",
      "data/part_A/train_data\\images\\IMG_134.jpg\n",
      "(1024, 1024)\n",
      "generating density...\n"
     ]
    },
    {
     "name": "stderr",
     "output_type": "stream",
     "text": [
      "\r",
      "  3%|▎         | 40/1198 [12:04<10:42:40, 33.30s/it]"
     ]
    },
    {
     "name": "stdout",
     "output_type": "stream",
     "text": [
      "done.\n",
      "data/part_A/train_data\\images\\IMG_135.jpg\n",
      "(182, 420)\n",
      "generating density...\n"
     ]
    },
    {
     "name": "stderr",
     "output_type": "stream",
     "text": [
      "\r",
      "  3%|▎         | 41/1198 [12:05<7:33:56, 23.54s/it] "
     ]
    },
    {
     "name": "stdout",
     "output_type": "stream",
     "text": [
      "done.\n",
      "data/part_A/train_data\\images\\IMG_136.jpg\n",
      "(500, 666)\n",
      "generating density...\n"
     ]
    },
    {
     "name": "stderr",
     "output_type": "stream",
     "text": [
      "\r",
      "  4%|▎         | 42/1198 [12:14<6:05:49, 18.99s/it]"
     ]
    },
    {
     "name": "stdout",
     "output_type": "stream",
     "text": [
      "done.\n",
      "data/part_A/train_data\\images\\IMG_137.jpg\n",
      "(585, 1024)\n",
      "generating density...\n"
     ]
    },
    {
     "name": "stderr",
     "output_type": "stream",
     "text": [
      "\r",
      "  4%|▎         | 43/1198 [12:41<6:51:20, 21.37s/it]"
     ]
    },
    {
     "name": "stdout",
     "output_type": "stream",
     "text": [
      "done.\n",
      "data/part_A/train_data\\images\\IMG_138.jpg\n",
      "(652, 1024)\n",
      "generating density...\n"
     ]
    },
    {
     "name": "stderr",
     "output_type": "stream",
     "text": [
      "\r",
      "  4%|▎         | 44/1198 [12:54<6:05:44, 19.02s/it]"
     ]
    },
    {
     "name": "stdout",
     "output_type": "stream",
     "text": [
      "done.\n",
      "data/part_A/train_data\\images\\IMG_139.jpg\n",
      "(370, 545)\n",
      "generating density...\n"
     ]
    },
    {
     "name": "stderr",
     "output_type": "stream",
     "text": [
      "\r",
      "  4%|▍         | 45/1198 [12:56<4:27:22, 13.91s/it]"
     ]
    },
    {
     "name": "stdout",
     "output_type": "stream",
     "text": [
      "done.\n",
      "data/part_A/train_data\\images\\IMG_14.jpg\n",
      "(645, 1024)\n",
      "generating density...\n"
     ]
    },
    {
     "name": "stderr",
     "output_type": "stream",
     "text": [
      "\r",
      "  4%|▍         | 46/1198 [13:15<4:53:23, 15.28s/it]"
     ]
    },
    {
     "name": "stdout",
     "output_type": "stream",
     "text": [
      "done.\n",
      "data/part_A/train_data\\images\\IMG_140.jpg\n",
      "(768, 1024)\n",
      "generating density...\n"
     ]
    },
    {
     "name": "stderr",
     "output_type": "stream",
     "text": [
      "\r",
      "  4%|▍         | 47/1198 [13:33<5:11:42, 16.25s/it]"
     ]
    },
    {
     "name": "stdout",
     "output_type": "stream",
     "text": [
      "done.\n",
      "data/part_A/train_data\\images\\IMG_141.jpg\n",
      "(427, 640)\n",
      "generating density...\n"
     ]
    },
    {
     "name": "stderr",
     "output_type": "stream",
     "text": [
      "\r",
      "  4%|▍         | 48/1198 [13:39<4:12:15, 13.16s/it]"
     ]
    },
    {
     "name": "stdout",
     "output_type": "stream",
     "text": [
      "done.\n",
      "data/part_A/train_data\\images\\IMG_142.jpg\n",
      "(455, 670)\n",
      "generating density...\n"
     ]
    },
    {
     "name": "stderr",
     "output_type": "stream",
     "text": [
      "\r",
      "  4%|▍         | 49/1198 [13:44<3:27:41, 10.85s/it]"
     ]
    },
    {
     "name": "stdout",
     "output_type": "stream",
     "text": [
      "done.\n",
      "data/part_A/train_data\\images\\IMG_143.jpg\n",
      "(605, 1024)\n",
      "generating density...\n"
     ]
    },
    {
     "name": "stderr",
     "output_type": "stream",
     "text": [
      "\r",
      "  4%|▍         | 50/1198 [14:11<4:55:05, 15.42s/it]"
     ]
    },
    {
     "name": "stdout",
     "output_type": "stream",
     "text": [
      "done.\n",
      "data/part_A/train_data\\images\\IMG_144.jpg\n",
      "(768, 1024)\n",
      "generating density...\n"
     ]
    },
    {
     "name": "stderr",
     "output_type": "stream",
     "text": [
      "\r",
      "  4%|▍         | 51/1198 [14:35<5:49:06, 18.26s/it]"
     ]
    },
    {
     "name": "stdout",
     "output_type": "stream",
     "text": [
      "done.\n",
      "data/part_A/train_data\\images\\IMG_145.jpg\n",
      "(561, 1024)\n",
      "generating density...\n"
     ]
    },
    {
     "name": "stderr",
     "output_type": "stream",
     "text": [
      "\r",
      "  4%|▍         | 52/1198 [14:49<5:21:13, 16.82s/it]"
     ]
    },
    {
     "name": "stdout",
     "output_type": "stream",
     "text": [
      "done.\n",
      "data/part_A/train_data\\images\\IMG_146.jpg\n",
      "(680, 1024)\n",
      "generating density...\n"
     ]
    },
    {
     "name": "stderr",
     "output_type": "stream",
     "text": [
      "\r",
      "  4%|▍         | 53/1198 [15:07<5:26:25, 17.11s/it]"
     ]
    },
    {
     "name": "stdout",
     "output_type": "stream",
     "text": [
      "done.\n",
      "data/part_A/train_data\\images\\IMG_147.jpg\n",
      "(768, 1024)\n",
      "generating density...\n"
     ]
    },
    {
     "name": "stderr",
     "output_type": "stream",
     "text": [
      "\r",
      "  5%|▍         | 54/1198 [15:30<6:01:32, 18.96s/it]"
     ]
    },
    {
     "name": "stdout",
     "output_type": "stream",
     "text": [
      "done.\n",
      "data/part_A/train_data\\images\\IMG_148.jpg\n",
      "(680, 1024)\n",
      "generating density...\n"
     ]
    },
    {
     "name": "stderr",
     "output_type": "stream",
     "text": [
      "\r",
      "  5%|▍         | 55/1198 [15:40<5:07:50, 16.16s/it]"
     ]
    },
    {
     "name": "stdout",
     "output_type": "stream",
     "text": [
      "done.\n",
      "data/part_A/train_data\\images\\IMG_149.jpg\n",
      "(683, 1024)\n",
      "generating density...\n"
     ]
    },
    {
     "name": "stderr",
     "output_type": "stream",
     "text": [
      "\r",
      "  5%|▍         | 56/1198 [16:17<7:11:35, 22.68s/it]"
     ]
    },
    {
     "name": "stdout",
     "output_type": "stream",
     "text": [
      "done.\n",
      "data/part_A/train_data\\images\\IMG_15.jpg\n",
      "(768, 1024)\n",
      "generating density...\n"
     ]
    },
    {
     "name": "stderr",
     "output_type": "stream",
     "text": [
      "\r",
      "  5%|▍         | 57/1198 [16:31<6:21:22, 20.06s/it]"
     ]
    },
    {
     "name": "stdout",
     "output_type": "stream",
     "text": [
      "done.\n",
      "data/part_A/train_data\\images\\IMG_150.jpg\n",
      "(450, 970)\n",
      "generating density...\n"
     ]
    },
    {
     "name": "stderr",
     "output_type": "stream",
     "text": [
      "\r",
      "  5%|▍         | 58/1198 [16:47<5:57:47, 18.83s/it]"
     ]
    },
    {
     "name": "stdout",
     "output_type": "stream",
     "text": [
      "done.\n",
      "data/part_A/train_data\\images\\IMG_151.jpg\n",
      "(449, 716)\n",
      "generating density...\n"
     ]
    },
    {
     "name": "stderr",
     "output_type": "stream",
     "text": [
      "\r",
      "  5%|▍         | 59/1198 [16:58<5:12:41, 16.47s/it]"
     ]
    },
    {
     "name": "stdout",
     "output_type": "stream",
     "text": [
      "done.\n",
      "data/part_A/train_data\\images\\IMG_152.jpg\n",
      "(600, 800)\n",
      "generating density...\n"
     ]
    },
    {
     "name": "stderr",
     "output_type": "stream",
     "text": [
      "\r",
      "  5%|▌         | 60/1198 [17:09<4:37:30, 14.63s/it]"
     ]
    },
    {
     "name": "stdout",
     "output_type": "stream",
     "text": [
      "done.\n",
      "data/part_A/train_data\\images\\IMG_153.jpg\n",
      "(400, 600)\n",
      "generating density...\n"
     ]
    },
    {
     "name": "stderr",
     "output_type": "stream",
     "text": [
      "\r",
      "  5%|▌         | 61/1198 [17:14<3:45:47, 11.92s/it]"
     ]
    },
    {
     "name": "stdout",
     "output_type": "stream",
     "text": [
      "done.\n",
      "data/part_A/train_data\\images\\IMG_154.jpg\n",
      "(416, 624)\n",
      "generating density...\n"
     ]
    },
    {
     "name": "stderr",
     "output_type": "stream",
     "text": [
      "\r",
      "  5%|▌         | 62/1198 [17:18<2:58:09,  9.41s/it]"
     ]
    },
    {
     "name": "stdout",
     "output_type": "stream",
     "text": [
      "done.\n",
      "data/part_A/train_data\\images\\IMG_155.jpg\n",
      "(409, 620)\n",
      "generating density...\n"
     ]
    },
    {
     "name": "stderr",
     "output_type": "stream",
     "text": [
      "\r",
      "  5%|▌         | 63/1198 [17:22<2:28:03,  7.83s/it]"
     ]
    },
    {
     "name": "stdout",
     "output_type": "stream",
     "text": [
      "done.\n",
      "data/part_A/train_data\\images\\IMG_156.jpg\n",
      "(625, 1024)\n",
      "generating density...\n"
     ]
    },
    {
     "name": "stderr",
     "output_type": "stream",
     "text": [
      "\r",
      "  5%|▌         | 64/1198 [17:49<4:14:06, 13.45s/it]"
     ]
    },
    {
     "name": "stdout",
     "output_type": "stream",
     "text": [
      "done.\n",
      "data/part_A/train_data\\images\\IMG_157.jpg\n",
      "(450, 299)\n",
      "generating density...\n"
     ]
    },
    {
     "name": "stderr",
     "output_type": "stream",
     "text": [
      "\r",
      "  5%|▌         | 65/1198 [17:49<3:00:59,  9.58s/it]"
     ]
    },
    {
     "name": "stdout",
     "output_type": "stream",
     "text": [
      "done.\n",
      "data/part_A/train_data\\images\\IMG_158.jpg\n",
      "(671, 1024)\n",
      "generating density...\n"
     ]
    },
    {
     "name": "stderr",
     "output_type": "stream",
     "text": [
      "\r",
      "  6%|▌         | 66/1198 [18:06<3:42:36, 11.80s/it]"
     ]
    },
    {
     "name": "stdout",
     "output_type": "stream",
     "text": [
      "done.\n",
      "data/part_A/train_data\\images\\IMG_159.jpg\n",
      "(267, 400)\n",
      "generating density...\n"
     ]
    },
    {
     "name": "stderr",
     "output_type": "stream",
     "text": [
      "\r",
      "  6%|▌         | 67/1198 [18:07<2:41:12,  8.55s/it]"
     ]
    },
    {
     "name": "stdout",
     "output_type": "stream",
     "text": [
      "done.\n",
      "data/part_A/train_data\\images\\IMG_16.jpg\n",
      "(1024, 1024)\n",
      "generating density...\n"
     ]
    },
    {
     "name": "stderr",
     "output_type": "stream",
     "text": [
      "\r",
      "  6%|▌         | 68/1198 [18:17<2:46:52,  8.86s/it]"
     ]
    },
    {
     "name": "stdout",
     "output_type": "stream",
     "text": [
      "done.\n",
      "data/part_A/train_data\\images\\IMG_160.jpg\n",
      "(540, 1024)\n",
      "generating density...\n"
     ]
    },
    {
     "name": "stderr",
     "output_type": "stream",
     "text": [
      "\r",
      "  6%|▌         | 69/1198 [18:25<2:43:18,  8.68s/it]"
     ]
    },
    {
     "name": "stdout",
     "output_type": "stream",
     "text": [
      "done.\n",
      "data/part_A/train_data\\images\\IMG_161.jpg\n",
      "(480, 640)\n",
      "generating density...\n"
     ]
    },
    {
     "name": "stderr",
     "output_type": "stream",
     "text": [
      "\r",
      "  6%|▌         | 70/1198 [18:28<2:11:18,  6.98s/it]"
     ]
    },
    {
     "name": "stdout",
     "output_type": "stream",
     "text": [
      "done.\n",
      "data/part_A/train_data\\images\\IMG_162.jpg\n",
      "(480, 720)\n",
      "generating density...\n"
     ]
    },
    {
     "name": "stderr",
     "output_type": "stream",
     "text": [
      "\r",
      "  6%|▌         | 71/1198 [18:32<1:56:42,  6.21s/it]"
     ]
    },
    {
     "name": "stdout",
     "output_type": "stream",
     "text": [
      "done.\n",
      "data/part_A/train_data\\images\\IMG_163.jpg\n",
      "(615, 970)\n",
      "generating density...\n"
     ]
    },
    {
     "name": "stderr",
     "output_type": "stream",
     "text": [
      "\r",
      "  6%|▌         | 72/1198 [18:48<2:47:23,  8.92s/it]"
     ]
    },
    {
     "name": "stdout",
     "output_type": "stream",
     "text": [
      "done.\n",
      "data/part_A/train_data\\images\\IMG_164.jpg\n",
      "(462, 650)\n",
      "generating density...\n"
     ]
    },
    {
     "name": "stderr",
     "output_type": "stream",
     "text": [
      "\r",
      "  6%|▌         | 73/1198 [18:53<2:28:58,  7.95s/it]"
     ]
    },
    {
     "name": "stdout",
     "output_type": "stream",
     "text": [
      "done.\n",
      "data/part_A/train_data\\images\\IMG_165.jpg\n",
      "(274, 939)\n",
      "generating density...\n"
     ]
    },
    {
     "name": "stderr",
     "output_type": "stream",
     "text": [
      "\r",
      "  6%|▌         | 74/1198 [18:58<2:11:59,  7.05s/it]"
     ]
    },
    {
     "name": "stdout",
     "output_type": "stream",
     "text": [
      "done.\n",
      "data/part_A/train_data\\images\\IMG_166.jpg\n",
      "(683, 1024)\n",
      "generating density...\n"
     ]
    },
    {
     "name": "stderr",
     "output_type": "stream",
     "text": [
      "\r",
      "  6%|▋         | 75/1198 [19:32<4:41:26, 15.04s/it]"
     ]
    },
    {
     "name": "stdout",
     "output_type": "stream",
     "text": [
      "done.\n",
      "data/part_A/train_data\\images\\IMG_167.jpg\n",
      "(830, 1024)\n",
      "generating density...\n"
     ]
    },
    {
     "name": "stderr",
     "output_type": "stream",
     "text": [
      "\r",
      "  6%|▋         | 76/1198 [19:55<5:29:12, 17.60s/it]"
     ]
    },
    {
     "name": "stdout",
     "output_type": "stream",
     "text": [
      "done.\n",
      "data/part_A/train_data\\images\\IMG_168.jpg\n",
      "(944, 1024)\n",
      "generating density...\n"
     ]
    },
    {
     "name": "stderr",
     "output_type": "stream",
     "text": [
      "\r",
      "  6%|▋         | 77/1198 [20:47<8:38:59, 27.78s/it]"
     ]
    },
    {
     "name": "stdout",
     "output_type": "stream",
     "text": [
      "done.\n",
      "data/part_A/train_data\\images\\IMG_169.jpg\n",
      "(649, 800)\n",
      "generating density...\n"
     ]
    },
    {
     "name": "stderr",
     "output_type": "stream",
     "text": [
      "\r",
      "  7%|▋         | 78/1198 [20:58<7:03:19, 22.68s/it]"
     ]
    },
    {
     "name": "stdout",
     "output_type": "stream",
     "text": [
      "done.\n",
      "data/part_A/train_data\\images\\IMG_17.jpg\n",
      "(478, 600)\n",
      "generating density...\n"
     ]
    },
    {
     "name": "stderr",
     "output_type": "stream",
     "text": [
      "\r",
      "  7%|▋         | 79/1198 [21:01<5:14:27, 16.86s/it]"
     ]
    },
    {
     "name": "stdout",
     "output_type": "stream",
     "text": [
      "done.\n",
      "data/part_A/train_data\\images\\IMG_170.jpg\n",
      "(480, 722)\n",
      "generating density...\n"
     ]
    },
    {
     "name": "stderr",
     "output_type": "stream",
     "text": [
      "\r",
      "  7%|▋         | 80/1198 [21:09<4:26:48, 14.32s/it]"
     ]
    },
    {
     "name": "stdout",
     "output_type": "stream",
     "text": [
      "done.\n",
      "data/part_A/train_data\\images\\IMG_171.jpg\n",
      "(351, 600)\n",
      "generating density...\n"
     ]
    },
    {
     "name": "stderr",
     "output_type": "stream",
     "text": [
      "\r",
      "  7%|▋         | 81/1198 [21:17<3:49:51, 12.35s/it]"
     ]
    },
    {
     "name": "stdout",
     "output_type": "stream",
     "text": [
      "done.\n",
      "data/part_A/train_data\\images\\IMG_172.jpg\n",
      "(685, 1024)\n",
      "generating density...\n"
     ]
    },
    {
     "name": "stderr",
     "output_type": "stream",
     "text": [
      "\r",
      "  7%|▋         | 82/1198 [21:27<3:38:01, 11.72s/it]"
     ]
    },
    {
     "name": "stdout",
     "output_type": "stream",
     "text": [
      "done.\n",
      "data/part_A/train_data\\images\\IMG_173.jpg\n",
      "(512, 1024)\n",
      "generating density...\n"
     ]
    },
    {
     "name": "stderr",
     "output_type": "stream",
     "text": [
      "\r",
      "  7%|▋         | 83/1198 [21:42<3:53:10, 12.55s/it]"
     ]
    },
    {
     "name": "stdout",
     "output_type": "stream",
     "text": [
      "done.\n",
      "data/part_A/train_data\\images\\IMG_174.jpg\n",
      "(512, 1024)\n",
      "generating density...\n"
     ]
    },
    {
     "name": "stderr",
     "output_type": "stream",
     "text": [
      "\r",
      "  7%|▋         | 84/1198 [21:51<3:32:05, 11.42s/it]"
     ]
    },
    {
     "name": "stdout",
     "output_type": "stream",
     "text": [
      "done.\n",
      "data/part_A/train_data\\images\\IMG_175.jpg\n",
      "(360, 640)\n",
      "generating density...\n"
     ]
    },
    {
     "name": "stderr",
     "output_type": "stream",
     "text": [
      "\r",
      "  7%|▋         | 85/1198 [21:53<2:40:28,  8.65s/it]"
     ]
    },
    {
     "name": "stdout",
     "output_type": "stream",
     "text": [
      "done.\n",
      "data/part_A/train_data\\images\\IMG_176.jpg\n",
      "(380, 594)\n",
      "generating density...\n"
     ]
    },
    {
     "name": "stderr",
     "output_type": "stream",
     "text": [
      "\r",
      "  7%|▋         | 86/1198 [21:56<2:10:00,  7.01s/it]"
     ]
    },
    {
     "name": "stdout",
     "output_type": "stream",
     "text": [
      "done.\n",
      "data/part_A/train_data\\images\\IMG_177.jpg\n",
      "(768, 1024)\n",
      "generating density...\n"
     ]
    },
    {
     "name": "stderr",
     "output_type": "stream",
     "text": [
      "\r",
      "  7%|▋         | 87/1198 [22:14<3:10:46, 10.30s/it]"
     ]
    },
    {
     "name": "stdout",
     "output_type": "stream",
     "text": [
      "done.\n",
      "data/part_A/train_data\\images\\IMG_178.jpg\n",
      "(688, 1024)\n",
      "generating density...\n"
     ]
    },
    {
     "name": "stderr",
     "output_type": "stream",
     "text": [
      "\r",
      "  7%|▋         | 88/1198 [22:42<4:47:04, 15.52s/it]"
     ]
    },
    {
     "name": "stdout",
     "output_type": "stream",
     "text": [
      "done.\n",
      "data/part_A/train_data\\images\\IMG_179.jpg\n",
      "(616, 1024)\n",
      "generating density...\n"
     ]
    },
    {
     "name": "stderr",
     "output_type": "stream",
     "text": [
      "\r",
      "  7%|▋         | 89/1198 [22:53<4:21:39, 14.16s/it]"
     ]
    },
    {
     "name": "stdout",
     "output_type": "stream",
     "text": [
      "done.\n",
      "data/part_A/train_data\\images\\IMG_18.jpg\n",
      "(793, 1024)\n",
      "generating density...\n"
     ]
    },
    {
     "name": "stderr",
     "output_type": "stream",
     "text": [
      "\r",
      "  8%|▊         | 90/1198 [23:06<4:16:43, 13.90s/it]"
     ]
    },
    {
     "name": "stdout",
     "output_type": "stream",
     "text": [
      "done.\n",
      "data/part_A/train_data\\images\\IMG_180.jpg\n",
      "(386, 509)\n",
      "generating density...\n"
     ]
    },
    {
     "name": "stderr",
     "output_type": "stream",
     "text": [
      "\r",
      "  8%|▊         | 91/1198 [23:09<3:15:45, 10.61s/it]"
     ]
    },
    {
     "name": "stdout",
     "output_type": "stream",
     "text": [
      "done.\n",
      "data/part_A/train_data\\images\\IMG_181.jpg\n",
      "(639, 1024)\n",
      "generating density...\n"
     ]
    },
    {
     "name": "stderr",
     "output_type": "stream",
     "text": [
      "\r",
      "  8%|▊         | 92/1198 [23:31<4:18:01, 14.00s/it]"
     ]
    },
    {
     "name": "stdout",
     "output_type": "stream",
     "text": [
      "done.\n",
      "data/part_A/train_data\\images\\IMG_182.jpg\n",
      "(680, 1024)\n",
      "generating density...\n"
     ]
    },
    {
     "name": "stderr",
     "output_type": "stream",
     "text": [
      "\r",
      "  8%|▊         | 93/1198 [23:47<4:28:48, 14.60s/it]"
     ]
    },
    {
     "name": "stdout",
     "output_type": "stream",
     "text": [
      "done.\n",
      "data/part_A/train_data\\images\\IMG_183.jpg\n",
      "(687, 1024)\n",
      "generating density...\n"
     ]
    },
    {
     "name": "stderr",
     "output_type": "stream",
     "text": [
      "\r",
      "  8%|▊         | 94/1198 [24:05<4:45:49, 15.53s/it]"
     ]
    },
    {
     "name": "stdout",
     "output_type": "stream",
     "text": [
      "done.\n",
      "data/part_A/train_data\\images\\IMG_184.jpg\n",
      "(617, 1024)\n",
      "generating density...\n"
     ]
    },
    {
     "name": "stderr",
     "output_type": "stream",
     "text": [
      "\r",
      "  8%|▊         | 95/1198 [24:35<6:09:35, 20.10s/it]"
     ]
    },
    {
     "name": "stdout",
     "output_type": "stream",
     "text": [
      "done.\n",
      "data/part_A/train_data\\images\\IMG_185.jpg\n",
      "(800, 583)\n",
      "generating density...\n"
     ]
    },
    {
     "name": "stderr",
     "output_type": "stream",
     "text": [
      "\r",
      "  8%|▊         | 96/1198 [24:52<5:52:55, 19.22s/it]"
     ]
    },
    {
     "name": "stdout",
     "output_type": "stream",
     "text": [
      "done.\n",
      "data/part_A/train_data\\images\\IMG_186.jpg\n",
      "(653, 460)\n",
      "generating density...\n"
     ]
    },
    {
     "name": "stderr",
     "output_type": "stream",
     "text": [
      "\r",
      "  8%|▊         | 97/1198 [25:06<5:19:32, 17.41s/it]"
     ]
    },
    {
     "name": "stdout",
     "output_type": "stream",
     "text": [
      "done.\n",
      "data/part_A/train_data\\images\\IMG_187.jpg\n",
      "(387, 1024)\n",
      "generating density...\n"
     ]
    },
    {
     "name": "stderr",
     "output_type": "stream",
     "text": [
      "\r",
      "  8%|▊         | 98/1198 [25:14<4:27:10, 14.57s/it]"
     ]
    },
    {
     "name": "stdout",
     "output_type": "stream",
     "text": [
      "done.\n",
      "data/part_A/train_data\\images\\IMG_188.jpg\n",
      "(649, 1024)\n",
      "generating density...\n"
     ]
    },
    {
     "name": "stderr",
     "output_type": "stream",
     "text": [
      "\r",
      "  8%|▊         | 99/1198 [25:21<3:48:29, 12.47s/it]"
     ]
    },
    {
     "name": "stdout",
     "output_type": "stream",
     "text": [
      "done.\n",
      "data/part_A/train_data\\images\\IMG_189.jpg\n",
      "(280, 692)\n",
      "generating density...\n"
     ]
    },
    {
     "name": "stderr",
     "output_type": "stream",
     "text": [
      "\r",
      "  8%|▊         | 100/1198 [25:24<2:54:44,  9.55s/it]"
     ]
    },
    {
     "name": "stdout",
     "output_type": "stream",
     "text": [
      "done.\n",
      "data/part_A/train_data\\images\\IMG_19.jpg\n",
      "(600, 900)\n",
      "generating density...\n"
     ]
    },
    {
     "name": "stderr",
     "output_type": "stream",
     "text": [
      "\r",
      "  8%|▊         | 101/1198 [25:34<2:55:35,  9.60s/it]"
     ]
    },
    {
     "name": "stdout",
     "output_type": "stream",
     "text": [
      "done.\n",
      "data/part_A/train_data\\images\\IMG_190.jpg\n",
      "(792, 1024)\n",
      "generating density...\n"
     ]
    },
    {
     "name": "stderr",
     "output_type": "stream",
     "text": [
      "\r",
      "  9%|▊         | 102/1198 [25:55<3:58:20, 13.05s/it]"
     ]
    },
    {
     "name": "stdout",
     "output_type": "stream",
     "text": [
      "done.\n",
      "data/part_A/train_data\\images\\IMG_191.jpg\n",
      "(682, 1024)\n",
      "generating density...\n"
     ]
    },
    {
     "name": "stderr",
     "output_type": "stream",
     "text": [
      "\r",
      "  9%|▊         | 103/1198 [26:08<3:57:47, 13.03s/it]"
     ]
    },
    {
     "name": "stdout",
     "output_type": "stream",
     "text": [
      "done.\n",
      "data/part_A/train_data\\images\\IMG_192.jpg\n",
      "(640, 480)\n",
      "generating density...\n"
     ]
    },
    {
     "name": "stderr",
     "output_type": "stream",
     "text": [
      "\r",
      "  9%|▊         | 104/1198 [26:11<3:02:05,  9.99s/it]"
     ]
    },
    {
     "name": "stdout",
     "output_type": "stream",
     "text": [
      "done.\n",
      "data/part_A/train_data\\images\\IMG_193.jpg\n",
      "(506, 487)\n",
      "generating density...\n"
     ]
    },
    {
     "name": "stderr",
     "output_type": "stream",
     "text": [
      "\r",
      "  9%|▉         | 105/1198 [26:12<2:17:04,  7.52s/it]"
     ]
    },
    {
     "name": "stdout",
     "output_type": "stream",
     "text": [
      "done.\n",
      "data/part_A/train_data\\images\\IMG_194.jpg\n",
      "(801, 688)\n",
      "generating density...\n"
     ]
    },
    {
     "name": "stderr",
     "output_type": "stream",
     "text": [
      "\r",
      "  9%|▉         | 106/1198 [26:23<2:34:07,  8.47s/it]"
     ]
    },
    {
     "name": "stdout",
     "output_type": "stream",
     "text": [
      "done.\n",
      "data/part_A/train_data\\images\\IMG_195.jpg\n",
      "(665, 1024)\n",
      "generating density...\n"
     ]
    },
    {
     "name": "stderr",
     "output_type": "stream",
     "text": [
      "\r",
      "  9%|▉         | 107/1198 [26:39<3:13:25, 10.64s/it]"
     ]
    },
    {
     "name": "stdout",
     "output_type": "stream",
     "text": [
      "done.\n",
      "data/part_A/train_data\\images\\IMG_196.jpg\n",
      "(684, 1024)\n",
      "generating density...\n"
     ]
    },
    {
     "name": "stderr",
     "output_type": "stream",
     "text": [
      "\r",
      "  9%|▉         | 108/1198 [27:03<4:29:01, 14.81s/it]"
     ]
    },
    {
     "name": "stdout",
     "output_type": "stream",
     "text": [
      "done.\n",
      "data/part_A/train_data\\images\\IMG_197.jpg\n",
      "(600, 800)\n",
      "generating density...\n"
     ]
    },
    {
     "name": "stderr",
     "output_type": "stream",
     "text": [
      "\r",
      "  9%|▉         | 109/1198 [27:09<3:39:41, 12.10s/it]"
     ]
    },
    {
     "name": "stdout",
     "output_type": "stream",
     "text": [
      "done.\n",
      "data/part_A/train_data\\images\\IMG_198.jpg\n",
      "(415, 650)\n",
      "generating density...\n"
     ]
    },
    {
     "name": "stderr",
     "output_type": "stream",
     "text": [
      "\r",
      "  9%|▉         | 110/1198 [27:12<2:50:54,  9.43s/it]"
     ]
    },
    {
     "name": "stdout",
     "output_type": "stream",
     "text": [
      "done.\n",
      "data/part_A/train_data\\images\\IMG_199.jpg\n",
      "(505, 1024)\n",
      "generating density...\n"
     ]
    },
    {
     "name": "stderr",
     "output_type": "stream",
     "text": [
      "\r",
      "  9%|▉         | 111/1198 [27:30<3:37:11, 11.99s/it]"
     ]
    },
    {
     "name": "stdout",
     "output_type": "stream",
     "text": [
      "done.\n",
      "data/part_A/train_data\\images\\IMG_2.jpg\n",
      "(713, 1024)\n",
      "generating density...\n"
     ]
    },
    {
     "name": "stderr",
     "output_type": "stream",
     "text": [
      "\r",
      "  9%|▉         | 112/1198 [27:54<4:39:59, 15.47s/it]"
     ]
    },
    {
     "name": "stdout",
     "output_type": "stream",
     "text": [
      "done.\n",
      "data/part_A/train_data\\images\\IMG_20.jpg\n",
      "(688, 1024)\n",
      "generating density...\n"
     ]
    },
    {
     "name": "stderr",
     "output_type": "stream",
     "text": [
      "\r",
      "  9%|▉         | 113/1198 [28:06<4:22:43, 14.53s/it]"
     ]
    },
    {
     "name": "stdout",
     "output_type": "stream",
     "text": [
      "done.\n",
      "data/part_A/train_data\\images\\IMG_200.jpg\n",
      "(500, 760)\n",
      "generating density...\n"
     ]
    },
    {
     "name": "stderr",
     "output_type": "stream",
     "text": [
      "\r",
      " 10%|▉         | 114/1198 [28:10<3:23:16, 11.25s/it]"
     ]
    },
    {
     "name": "stdout",
     "output_type": "stream",
     "text": [
      "done.\n",
      "data/part_A/train_data\\images\\IMG_201.jpg\n",
      "(530, 800)\n",
      "generating density...\n"
     ]
    },
    {
     "name": "stderr",
     "output_type": "stream",
     "text": [
      "\r",
      " 10%|▉         | 115/1198 [28:16<2:55:36,  9.73s/it]"
     ]
    },
    {
     "name": "stdout",
     "output_type": "stream",
     "text": [
      "done.\n",
      "data/part_A/train_data\\images\\IMG_202.jpg\n",
      "(530, 800)\n",
      "generating density...\n"
     ]
    },
    {
     "name": "stderr",
     "output_type": "stream",
     "text": [
      "\r",
      " 10%|▉         | 116/1198 [28:22<2:34:39,  8.58s/it]"
     ]
    },
    {
     "name": "stdout",
     "output_type": "stream",
     "text": [
      "done.\n",
      "data/part_A/train_data\\images\\IMG_203.jpg\n",
      "(683, 1024)\n",
      "generating density...\n"
     ]
    },
    {
     "name": "stderr",
     "output_type": "stream",
     "text": [
      "\r",
      " 10%|▉         | 117/1198 [29:01<5:21:03, 17.82s/it]"
     ]
    },
    {
     "name": "stdout",
     "output_type": "stream",
     "text": [
      "done.\n",
      "data/part_A/train_data\\images\\IMG_204.jpg\n",
      "(695, 1024)\n",
      "generating density...\n"
     ]
    },
    {
     "name": "stderr",
     "output_type": "stream",
     "text": [
      "\r",
      " 10%|▉         | 118/1198 [29:17<5:10:48, 17.27s/it]"
     ]
    },
    {
     "name": "stdout",
     "output_type": "stream",
     "text": [
      "done.\n",
      "data/part_A/train_data\\images\\IMG_205.jpg\n",
      "(798, 1017)\n",
      "generating density...\n"
     ]
    },
    {
     "name": "stderr",
     "output_type": "stream",
     "text": [
      "\r",
      " 10%|▉         | 119/1198 [29:32<4:58:50, 16.62s/it]"
     ]
    },
    {
     "name": "stdout",
     "output_type": "stream",
     "text": [
      "done.\n",
      "data/part_A/train_data\\images\\IMG_206.jpg\n",
      "(683, 1024)\n",
      "generating density...\n"
     ]
    },
    {
     "name": "stderr",
     "output_type": "stream",
     "text": [
      "\r",
      " 10%|█         | 120/1198 [29:43<4:29:18, 14.99s/it]"
     ]
    },
    {
     "name": "stdout",
     "output_type": "stream",
     "text": [
      "done.\n",
      "data/part_A/train_data\\images\\IMG_207.jpg\n",
      "(442, 650)\n",
      "generating density...\n"
     ]
    },
    {
     "name": "stderr",
     "output_type": "stream",
     "text": [
      "\r",
      " 10%|█         | 121/1198 [29:46<3:23:11, 11.32s/it]"
     ]
    },
    {
     "name": "stdout",
     "output_type": "stream",
     "text": [
      "done.\n",
      "data/part_A/train_data\\images\\IMG_208.jpg\n",
      "(683, 1024)\n",
      "generating density...\n"
     ]
    },
    {
     "name": "stderr",
     "output_type": "stream",
     "text": [
      "\r",
      " 10%|█         | 122/1198 [30:02<3:46:03, 12.61s/it]"
     ]
    },
    {
     "name": "stdout",
     "output_type": "stream",
     "text": [
      "done.\n",
      "data/part_A/train_data\\images\\IMG_209.jpg\n",
      "(619, 1000)\n",
      "generating density...\n"
     ]
    },
    {
     "name": "stderr",
     "output_type": "stream",
     "text": [
      "\r",
      " 10%|█         | 123/1198 [30:15<3:46:22, 12.64s/it]"
     ]
    },
    {
     "name": "stdout",
     "output_type": "stream",
     "text": [
      "done.\n",
      "data/part_A/train_data\\images\\IMG_21.jpg\n",
      "(766, 1024)\n",
      "generating density...\n"
     ]
    },
    {
     "name": "stderr",
     "output_type": "stream",
     "text": [
      "\r",
      " 10%|█         | 124/1198 [30:35<4:30:08, 15.09s/it]"
     ]
    },
    {
     "name": "stdout",
     "output_type": "stream",
     "text": [
      "done.\n",
      "data/part_A/train_data\\images\\IMG_210.jpg\n",
      "(768, 1024)\n",
      "generating density...\n"
     ]
    },
    {
     "name": "stderr",
     "output_type": "stream",
     "text": [
      "\r",
      " 10%|█         | 125/1198 [30:55<4:54:48, 16.48s/it]"
     ]
    },
    {
     "name": "stdout",
     "output_type": "stream",
     "text": [
      "done.\n",
      "data/part_A/train_data\\images\\IMG_211.jpg\n",
      "(334, 1024)\n",
      "generating density...\n"
     ]
    },
    {
     "name": "stderr",
     "output_type": "stream",
     "text": [
      "\r",
      " 11%|█         | 126/1198 [30:59<3:44:23, 12.56s/it]"
     ]
    },
    {
     "name": "stdout",
     "output_type": "stream",
     "text": [
      "done.\n",
      "data/part_A/train_data\\images\\IMG_212.jpg\n",
      "(688, 1024)\n",
      "generating density...\n"
     ]
    },
    {
     "name": "stderr",
     "output_type": "stream",
     "text": [
      "\r",
      " 11%|█         | 127/1198 [31:18<4:22:43, 14.72s/it]"
     ]
    },
    {
     "name": "stdout",
     "output_type": "stream",
     "text": [
      "done.\n",
      "data/part_A/train_data\\images\\IMG_213.jpg\n",
      "(749, 1000)\n",
      "generating density...\n"
     ]
    },
    {
     "name": "stderr",
     "output_type": "stream",
     "text": [
      "\r",
      " 11%|█         | 128/1198 [31:34<4:26:45, 14.96s/it]"
     ]
    },
    {
     "name": "stdout",
     "output_type": "stream",
     "text": [
      "done.\n",
      "data/part_A/train_data\\images\\IMG_214.jpg\n",
      "(359, 329)\n",
      "generating density...\n"
     ]
    },
    {
     "name": "stderr",
     "output_type": "stream",
     "text": [
      "\r",
      " 11%|█         | 129/1198 [31:35<3:12:39, 10.81s/it]"
     ]
    },
    {
     "name": "stdout",
     "output_type": "stream",
     "text": [
      "done.\n",
      "data/part_A/train_data\\images\\IMG_215.jpg\n",
      "(298, 446)\n",
      "generating density...\n"
     ]
    },
    {
     "name": "stderr",
     "output_type": "stream",
     "text": [
      "\r",
      " 11%|█         | 130/1198 [31:36<2:22:15,  7.99s/it]"
     ]
    },
    {
     "name": "stdout",
     "output_type": "stream",
     "text": [
      "done.\n",
      "data/part_A/train_data\\images\\IMG_216.jpg\n",
      "(293, 442)\n",
      "generating density...\n"
     ]
    },
    {
     "name": "stderr",
     "output_type": "stream",
     "text": [
      "\r",
      " 11%|█         | 131/1198 [31:37<1:42:35,  5.77s/it]"
     ]
    },
    {
     "name": "stdout",
     "output_type": "stream",
     "text": [
      "done.\n",
      "data/part_A/train_data\\images\\IMG_217.jpg\n",
      "(325, 444)\n",
      "generating density...\n"
     ]
    },
    {
     "name": "stderr",
     "output_type": "stream",
     "text": [
      "\r",
      " 11%|█         | 132/1198 [31:38<1:18:56,  4.44s/it]"
     ]
    },
    {
     "name": "stdout",
     "output_type": "stream",
     "text": [
      "done.\n",
      "data/part_A/train_data\\images\\IMG_218.jpg\n",
      "(411, 443)\n",
      "generating density...\n"
     ]
    },
    {
     "name": "stderr",
     "output_type": "stream",
     "text": [
      "\r",
      " 11%|█         | 133/1198 [31:41<1:12:09,  4.06s/it]"
     ]
    },
    {
     "name": "stdout",
     "output_type": "stream",
     "text": [
      "done.\n",
      "data/part_A/train_data\\images\\IMG_219.jpg\n",
      "(282, 432)\n",
      "generating density...\n"
     ]
    },
    {
     "name": "stderr",
     "output_type": "stream",
     "text": [
      "\r",
      " 11%|█         | 134/1198 [31:43<57:29,  3.24s/it]  "
     ]
    },
    {
     "name": "stdout",
     "output_type": "stream",
     "text": [
      "done.\n",
      "data/part_A/train_data\\images\\IMG_22.jpg\n",
      "(630, 961)\n",
      "generating density...\n"
     ]
    },
    {
     "name": "stderr",
     "output_type": "stream",
     "text": [
      "\r",
      " 11%|█▏        | 135/1198 [31:58<2:03:11,  6.95s/it]"
     ]
    },
    {
     "name": "stdout",
     "output_type": "stream",
     "text": [
      "done.\n",
      "data/part_A/train_data\\images\\IMG_220.jpg\n",
      "(377, 1024)\n",
      "generating density...\n"
     ]
    },
    {
     "name": "stderr",
     "output_type": "stream",
     "text": [
      "\r",
      " 11%|█▏        | 136/1198 [32:03<1:52:26,  6.35s/it]"
     ]
    },
    {
     "name": "stdout",
     "output_type": "stream",
     "text": [
      "done.\n",
      "data/part_A/train_data\\images\\IMG_221.jpg\n",
      "(679, 1024)\n",
      "generating density...\n"
     ]
    },
    {
     "name": "stderr",
     "output_type": "stream",
     "text": [
      "\r",
      " 11%|█▏        | 137/1198 [32:18<2:37:11,  8.89s/it]"
     ]
    },
    {
     "name": "stdout",
     "output_type": "stream",
     "text": [
      "done.\n",
      "data/part_A/train_data\\images\\IMG_222.jpg\n",
      "(522, 1024)\n",
      "generating density...\n"
     ]
    },
    {
     "name": "stderr",
     "output_type": "stream",
     "text": [
      "\r",
      " 12%|█▏        | 138/1198 [32:37<3:30:00, 11.89s/it]"
     ]
    },
    {
     "name": "stdout",
     "output_type": "stream",
     "text": [
      "done.\n",
      "data/part_A/train_data\\images\\IMG_223.jpg\n",
      "(661, 817)\n",
      "generating density...\n"
     ]
    },
    {
     "name": "stderr",
     "output_type": "stream",
     "text": [
      "\r",
      " 12%|█▏        | 139/1198 [32:45<3:08:02, 10.65s/it]"
     ]
    },
    {
     "name": "stdout",
     "output_type": "stream",
     "text": [
      "done.\n",
      "data/part_A/train_data\\images\\IMG_224.jpg\n",
      "(619, 1024)\n",
      "generating density...\n"
     ]
    },
    {
     "name": "stderr",
     "output_type": "stream",
     "text": [
      "\r",
      " 12%|█▏        | 140/1198 [33:00<3:29:12, 11.86s/it]"
     ]
    },
    {
     "name": "stdout",
     "output_type": "stream",
     "text": [
      "done.\n",
      "data/part_A/train_data\\images\\IMG_225.jpg\n",
      "(549, 1024)\n",
      "generating density...\n"
     ]
    },
    {
     "name": "stderr",
     "output_type": "stream",
     "text": [
      "\r",
      " 12%|█▏        | 141/1198 [33:15<3:49:55, 13.05s/it]"
     ]
    },
    {
     "name": "stdout",
     "output_type": "stream",
     "text": [
      "done.\n",
      "data/part_A/train_data\\images\\IMG_226.jpg\n",
      "(615, 922)\n",
      "generating density...\n"
     ]
    },
    {
     "name": "stderr",
     "output_type": "stream",
     "text": [
      "\r",
      " 12%|█▏        | 142/1198 [33:36<4:30:47, 15.39s/it]"
     ]
    },
    {
     "name": "stdout",
     "output_type": "stream",
     "text": [
      "done.\n",
      "data/part_A/train_data\\images\\IMG_227.jpg\n",
      "(405, 609)\n",
      "generating density...\n"
     ]
    },
    {
     "name": "stderr",
     "output_type": "stream",
     "text": [
      "\r",
      " 12%|█▏        | 143/1198 [33:38<3:19:21, 11.34s/it]"
     ]
    },
    {
     "name": "stdout",
     "output_type": "stream",
     "text": [
      "done.\n",
      "data/part_A/train_data\\images\\IMG_228.jpg\n",
      "(340, 562)\n",
      "generating density...\n"
     ]
    },
    {
     "name": "stderr",
     "output_type": "stream",
     "text": [
      "\r",
      " 12%|█▏        | 144/1198 [33:40<2:27:07,  8.38s/it]"
     ]
    },
    {
     "name": "stdout",
     "output_type": "stream",
     "text": [
      "done.\n",
      "data/part_A/train_data\\images\\IMG_229.jpg\n",
      "(430, 620)\n",
      "generating density...\n"
     ]
    },
    {
     "name": "stderr",
     "output_type": "stream",
     "text": [
      "\r",
      " 12%|█▏        | 145/1198 [33:48<2:27:57,  8.43s/it]"
     ]
    },
    {
     "name": "stdout",
     "output_type": "stream",
     "text": [
      "done.\n",
      "data/part_A/train_data\\images\\IMG_23.jpg\n",
      "(800, 600)\n",
      "generating density...\n"
     ]
    },
    {
     "name": "stderr",
     "output_type": "stream",
     "text": [
      "\r",
      " 12%|█▏        | 146/1198 [33:54<2:13:51,  7.63s/it]"
     ]
    },
    {
     "name": "stdout",
     "output_type": "stream",
     "text": [
      "done.\n",
      "data/part_A/train_data\\images\\IMG_230.jpg\n",
      "(418, 628)\n",
      "generating density...\n"
     ]
    },
    {
     "name": "stderr",
     "output_type": "stream",
     "text": [
      "\r",
      " 12%|█▏        | 147/1198 [33:58<1:53:05,  6.46s/it]"
     ]
    },
    {
     "name": "stdout",
     "output_type": "stream",
     "text": [
      "done.\n",
      "data/part_A/train_data\\images\\IMG_231.jpg\n",
      "(682, 1024)\n",
      "generating density...\n"
     ]
    },
    {
     "name": "stderr",
     "output_type": "stream",
     "text": [
      "\r",
      " 12%|█▏        | 148/1198 [34:20<3:16:00, 11.20s/it]"
     ]
    },
    {
     "name": "stdout",
     "output_type": "stream",
     "text": [
      "done.\n",
      "data/part_A/train_data\\images\\IMG_232.jpg\n",
      "(279, 400)\n",
      "generating density...\n"
     ]
    },
    {
     "name": "stderr",
     "output_type": "stream",
     "text": [
      "\r",
      " 12%|█▏        | 149/1198 [34:20<2:19:37,  7.99s/it]"
     ]
    },
    {
     "name": "stdout",
     "output_type": "stream",
     "text": [
      "done.\n",
      "data/part_A/train_data\\images\\IMG_233.jpg\n",
      "(768, 1024)\n",
      "generating density...\n"
     ]
    },
    {
     "name": "stderr",
     "output_type": "stream",
     "text": [
      "\r",
      " 13%|█▎        | 150/1198 [34:33<2:44:03,  9.39s/it]"
     ]
    },
    {
     "name": "stdout",
     "output_type": "stream",
     "text": [
      "done.\n",
      "data/part_A/train_data\\images\\IMG_234.jpg\n",
      "(768, 1024)\n",
      "generating density...\n"
     ]
    },
    {
     "name": "stderr",
     "output_type": "stream",
     "text": [
      "\r",
      " 13%|█▎        | 151/1198 [34:47<3:10:35, 10.92s/it]"
     ]
    },
    {
     "name": "stdout",
     "output_type": "stream",
     "text": [
      "done.\n",
      "data/part_A/train_data\\images\\IMG_235.jpg\n",
      "(683, 1024)\n",
      "generating density...\n"
     ]
    },
    {
     "name": "stderr",
     "output_type": "stream",
     "text": [
      "\r",
      " 13%|█▎        | 152/1198 [35:00<3:20:26, 11.50s/it]"
     ]
    },
    {
     "name": "stdout",
     "output_type": "stream",
     "text": [
      "done.\n",
      "data/part_A/train_data\\images\\IMG_236.jpg\n",
      "(768, 1024)\n",
      "generating density...\n"
     ]
    },
    {
     "name": "stderr",
     "output_type": "stream",
     "text": [
      "\r",
      " 13%|█▎        | 153/1198 [35:24<4:25:21, 15.24s/it]"
     ]
    },
    {
     "name": "stdout",
     "output_type": "stream",
     "text": [
      "done.\n",
      "data/part_A/train_data\\images\\IMG_237.jpg\n",
      "(432, 700)\n",
      "generating density...\n"
     ]
    },
    {
     "name": "stderr",
     "output_type": "stream",
     "text": [
      "\r",
      " 13%|█▎        | 154/1198 [35:31<3:40:44, 12.69s/it]"
     ]
    },
    {
     "name": "stdout",
     "output_type": "stream",
     "text": [
      "done.\n",
      "data/part_A/train_data\\images\\IMG_238.jpg\n",
      "(469, 709)\n",
      "generating density...\n"
     ]
    },
    {
     "name": "stderr",
     "output_type": "stream",
     "text": [
      "\r",
      " 13%|█▎        | 155/1198 [35:37<3:06:54, 10.75s/it]"
     ]
    },
    {
     "name": "stdout",
     "output_type": "stream",
     "text": [
      "done.\n",
      "data/part_A/train_data\\images\\IMG_239.jpg\n",
      "(328, 605)\n",
      "generating density...\n"
     ]
    },
    {
     "name": "stderr",
     "output_type": "stream",
     "text": [
      "\r",
      " 13%|█▎        | 156/1198 [35:39<2:20:13,  8.07s/it]"
     ]
    },
    {
     "name": "stdout",
     "output_type": "stream",
     "text": [
      "done.\n",
      "data/part_A/train_data\\images\\IMG_24.jpg\n",
      "(769, 1024)\n",
      "generating density...\n"
     ]
    },
    {
     "name": "stderr",
     "output_type": "stream",
     "text": [
      "\r",
      " 13%|█▎        | 157/1198 [35:47<2:21:36,  8.16s/it]"
     ]
    },
    {
     "name": "stdout",
     "output_type": "stream",
     "text": [
      "done.\n",
      "data/part_A/train_data\\images\\IMG_240.jpg\n",
      "(183, 464)\n",
      "generating density...\n"
     ]
    },
    {
     "name": "stderr",
     "output_type": "stream",
     "text": [
      "\r",
      " 13%|█▎        | 158/1198 [35:48<1:42:16,  5.90s/it]"
     ]
    },
    {
     "name": "stdout",
     "output_type": "stream",
     "text": [
      "done.\n",
      "data/part_A/train_data\\images\\IMG_241.jpg\n",
      "(728, 1024)\n",
      "generating density...\n"
     ]
    },
    {
     "name": "stderr",
     "output_type": "stream",
     "text": [
      "\r",
      " 13%|█▎        | 159/1198 [35:57<1:59:08,  6.88s/it]"
     ]
    },
    {
     "name": "stdout",
     "output_type": "stream",
     "text": [
      "done.\n",
      "data/part_A/train_data\\images\\IMG_242.jpg\n",
      "(667, 1000)\n",
      "generating density...\n"
     ]
    },
    {
     "name": "stderr",
     "output_type": "stream",
     "text": [
      "\r",
      " 13%|█▎        | 160/1198 [36:30<4:15:51, 14.79s/it]"
     ]
    },
    {
     "name": "stdout",
     "output_type": "stream",
     "text": [
      "done.\n",
      "data/part_A/train_data\\images\\IMG_243.jpg\n",
      "(681, 1024)\n",
      "generating density...\n"
     ]
    },
    {
     "name": "stderr",
     "output_type": "stream",
     "text": [
      "\r",
      " 13%|█▎        | 161/1198 [36:40<3:46:19, 13.10s/it]"
     ]
    },
    {
     "name": "stdout",
     "output_type": "stream",
     "text": [
      "done.\n",
      "data/part_A/train_data\\images\\IMG_244.jpg\n",
      "(342, 608)\n",
      "generating density...\n"
     ]
    },
    {
     "name": "stderr",
     "output_type": "stream",
     "text": [
      "\r",
      " 14%|█▎        | 162/1198 [36:41<2:47:51,  9.72s/it]"
     ]
    },
    {
     "name": "stdout",
     "output_type": "stream",
     "text": [
      "done.\n",
      "data/part_A/train_data\\images\\IMG_245.jpg\n",
      "(825, 1024)\n",
      "generating density...\n"
     ]
    },
    {
     "name": "stderr",
     "output_type": "stream",
     "text": [
      "\r",
      " 14%|█▎        | 163/1198 [37:12<4:35:55, 16.00s/it]"
     ]
    },
    {
     "name": "stdout",
     "output_type": "stream",
     "text": [
      "done.\n",
      "data/part_A/train_data\\images\\IMG_246.jpg\n",
      "(267, 400)\n",
      "generating density...\n"
     ]
    },
    {
     "name": "stderr",
     "output_type": "stream",
     "text": [
      "\r",
      " 14%|█▎        | 164/1198 [37:13<3:19:09, 11.56s/it]"
     ]
    },
    {
     "name": "stdout",
     "output_type": "stream",
     "text": [
      "done.\n",
      "data/part_A/train_data\\images\\IMG_247.jpg\n",
      "(681, 1024)\n",
      "generating density...\n"
     ]
    },
    {
     "name": "stderr",
     "output_type": "stream",
     "text": [
      "\r",
      " 14%|█▍        | 165/1198 [37:37<4:20:30, 15.13s/it]"
     ]
    },
    {
     "name": "stdout",
     "output_type": "stream",
     "text": [
      "done.\n",
      "data/part_A/train_data\\images\\IMG_248.jpg\n",
      "(681, 1024)\n",
      "generating density...\n"
     ]
    },
    {
     "name": "stderr",
     "output_type": "stream",
     "text": [
      "\r",
      " 14%|█▍        | 166/1198 [37:52<4:22:12, 15.24s/it]"
     ]
    },
    {
     "name": "stdout",
     "output_type": "stream",
     "text": [
      "done.\n",
      "data/part_A/train_data\\images\\IMG_249.jpg\n",
      "(451, 800)\n",
      "generating density...\n"
     ]
    },
    {
     "name": "stderr",
     "output_type": "stream",
     "text": [
      "\r",
      " 14%|█▍        | 167/1198 [37:57<3:29:22, 12.18s/it]"
     ]
    },
    {
     "name": "stdout",
     "output_type": "stream",
     "text": [
      "done.\n",
      "data/part_A/train_data\\images\\IMG_25.jpg\n",
      "(768, 1024)\n",
      "generating density...\n"
     ]
    },
    {
     "name": "stderr",
     "output_type": "stream",
     "text": [
      "\r",
      " 14%|█▍        | 168/1198 [38:07<3:15:07, 11.37s/it]"
     ]
    },
    {
     "name": "stdout",
     "output_type": "stream",
     "text": [
      "done.\n",
      "data/part_A/train_data\\images\\IMG_250.jpg\n",
      "(681, 1024)\n",
      "generating density...\n"
     ]
    },
    {
     "name": "stderr",
     "output_type": "stream",
     "text": [
      "\r",
      " 14%|█▍        | 169/1198 [38:23<3:38:35, 12.75s/it]"
     ]
    },
    {
     "name": "stdout",
     "output_type": "stream",
     "text": [
      "done.\n",
      "data/part_A/train_data\\images\\IMG_251.jpg\n",
      "(661, 1024)\n",
      "generating density...\n"
     ]
    },
    {
     "name": "stderr",
     "output_type": "stream",
     "text": [
      "\r",
      " 14%|█▍        | 170/1198 [38:58<5:31:50, 19.37s/it]"
     ]
    },
    {
     "name": "stdout",
     "output_type": "stream",
     "text": [
      "done.\n",
      "data/part_A/train_data\\images\\IMG_252.jpg\n",
      "(400, 600)\n",
      "generating density...\n"
     ]
    },
    {
     "name": "stderr",
     "output_type": "stream",
     "text": [
      "\r",
      " 14%|█▍        | 171/1198 [39:00<4:05:57, 14.37s/it]"
     ]
    },
    {
     "name": "stdout",
     "output_type": "stream",
     "text": [
      "done.\n",
      "data/part_A/train_data\\images\\IMG_253.jpg\n",
      "(686, 1024)\n",
      "generating density...\n"
     ]
    },
    {
     "name": "stderr",
     "output_type": "stream",
     "text": [
      "\r",
      " 14%|█▍        | 172/1198 [39:21<4:37:28, 16.23s/it]"
     ]
    },
    {
     "name": "stdout",
     "output_type": "stream",
     "text": [
      "done.\n",
      "data/part_A/train_data\\images\\IMG_254.jpg\n",
      "(683, 1024)\n",
      "generating density...\n"
     ]
    },
    {
     "name": "stderr",
     "output_type": "stream",
     "text": [
      "\r",
      " 14%|█▍        | 173/1198 [39:41<4:57:15, 17.40s/it]"
     ]
    },
    {
     "name": "stdout",
     "output_type": "stream",
     "text": [
      "done.\n",
      "data/part_A/train_data\\images\\IMG_255.jpg\n",
      "(701, 749)\n",
      "generating density...\n"
     ]
    },
    {
     "name": "stderr",
     "output_type": "stream",
     "text": [
      "\r",
      " 15%|█▍        | 174/1198 [39:50<4:15:33, 14.97s/it]"
     ]
    },
    {
     "name": "stdout",
     "output_type": "stream",
     "text": [
      "done.\n",
      "data/part_A/train_data\\images\\IMG_256.jpg\n",
      "(576, 1024)\n",
      "generating density...\n"
     ]
    },
    {
     "name": "stderr",
     "output_type": "stream",
     "text": [
      "\r",
      " 15%|█▍        | 175/1198 [39:54<3:17:43, 11.60s/it]"
     ]
    },
    {
     "name": "stdout",
     "output_type": "stream",
     "text": [
      "done.\n",
      "data/part_A/train_data\\images\\IMG_257.jpg\n",
      "(768, 1024)\n",
      "generating density...\n"
     ]
    },
    {
     "name": "stderr",
     "output_type": "stream",
     "text": [
      "\r",
      " 15%|█▍        | 176/1198 [40:04<3:08:17, 11.05s/it]"
     ]
    },
    {
     "name": "stdout",
     "output_type": "stream",
     "text": [
      "done.\n",
      "data/part_A/train_data\\images\\IMG_258.jpg\n",
      "(768, 1024)\n",
      "generating density...\n"
     ]
    },
    {
     "name": "stderr",
     "output_type": "stream",
     "text": [
      "\r",
      " 15%|█▍        | 177/1198 [40:26<4:05:11, 14.41s/it]"
     ]
    },
    {
     "name": "stdout",
     "output_type": "stream",
     "text": [
      "done.\n",
      "data/part_A/train_data\\images\\IMG_259.jpg\n",
      "(338, 506)\n",
      "generating density...\n"
     ]
    },
    {
     "name": "stderr",
     "output_type": "stream",
     "text": [
      "\r",
      " 15%|█▍        | 178/1198 [40:28<2:59:30, 10.56s/it]"
     ]
    },
    {
     "name": "stdout",
     "output_type": "stream",
     "text": [
      "done.\n",
      "data/part_A/train_data\\images\\IMG_26.jpg\n",
      "(716, 1024)\n",
      "generating density...\n"
     ]
    },
    {
     "name": "stderr",
     "output_type": "stream",
     "text": [
      "\r",
      " 15%|█▍        | 179/1198 [41:07<5:24:33, 19.11s/it]"
     ]
    },
    {
     "name": "stdout",
     "output_type": "stream",
     "text": [
      "done.\n",
      "data/part_A/train_data\\images\\IMG_260.jpg\n",
      "(681, 1024)\n",
      "generating density...\n"
     ]
    },
    {
     "name": "stderr",
     "output_type": "stream",
     "text": [
      "\r",
      " 15%|█▌        | 180/1198 [41:20<4:54:52, 17.38s/it]"
     ]
    },
    {
     "name": "stdout",
     "output_type": "stream",
     "text": [
      "done.\n",
      "data/part_A/train_data\\images\\IMG_261.jpg\n",
      "(359, 478)\n",
      "generating density...\n"
     ]
    },
    {
     "name": "stderr",
     "output_type": "stream",
     "text": [
      "\r",
      " 15%|█▌        | 181/1198 [41:21<3:32:33, 12.54s/it]"
     ]
    },
    {
     "name": "stdout",
     "output_type": "stream",
     "text": [
      "done.\n",
      "data/part_A/train_data\\images\\IMG_262.jpg\n",
      "(576, 1024)\n",
      "generating density...\n"
     ]
    },
    {
     "name": "stderr",
     "output_type": "stream",
     "text": [
      "\r",
      " 15%|█▌        | 182/1198 [41:53<5:11:21, 18.39s/it]"
     ]
    },
    {
     "name": "stdout",
     "output_type": "stream",
     "text": [
      "done.\n",
      "data/part_A/train_data\\images\\IMG_263.jpg\n",
      "(453, 680)\n",
      "generating density...\n"
     ]
    },
    {
     "name": "stderr",
     "output_type": "stream",
     "text": [
      "\r",
      " 15%|█▌        | 183/1198 [42:00<4:13:28, 14.98s/it]"
     ]
    },
    {
     "name": "stdout",
     "output_type": "stream",
     "text": [
      "done.\n",
      "data/part_A/train_data\\images\\IMG_264.jpg\n",
      "(576, 1024)\n",
      "generating density...\n"
     ]
    },
    {
     "name": "stderr",
     "output_type": "stream",
     "text": [
      "\r",
      " 15%|█▌        | 184/1198 [42:06<3:26:40, 12.23s/it]"
     ]
    },
    {
     "name": "stdout",
     "output_type": "stream",
     "text": [
      "done.\n",
      "data/part_A/train_data\\images\\IMG_265.jpg\n",
      "(464, 370)\n",
      "generating density...\n"
     ]
    },
    {
     "name": "stderr",
     "output_type": "stream",
     "text": [
      "\r",
      " 15%|█▌        | 185/1198 [42:07<2:31:02,  8.95s/it]"
     ]
    },
    {
     "name": "stdout",
     "output_type": "stream",
     "text": [
      "done.\n",
      "data/part_A/train_data\\images\\IMG_266.jpg\n",
      "(391, 630)\n",
      "generating density...\n"
     ]
    },
    {
     "name": "stderr",
     "output_type": "stream",
     "text": [
      "\r",
      " 16%|█▌        | 186/1198 [42:10<1:59:33,  7.09s/it]"
     ]
    },
    {
     "name": "stdout",
     "output_type": "stream",
     "text": [
      "done.\n",
      "data/part_A/train_data\\images\\IMG_267.jpg\n",
      "(521, 1024)\n",
      "generating density...\n"
     ]
    },
    {
     "name": "stderr",
     "output_type": "stream",
     "text": [
      "\r",
      " 16%|█▌        | 187/1198 [42:29<2:57:42, 10.55s/it]"
     ]
    },
    {
     "name": "stdout",
     "output_type": "stream",
     "text": [
      "done.\n",
      "data/part_A/train_data\\images\\IMG_268.jpg\n",
      "(600, 900)\n",
      "generating density...\n"
     ]
    },
    {
     "name": "stderr",
     "output_type": "stream",
     "text": [
      "\r",
      " 16%|█▌        | 188/1198 [43:11<5:37:56, 20.08s/it]"
     ]
    },
    {
     "name": "stdout",
     "output_type": "stream",
     "text": [
      "done.\n",
      "data/part_A/train_data\\images\\IMG_269.jpg\n",
      "(400, 600)\n",
      "generating density...\n"
     ]
    },
    {
     "name": "stderr",
     "output_type": "stream",
     "text": [
      "\r",
      " 16%|█▌        | 189/1198 [43:13<4:06:27, 14.66s/it]"
     ]
    },
    {
     "name": "stdout",
     "output_type": "stream",
     "text": [
      "done.\n",
      "data/part_A/train_data\\images\\IMG_27.jpg\n",
      "(572, 945)\n",
      "generating density...\n"
     ]
    },
    {
     "name": "stderr",
     "output_type": "stream",
     "text": [
      "\r",
      " 16%|█▌        | 190/1198 [43:31<4:24:55, 15.77s/it]"
     ]
    },
    {
     "name": "stdout",
     "output_type": "stream",
     "text": [
      "done.\n",
      "data/part_A/train_data\\images\\IMG_270.jpg\n",
      "(300, 416)\n",
      "generating density...\n"
     ]
    },
    {
     "name": "stderr",
     "output_type": "stream",
     "text": [
      "\r",
      " 16%|█▌        | 191/1198 [43:33<3:12:39, 11.48s/it]"
     ]
    },
    {
     "name": "stdout",
     "output_type": "stream",
     "text": [
      "done.\n",
      "data/part_A/train_data\\images\\IMG_271.jpg\n",
      "(438, 736)\n",
      "generating density...\n"
     ]
    },
    {
     "name": "stderr",
     "output_type": "stream",
     "text": [
      "\r",
      " 16%|█▌        | 192/1198 [43:38<2:38:06,  9.43s/it]"
     ]
    },
    {
     "name": "stdout",
     "output_type": "stream",
     "text": [
      "done.\n",
      "data/part_A/train_data\\images\\IMG_272.jpg\n",
      "(478, 359)\n",
      "generating density...\n"
     ]
    },
    {
     "name": "stderr",
     "output_type": "stream",
     "text": [
      "\r",
      " 16%|█▌        | 193/1198 [43:39<1:55:07,  6.87s/it]"
     ]
    },
    {
     "name": "stdout",
     "output_type": "stream",
     "text": [
      "done.\n",
      "data/part_A/train_data\\images\\IMG_273.jpg\n",
      "(598, 1024)\n",
      "generating density...\n"
     ]
    },
    {
     "name": "stderr",
     "output_type": "stream",
     "text": [
      "\r",
      " 16%|█▌        | 194/1198 [43:49<2:13:46,  7.99s/it]"
     ]
    },
    {
     "name": "stdout",
     "output_type": "stream",
     "text": [
      "done.\n",
      "data/part_A/train_data\\images\\IMG_274.jpg\n",
      "(681, 1024)\n",
      "generating density...\n"
     ]
    },
    {
     "name": "stderr",
     "output_type": "stream",
     "text": [
      "\r",
      " 16%|█▋        | 195/1198 [43:54<1:57:32,  7.03s/it]"
     ]
    },
    {
     "name": "stdout",
     "output_type": "stream",
     "text": [
      "done.\n",
      "data/part_A/train_data\\images\\IMG_275.jpg\n",
      "(270, 360)\n",
      "generating density...\n"
     ]
    },
    {
     "name": "stderr",
     "output_type": "stream",
     "text": [
      "\r",
      " 16%|█▋        | 196/1198 [43:54<1:25:00,  5.09s/it]"
     ]
    },
    {
     "name": "stdout",
     "output_type": "stream",
     "text": [
      "done.\n",
      "data/part_A/train_data\\images\\IMG_276.jpg\n",
      "(768, 1024)\n",
      "generating density...\n"
     ]
    },
    {
     "name": "stderr",
     "output_type": "stream",
     "text": [
      "\r",
      " 16%|█▋        | 197/1198 [44:06<1:56:42,  7.00s/it]"
     ]
    },
    {
     "name": "stdout",
     "output_type": "stream",
     "text": [
      "done.\n",
      "data/part_A/train_data\\images\\IMG_277.jpg\n",
      "(692, 1024)\n",
      "generating density...\n"
     ]
    },
    {
     "name": "stderr",
     "output_type": "stream",
     "text": [
      "\r",
      " 17%|█▋        | 198/1198 [44:16<2:10:25,  7.83s/it]"
     ]
    },
    {
     "name": "stdout",
     "output_type": "stream",
     "text": [
      "done.\n",
      "data/part_A/train_data\\images\\IMG_278.jpg\n",
      "(620, 620)\n",
      "generating density...\n"
     ]
    },
    {
     "name": "stderr",
     "output_type": "stream",
     "text": [
      "\r",
      " 17%|█▋        | 199/1198 [44:21<1:57:00,  7.03s/it]"
     ]
    },
    {
     "name": "stdout",
     "output_type": "stream",
     "text": [
      "done.\n",
      "data/part_A/train_data\\images\\IMG_279.jpg\n",
      "(294, 488)\n",
      "generating density...\n"
     ]
    },
    {
     "name": "stderr",
     "output_type": "stream",
     "text": [
      "\r",
      " 17%|█▋        | 200/1198 [44:22<1:27:50,  5.28s/it]"
     ]
    },
    {
     "name": "stdout",
     "output_type": "stream",
     "text": [
      "done.\n",
      "data/part_A/train_data\\images\\IMG_28.jpg\n",
      "(375, 500)\n",
      "generating density...\n"
     ]
    },
    {
     "name": "stderr",
     "output_type": "stream",
     "text": [
      "\r",
      " 17%|█▋        | 201/1198 [44:25<1:17:56,  4.69s/it]"
     ]
    },
    {
     "name": "stdout",
     "output_type": "stream",
     "text": [
      "done.\n",
      "data/part_A/train_data\\images\\IMG_280.jpg\n",
      "(768, 1024)\n",
      "generating density...\n"
     ]
    },
    {
     "name": "stderr",
     "output_type": "stream",
     "text": [
      "\r",
      " 17%|█▋        | 202/1198 [44:44<2:29:52,  9.03s/it]"
     ]
    },
    {
     "name": "stdout",
     "output_type": "stream",
     "text": [
      "done.\n",
      "data/part_A/train_data\\images\\IMG_281.jpg\n",
      "(680, 1024)\n",
      "generating density...\n"
     ]
    },
    {
     "name": "stderr",
     "output_type": "stream",
     "text": [
      "\r",
      " 17%|█▋        | 203/1198 [44:53<2:26:29,  8.83s/it]"
     ]
    },
    {
     "name": "stdout",
     "output_type": "stream",
     "text": [
      "done.\n",
      "data/part_A/train_data\\images\\IMG_282.jpg\n",
      "(768, 1024)\n",
      "generating density...\n"
     ]
    },
    {
     "name": "stderr",
     "output_type": "stream",
     "text": [
      "\r",
      " 17%|█▋        | 204/1198 [45:15<3:32:45, 12.84s/it]"
     ]
    },
    {
     "name": "stdout",
     "output_type": "stream",
     "text": [
      "done.\n",
      "data/part_A/train_data\\images\\IMG_283.jpg\n",
      "(661, 1024)\n",
      "generating density...\n"
     ]
    },
    {
     "name": "stderr",
     "output_type": "stream",
     "text": [
      "\r",
      " 17%|█▋        | 205/1198 [45:55<5:49:30, 21.12s/it]"
     ]
    },
    {
     "name": "stdout",
     "output_type": "stream",
     "text": [
      "done.\n",
      "data/part_A/train_data\\images\\IMG_284.jpg\n",
      "(768, 1024)\n",
      "generating density...\n"
     ]
    },
    {
     "name": "stderr",
     "output_type": "stream",
     "text": [
      "\r",
      " 17%|█▋        | 206/1198 [46:13<5:31:55, 20.08s/it]"
     ]
    },
    {
     "name": "stdout",
     "output_type": "stream",
     "text": [
      "done.\n",
      "data/part_A/train_data\\images\\IMG_285.jpg\n",
      "(694, 1024)\n",
      "generating density...\n"
     ]
    },
    {
     "name": "stderr",
     "output_type": "stream",
     "text": [
      "\r",
      " 17%|█▋        | 207/1198 [46:28<5:07:30, 18.62s/it]"
     ]
    },
    {
     "name": "stdout",
     "output_type": "stream",
     "text": [
      "done.\n",
      "data/part_A/train_data\\images\\IMG_286.jpg\n",
      "(578, 779)\n",
      "generating density...\n"
     ]
    },
    {
     "name": "stderr",
     "output_type": "stream",
     "text": [
      "\r",
      " 17%|█▋        | 208/1198 [46:36<4:14:37, 15.43s/it]"
     ]
    },
    {
     "name": "stdout",
     "output_type": "stream",
     "text": [
      "done.\n",
      "data/part_A/train_data\\images\\IMG_287.jpg\n",
      "(716, 1024)\n",
      "generating density...\n"
     ]
    },
    {
     "name": "stderr",
     "output_type": "stream",
     "text": [
      "\r",
      " 17%|█▋        | 209/1198 [46:54<4:26:29, 16.17s/it]"
     ]
    },
    {
     "name": "stdout",
     "output_type": "stream",
     "text": [
      "done.\n",
      "data/part_A/train_data\\images\\IMG_288.jpg\n",
      "(768, 1024)\n",
      "generating density...\n"
     ]
    },
    {
     "name": "stderr",
     "output_type": "stream",
     "text": [
      "\r",
      " 18%|█▊        | 210/1198 [47:05<3:59:46, 14.56s/it]"
     ]
    },
    {
     "name": "stdout",
     "output_type": "stream",
     "text": [
      "done.\n",
      "data/part_A/train_data\\images\\IMG_289.jpg\n",
      "(682, 1024)\n",
      "generating density...\n"
     ]
    },
    {
     "name": "stderr",
     "output_type": "stream",
     "text": [
      "\r",
      " 18%|█▊        | 211/1198 [47:18<3:52:45, 14.15s/it]"
     ]
    },
    {
     "name": "stdout",
     "output_type": "stream",
     "text": [
      "done.\n",
      "data/part_A/train_data\\images\\IMG_29.jpg\n",
      "(450, 770)\n",
      "generating density...\n"
     ]
    },
    {
     "name": "stderr",
     "output_type": "stream",
     "text": [
      "\r",
      " 18%|█▊        | 212/1198 [47:27<3:25:52, 12.53s/it]"
     ]
    },
    {
     "name": "stdout",
     "output_type": "stream",
     "text": [
      "done.\n",
      "data/part_A/train_data\\images\\IMG_290.jpg\n",
      "(768, 1024)\n",
      "generating density...\n"
     ]
    },
    {
     "name": "stderr",
     "output_type": "stream",
     "text": [
      "\r",
      " 18%|█▊        | 213/1198 [47:37<3:14:48, 11.87s/it]"
     ]
    },
    {
     "name": "stdout",
     "output_type": "stream",
     "text": [
      "done.\n",
      "data/part_A/train_data\\images\\IMG_291.jpg\n",
      "(768, 1024)\n",
      "generating density...\n"
     ]
    },
    {
     "name": "stderr",
     "output_type": "stream",
     "text": [
      "\r",
      " 18%|█▊        | 214/1198 [48:00<4:08:28, 15.15s/it]"
     ]
    },
    {
     "name": "stdout",
     "output_type": "stream",
     "text": [
      "done.\n",
      "data/part_A/train_data\\images\\IMG_292.jpg\n",
      "(665, 1024)\n",
      "generating density...\n"
     ]
    },
    {
     "name": "stderr",
     "output_type": "stream",
     "text": [
      "\r",
      " 18%|█▊        | 215/1198 [48:27<5:07:21, 18.76s/it]"
     ]
    },
    {
     "name": "stdout",
     "output_type": "stream",
     "text": [
      "done.\n",
      "data/part_A/train_data\\images\\IMG_293.jpg\n",
      "(686, 1024)\n",
      "generating density...\n"
     ]
    },
    {
     "name": "stderr",
     "output_type": "stream",
     "text": [
      "\r",
      " 18%|█▊        | 216/1198 [48:49<5:19:15, 19.51s/it]"
     ]
    },
    {
     "name": "stdout",
     "output_type": "stream",
     "text": [
      "done.\n",
      "data/part_A/train_data\\images\\IMG_294.jpg\n",
      "(683, 1024)\n",
      "generating density...\n"
     ]
    },
    {
     "name": "stderr",
     "output_type": "stream",
     "text": [
      "\r",
      " 18%|█▊        | 217/1198 [49:41<7:59:15, 29.31s/it]"
     ]
    },
    {
     "name": "stdout",
     "output_type": "stream",
     "text": [
      "done.\n",
      "data/part_A/train_data\\images\\IMG_295.jpg\n",
      "(684, 1024)\n",
      "generating density...\n"
     ]
    },
    {
     "name": "stderr",
     "output_type": "stream",
     "text": [
      "\r",
      " 18%|█▊        | 218/1198 [50:00<7:10:41, 26.37s/it]"
     ]
    },
    {
     "name": "stdout",
     "output_type": "stream",
     "text": [
      "done.\n",
      "data/part_A/train_data\\images\\IMG_296.jpg\n",
      "(685, 1024)\n",
      "generating density...\n"
     ]
    },
    {
     "name": "stderr",
     "output_type": "stream",
     "text": [
      "\r",
      " 18%|█▊        | 219/1198 [50:16<6:19:32, 23.26s/it]"
     ]
    },
    {
     "name": "stdout",
     "output_type": "stream",
     "text": [
      "done.\n",
      "data/part_A/train_data\\images\\IMG_297.jpg\n",
      "(685, 1024)\n",
      "generating density...\n"
     ]
    },
    {
     "name": "stderr",
     "output_type": "stream",
     "text": [
      "\r",
      " 18%|█▊        | 220/1198 [50:41<6:27:22, 23.77s/it]"
     ]
    },
    {
     "name": "stdout",
     "output_type": "stream",
     "text": [
      "done.\n",
      "data/part_A/train_data\\images\\IMG_298.jpg\n",
      "(272, 511)\n",
      "generating density...\n"
     ]
    },
    {
     "name": "stderr",
     "output_type": "stream",
     "text": [
      "\r",
      " 18%|█▊        | 221/1198 [50:44<4:46:56, 17.62s/it]"
     ]
    },
    {
     "name": "stdout",
     "output_type": "stream",
     "text": [
      "done.\n",
      "data/part_A/train_data\\images\\IMG_299.jpg\n",
      "(681, 1024)\n",
      "generating density...\n"
     ]
    },
    {
     "name": "stderr",
     "output_type": "stream",
     "text": [
      "\r",
      " 19%|█▊        | 222/1198 [51:25<6:38:27, 24.50s/it]"
     ]
    },
    {
     "name": "stdout",
     "output_type": "stream",
     "text": [
      "done.\n",
      "data/part_A/train_data\\images\\IMG_3.jpg\n",
      "(664, 1000)\n",
      "generating density...\n"
     ]
    },
    {
     "name": "stderr",
     "output_type": "stream",
     "text": [
      "\r",
      " 19%|█▊        | 223/1198 [51:32<5:14:27, 19.35s/it]"
     ]
    },
    {
     "name": "stdout",
     "output_type": "stream",
     "text": [
      "done.\n",
      "data/part_A/train_data\\images\\IMG_30.jpg\n",
      "(645, 1024)\n",
      "generating density...\n"
     ]
    },
    {
     "name": "stderr",
     "output_type": "stream",
     "text": [
      "\r",
      " 19%|█▊        | 224/1198 [51:53<5:19:40, 19.69s/it]"
     ]
    },
    {
     "name": "stdout",
     "output_type": "stream",
     "text": [
      "done.\n",
      "data/part_A/train_data\\images\\IMG_300.jpg\n",
      "(768, 1024)\n",
      "generating density...\n"
     ]
    },
    {
     "name": "stderr",
     "output_type": "stream",
     "text": [
      "\r",
      " 19%|█▉        | 225/1198 [52:12<5:17:26, 19.58s/it]"
     ]
    },
    {
     "name": "stdout",
     "output_type": "stream",
     "text": [
      "done.\n",
      "data/part_A/train_data\\images\\IMG_31.jpg\n",
      "(1024, 768)\n",
      "generating density...\n"
     ]
    },
    {
     "name": "stderr",
     "output_type": "stream",
     "text": [
      "\r",
      " 19%|█▉        | 226/1198 [52:42<6:05:55, 22.59s/it]"
     ]
    },
    {
     "name": "stdout",
     "output_type": "stream",
     "text": [
      "done.\n",
      "data/part_A/train_data\\images\\IMG_32.jpg\n",
      "(768, 1024)\n",
      "generating density...\n"
     ]
    },
    {
     "name": "stderr",
     "output_type": "stream",
     "text": [
      "\r",
      " 19%|█▉        | 227/1198 [53:10<6:31:35, 24.20s/it]"
     ]
    },
    {
     "name": "stdout",
     "output_type": "stream",
     "text": [
      "done.\n",
      "data/part_A/train_data\\images\\IMG_33.jpg\n",
      "(768, 1024)\n",
      "generating density...\n"
     ]
    },
    {
     "name": "stderr",
     "output_type": "stream",
     "text": [
      "\r",
      " 19%|█▉        | 228/1198 [53:27<5:58:42, 22.19s/it]"
     ]
    },
    {
     "name": "stdout",
     "output_type": "stream",
     "text": [
      "done.\n",
      "data/part_A/train_data\\images\\IMG_34.jpg\n",
      "(768, 1024)\n",
      "generating density...\n"
     ]
    },
    {
     "name": "stderr",
     "output_type": "stream",
     "text": [
      "\r",
      " 19%|█▉        | 229/1198 [54:00<6:49:23, 25.35s/it]"
     ]
    },
    {
     "name": "stdout",
     "output_type": "stream",
     "text": [
      "done.\n",
      "data/part_A/train_data\\images\\IMG_35.jpg\n",
      "(653, 1024)\n",
      "generating density...\n"
     ]
    },
    {
     "name": "stderr",
     "output_type": "stream",
     "text": [
      "\r",
      " 19%|█▉        | 230/1198 [54:23<6:35:33, 24.52s/it]"
     ]
    },
    {
     "name": "stdout",
     "output_type": "stream",
     "text": [
      "done.\n",
      "data/part_A/train_data\\images\\IMG_36.jpg\n",
      "(388, 690)\n",
      "generating density...\n"
     ]
    },
    {
     "name": "stderr",
     "output_type": "stream",
     "text": [
      "\r",
      " 19%|█▉        | 231/1198 [54:24<4:44:50, 17.67s/it]"
     ]
    },
    {
     "name": "stdout",
     "output_type": "stream",
     "text": [
      "done.\n",
      "data/part_A/train_data\\images\\IMG_37.jpg\n",
      "(683, 1024)\n",
      "generating density...\n"
     ]
    },
    {
     "name": "stderr",
     "output_type": "stream",
     "text": [
      "\r",
      " 19%|█▉        | 232/1198 [54:43<4:51:25, 18.10s/it]"
     ]
    },
    {
     "name": "stdout",
     "output_type": "stream",
     "text": [
      "done.\n",
      "data/part_A/train_data\\images\\IMG_38.jpg\n",
      "(566, 1024)\n",
      "generating density...\n"
     ]
    },
    {
     "name": "stderr",
     "output_type": "stream",
     "text": [
      "\r",
      " 19%|█▉        | 233/1198 [54:58<4:34:19, 17.06s/it]"
     ]
    },
    {
     "name": "stdout",
     "output_type": "stream",
     "text": [
      "done.\n",
      "data/part_A/train_data\\images\\IMG_39.jpg\n",
      "(683, 1024)\n",
      "generating density...\n"
     ]
    },
    {
     "name": "stderr",
     "output_type": "stream",
     "text": [
      "\r",
      " 20%|█▉        | 234/1198 [55:11<4:16:09, 15.94s/it]"
     ]
    },
    {
     "name": "stdout",
     "output_type": "stream",
     "text": [
      "done.\n",
      "data/part_A/train_data\\images\\IMG_4.jpg\n",
      "(746, 1024)\n",
      "generating density...\n"
     ]
    },
    {
     "name": "stderr",
     "output_type": "stream",
     "text": [
      "\r",
      " 20%|█▉        | 235/1198 [55:30<4:28:30, 16.73s/it]"
     ]
    },
    {
     "name": "stdout",
     "output_type": "stream",
     "text": [
      "done.\n",
      "data/part_A/train_data\\images\\IMG_40.jpg\n",
      "(388, 576)\n",
      "generating density...\n"
     ]
    },
    {
     "name": "stderr",
     "output_type": "stream",
     "text": [
      "\r",
      " 20%|█▉        | 236/1198 [55:32<3:16:37, 12.26s/it]"
     ]
    },
    {
     "name": "stdout",
     "output_type": "stream",
     "text": [
      "done.\n",
      "data/part_A/train_data\\images\\IMG_41.jpg\n",
      "(683, 1024)\n",
      "generating density...\n"
     ]
    },
    {
     "name": "stderr",
     "output_type": "stream",
     "text": [
      "\r",
      " 20%|█▉        | 237/1198 [55:44<3:16:32, 12.27s/it]"
     ]
    },
    {
     "name": "stdout",
     "output_type": "stream",
     "text": [
      "done.\n",
      "data/part_A/train_data\\images\\IMG_42.jpg\n",
      "(667, 1000)\n",
      "generating density...\n"
     ]
    },
    {
     "name": "stderr",
     "output_type": "stream",
     "text": [
      "\r",
      " 20%|█▉        | 238/1198 [55:56<3:15:29, 12.22s/it]"
     ]
    },
    {
     "name": "stdout",
     "output_type": "stream",
     "text": [
      "done.\n",
      "data/part_A/train_data\\images\\IMG_43.jpg\n",
      "(683, 1024)\n",
      "generating density...\n"
     ]
    },
    {
     "name": "stderr",
     "output_type": "stream",
     "text": [
      "\r",
      " 20%|█▉        | 239/1198 [56:09<3:17:51, 12.38s/it]"
     ]
    },
    {
     "name": "stdout",
     "output_type": "stream",
     "text": [
      "done.\n",
      "data/part_A/train_data\\images\\IMG_44.jpg\n",
      "(683, 1024)\n",
      "generating density...\n"
     ]
    },
    {
     "name": "stderr",
     "output_type": "stream",
     "text": [
      "\r",
      " 20%|██        | 240/1198 [56:19<3:07:17, 11.73s/it]"
     ]
    },
    {
     "name": "stdout",
     "output_type": "stream",
     "text": [
      "done.\n",
      "data/part_A/train_data\\images\\IMG_45.jpg\n",
      "(600, 903)\n",
      "generating density...\n"
     ]
    },
    {
     "name": "stderr",
     "output_type": "stream",
     "text": [
      "\r",
      " 20%|██        | 241/1198 [56:35<3:29:36, 13.14s/it]"
     ]
    },
    {
     "name": "stdout",
     "output_type": "stream",
     "text": [
      "done.\n",
      "data/part_A/train_data\\images\\IMG_46.jpg\n",
      "(663, 962)\n",
      "generating density...\n"
     ]
    },
    {
     "name": "stderr",
     "output_type": "stream",
     "text": [
      "\r",
      " 20%|██        | 242/1198 [56:54<3:53:02, 14.63s/it]"
     ]
    },
    {
     "name": "stdout",
     "output_type": "stream",
     "text": [
      "done.\n",
      "data/part_A/train_data\\images\\IMG_47.jpg\n",
      "(662, 962)\n",
      "generating density...\n"
     ]
    },
    {
     "name": "stderr",
     "output_type": "stream",
     "text": [
      "\r",
      " 20%|██        | 243/1198 [57:03<3:26:04, 12.95s/it]"
     ]
    },
    {
     "name": "stdout",
     "output_type": "stream",
     "text": [
      "done.\n",
      "data/part_A/train_data\\images\\IMG_48.jpg\n",
      "(450, 600)\n",
      "generating density...\n"
     ]
    },
    {
     "name": "stderr",
     "output_type": "stream",
     "text": [
      "\r",
      " 20%|██        | 244/1198 [57:09<2:54:52, 11.00s/it]"
     ]
    },
    {
     "name": "stdout",
     "output_type": "stream",
     "text": [
      "done.\n",
      "data/part_A/train_data\\images\\IMG_49.jpg\n",
      "(681, 1024)\n",
      "generating density...\n"
     ]
    },
    {
     "name": "stderr",
     "output_type": "stream",
     "text": [
      "\r",
      " 20%|██        | 245/1198 [57:21<2:57:26, 11.17s/it]"
     ]
    },
    {
     "name": "stdout",
     "output_type": "stream",
     "text": [
      "done.\n",
      "data/part_A/train_data\\images\\IMG_5.jpg\n",
      "(683, 1024)\n",
      "generating density...\n"
     ]
    },
    {
     "name": "stderr",
     "output_type": "stream",
     "text": [
      "\r",
      " 21%|██        | 246/1198 [57:36<3:17:08, 12.43s/it]"
     ]
    },
    {
     "name": "stdout",
     "output_type": "stream",
     "text": [
      "done.\n",
      "data/part_A/train_data\\images\\IMG_50.jpg\n",
      "(985, 985)\n",
      "generating density...\n"
     ]
    },
    {
     "name": "stderr",
     "output_type": "stream",
     "text": [
      "\r",
      " 21%|██        | 247/1198 [58:55<8:35:24, 32.52s/it]"
     ]
    },
    {
     "name": "stdout",
     "output_type": "stream",
     "text": [
      "done.\n",
      "data/part_A/train_data\\images\\IMG_51.jpg\n",
      "(656, 1024)\n",
      "generating density...\n"
     ]
    },
    {
     "name": "stderr",
     "output_type": "stream",
     "text": [
      "\r",
      " 21%|██        | 248/1198 [59:10<7:10:48, 27.21s/it]"
     ]
    },
    {
     "name": "stdout",
     "output_type": "stream",
     "text": [
      "done.\n",
      "data/part_A/train_data\\images\\IMG_52.jpg\n",
      "(768, 1024)\n",
      "generating density...\n"
     ]
    },
    {
     "name": "stderr",
     "output_type": "stream",
     "text": [
      "\r",
      " 21%|██        | 249/1198 [59:39<7:19:12, 27.77s/it]"
     ]
    },
    {
     "name": "stdout",
     "output_type": "stream",
     "text": [
      "done.\n",
      "data/part_A/train_data\\images\\IMG_53.jpg\n",
      "(662, 962)\n",
      "generating density...\n"
     ]
    },
    {
     "name": "stderr",
     "output_type": "stream",
     "text": [
      "\r",
      " 21%|██        | 250/1198 [59:47<5:41:53, 21.64s/it]"
     ]
    },
    {
     "name": "stdout",
     "output_type": "stream",
     "text": [
      "done.\n",
      "data/part_A/train_data\\images\\IMG_54.jpg\n",
      "(564, 832)\n",
      "generating density...\n"
     ]
    },
    {
     "name": "stderr",
     "output_type": "stream",
     "text": [
      "\r",
      " 21%|██        | 251/1198 [59:55<4:40:53, 17.80s/it]"
     ]
    },
    {
     "name": "stdout",
     "output_type": "stream",
     "text": [
      "done.\n",
      "data/part_A/train_data\\images\\IMG_55.jpg\n",
      "(551, 1024)\n",
      "generating density...\n"
     ]
    },
    {
     "name": "stderr",
     "output_type": "stream",
     "text": [
      "\r",
      " 21%|██        | 252/1198 [1:00:04<3:56:16, 14.99s/it]"
     ]
    },
    {
     "name": "stdout",
     "output_type": "stream",
     "text": [
      "done.\n",
      "data/part_A/train_data\\images\\IMG_56.jpg\n",
      "(663, 962)\n",
      "generating density...\n"
     ]
    },
    {
     "name": "stderr",
     "output_type": "stream",
     "text": [
      "\r",
      " 21%|██        | 253/1198 [1:00:15<3:38:57, 13.90s/it]"
     ]
    },
    {
     "name": "stdout",
     "output_type": "stream",
     "text": [
      "done.\n",
      "data/part_A/train_data\\images\\IMG_57.jpg\n",
      "(1024, 1024)\n",
      "generating density...\n"
     ]
    },
    {
     "name": "stderr",
     "output_type": "stream",
     "text": [
      "\r",
      " 21%|██        | 254/1198 [1:00:32<3:54:18, 14.89s/it]"
     ]
    },
    {
     "name": "stdout",
     "output_type": "stream",
     "text": [
      "done.\n",
      "data/part_A/train_data\\images\\IMG_58.jpg\n",
      "(681, 1024)\n",
      "generating density...\n"
     ]
    },
    {
     "name": "stderr",
     "output_type": "stream",
     "text": [
      "\r",
      " 21%|██▏       | 255/1198 [1:00:59<4:49:30, 18.42s/it]"
     ]
    },
    {
     "name": "stdout",
     "output_type": "stream",
     "text": [
      "done.\n",
      "data/part_A/train_data\\images\\IMG_59.jpg\n",
      "(686, 1024)\n",
      "generating density...\n"
     ]
    },
    {
     "name": "stderr",
     "output_type": "stream",
     "text": [
      "\r",
      " 21%|██▏       | 256/1198 [1:01:09<4:09:51, 15.91s/it]"
     ]
    },
    {
     "name": "stdout",
     "output_type": "stream",
     "text": [
      "done.\n",
      "data/part_A/train_data\\images\\IMG_6.jpg\n",
      "(768, 1024)\n",
      "generating density...\n"
     ]
    },
    {
     "name": "stderr",
     "output_type": "stream",
     "text": [
      "\r",
      " 21%|██▏       | 257/1198 [1:01:25<4:08:26, 15.84s/it]"
     ]
    },
    {
     "name": "stdout",
     "output_type": "stream",
     "text": [
      "done.\n",
      "data/part_A/train_data\\images\\IMG_60.jpg\n",
      "(768, 1024)\n",
      "generating density...\n"
     ]
    },
    {
     "name": "stderr",
     "output_type": "stream",
     "text": [
      "\r",
      " 22%|██▏       | 258/1198 [1:01:36<3:45:57, 14.42s/it]"
     ]
    },
    {
     "name": "stdout",
     "output_type": "stream",
     "text": [
      "done.\n",
      "data/part_A/train_data\\images\\IMG_61.jpg\n",
      "(683, 1024)\n",
      "generating density...\n"
     ]
    },
    {
     "name": "stderr",
     "output_type": "stream",
     "text": [
      "\r",
      " 22%|██▏       | 259/1198 [1:01:47<3:29:09, 13.36s/it]"
     ]
    },
    {
     "name": "stdout",
     "output_type": "stream",
     "text": [
      "done.\n",
      "data/part_A/train_data\\images\\IMG_62.jpg\n",
      "(340, 620)\n",
      "generating density...\n"
     ]
    },
    {
     "name": "stderr",
     "output_type": "stream",
     "text": [
      "\r",
      " 22%|██▏       | 260/1198 [1:01:51<2:47:51, 10.74s/it]"
     ]
    },
    {
     "name": "stdout",
     "output_type": "stream",
     "text": [
      "done.\n",
      "data/part_A/train_data\\images\\IMG_63.jpg\n",
      "(768, 1024)\n",
      "generating density...\n"
     ]
    },
    {
     "name": "stderr",
     "output_type": "stream",
     "text": [
      "\r",
      " 22%|██▏       | 261/1198 [1:02:07<3:08:15, 12.05s/it]"
     ]
    },
    {
     "name": "stdout",
     "output_type": "stream",
     "text": [
      "done.\n",
      "data/part_A/train_data\\images\\IMG_64.jpg\n",
      "(768, 1024)\n",
      "generating density...\n"
     ]
    },
    {
     "name": "stderr",
     "output_type": "stream",
     "text": [
      "\r",
      " 22%|██▏       | 262/1198 [1:02:18<3:05:05, 11.86s/it]"
     ]
    },
    {
     "name": "stdout",
     "output_type": "stream",
     "text": [
      "done.\n",
      "data/part_A/train_data\\images\\IMG_65.jpg\n",
      "(683, 1024)\n",
      "generating density...\n"
     ]
    },
    {
     "name": "stderr",
     "output_type": "stream",
     "text": [
      "\r",
      " 22%|██▏       | 263/1198 [1:02:35<3:26:38, 13.26s/it]"
     ]
    },
    {
     "name": "stdout",
     "output_type": "stream",
     "text": [
      "done.\n",
      "data/part_A/train_data\\images\\IMG_66.jpg\n",
      "(768, 1024)\n",
      "generating density...\n"
     ]
    },
    {
     "name": "stderr",
     "output_type": "stream",
     "text": [
      "\r",
      " 22%|██▏       | 264/1198 [1:03:04<4:40:23, 18.01s/it]"
     ]
    },
    {
     "name": "stdout",
     "output_type": "stream",
     "text": [
      "done.\n",
      "data/part_A/train_data\\images\\IMG_67.jpg\n",
      "(683, 1024)\n",
      "generating density...\n"
     ]
    },
    {
     "name": "stderr",
     "output_type": "stream",
     "text": [
      "\r",
      " 22%|██▏       | 265/1198 [1:03:13<3:59:42, 15.42s/it]"
     ]
    },
    {
     "name": "stdout",
     "output_type": "stream",
     "text": [
      "done.\n",
      "data/part_A/train_data\\images\\IMG_68.jpg\n",
      "(683, 1024)\n",
      "generating density...\n"
     ]
    },
    {
     "name": "stderr",
     "output_type": "stream",
     "text": [
      "\r",
      " 22%|██▏       | 266/1198 [1:03:25<3:44:57, 14.48s/it]"
     ]
    },
    {
     "name": "stdout",
     "output_type": "stream",
     "text": [
      "done.\n",
      "data/part_A/train_data\\images\\IMG_69.jpg\n",
      "(596, 1024)\n",
      "generating density...\n"
     ]
    },
    {
     "name": "stderr",
     "output_type": "stream",
     "text": [
      "\r",
      " 22%|██▏       | 267/1198 [1:03:42<3:52:55, 15.01s/it]"
     ]
    },
    {
     "name": "stdout",
     "output_type": "stream",
     "text": [
      "done.\n",
      "data/part_A/train_data\\images\\IMG_7.jpg\n",
      "(590, 1024)\n",
      "generating density...\n"
     ]
    },
    {
     "name": "stderr",
     "output_type": "stream",
     "text": [
      "\r",
      " 22%|██▏       | 268/1198 [1:04:07<4:39:56, 18.06s/it]"
     ]
    },
    {
     "name": "stdout",
     "output_type": "stream",
     "text": [
      "done.\n",
      "data/part_A/train_data\\images\\IMG_70.jpg\n",
      "(768, 1024)\n",
      "generating density...\n"
     ]
    },
    {
     "name": "stderr",
     "output_type": "stream",
     "text": [
      "\r",
      " 22%|██▏       | 269/1198 [1:04:22<4:24:30, 17.08s/it]"
     ]
    },
    {
     "name": "stdout",
     "output_type": "stream",
     "text": [
      "done.\n",
      "data/part_A/train_data\\images\\IMG_71.jpg\n",
      "(768, 1024)\n",
      "generating density...\n"
     ]
    },
    {
     "name": "stderr",
     "output_type": "stream",
     "text": [
      "\r",
      " 23%|██▎       | 270/1198 [1:04:41<4:35:40, 17.82s/it]"
     ]
    },
    {
     "name": "stdout",
     "output_type": "stream",
     "text": [
      "done.\n",
      "data/part_A/train_data\\images\\IMG_72.jpg\n",
      "(663, 962)\n",
      "generating density...\n"
     ]
    },
    {
     "name": "stderr",
     "output_type": "stream",
     "text": [
      "\r",
      " 23%|██▎       | 271/1198 [1:04:48<3:44:28, 14.53s/it]"
     ]
    },
    {
     "name": "stdout",
     "output_type": "stream",
     "text": [
      "done.\n",
      "data/part_A/train_data\\images\\IMG_73.jpg\n",
      "(544, 932)\n",
      "generating density...\n"
     ]
    },
    {
     "name": "stderr",
     "output_type": "stream",
     "text": [
      "\r",
      " 23%|██▎       | 272/1198 [1:04:55<3:10:35, 12.35s/it]"
     ]
    },
    {
     "name": "stdout",
     "output_type": "stream",
     "text": [
      "done.\n",
      "data/part_A/train_data\\images\\IMG_74.jpg\n",
      "(479, 720)\n",
      "generating density...\n"
     ]
    },
    {
     "name": "stderr",
     "output_type": "stream",
     "text": [
      "\r",
      " 23%|██▎       | 273/1198 [1:05:03<2:48:53, 10.96s/it]"
     ]
    },
    {
     "name": "stdout",
     "output_type": "stream",
     "text": [
      "done.\n",
      "data/part_A/train_data\\images\\IMG_75.jpg\n",
      "(681, 1024)\n",
      "generating density...\n"
     ]
    },
    {
     "name": "stderr",
     "output_type": "stream",
     "text": [
      "\r",
      " 23%|██▎       | 274/1198 [1:05:22<3:26:24, 13.40s/it]"
     ]
    },
    {
     "name": "stdout",
     "output_type": "stream",
     "text": [
      "done.\n",
      "data/part_A/train_data\\images\\IMG_76.jpg\n",
      "(563, 832)\n",
      "generating density...\n"
     ]
    },
    {
     "name": "stderr",
     "output_type": "stream",
     "text": [
      "\r",
      " 23%|██▎       | 275/1198 [1:05:32<3:08:24, 12.25s/it]"
     ]
    },
    {
     "name": "stdout",
     "output_type": "stream",
     "text": [
      "done.\n",
      "data/part_A/train_data\\images\\IMG_77.jpg\n",
      "(684, 1024)\n",
      "generating density...\n"
     ]
    },
    {
     "name": "stderr",
     "output_type": "stream",
     "text": [
      "\r",
      " 23%|██▎       | 276/1198 [1:05:39<2:43:57, 10.67s/it]"
     ]
    },
    {
     "name": "stdout",
     "output_type": "stream",
     "text": [
      "done.\n",
      "data/part_A/train_data\\images\\IMG_78.jpg\n",
      "(768, 1024)\n",
      "generating density...\n"
     ]
    },
    {
     "name": "stderr",
     "output_type": "stream",
     "text": [
      "\r",
      " 23%|██▎       | 277/1198 [1:05:45<2:25:08,  9.46s/it]"
     ]
    },
    {
     "name": "stdout",
     "output_type": "stream",
     "text": [
      "done.\n",
      "data/part_A/train_data\\images\\IMG_79.jpg\n",
      "(820, 1024)\n",
      "generating density...\n"
     ]
    },
    {
     "name": "stderr",
     "output_type": "stream",
     "text": [
      "\r",
      " 23%|██▎       | 278/1198 [1:06:38<5:44:51, 22.49s/it]"
     ]
    },
    {
     "name": "stdout",
     "output_type": "stream",
     "text": [
      "done.\n",
      "data/part_A/train_data\\images\\IMG_8.jpg\n",
      "(465, 700)\n",
      "generating density...\n"
     ]
    },
    {
     "name": "stderr",
     "output_type": "stream",
     "text": [
      "\r",
      " 23%|██▎       | 279/1198 [1:06:41<4:16:45, 16.76s/it]"
     ]
    },
    {
     "name": "stdout",
     "output_type": "stream",
     "text": [
      "done.\n",
      "data/part_A/train_data\\images\\IMG_80.jpg\n",
      "(426, 634)\n",
      "generating density...\n"
     ]
    },
    {
     "name": "stderr",
     "output_type": "stream",
     "text": [
      "\r",
      " 23%|██▎       | 280/1198 [1:06:45<3:17:42, 12.92s/it]"
     ]
    },
    {
     "name": "stdout",
     "output_type": "stream",
     "text": [
      "done.\n",
      "data/part_A/train_data\\images\\IMG_81.jpg\n",
      "(282, 377)\n",
      "generating density...\n"
     ]
    },
    {
     "name": "stderr",
     "output_type": "stream",
     "text": [
      "\r",
      " 23%|██▎       | 281/1198 [1:06:47<2:23:34,  9.39s/it]"
     ]
    },
    {
     "name": "stdout",
     "output_type": "stream",
     "text": [
      "done.\n",
      "data/part_A/train_data\\images\\IMG_82.jpg\n",
      "(750, 1000)\n",
      "generating density...\n"
     ]
    },
    {
     "name": "stderr",
     "output_type": "stream",
     "text": [
      "\r",
      " 24%|██▎       | 282/1198 [1:07:00<2:42:45, 10.66s/it]"
     ]
    },
    {
     "name": "stdout",
     "output_type": "stream",
     "text": [
      "done.\n",
      "data/part_A/train_data\\images\\IMG_83.jpg\n",
      "(683, 1024)\n",
      "generating density...\n"
     ]
    },
    {
     "name": "stderr",
     "output_type": "stream",
     "text": [
      "\r",
      " 24%|██▎       | 283/1198 [1:07:25<3:48:09, 14.96s/it]"
     ]
    },
    {
     "name": "stdout",
     "output_type": "stream",
     "text": [
      "done.\n",
      "data/part_A/train_data\\images\\IMG_84.jpg\n",
      "(435, 1024)\n",
      "generating density...\n"
     ]
    },
    {
     "name": "stderr",
     "output_type": "stream",
     "text": [
      "\r",
      " 24%|██▎       | 284/1198 [1:07:49<4:26:04, 17.47s/it]"
     ]
    },
    {
     "name": "stdout",
     "output_type": "stream",
     "text": [
      "done.\n",
      "data/part_A/train_data\\images\\IMG_85.jpg\n",
      "(267, 496)\n",
      "generating density...\n"
     ]
    },
    {
     "name": "stderr",
     "output_type": "stream",
     "text": [
      "\r",
      " 24%|██▍       | 285/1198 [1:07:50<3:12:48, 12.67s/it]"
     ]
    },
    {
     "name": "stdout",
     "output_type": "stream",
     "text": [
      "done.\n",
      "data/part_A/train_data\\images\\IMG_86.jpg\n",
      "(387, 580)\n",
      "generating density...\n"
     ]
    },
    {
     "name": "stderr",
     "output_type": "stream",
     "text": [
      "\r",
      " 24%|██▍       | 286/1198 [1:07:52<2:22:58,  9.41s/it]"
     ]
    },
    {
     "name": "stdout",
     "output_type": "stream",
     "text": [
      "done.\n",
      "data/part_A/train_data\\images\\IMG_87.jpg\n",
      "(416, 620)\n",
      "generating density...\n"
     ]
    },
    {
     "name": "stderr",
     "output_type": "stream",
     "text": [
      "\r",
      " 24%|██▍       | 287/1198 [1:07:55<1:56:34,  7.68s/it]"
     ]
    },
    {
     "name": "stdout",
     "output_type": "stream",
     "text": [
      "done.\n",
      "data/part_A/train_data\\images\\IMG_88.jpg\n",
      "(342, 1018)\n",
      "generating density...\n"
     ]
    },
    {
     "name": "stderr",
     "output_type": "stream",
     "text": [
      "\r",
      " 24%|██▍       | 288/1198 [1:08:01<1:47:21,  7.08s/it]"
     ]
    },
    {
     "name": "stdout",
     "output_type": "stream",
     "text": [
      "done.\n",
      "data/part_A/train_data\\images\\IMG_89.jpg\n",
      "(410, 563)\n",
      "generating density...\n"
     ]
    },
    {
     "name": "stderr",
     "output_type": "stream",
     "text": [
      "\r",
      " 24%|██▍       | 289/1198 [1:08:04<1:26:37,  5.72s/it]"
     ]
    },
    {
     "name": "stdout",
     "output_type": "stream",
     "text": [
      "done.\n",
      "data/part_A/train_data\\images\\IMG_9.jpg\n",
      "(536, 800)\n",
      "generating density...\n"
     ]
    },
    {
     "name": "stderr",
     "output_type": "stream",
     "text": [
      "\r",
      " 24%|██▍       | 290/1198 [1:08:07<1:17:50,  5.14s/it]"
     ]
    },
    {
     "name": "stdout",
     "output_type": "stream",
     "text": [
      "done.\n",
      "data/part_A/train_data\\images\\IMG_90.jpg\n",
      "(576, 1024)\n",
      "generating density...\n"
     ]
    },
    {
     "name": "stderr",
     "output_type": "stream",
     "text": [
      "\r",
      " 24%|██▍       | 291/1198 [1:08:15<1:30:14,  5.97s/it]"
     ]
    },
    {
     "name": "stdout",
     "output_type": "stream",
     "text": [
      "done.\n",
      "data/part_A/train_data\\images\\IMG_91.jpg\n",
      "(387, 580)\n",
      "generating density...\n"
     ]
    },
    {
     "name": "stderr",
     "output_type": "stream",
     "text": [
      "\r",
      " 24%|██▍       | 292/1198 [1:08:19<1:18:45,  5.22s/it]"
     ]
    },
    {
     "name": "stdout",
     "output_type": "stream",
     "text": [
      "done.\n",
      "data/part_A/train_data\\images\\IMG_92.jpg\n",
      "(1024, 832)\n",
      "generating density...\n"
     ]
    },
    {
     "name": "stderr",
     "output_type": "stream",
     "text": [
      "\r",
      " 24%|██▍       | 293/1198 [1:09:37<6:49:52, 27.17s/it]"
     ]
    },
    {
     "name": "stdout",
     "output_type": "stream",
     "text": [
      "done.\n",
      "data/part_A/train_data\\images\\IMG_93.jpg\n",
      "(351, 620)\n",
      "generating density...\n"
     ]
    },
    {
     "name": "stderr",
     "output_type": "stream",
     "text": [
      "\r",
      " 25%|██▍       | 294/1198 [1:09:39<4:55:15, 19.60s/it]"
     ]
    },
    {
     "name": "stdout",
     "output_type": "stream",
     "text": [
      "done.\n",
      "data/part_A/train_data\\images\\IMG_94.jpg\n",
      "(370, 1024)\n",
      "generating density...\n"
     ]
    },
    {
     "name": "stderr",
     "output_type": "stream",
     "text": [
      "\r",
      " 25%|██▍       | 295/1198 [1:10:02<5:10:30, 20.63s/it]"
     ]
    },
    {
     "name": "stdout",
     "output_type": "stream",
     "text": [
      "done.\n",
      "data/part_A/train_data\\images\\IMG_95.jpg\n",
      "(600, 800)\n",
      "generating density...\n"
     ]
    },
    {
     "name": "stderr",
     "output_type": "stream",
     "text": [
      "\r",
      " 25%|██▍       | 296/1198 [1:10:13<4:25:51, 17.68s/it]"
     ]
    },
    {
     "name": "stdout",
     "output_type": "stream",
     "text": [
      "done.\n",
      "data/part_A/train_data\\images\\IMG_96.jpg\n",
      "(530, 1024)\n",
      "generating density...\n"
     ]
    },
    {
     "name": "stderr",
     "output_type": "stream",
     "text": [
      "\r",
      " 25%|██▍       | 297/1198 [1:10:31<4:26:23, 17.74s/it]"
     ]
    },
    {
     "name": "stdout",
     "output_type": "stream",
     "text": [
      "done.\n",
      "data/part_A/train_data\\images\\IMG_97.jpg\n",
      "(366, 550)\n",
      "generating density...\n"
     ]
    },
    {
     "name": "stderr",
     "output_type": "stream",
     "text": [
      "\r",
      " 25%|██▍       | 298/1198 [1:10:33<3:17:44, 13.18s/it]"
     ]
    },
    {
     "name": "stdout",
     "output_type": "stream",
     "text": [
      "done.\n",
      "data/part_A/train_data\\images\\IMG_98.jpg\n",
      "(512, 1024)\n",
      "generating density...\n"
     ]
    },
    {
     "name": "stderr",
     "output_type": "stream",
     "text": [
      "\r",
      " 25%|██▍       | 299/1198 [1:10:42<2:58:18, 11.90s/it]"
     ]
    },
    {
     "name": "stdout",
     "output_type": "stream",
     "text": [
      "done.\n",
      "data/part_A/train_data\\images\\IMG_99.jpg\n",
      "(688, 1024)\n",
      "generating density...\n"
     ]
    },
    {
     "name": "stderr",
     "output_type": "stream",
     "text": [
      "\r",
      " 25%|██▌       | 300/1198 [1:10:59<3:21:42, 13.48s/it]"
     ]
    },
    {
     "name": "stdout",
     "output_type": "stream",
     "text": [
      "done.\n",
      "data/part_A/test_data\\images\\IMG_1.jpg\n",
      "(704, 1024)\n",
      "generating density...\n"
     ]
    },
    {
     "name": "stderr",
     "output_type": "stream",
     "text": [
      "\r",
      " 25%|██▌       | 301/1198 [1:11:05<2:46:17, 11.12s/it]"
     ]
    },
    {
     "name": "stdout",
     "output_type": "stream",
     "text": [
      "done.\n",
      "data/part_A/test_data\\images\\IMG_10.jpg\n",
      "(768, 1024)\n",
      "generating density...\n"
     ]
    },
    {
     "name": "stderr",
     "output_type": "stream",
     "text": [
      "\r",
      " 25%|██▌       | 302/1198 [1:11:26<3:30:39, 14.11s/it]"
     ]
    },
    {
     "name": "stdout",
     "output_type": "stream",
     "text": [
      "done.\n",
      "data/part_A/test_data\\images\\IMG_100.jpg\n",
      "(409, 902)\n",
      "generating density...\n"
     ]
    },
    {
     "name": "stderr",
     "output_type": "stream",
     "text": [
      "\r",
      " 25%|██▌       | 303/1198 [1:11:34<3:01:41, 12.18s/it]"
     ]
    },
    {
     "name": "stdout",
     "output_type": "stream",
     "text": [
      "done.\n",
      "data/part_A/test_data\\images\\IMG_101.jpg\n",
      "(768, 962)\n",
      "generating density...\n"
     ]
    },
    {
     "name": "stderr",
     "output_type": "stream",
     "text": [
      "\r",
      " 25%|██▌       | 304/1198 [1:11:41<2:37:53, 10.60s/it]"
     ]
    },
    {
     "name": "stdout",
     "output_type": "stream",
     "text": [
      "done.\n",
      "data/part_A/test_data\\images\\IMG_102.jpg\n",
      "(276, 460)\n",
      "generating density...\n"
     ]
    },
    {
     "name": "stderr",
     "output_type": "stream",
     "text": [
      "\r",
      " 25%|██▌       | 305/1198 [1:11:42<1:56:49,  7.85s/it]"
     ]
    },
    {
     "name": "stdout",
     "output_type": "stream",
     "text": [
      "done.\n",
      "data/part_A/test_data\\images\\IMG_103.jpg\n",
      "(666, 1024)\n",
      "generating density...\n"
     ]
    },
    {
     "name": "stderr",
     "output_type": "stream",
     "text": [
      "\r",
      " 26%|██▌       | 306/1198 [1:11:59<2:37:49, 10.62s/it]"
     ]
    },
    {
     "name": "stdout",
     "output_type": "stream",
     "text": [
      "done.\n",
      "data/part_A/test_data\\images\\IMG_104.jpg\n",
      "(683, 1024)\n",
      "generating density...\n"
     ]
    },
    {
     "name": "stderr",
     "output_type": "stream",
     "text": [
      "\r",
      " 26%|██▌       | 307/1198 [1:12:37<4:36:45, 18.64s/it]"
     ]
    },
    {
     "name": "stdout",
     "output_type": "stream",
     "text": [
      "done.\n",
      "data/part_A/test_data\\images\\IMG_105.jpg\n",
      "(661, 1024)\n",
      "generating density...\n"
     ]
    },
    {
     "name": "stderr",
     "output_type": "stream",
     "text": [
      "\r",
      " 26%|██▌       | 308/1198 [1:12:50<4:15:10, 17.20s/it]"
     ]
    },
    {
     "name": "stdout",
     "output_type": "stream",
     "text": [
      "done.\n",
      "data/part_A/test_data\\images\\IMG_106.jpg\n",
      "(476, 1001)\n",
      "generating density...\n"
     ]
    },
    {
     "name": "stderr",
     "output_type": "stream",
     "text": [
      "\r",
      " 26%|██▌       | 309/1198 [1:13:11<4:27:37, 18.06s/it]"
     ]
    },
    {
     "name": "stdout",
     "output_type": "stream",
     "text": [
      "done.\n",
      "data/part_A/test_data\\images\\IMG_107.jpg\n",
      "(463, 691)\n",
      "generating density...\n"
     ]
    },
    {
     "name": "stderr",
     "output_type": "stream",
     "text": [
      "\r",
      " 26%|██▌       | 310/1198 [1:13:13<3:17:16, 13.33s/it]"
     ]
    },
    {
     "name": "stdout",
     "output_type": "stream",
     "text": [
      "done.\n",
      "data/part_A/test_data\\images\\IMG_108.jpg\n",
      "(552, 1024)\n",
      "generating density...\n"
     ]
    },
    {
     "name": "stderr",
     "output_type": "stream",
     "text": [
      "\r",
      " 26%|██▌       | 311/1198 [1:13:25<3:12:57, 13.05s/it]"
     ]
    },
    {
     "name": "stdout",
     "output_type": "stream",
     "text": [
      "done.\n",
      "data/part_A/test_data\\images\\IMG_109.jpg\n",
      "(683, 1024)\n",
      "generating density...\n"
     ]
    },
    {
     "name": "stderr",
     "output_type": "stream",
     "text": [
      "\r",
      " 26%|██▌       | 312/1198 [1:13:46<3:48:04, 15.44s/it]"
     ]
    },
    {
     "name": "stdout",
     "output_type": "stream",
     "text": [
      "done.\n",
      "data/part_A/test_data\\images\\IMG_11.jpg\n",
      "(683, 1024)\n",
      "generating density...\n"
     ]
    },
    {
     "name": "stderr",
     "output_type": "stream",
     "text": [
      "\r",
      " 26%|██▌       | 313/1198 [1:14:22<5:19:06, 21.63s/it]"
     ]
    },
    {
     "name": "stdout",
     "output_type": "stream",
     "text": [
      "done.\n",
      "data/part_A/test_data\\images\\IMG_110.jpg\n",
      "(684, 1024)\n",
      "generating density...\n"
     ]
    },
    {
     "name": "stderr",
     "output_type": "stream",
     "text": [
      "\r",
      " 26%|██▌       | 314/1198 [1:14:52<5:53:03, 23.96s/it]"
     ]
    },
    {
     "name": "stdout",
     "output_type": "stream",
     "text": [
      "done.\n",
      "data/part_A/test_data\\images\\IMG_111.jpg\n",
      "(683, 1024)\n",
      "generating density...\n"
     ]
    },
    {
     "name": "stderr",
     "output_type": "stream",
     "text": [
      "\r",
      " 26%|██▋       | 315/1198 [1:15:09<5:24:26, 22.05s/it]"
     ]
    },
    {
     "name": "stdout",
     "output_type": "stream",
     "text": [
      "done.\n",
      "data/part_A/test_data\\images\\IMG_112.jpg\n",
      "(720, 960)\n",
      "generating density...\n"
     ]
    },
    {
     "name": "stderr",
     "output_type": "stream",
     "text": [
      "\r",
      " 26%|██▋       | 316/1198 [1:15:20<4:32:56, 18.57s/it]"
     ]
    },
    {
     "name": "stdout",
     "output_type": "stream",
     "text": [
      "done.\n",
      "data/part_A/test_data\\images\\IMG_113.jpg\n",
      "(506, 1024)\n",
      "generating density...\n"
     ]
    },
    {
     "name": "stderr",
     "output_type": "stream",
     "text": [
      "\r",
      " 26%|██▋       | 317/1198 [1:15:23<3:25:08, 13.97s/it]"
     ]
    },
    {
     "name": "stdout",
     "output_type": "stream",
     "text": [
      "done.\n",
      "data/part_A/test_data\\images\\IMG_114.jpg\n",
      "(768, 1024)\n",
      "generating density...\n"
     ]
    },
    {
     "name": "stderr",
     "output_type": "stream",
     "text": [
      "\r",
      " 27%|██▋       | 318/1198 [1:15:31<2:59:20, 12.23s/it]"
     ]
    },
    {
     "name": "stdout",
     "output_type": "stream",
     "text": [
      "done.\n",
      "data/part_A/test_data\\images\\IMG_115.jpg\n",
      "(611, 400)\n",
      "generating density...\n"
     ]
    },
    {
     "name": "stderr",
     "output_type": "stream",
     "text": [
      "\r",
      " 27%|██▋       | 319/1198 [1:15:39<2:38:19, 10.81s/it]"
     ]
    },
    {
     "name": "stdout",
     "output_type": "stream",
     "text": [
      "done.\n",
      "data/part_A/test_data\\images\\IMG_116.jpg\n",
      "(396, 594)\n",
      "generating density...\n"
     ]
    },
    {
     "name": "stderr",
     "output_type": "stream",
     "text": [
      "\r",
      " 27%|██▋       | 320/1198 [1:15:42<2:04:16,  8.49s/it]"
     ]
    },
    {
     "name": "stdout",
     "output_type": "stream",
     "text": [
      "done.\n",
      "data/part_A/test_data\\images\\IMG_117.jpg\n",
      "(600, 900)\n",
      "generating density...\n"
     ]
    },
    {
     "name": "stderr",
     "output_type": "stream",
     "text": [
      "\r",
      " 27%|██▋       | 321/1198 [1:16:12<3:38:26, 14.94s/it]"
     ]
    },
    {
     "name": "stdout",
     "output_type": "stream",
     "text": [
      "done.\n",
      "data/part_A/test_data\\images\\IMG_118.jpg\n",
      "(676, 1024)\n",
      "generating density...\n"
     ]
    },
    {
     "name": "stderr",
     "output_type": "stream",
     "text": [
      "\r",
      " 27%|██▋       | 322/1198 [1:16:25<3:28:52, 14.31s/it]"
     ]
    },
    {
     "name": "stdout",
     "output_type": "stream",
     "text": [
      "done.\n",
      "data/part_A/test_data\\images\\IMG_119.jpg\n",
      "(676, 1024)\n",
      "generating density...\n"
     ]
    },
    {
     "name": "stderr",
     "output_type": "stream",
     "text": [
      "\r",
      " 27%|██▋       | 323/1198 [1:16:43<3:44:32, 15.40s/it]"
     ]
    },
    {
     "name": "stdout",
     "output_type": "stream",
     "text": [
      "done.\n",
      "data/part_A/test_data\\images\\IMG_12.jpg\n",
      "(768, 1024)\n",
      "generating density...\n"
     ]
    },
    {
     "name": "stderr",
     "output_type": "stream",
     "text": [
      "\r",
      " 27%|██▋       | 324/1198 [1:16:52<3:17:59, 13.59s/it]"
     ]
    },
    {
     "name": "stdout",
     "output_type": "stream",
     "text": [
      "done.\n",
      "data/part_A/test_data\\images\\IMG_120.jpg\n",
      "(609, 469)\n",
      "generating density...\n"
     ]
    },
    {
     "name": "stderr",
     "output_type": "stream",
     "text": [
      "\r",
      " 27%|██▋       | 325/1198 [1:16:54<2:29:18, 10.26s/it]"
     ]
    },
    {
     "name": "stdout",
     "output_type": "stream",
     "text": [
      "done.\n",
      "data/part_A/test_data\\images\\IMG_121.jpg\n",
      "(684, 1024)\n",
      "generating density...\n"
     ]
    },
    {
     "name": "stderr",
     "output_type": "stream",
     "text": [
      "\r",
      " 27%|██▋       | 326/1198 [1:17:23<3:51:21, 15.92s/it]"
     ]
    },
    {
     "name": "stdout",
     "output_type": "stream",
     "text": [
      "done.\n",
      "data/part_A/test_data\\images\\IMG_122.jpg\n",
      "(760, 1024)\n",
      "generating density...\n"
     ]
    },
    {
     "name": "stderr",
     "output_type": "stream",
     "text": [
      "\r",
      " 27%|██▋       | 327/1198 [1:17:51<4:42:57, 19.49s/it]"
     ]
    },
    {
     "name": "stdout",
     "output_type": "stream",
     "text": [
      "done.\n",
      "data/part_A/test_data\\images\\IMG_123.jpg\n",
      "(276, 460)\n",
      "generating density...\n"
     ]
    },
    {
     "name": "stderr",
     "output_type": "stream",
     "text": [
      "\r",
      " 27%|██▋       | 328/1198 [1:17:52<3:21:59, 13.93s/it]"
     ]
    },
    {
     "name": "stdout",
     "output_type": "stream",
     "text": [
      "done.\n",
      "data/part_A/test_data\\images\\IMG_124.jpg\n",
      "(448, 640)\n",
      "generating density...\n"
     ]
    },
    {
     "name": "stderr",
     "output_type": "stream",
     "text": [
      "\r",
      " 27%|██▋       | 329/1198 [1:17:57<2:39:42, 11.03s/it]"
     ]
    },
    {
     "name": "stdout",
     "output_type": "stream",
     "text": [
      "done.\n",
      "data/part_A/test_data\\images\\IMG_125.jpg\n",
      "(659, 1024)\n",
      "generating density...\n"
     ]
    },
    {
     "name": "stderr",
     "output_type": "stream",
     "text": [
      "\r",
      " 28%|██▊       | 330/1198 [1:18:14<3:09:03, 13.07s/it]"
     ]
    },
    {
     "name": "stdout",
     "output_type": "stream",
     "text": [
      "done.\n",
      "data/part_A/test_data\\images\\IMG_126.jpg\n",
      "(683, 1024)\n",
      "generating density...\n"
     ]
    },
    {
     "name": "stderr",
     "output_type": "stream",
     "text": [
      "\r",
      " 28%|██▊       | 331/1198 [1:18:29<3:14:54, 13.49s/it]"
     ]
    },
    {
     "name": "stdout",
     "output_type": "stream",
     "text": [
      "done.\n",
      "data/part_A/test_data\\images\\IMG_127.jpg\n",
      "(768, 1024)\n",
      "generating density...\n"
     ]
    },
    {
     "name": "stderr",
     "output_type": "stream",
     "text": [
      "\r",
      " 28%|██▊       | 332/1198 [1:18:54<4:05:42, 17.02s/it]"
     ]
    },
    {
     "name": "stdout",
     "output_type": "stream",
     "text": [
      "done.\n",
      "data/part_A/test_data\\images\\IMG_128.jpg\n",
      "(424, 636)\n",
      "generating density...\n"
     ]
    },
    {
     "name": "stderr",
     "output_type": "stream",
     "text": [
      "\r",
      " 28%|██▊       | 333/1198 [1:18:59<3:14:35, 13.50s/it]"
     ]
    },
    {
     "name": "stdout",
     "output_type": "stream",
     "text": [
      "done.\n",
      "data/part_A/test_data\\images\\IMG_129.jpg\n",
      "(768, 1024)\n",
      "generating density...\n"
     ]
    },
    {
     "name": "stderr",
     "output_type": "stream",
     "text": [
      "\r",
      " 28%|██▊       | 334/1198 [1:19:20<3:44:06, 15.56s/it]"
     ]
    },
    {
     "name": "stdout",
     "output_type": "stream",
     "text": [
      "done.\n",
      "data/part_A/test_data\\images\\IMG_13.jpg\n",
      "(587, 1024)\n",
      "generating density...\n"
     ]
    },
    {
     "name": "stderr",
     "output_type": "stream",
     "text": [
      "\r",
      " 28%|██▊       | 335/1198 [1:19:37<3:51:50, 16.12s/it]"
     ]
    },
    {
     "name": "stdout",
     "output_type": "stream",
     "text": [
      "done.\n",
      "data/part_A/test_data\\images\\IMG_130.jpg\n",
      "(547, 795)\n",
      "generating density...\n"
     ]
    },
    {
     "name": "stderr",
     "output_type": "stream",
     "text": [
      "\r",
      " 28%|██▊       | 336/1198 [1:19:49<3:34:44, 14.95s/it]"
     ]
    },
    {
     "name": "stdout",
     "output_type": "stream",
     "text": [
      "done.\n",
      "data/part_A/test_data\\images\\IMG_131.jpg\n",
      "(732, 1024)\n",
      "generating density...\n"
     ]
    },
    {
     "name": "stderr",
     "output_type": "stream",
     "text": [
      "\r",
      " 28%|██▊       | 337/1198 [1:20:17<4:28:24, 18.70s/it]"
     ]
    },
    {
     "name": "stdout",
     "output_type": "stream",
     "text": [
      "done.\n",
      "data/part_A/test_data\\images\\IMG_132.jpg\n",
      "(403, 1024)\n",
      "generating density...\n"
     ]
    },
    {
     "name": "stderr",
     "output_type": "stream",
     "text": [
      "\r",
      " 28%|██▊       | 338/1198 [1:20:25<3:40:34, 15.39s/it]"
     ]
    },
    {
     "name": "stdout",
     "output_type": "stream",
     "text": [
      "done.\n",
      "data/part_A/test_data\\images\\IMG_133.jpg\n",
      "(378, 810)\n",
      "generating density...\n"
     ]
    },
    {
     "name": "stderr",
     "output_type": "stream",
     "text": [
      "\r",
      " 28%|██▊       | 339/1198 [1:20:28<2:50:55, 11.94s/it]"
     ]
    },
    {
     "name": "stdout",
     "output_type": "stream",
     "text": [
      "done.\n",
      "data/part_A/test_data\\images\\IMG_134.jpg\n",
      "(790, 1024)\n",
      "generating density...\n"
     ]
    },
    {
     "name": "stderr",
     "output_type": "stream",
     "text": [
      "\r",
      " 28%|██▊       | 340/1198 [1:20:54<3:48:34, 15.98s/it]"
     ]
    },
    {
     "name": "stdout",
     "output_type": "stream",
     "text": [
      "done.\n",
      "data/part_A/test_data\\images\\IMG_135.jpg\n",
      "(224, 400)\n",
      "generating density...\n"
     ]
    },
    {
     "name": "stderr",
     "output_type": "stream",
     "text": [
      "\r",
      " 28%|██▊       | 341/1198 [1:20:55<2:43:31, 11.45s/it]"
     ]
    },
    {
     "name": "stdout",
     "output_type": "stream",
     "text": [
      "done.\n",
      "data/part_A/test_data\\images\\IMG_136.jpg\n",
      "(224, 400)\n",
      "generating density...\n"
     ]
    },
    {
     "name": "stderr",
     "output_type": "stream",
     "text": [
      "\r",
      " 29%|██▊       | 342/1198 [1:20:56<1:58:30,  8.31s/it]"
     ]
    },
    {
     "name": "stdout",
     "output_type": "stream",
     "text": [
      "done.\n",
      "data/part_A/test_data\\images\\IMG_137.jpg\n",
      "(299, 449)\n",
      "generating density...\n"
     ]
    },
    {
     "name": "stderr",
     "output_type": "stream",
     "text": [
      "\r",
      " 29%|██▊       | 343/1198 [1:20:59<1:35:38,  6.71s/it]"
     ]
    },
    {
     "name": "stdout",
     "output_type": "stream",
     "text": [
      "done.\n",
      "data/part_A/test_data\\images\\IMG_138.jpg\n",
      "(438, 293)\n",
      "generating density...\n"
     ]
    },
    {
     "name": "stderr",
     "output_type": "stream",
     "text": [
      "\r",
      " 29%|██▊       | 344/1198 [1:21:01<1:16:40,  5.39s/it]"
     ]
    },
    {
     "name": "stdout",
     "output_type": "stream",
     "text": [
      "done.\n",
      "data/part_A/test_data\\images\\IMG_139.jpg\n",
      "(511, 1024)\n",
      "generating density...\n"
     ]
    },
    {
     "name": "stderr",
     "output_type": "stream",
     "text": [
      "\r",
      " 29%|██▉       | 345/1198 [1:21:15<1:52:05,  7.88s/it]"
     ]
    },
    {
     "name": "stdout",
     "output_type": "stream",
     "text": [
      "done.\n",
      "data/part_A/test_data\\images\\IMG_14.jpg\n",
      "(683, 1024)\n",
      "generating density...\n"
     ]
    },
    {
     "name": "stderr",
     "output_type": "stream",
     "text": [
      "\r",
      " 29%|██▉       | 346/1198 [1:21:51<3:54:35, 16.52s/it]"
     ]
    },
    {
     "name": "stdout",
     "output_type": "stream",
     "text": [
      "done.\n",
      "data/part_A/test_data\\images\\IMG_140.jpg\n",
      "(768, 1024)\n",
      "generating density...\n"
     ]
    },
    {
     "name": "stderr",
     "output_type": "stream",
     "text": [
      "\r",
      " 29%|██▉       | 347/1198 [1:22:04<3:38:35, 15.41s/it]"
     ]
    },
    {
     "name": "stdout",
     "output_type": "stream",
     "text": [
      "done.\n",
      "data/part_A/test_data\\images\\IMG_141.jpg\n",
      "(578, 1024)\n",
      "generating density...\n"
     ]
    },
    {
     "name": "stderr",
     "output_type": "stream",
     "text": [
      "\r",
      " 29%|██▉       | 348/1198 [1:22:16<3:22:12, 14.27s/it]"
     ]
    },
    {
     "name": "stdout",
     "output_type": "stream",
     "text": [
      "done.\n",
      "data/part_A/test_data\\images\\IMG_142.jpg\n",
      "(368, 550)\n",
      "generating density...\n"
     ]
    },
    {
     "name": "stderr",
     "output_type": "stream",
     "text": [
      "\r",
      " 29%|██▉       | 349/1198 [1:22:18<2:31:47, 10.73s/it]"
     ]
    },
    {
     "name": "stdout",
     "output_type": "stream",
     "text": [
      "done.\n",
      "data/part_A/test_data\\images\\IMG_143.jpg\n",
      "(432, 550)\n",
      "generating density...\n"
     ]
    },
    {
     "name": "stderr",
     "output_type": "stream",
     "text": [
      "\r",
      " 29%|██▉       | 350/1198 [1:22:22<2:03:54,  8.77s/it]"
     ]
    },
    {
     "name": "stdout",
     "output_type": "stream",
     "text": [
      "done.\n",
      "data/part_A/test_data\\images\\IMG_144.jpg\n",
      "(398, 728)\n",
      "generating density...\n"
     ]
    },
    {
     "name": "stderr",
     "output_type": "stream",
     "text": [
      "\r",
      " 29%|██▉       | 351/1198 [1:22:27<1:47:13,  7.60s/it]"
     ]
    },
    {
     "name": "stdout",
     "output_type": "stream",
     "text": [
      "done.\n",
      "data/part_A/test_data\\images\\IMG_145.jpg\n",
      "(367, 1024)\n",
      "generating density...\n"
     ]
    },
    {
     "name": "stderr",
     "output_type": "stream",
     "text": [
      "\r",
      " 29%|██▉       | 352/1198 [1:22:34<1:43:03,  7.31s/it]"
     ]
    },
    {
     "name": "stdout",
     "output_type": "stream",
     "text": [
      "done.\n",
      "data/part_A/test_data\\images\\IMG_146.jpg\n",
      "(611, 767)\n",
      "generating density...\n"
     ]
    },
    {
     "name": "stderr",
     "output_type": "stream",
     "text": [
      "\r",
      " 29%|██▉       | 353/1198 [1:22:43<1:49:52,  7.80s/it]"
     ]
    },
    {
     "name": "stdout",
     "output_type": "stream",
     "text": [
      "done.\n",
      "data/part_A/test_data\\images\\IMG_147.jpg\n",
      "(433, 1024)\n",
      "generating density...\n"
     ]
    },
    {
     "name": "stderr",
     "output_type": "stream",
     "text": [
      "\r",
      " 30%|██▉       | 354/1198 [1:22:57<2:14:35,  9.57s/it]"
     ]
    },
    {
     "name": "stdout",
     "output_type": "stream",
     "text": [
      "done.\n",
      "data/part_A/test_data\\images\\IMG_148.jpg\n",
      "(434, 650)\n",
      "generating density...\n"
     ]
    },
    {
     "name": "stderr",
     "output_type": "stream",
     "text": [
      "\r",
      " 30%|██▉       | 355/1198 [1:23:00<1:49:08,  7.77s/it]"
     ]
    },
    {
     "name": "stdout",
     "output_type": "stream",
     "text": [
      "done.\n",
      "data/part_A/test_data\\images\\IMG_149.jpg\n",
      "(749, 1024)\n",
      "generating density...\n"
     ]
    },
    {
     "name": "stderr",
     "output_type": "stream",
     "text": [
      "\r",
      " 30%|██▉       | 356/1198 [1:23:24<2:54:44, 12.45s/it]"
     ]
    },
    {
     "name": "stdout",
     "output_type": "stream",
     "text": [
      "done.\n",
      "data/part_A/test_data\\images\\IMG_15.jpg\n",
      "(333, 500)\n",
      "generating density...\n"
     ]
    },
    {
     "name": "stderr",
     "output_type": "stream",
     "text": [
      "\r",
      " 30%|██▉       | 357/1198 [1:23:26<2:10:49,  9.33s/it]"
     ]
    },
    {
     "name": "stdout",
     "output_type": "stream",
     "text": [
      "done.\n",
      "data/part_A/test_data\\images\\IMG_150.jpg\n",
      "(428, 652)\n",
      "generating density...\n"
     ]
    },
    {
     "name": "stderr",
     "output_type": "stream",
     "text": [
      "\r",
      " 30%|██▉       | 358/1198 [1:23:36<2:16:17,  9.73s/it]"
     ]
    },
    {
     "name": "stdout",
     "output_type": "stream",
     "text": [
      "done.\n",
      "data/part_A/test_data\\images\\IMG_151.jpg\n",
      "(437, 624)\n",
      "generating density...\n"
     ]
    },
    {
     "name": "stderr",
     "output_type": "stream",
     "text": [
      "\r",
      " 30%|██▉       | 359/1198 [1:23:40<1:52:16,  8.03s/it]"
     ]
    },
    {
     "name": "stdout",
     "output_type": "stream",
     "text": [
      "done.\n",
      "data/part_A/test_data\\images\\IMG_152.jpg\n",
      "(709, 1024)\n",
      "generating density...\n"
     ]
    },
    {
     "name": "stderr",
     "output_type": "stream",
     "text": [
      "\r",
      " 30%|███       | 360/1198 [1:24:02<2:48:21, 12.05s/it]"
     ]
    },
    {
     "name": "stdout",
     "output_type": "stream",
     "text": [
      "done.\n",
      "data/part_A/test_data\\images\\IMG_153.jpg\n",
      "(400, 600)\n",
      "generating density...\n"
     ]
    },
    {
     "name": "stderr",
     "output_type": "stream",
     "text": [
      "\r",
      " 30%|███       | 361/1198 [1:24:05<2:10:54,  9.38s/it]"
     ]
    },
    {
     "name": "stdout",
     "output_type": "stream",
     "text": [
      "done.\n",
      "data/part_A/test_data\\images\\IMG_154.jpg\n",
      "(324, 1024)\n",
      "generating density...\n"
     ]
    },
    {
     "name": "stderr",
     "output_type": "stream",
     "text": [
      "\r",
      " 30%|███       | 362/1198 [1:24:16<2:16:17,  9.78s/it]"
     ]
    },
    {
     "name": "stdout",
     "output_type": "stream",
     "text": [
      "done.\n",
      "data/part_A/test_data\\images\\IMG_155.jpg\n",
      "(1024, 680)\n",
      "generating density...\n"
     ]
    },
    {
     "name": "stderr",
     "output_type": "stream",
     "text": [
      "\r",
      " 30%|███       | 363/1198 [1:24:28<2:25:19, 10.44s/it]"
     ]
    },
    {
     "name": "stdout",
     "output_type": "stream",
     "text": [
      "done.\n",
      "data/part_A/test_data\\images\\IMG_156.jpg\n",
      "(552, 1024)\n",
      "generating density...\n"
     ]
    },
    {
     "name": "stderr",
     "output_type": "stream",
     "text": [
      "\r",
      " 30%|███       | 364/1198 [1:24:34<2:10:23,  9.38s/it]"
     ]
    },
    {
     "name": "stdout",
     "output_type": "stream",
     "text": [
      "done.\n",
      "data/part_A/test_data\\images\\IMG_157.jpg\n",
      "(676, 1024)\n",
      "generating density...\n"
     ]
    },
    {
     "name": "stderr",
     "output_type": "stream",
     "text": [
      "\r",
      " 30%|███       | 365/1198 [1:24:47<2:21:33, 10.20s/it]"
     ]
    },
    {
     "name": "stdout",
     "output_type": "stream",
     "text": [
      "done.\n",
      "data/part_A/test_data\\images\\IMG_158.jpg\n",
      "(428, 594)\n",
      "generating density...\n"
     ]
    },
    {
     "name": "stderr",
     "output_type": "stream",
     "text": [
      "\r",
      " 31%|███       | 366/1198 [1:24:49<1:50:31,  7.97s/it]"
     ]
    },
    {
     "name": "stdout",
     "output_type": "stream",
     "text": [
      "done.\n",
      "data/part_A/test_data\\images\\IMG_159.jpg\n",
      "(580, 882)\n",
      "generating density...\n"
     ]
    },
    {
     "name": "stderr",
     "output_type": "stream",
     "text": [
      "\r",
      " 31%|███       | 367/1198 [1:25:00<1:59:36,  8.64s/it]"
     ]
    },
    {
     "name": "stdout",
     "output_type": "stream",
     "text": [
      "done.\n",
      "data/part_A/test_data\\images\\IMG_16.jpg\n",
      "(419, 536)\n",
      "generating density...\n"
     ]
    },
    {
     "name": "stderr",
     "output_type": "stream",
     "text": [
      "\r",
      " 31%|███       | 368/1198 [1:25:03<1:38:07,  7.09s/it]"
     ]
    },
    {
     "name": "stdout",
     "output_type": "stream",
     "text": [
      "done.\n",
      "data/part_A/test_data\\images\\IMG_160.jpg\n",
      "(359, 478)\n",
      "generating density...\n"
     ]
    },
    {
     "name": "stderr",
     "output_type": "stream",
     "text": [
      "\r",
      " 31%|███       | 369/1198 [1:25:05<1:14:48,  5.41s/it]"
     ]
    },
    {
     "name": "stdout",
     "output_type": "stream",
     "text": [
      "done.\n",
      "data/part_A/test_data\\images\\IMG_161.jpg\n",
      "(540, 960)\n",
      "generating density...\n"
     ]
    },
    {
     "name": "stderr",
     "output_type": "stream",
     "text": [
      "\r",
      " 31%|███       | 370/1198 [1:25:12<1:22:21,  5.97s/it]"
     ]
    },
    {
     "name": "stdout",
     "output_type": "stream",
     "text": [
      "done.\n",
      "data/part_A/test_data\\images\\IMG_162.jpg\n",
      "(448, 610)\n",
      "generating density...\n"
     ]
    },
    {
     "name": "stderr",
     "output_type": "stream",
     "text": [
      "\r",
      " 31%|███       | 371/1198 [1:25:16<1:13:14,  5.31s/it]"
     ]
    },
    {
     "name": "stdout",
     "output_type": "stream",
     "text": [
      "done.\n",
      "data/part_A/test_data\\images\\IMG_163.jpg\n",
      "(500, 649)\n",
      "generating density...\n"
     ]
    },
    {
     "name": "stderr",
     "output_type": "stream",
     "text": [
      "\r",
      " 31%|███       | 372/1198 [1:25:19<1:03:39,  4.62s/it]"
     ]
    },
    {
     "name": "stdout",
     "output_type": "stream",
     "text": [
      "done.\n",
      "data/part_A/test_data\\images\\IMG_164.jpg\n",
      "(265, 701)\n",
      "generating density...\n"
     ]
    },
    {
     "name": "stderr",
     "output_type": "stream",
     "text": [
      "\r",
      " 31%|███       | 373/1198 [1:25:21<55:00,  4.00s/it]  "
     ]
    },
    {
     "name": "stdout",
     "output_type": "stream",
     "text": [
      "done.\n",
      "data/part_A/test_data\\images\\IMG_165.jpg\n",
      "(681, 1024)\n",
      "generating density...\n"
     ]
    },
    {
     "name": "stderr",
     "output_type": "stream",
     "text": [
      "\r",
      " 31%|███       | 374/1198 [1:25:49<2:32:20, 11.09s/it]"
     ]
    },
    {
     "name": "stdout",
     "output_type": "stream",
     "text": [
      "done.\n",
      "data/part_A/test_data\\images\\IMG_166.jpg\n",
      "(540, 960)\n",
      "generating density...\n"
     ]
    },
    {
     "name": "stderr",
     "output_type": "stream",
     "text": [
      "\r",
      " 31%|███▏      | 375/1198 [1:25:56<2:16:21,  9.94s/it]"
     ]
    },
    {
     "name": "stdout",
     "output_type": "stream",
     "text": [
      "done.\n",
      "data/part_A/test_data\\images\\IMG_167.jpg\n",
      "(359, 478)\n",
      "generating density...\n"
     ]
    },
    {
     "name": "stderr",
     "output_type": "stream",
     "text": [
      "\r",
      " 31%|███▏      | 376/1198 [1:25:57<1:40:29,  7.33s/it]"
     ]
    },
    {
     "name": "stdout",
     "output_type": "stream",
     "text": [
      "done.\n",
      "data/part_A/test_data\\images\\IMG_168.jpg\n",
      "(688, 1024)\n",
      "generating density...\n"
     ]
    },
    {
     "name": "stderr",
     "output_type": "stream",
     "text": [
      "\r",
      " 31%|███▏      | 377/1198 [1:26:13<2:14:57,  9.86s/it]"
     ]
    },
    {
     "name": "stdout",
     "output_type": "stream",
     "text": [
      "done.\n",
      "data/part_A/test_data\\images\\IMG_169.jpg\n",
      "(683, 1024)\n",
      "generating density...\n"
     ]
    },
    {
     "name": "stderr",
     "output_type": "stream",
     "text": [
      "\r",
      " 32%|███▏      | 378/1198 [1:26:35<3:03:24, 13.42s/it]"
     ]
    },
    {
     "name": "stdout",
     "output_type": "stream",
     "text": [
      "done.\n",
      "data/part_A/test_data\\images\\IMG_17.jpg\n",
      "(508, 997)\n",
      "generating density...\n"
     ]
    },
    {
     "name": "stderr",
     "output_type": "stream",
     "text": [
      "\r",
      " 32%|███▏      | 379/1198 [1:26:58<3:41:37, 16.24s/it]"
     ]
    },
    {
     "name": "stdout",
     "output_type": "stream",
     "text": [
      "done.\n",
      "data/part_A/test_data\\images\\IMG_170.jpg\n",
      "(687, 1024)\n",
      "generating density...\n"
     ]
    },
    {
     "name": "stderr",
     "output_type": "stream",
     "text": [
      "\r",
      " 32%|███▏      | 380/1198 [1:27:23<4:19:08, 19.01s/it]"
     ]
    },
    {
     "name": "stdout",
     "output_type": "stream",
     "text": [
      "done.\n",
      "data/part_A/test_data\\images\\IMG_171.jpg\n",
      "(687, 1024)\n",
      "generating density...\n"
     ]
    },
    {
     "name": "stderr",
     "output_type": "stream",
     "text": [
      "\r",
      " 32%|███▏      | 381/1198 [1:27:39<4:07:46, 18.20s/it]"
     ]
    },
    {
     "name": "stdout",
     "output_type": "stream",
     "text": [
      "done.\n",
      "data/part_A/test_data\\images\\IMG_172.jpg\n",
      "(350, 1024)\n",
      "generating density...\n"
     ]
    },
    {
     "name": "stderr",
     "output_type": "stream",
     "text": [
      "\r",
      " 32%|███▏      | 382/1198 [1:27:51<3:40:33, 16.22s/it]"
     ]
    },
    {
     "name": "stdout",
     "output_type": "stream",
     "text": [
      "done.\n",
      "data/part_A/test_data\\images\\IMG_173.jpg\n",
      "(713, 1024)\n",
      "generating density...\n"
     ]
    },
    {
     "name": "stderr",
     "output_type": "stream",
     "text": [
      "\r",
      " 32%|███▏      | 383/1198 [1:28:09<3:48:51, 16.85s/it]"
     ]
    },
    {
     "name": "stdout",
     "output_type": "stream",
     "text": [
      "done.\n",
      "data/part_A/test_data\\images\\IMG_174.jpg\n",
      "(768, 1024)\n",
      "generating density...\n"
     ]
    },
    {
     "name": "stderr",
     "output_type": "stream",
     "text": [
      "\r",
      " 32%|███▏      | 384/1198 [1:28:17<3:09:49, 13.99s/it]"
     ]
    },
    {
     "name": "stdout",
     "output_type": "stream",
     "text": [
      "done.\n",
      "data/part_A/test_data\\images\\IMG_175.jpg\n",
      "(473, 1024)\n",
      "generating density...\n"
     ]
    },
    {
     "name": "stderr",
     "output_type": "stream",
     "text": [
      "\r",
      " 32%|███▏      | 385/1198 [1:28:24<2:44:07, 12.11s/it]"
     ]
    },
    {
     "name": "stdout",
     "output_type": "stream",
     "text": [
      "done.\n",
      "data/part_A/test_data\\images\\IMG_176.jpg\n",
      "(400, 570)\n",
      "generating density...\n"
     ]
    },
    {
     "name": "stderr",
     "output_type": "stream",
     "text": [
      "\r",
      " 32%|███▏      | 386/1198 [1:28:26<2:00:34,  8.91s/it]"
     ]
    },
    {
     "name": "stdout",
     "output_type": "stream",
     "text": [
      "done.\n",
      "data/part_A/test_data\\images\\IMG_177.jpg\n",
      "(683, 1024)\n",
      "generating density...\n"
     ]
    },
    {
     "name": "stderr",
     "output_type": "stream",
     "text": [
      "\r",
      " 32%|███▏      | 387/1198 [1:28:37<2:10:44,  9.67s/it]"
     ]
    },
    {
     "name": "stdout",
     "output_type": "stream",
     "text": [
      "done.\n",
      "data/part_A/test_data\\images\\IMG_178.jpg\n",
      "(683, 1024)\n",
      "generating density...\n"
     ]
    },
    {
     "name": "stderr",
     "output_type": "stream",
     "text": [
      "\r",
      " 32%|███▏      | 388/1198 [1:28:55<2:42:38, 12.05s/it]"
     ]
    },
    {
     "name": "stdout",
     "output_type": "stream",
     "text": [
      "done.\n",
      "data/part_A/test_data\\images\\IMG_179.jpg\n",
      "(683, 1024)\n",
      "generating density...\n"
     ]
    },
    {
     "name": "stderr",
     "output_type": "stream",
     "text": [
      "\r",
      " 32%|███▏      | 389/1198 [1:29:06<2:39:46, 11.85s/it]"
     ]
    },
    {
     "name": "stdout",
     "output_type": "stream",
     "text": [
      "done.\n",
      "data/part_A/test_data\\images\\IMG_18.jpg\n",
      "(681, 1024)\n",
      "generating density...\n"
     ]
    },
    {
     "name": "stderr",
     "output_type": "stream",
     "text": [
      "\r",
      " 33%|███▎      | 390/1198 [1:29:14<2:24:21, 10.72s/it]"
     ]
    },
    {
     "name": "stdout",
     "output_type": "stream",
     "text": [
      "done.\n",
      "data/part_A/test_data\\images\\IMG_180.jpg\n",
      "(768, 1024)\n",
      "generating density...\n"
     ]
    },
    {
     "name": "stderr",
     "output_type": "stream",
     "text": [
      "\r",
      " 33%|███▎      | 391/1198 [1:29:25<2:23:15, 10.65s/it]"
     ]
    },
    {
     "name": "stdout",
     "output_type": "stream",
     "text": [
      "done.\n",
      "data/part_A/test_data\\images\\IMG_181.jpg\n",
      "(681, 1024)\n",
      "generating density...\n"
     ]
    },
    {
     "name": "stderr",
     "output_type": "stream",
     "text": [
      "\r",
      " 33%|███▎      | 392/1198 [1:29:41<2:43:40, 12.18s/it]"
     ]
    },
    {
     "name": "stdout",
     "output_type": "stream",
     "text": [
      "done.\n",
      "data/part_A/test_data\\images\\IMG_182.jpg\n",
      "(688, 1024)\n",
      "generating density...\n"
     ]
    },
    {
     "name": "stderr",
     "output_type": "stream",
     "text": [
      "\r",
      " 33%|███▎      | 393/1198 [1:29:50<2:30:43, 11.23s/it]"
     ]
    },
    {
     "name": "stdout",
     "output_type": "stream",
     "text": [
      "done.\n",
      "data/part_A/test_data\\images\\IMG_19.jpg\n",
      "(683, 1024)\n",
      "generating density...\n"
     ]
    },
    {
     "name": "stderr",
     "output_type": "stream",
     "text": [
      "\r",
      " 33%|███▎      | 394/1198 [1:29:57<2:13:18,  9.95s/it]"
     ]
    },
    {
     "name": "stdout",
     "output_type": "stream",
     "text": [
      "done.\n",
      "data/part_A/test_data\\images\\IMG_2.jpg\n",
      "(684, 1024)\n",
      "generating density...\n"
     ]
    },
    {
     "name": "stderr",
     "output_type": "stream",
     "text": [
      "\r",
      " 33%|███▎      | 395/1198 [1:30:28<3:41:13, 16.53s/it]"
     ]
    },
    {
     "name": "stdout",
     "output_type": "stream",
     "text": [
      "done.\n",
      "data/part_A/test_data\\images\\IMG_20.jpg\n",
      "(683, 1024)\n"
     ]
    },
    {
     "name": "stderr",
     "output_type": "stream",
     "text": [
      "\r",
      " 33%|███▎      | 396/1198 [1:30:52<4:10:54, 18.77s/it]"
     ]
    },
    {
     "name": "stdout",
     "output_type": "stream",
     "text": [
      "generating density...\n",
      "done.\n",
      "data/part_A/test_data\\images\\IMG_21.jpg\n",
      "(683, 1024)\n",
      "generating density...\n"
     ]
    },
    {
     "name": "stderr",
     "output_type": "stream",
     "text": [
      "\r",
      " 33%|███▎      | 397/1198 [1:31:09<4:00:21, 18.00s/it]"
     ]
    },
    {
     "name": "stdout",
     "output_type": "stream",
     "text": [
      "done.\n",
      "data/part_A/test_data\\images\\IMG_22.jpg\n",
      "(540, 720)\n",
      "generating density...\n"
     ]
    },
    {
     "name": "stderr",
     "output_type": "stream",
     "text": [
      "\r",
      " 33%|███▎      | 398/1198 [1:31:12<3:01:03, 13.58s/it]"
     ]
    },
    {
     "name": "stdout",
     "output_type": "stream",
     "text": [
      "done.\n",
      "data/part_A/test_data\\images\\IMG_23.jpg\n",
      "(942, 1024)\n",
      "generating density...\n"
     ]
    },
    {
     "name": "stderr",
     "output_type": "stream",
     "text": [
      "\r",
      " 33%|███▎      | 399/1198 [1:31:31<3:21:44, 15.15s/it]"
     ]
    },
    {
     "name": "stdout",
     "output_type": "stream",
     "text": [
      "done.\n",
      "data/part_A/test_data\\images\\IMG_24.jpg\n",
      "(633, 1024)\n",
      "generating density...\n"
     ]
    },
    {
     "name": "stderr",
     "output_type": "stream",
     "text": [
      "\r",
      " 33%|███▎      | 400/1198 [1:31:49<3:33:21, 16.04s/it]"
     ]
    },
    {
     "name": "stdout",
     "output_type": "stream",
     "text": [
      "done.\n",
      "data/part_A/test_data\\images\\IMG_25.jpg\n",
      "(681, 1024)\n",
      "generating density...\n"
     ]
    },
    {
     "name": "stderr",
     "output_type": "stream",
     "text": [
      "\r",
      " 33%|███▎      | 401/1198 [1:31:57<3:01:47, 13.69s/it]"
     ]
    },
    {
     "name": "stdout",
     "output_type": "stream",
     "text": [
      "done.\n",
      "data/part_A/test_data\\images\\IMG_26.jpg\n",
      "(293, 450)\n",
      "generating density...\n"
     ]
    },
    {
     "name": "stderr",
     "output_type": "stream",
     "text": [
      "\r",
      " 34%|███▎      | 402/1198 [1:31:59<2:14:14, 10.12s/it]"
     ]
    },
    {
     "name": "stdout",
     "output_type": "stream",
     "text": [
      "done.\n",
      "data/part_A/test_data\\images\\IMG_27.jpg\n",
      "(781, 1024)\n",
      "generating density...\n"
     ]
    },
    {
     "name": "stderr",
     "output_type": "stream",
     "text": [
      "\r",
      " 34%|███▎      | 403/1198 [1:32:30<3:39:46, 16.59s/it]"
     ]
    },
    {
     "name": "stdout",
     "output_type": "stream",
     "text": [
      "done.\n",
      "data/part_A/test_data\\images\\IMG_28.jpg\n",
      "(697, 1024)\n",
      "generating density...\n"
     ]
    },
    {
     "name": "stderr",
     "output_type": "stream",
     "text": [
      "\r",
      " 34%|███▎      | 404/1198 [1:32:42<3:18:53, 15.03s/it]"
     ]
    },
    {
     "name": "stdout",
     "output_type": "stream",
     "text": [
      "done.\n",
      "data/part_A/test_data\\images\\IMG_29.jpg\n",
      "(683, 1024)\n",
      "generating density...\n"
     ]
    },
    {
     "name": "stderr",
     "output_type": "stream",
     "text": [
      "\r",
      " 34%|███▍      | 405/1198 [1:32:50<2:49:31, 12.83s/it]"
     ]
    },
    {
     "name": "stdout",
     "output_type": "stream",
     "text": [
      "done.\n",
      "data/part_A/test_data\\images\\IMG_3.jpg\n",
      "(427, 640)\n",
      "generating density...\n"
     ]
    },
    {
     "name": "stderr",
     "output_type": "stream",
     "text": [
      "\r",
      " 34%|███▍      | 406/1198 [1:32:53<2:11:59, 10.00s/it]"
     ]
    },
    {
     "name": "stdout",
     "output_type": "stream",
     "text": [
      "done.\n",
      "data/part_A/test_data\\images\\IMG_30.jpg\n",
      "(511, 766)\n",
      "generating density...\n"
     ]
    },
    {
     "name": "stderr",
     "output_type": "stream",
     "text": [
      "\r",
      " 34%|███▍      | 407/1198 [1:33:01<2:04:28,  9.44s/it]"
     ]
    },
    {
     "name": "stdout",
     "output_type": "stream",
     "text": [
      "done.\n",
      "data/part_A/test_data\\images\\IMG_31.jpg\n",
      "(615, 1024)\n",
      "generating density...\n"
     ]
    },
    {
     "name": "stderr",
     "output_type": "stream",
     "text": [
      "\r",
      " 34%|███▍      | 408/1198 [1:33:16<2:25:55, 11.08s/it]"
     ]
    },
    {
     "name": "stdout",
     "output_type": "stream",
     "text": [
      "done.\n",
      "data/part_A/test_data\\images\\IMG_32.jpg\n",
      "(683, 1024)\n",
      "generating density...\n"
     ]
    },
    {
     "name": "stderr",
     "output_type": "stream",
     "text": [
      "\r",
      " 34%|███▍      | 409/1198 [1:33:41<3:20:23, 15.24s/it]"
     ]
    },
    {
     "name": "stdout",
     "output_type": "stream",
     "text": [
      "done.\n",
      "data/part_A/test_data\\images\\IMG_33.jpg\n",
      "(577, 1024)\n",
      "generating density...\n"
     ]
    },
    {
     "name": "stderr",
     "output_type": "stream",
     "text": [
      "\r",
      " 34%|███▍      | 410/1198 [1:33:52<3:01:50, 13.85s/it]"
     ]
    },
    {
     "name": "stdout",
     "output_type": "stream",
     "text": [
      "done.\n",
      "data/part_A/test_data\\images\\IMG_34.jpg\n",
      "(200, 300)\n",
      "generating density...\n"
     ]
    },
    {
     "name": "stderr",
     "output_type": "stream",
     "text": [
      "\r",
      " 34%|███▍      | 411/1198 [1:33:52<2:08:09,  9.77s/it]"
     ]
    },
    {
     "name": "stdout",
     "output_type": "stream",
     "text": [
      "done.\n",
      "data/part_A/test_data\\images\\IMG_35.jpg\n",
      "(534, 832)\n",
      "generating density...\n"
     ]
    },
    {
     "name": "stderr",
     "output_type": "stream",
     "text": [
      "\r",
      " 34%|███▍      | 412/1198 [1:33:59<1:57:46,  8.99s/it]"
     ]
    },
    {
     "name": "stdout",
     "output_type": "stream",
     "text": [
      "done.\n",
      "data/part_A/test_data\\images\\IMG_36.jpg\n",
      "(424, 1024)\n",
      "generating density...\n"
     ]
    },
    {
     "name": "stderr",
     "output_type": "stream",
     "text": [
      "\r",
      " 34%|███▍      | 413/1198 [1:34:11<2:09:51,  9.93s/it]"
     ]
    },
    {
     "name": "stdout",
     "output_type": "stream",
     "text": [
      "done.\n",
      "data/part_A/test_data\\images\\IMG_37.jpg\n",
      "(669, 1000)\n",
      "generating density...\n"
     ]
    },
    {
     "name": "stderr",
     "output_type": "stream",
     "text": [
      "\r",
      " 35%|███▍      | 414/1198 [1:34:20<2:05:36,  9.61s/it]"
     ]
    },
    {
     "name": "stdout",
     "output_type": "stream",
     "text": [
      "done.\n",
      "data/part_A/test_data\\images\\IMG_38.jpg\n",
      "(683, 1024)\n",
      "generating density...\n"
     ]
    },
    {
     "name": "stderr",
     "output_type": "stream",
     "text": [
      "\r",
      " 35%|███▍      | 415/1198 [1:34:42<2:52:54, 13.25s/it]"
     ]
    },
    {
     "name": "stdout",
     "output_type": "stream",
     "text": [
      "done.\n",
      "data/part_A/test_data\\images\\IMG_39.jpg\n",
      "(683, 1024)\n",
      "generating density...\n"
     ]
    },
    {
     "name": "stderr",
     "output_type": "stream",
     "text": [
      "\r",
      " 35%|███▍      | 416/1198 [1:34:57<3:01:08, 13.90s/it]"
     ]
    },
    {
     "name": "stdout",
     "output_type": "stream",
     "text": [
      "done.\n",
      "data/part_A/test_data\\images\\IMG_4.jpg\n",
      "(334, 500)\n",
      "generating density...\n"
     ]
    },
    {
     "name": "stderr",
     "output_type": "stream",
     "text": [
      "\r",
      " 35%|███▍      | 417/1198 [1:34:58<2:11:51, 10.13s/it]"
     ]
    },
    {
     "name": "stdout",
     "output_type": "stream",
     "text": [
      "done.\n",
      "data/part_A/test_data\\images\\IMG_40.jpg\n",
      "(768, 1024)\n",
      "generating density...\n"
     ]
    },
    {
     "name": "stderr",
     "output_type": "stream",
     "text": [
      "\r",
      " 35%|███▍      | 418/1198 [1:35:09<2:11:31, 10.12s/it]"
     ]
    },
    {
     "name": "stdout",
     "output_type": "stream",
     "text": [
      "done.\n",
      "data/part_A/test_data\\images\\IMG_41.jpg\n",
      "(768, 1024)\n",
      "generating density...\n"
     ]
    },
    {
     "name": "stderr",
     "output_type": "stream",
     "text": [
      "\r",
      " 35%|███▍      | 419/1198 [1:35:25<2:34:16, 11.88s/it]"
     ]
    },
    {
     "name": "stdout",
     "output_type": "stream",
     "text": [
      "done.\n",
      "data/part_A/test_data\\images\\IMG_42.jpg\n",
      "(768, 1024)\n",
      "generating density...\n"
     ]
    },
    {
     "name": "stderr",
     "output_type": "stream",
     "text": [
      "\r",
      " 35%|███▌      | 420/1198 [1:35:51<3:29:36, 16.17s/it]"
     ]
    },
    {
     "name": "stdout",
     "output_type": "stream",
     "text": [
      "done.\n",
      "data/part_A/test_data\\images\\IMG_43.jpg\n",
      "(683, 1024)\n",
      "generating density...\n"
     ]
    },
    {
     "name": "stderr",
     "output_type": "stream",
     "text": [
      "\r",
      " 35%|███▌      | 421/1198 [1:35:56<2:47:19, 12.92s/it]"
     ]
    },
    {
     "name": "stdout",
     "output_type": "stream",
     "text": [
      "done.\n",
      "data/part_A/test_data\\images\\IMG_44.jpg\n",
      "(767, 1024)\n",
      "generating density...\n"
     ]
    },
    {
     "name": "stderr",
     "output_type": "stream",
     "text": [
      "\r",
      " 35%|███▌      | 422/1198 [1:36:12<2:57:35, 13.73s/it]"
     ]
    },
    {
     "name": "stdout",
     "output_type": "stream",
     "text": [
      "done.\n",
      "data/part_A/test_data\\images\\IMG_45.jpg\n",
      "(671, 827)\n",
      "generating density...\n"
     ]
    },
    {
     "name": "stderr",
     "output_type": "stream",
     "text": [
      "\r",
      " 35%|███▌      | 423/1198 [1:36:16<2:21:32, 10.96s/it]"
     ]
    },
    {
     "name": "stdout",
     "output_type": "stream",
     "text": [
      "done.\n",
      "data/part_A/test_data\\images\\IMG_46.jpg\n",
      "(680, 1024)\n",
      "generating density...\n"
     ]
    },
    {
     "name": "stderr",
     "output_type": "stream",
     "text": [
      "\r",
      " 35%|███▌      | 424/1198 [1:36:29<2:29:24, 11.58s/it]"
     ]
    },
    {
     "name": "stdout",
     "output_type": "stream",
     "text": [
      "done.\n",
      "data/part_A/test_data\\images\\IMG_47.jpg\n",
      "(350, 600)\n",
      "generating density...\n"
     ]
    },
    {
     "name": "stderr",
     "output_type": "stream",
     "text": [
      "\r",
      " 35%|███▌      | 425/1198 [1:36:32<1:56:45,  9.06s/it]"
     ]
    },
    {
     "name": "stdout",
     "output_type": "stream",
     "text": [
      "done.\n",
      "data/part_A/test_data\\images\\IMG_48.jpg\n",
      "(533, 1024)\n",
      "generating density...\n"
     ]
    },
    {
     "name": "stderr",
     "output_type": "stream",
     "text": [
      "\r",
      " 36%|███▌      | 426/1198 [1:36:48<2:20:02, 10.88s/it]"
     ]
    },
    {
     "name": "stdout",
     "output_type": "stream",
     "text": [
      "done.\n",
      "data/part_A/test_data\\images\\IMG_49.jpg\n",
      "(464, 634)\n",
      "generating density...\n"
     ]
    },
    {
     "name": "stderr",
     "output_type": "stream",
     "text": [
      "\r",
      " 36%|███▌      | 427/1198 [1:36:52<1:55:08,  8.96s/it]"
     ]
    },
    {
     "name": "stdout",
     "output_type": "stream",
     "text": [
      "done.\n",
      "data/part_A/test_data\\images\\IMG_5.jpg\n",
      "(768, 1024)\n",
      "generating density...\n"
     ]
    },
    {
     "name": "stderr",
     "output_type": "stream",
     "text": [
      "\r",
      " 36%|███▌      | 428/1198 [1:37:25<3:29:27, 16.32s/it]"
     ]
    },
    {
     "name": "stdout",
     "output_type": "stream",
     "text": [
      "done.\n",
      "data/part_A/test_data\\images\\IMG_50.jpg\n",
      "(1024, 992)\n",
      "generating density...\n"
     ]
    },
    {
     "name": "stderr",
     "output_type": "stream",
     "text": [
      "\r",
      " 36%|███▌      | 429/1198 [1:38:15<5:36:08, 26.23s/it]"
     ]
    },
    {
     "name": "stdout",
     "output_type": "stream",
     "text": [
      "done.\n",
      "data/part_A/test_data\\images\\IMG_51.jpg\n",
      "(667, 1000)\n",
      "generating density...\n"
     ]
    },
    {
     "name": "stderr",
     "output_type": "stream",
     "text": [
      "\r",
      " 36%|███▌      | 430/1198 [1:38:30<4:52:28, 22.85s/it]"
     ]
    },
    {
     "name": "stdout",
     "output_type": "stream",
     "text": [
      "done.\n",
      "data/part_A/test_data\\images\\IMG_52.jpg\n",
      "(284, 550)\n",
      "generating density...\n"
     ]
    },
    {
     "name": "stderr",
     "output_type": "stream",
     "text": [
      "\r",
      " 36%|███▌      | 431/1198 [1:38:31<3:28:19, 16.30s/it]"
     ]
    },
    {
     "name": "stdout",
     "output_type": "stream",
     "text": [
      "done.\n",
      "data/part_A/test_data\\images\\IMG_53.jpg\n",
      "(369, 553)\n",
      "generating density...\n"
     ]
    },
    {
     "name": "stderr",
     "output_type": "stream",
     "text": [
      "\r",
      " 36%|███▌      | 432/1198 [1:38:32<2:30:10, 11.76s/it]"
     ]
    },
    {
     "name": "stdout",
     "output_type": "stream",
     "text": [
      "done.\n",
      "data/part_A/test_data\\images\\IMG_54.jpg\n",
      "(350, 725)\n",
      "generating density...\n"
     ]
    },
    {
     "name": "stderr",
     "output_type": "stream",
     "text": [
      "\r",
      " 36%|███▌      | 433/1198 [1:38:36<1:59:54,  9.40s/it]"
     ]
    },
    {
     "name": "stdout",
     "output_type": "stream",
     "text": [
      "done.\n",
      "data/part_A/test_data\\images\\IMG_55.jpg\n",
      "(630, 934)\n",
      "generating density...\n"
     ]
    },
    {
     "name": "stderr",
     "output_type": "stream",
     "text": [
      "\r",
      " 36%|███▌      | 434/1198 [1:38:46<2:01:43,  9.56s/it]"
     ]
    },
    {
     "name": "stdout",
     "output_type": "stream",
     "text": [
      "done.\n",
      "data/part_A/test_data\\images\\IMG_56.jpg\n",
      "(411, 620)\n",
      "generating density...\n"
     ]
    },
    {
     "name": "stderr",
     "output_type": "stream",
     "text": [
      "\r",
      " 36%|███▋      | 435/1198 [1:38:50<1:39:47,  7.85s/it]"
     ]
    },
    {
     "name": "stdout",
     "output_type": "stream",
     "text": [
      "done.\n",
      "data/part_A/test_data\\images\\IMG_57.jpg\n",
      "(683, 1024)\n",
      "generating density...\n"
     ]
    },
    {
     "name": "stderr",
     "output_type": "stream",
     "text": [
      "\r",
      " 36%|███▋      | 436/1198 [1:39:03<1:59:59,  9.45s/it]"
     ]
    },
    {
     "name": "stdout",
     "output_type": "stream",
     "text": [
      "done.\n",
      "data/part_A/test_data\\images\\IMG_58.jpg\n",
      "(706, 1024)\n",
      "generating density...\n"
     ]
    },
    {
     "name": "stderr",
     "output_type": "stream",
     "text": [
      "\r",
      " 36%|███▋      | 437/1198 [1:39:19<2:25:52, 11.50s/it]"
     ]
    },
    {
     "name": "stdout",
     "output_type": "stream",
     "text": [
      "done.\n",
      "data/part_A/test_data\\images\\IMG_59.jpg\n",
      "(350, 860)\n",
      "generating density...\n"
     ]
    },
    {
     "name": "stderr",
     "output_type": "stream",
     "text": [
      "\r",
      " 37%|███▋      | 438/1198 [1:39:24<1:59:28,  9.43s/it]"
     ]
    },
    {
     "name": "stdout",
     "output_type": "stream",
     "text": [
      "done.\n",
      "data/part_A/test_data\\images\\IMG_6.jpg\n",
      "(687, 1024)\n",
      "generating density...\n"
     ]
    },
    {
     "name": "stderr",
     "output_type": "stream",
     "text": [
      "\r",
      " 37%|███▋      | 439/1198 [1:39:41<2:30:37, 11.91s/it]"
     ]
    },
    {
     "name": "stdout",
     "output_type": "stream",
     "text": [
      "done.\n",
      "data/part_A/test_data\\images\\IMG_60.jpg\n",
      "(599, 900)\n",
      "generating density...\n"
     ]
    },
    {
     "name": "stderr",
     "output_type": "stream",
     "text": [
      "\r",
      " 37%|███▋      | 440/1198 [1:39:48<2:09:57, 10.29s/it]"
     ]
    },
    {
     "name": "stdout",
     "output_type": "stream",
     "text": [
      "done.\n",
      "data/part_A/test_data\\images\\IMG_61.jpg\n",
      "(398, 598)\n",
      "generating density...\n"
     ]
    },
    {
     "name": "stderr",
     "output_type": "stream",
     "text": [
      "\r",
      " 37%|███▋      | 441/1198 [1:39:50<1:40:19,  7.95s/it]"
     ]
    },
    {
     "name": "stdout",
     "output_type": "stream",
     "text": [
      "done.\n",
      "data/part_A/test_data\\images\\IMG_62.jpg\n",
      "(480, 624)\n",
      "generating density...\n"
     ]
    },
    {
     "name": "stderr",
     "output_type": "stream",
     "text": [
      "\r",
      " 37%|███▋      | 442/1198 [1:39:56<1:32:55,  7.37s/it]"
     ]
    },
    {
     "name": "stdout",
     "output_type": "stream",
     "text": [
      "done.\n",
      "data/part_A/test_data\\images\\IMG_63.jpg\n",
      "(655, 1024)\n",
      "generating density...\n"
     ]
    },
    {
     "name": "stderr",
     "output_type": "stream",
     "text": [
      "\r",
      " 37%|███▋      | 443/1198 [1:40:20<2:33:37, 12.21s/it]"
     ]
    },
    {
     "name": "stdout",
     "output_type": "stream",
     "text": [
      "done.\n",
      "data/part_A/test_data\\images\\IMG_64.jpg\n",
      "(443, 1024)\n",
      "generating density...\n"
     ]
    },
    {
     "name": "stderr",
     "output_type": "stream",
     "text": [
      "\r",
      " 37%|███▋      | 444/1198 [1:40:26<2:11:27, 10.46s/it]"
     ]
    },
    {
     "name": "stdout",
     "output_type": "stream",
     "text": [
      "done.\n",
      "data/part_A/test_data\\images\\IMG_65.jpg\n",
      "(400, 682)\n",
      "generating density...\n"
     ]
    },
    {
     "name": "stderr",
     "output_type": "stream",
     "text": [
      "\r",
      " 37%|███▋      | 445/1198 [1:40:29<1:42:24,  8.16s/it]"
     ]
    },
    {
     "name": "stdout",
     "output_type": "stream",
     "text": [
      "done.\n",
      "data/part_A/test_data\\images\\IMG_66.jpg\n",
      "(1024, 743)\n",
      "generating density...\n"
     ]
    },
    {
     "name": "stderr",
     "output_type": "stream",
     "text": [
      "\r",
      " 37%|███▋      | 446/1198 [1:40:54<2:45:49, 13.23s/it]"
     ]
    },
    {
     "name": "stdout",
     "output_type": "stream",
     "text": [
      "done.\n",
      "data/part_A/test_data\\images\\IMG_67.jpg\n",
      "(600, 800)\n",
      "generating density...\n"
     ]
    },
    {
     "name": "stderr",
     "output_type": "stream",
     "text": [
      "\r",
      " 37%|███▋      | 447/1198 [1:40:59<2:12:28, 10.58s/it]"
     ]
    },
    {
     "name": "stdout",
     "output_type": "stream",
     "text": [
      "done.\n",
      "data/part_A/test_data\\images\\IMG_68.jpg\n",
      "(607, 1024)\n",
      "generating density...\n"
     ]
    },
    {
     "name": "stderr",
     "output_type": "stream",
     "text": [
      "\r",
      " 37%|███▋      | 448/1198 [1:41:06<2:01:49,  9.75s/it]"
     ]
    },
    {
     "name": "stdout",
     "output_type": "stream",
     "text": [
      "done.\n",
      "data/part_A/test_data\\images\\IMG_69.jpg\n",
      "(308, 498)\n",
      "generating density...\n"
     ]
    },
    {
     "name": "stderr",
     "output_type": "stream",
     "text": [
      "\r",
      " 37%|███▋      | 449/1198 [1:41:08<1:30:14,  7.23s/it]"
     ]
    },
    {
     "name": "stdout",
     "output_type": "stream",
     "text": [
      "done.\n",
      "data/part_A/test_data\\images\\IMG_7.jpg\n",
      "(683, 1024)\n",
      "generating density...\n"
     ]
    },
    {
     "name": "stderr",
     "output_type": "stream",
     "text": [
      "\r",
      " 38%|███▊      | 450/1198 [1:41:22<1:54:53,  9.22s/it]"
     ]
    },
    {
     "name": "stdout",
     "output_type": "stream",
     "text": [
      "done.\n",
      "data/part_A/test_data\\images\\IMG_70.jpg\n",
      "(417, 600)\n",
      "generating density...\n"
     ]
    },
    {
     "name": "stderr",
     "output_type": "stream",
     "text": [
      "\r",
      " 38%|███▊      | 451/1198 [1:41:25<1:33:23,  7.50s/it]"
     ]
    },
    {
     "name": "stdout",
     "output_type": "stream",
     "text": [
      "done.\n",
      "data/part_A/test_data\\images\\IMG_71.jpg\n",
      "(763, 1024)\n",
      "generating density...\n"
     ]
    },
    {
     "name": "stderr",
     "output_type": "stream",
     "text": [
      "\r",
      " 38%|███▊      | 452/1198 [1:41:47<2:28:10, 11.92s/it]"
     ]
    },
    {
     "name": "stdout",
     "output_type": "stream",
     "text": [
      "done.\n",
      "data/part_A/test_data\\images\\IMG_72.jpg\n",
      "(480, 640)\n",
      "generating density...\n"
     ]
    },
    {
     "name": "stderr",
     "output_type": "stream",
     "text": [
      "\r",
      " 38%|███▊      | 453/1198 [1:41:54<2:08:21, 10.34s/it]"
     ]
    },
    {
     "name": "stdout",
     "output_type": "stream",
     "text": [
      "done.\n",
      "data/part_A/test_data\\images\\IMG_73.jpg\n",
      "(681, 1024)\n",
      "generating density...\n"
     ]
    },
    {
     "name": "stderr",
     "output_type": "stream",
     "text": [
      "\r",
      " 38%|███▊      | 454/1198 [1:42:02<1:59:54,  9.67s/it]"
     ]
    },
    {
     "name": "stdout",
     "output_type": "stream",
     "text": [
      "done.\n",
      "data/part_A/test_data\\images\\IMG_74.jpg\n",
      "(742, 1024)\n",
      "generating density...\n"
     ]
    },
    {
     "name": "stderr",
     "output_type": "stream",
     "text": [
      "\r",
      " 38%|███▊      | 455/1198 [1:42:39<3:40:45, 17.83s/it]"
     ]
    },
    {
     "name": "stdout",
     "output_type": "stream",
     "text": [
      "done.\n",
      "data/part_A/test_data\\images\\IMG_75.jpg\n",
      "(500, 650)\n",
      "generating density...\n"
     ]
    },
    {
     "name": "stderr",
     "output_type": "stream",
     "text": [
      "\r",
      " 38%|███▊      | 456/1198 [1:42:45<2:56:31, 14.27s/it]"
     ]
    },
    {
     "name": "stdout",
     "output_type": "stream",
     "text": [
      "done.\n",
      "data/part_A/test_data\\images\\IMG_76.jpg\n",
      "(450, 676)\n",
      "generating density...\n"
     ]
    },
    {
     "name": "stderr",
     "output_type": "stream",
     "text": [
      "\r",
      " 38%|███▊      | 457/1198 [1:42:51<2:26:13, 11.84s/it]"
     ]
    },
    {
     "name": "stdout",
     "output_type": "stream",
     "text": [
      "done.\n",
      "data/part_A/test_data\\images\\IMG_77.jpg\n",
      "(768, 1024)\n",
      "generating density...\n"
     ]
    },
    {
     "name": "stderr",
     "output_type": "stream",
     "text": [
      "\r",
      " 38%|███▊      | 458/1198 [1:43:04<2:28:27, 12.04s/it]"
     ]
    },
    {
     "name": "stdout",
     "output_type": "stream",
     "text": [
      "done.\n",
      "data/part_A/test_data\\images\\IMG_78.jpg\n",
      "(683, 1024)\n",
      "generating density...\n"
     ]
    },
    {
     "name": "stderr",
     "output_type": "stream",
     "text": [
      "\r",
      " 38%|███▊      | 459/1198 [1:43:16<2:29:59, 12.18s/it]"
     ]
    },
    {
     "name": "stdout",
     "output_type": "stream",
     "text": [
      "done.\n",
      "data/part_A/test_data\\images\\IMG_79.jpg\n",
      "(477, 718)\n",
      "generating density...\n"
     ]
    },
    {
     "name": "stderr",
     "output_type": "stream",
     "text": [
      "\r",
      " 38%|███▊      | 460/1198 [1:43:21<2:03:07, 10.01s/it]"
     ]
    },
    {
     "name": "stdout",
     "output_type": "stream",
     "text": [
      "done.\n",
      "data/part_A/test_data\\images\\IMG_8.jpg\n",
      "(684, 1024)\n",
      "generating density...\n"
     ]
    },
    {
     "name": "stderr",
     "output_type": "stream",
     "text": [
      "\r",
      " 38%|███▊      | 461/1198 [1:43:42<2:43:59, 13.35s/it]"
     ]
    },
    {
     "name": "stdout",
     "output_type": "stream",
     "text": [
      "done.\n",
      "data/part_A/test_data\\images\\IMG_80.jpg\n",
      "(690, 1024)\n",
      "generating density...\n"
     ]
    },
    {
     "name": "stderr",
     "output_type": "stream",
     "text": [
      "\r",
      " 39%|███▊      | 462/1198 [1:43:51<2:27:58, 12.06s/it]"
     ]
    },
    {
     "name": "stdout",
     "output_type": "stream",
     "text": [
      "done.\n",
      "data/part_A/test_data\\images\\IMG_81.jpg\n",
      "(343, 743)\n",
      "generating density...\n"
     ]
    },
    {
     "name": "stderr",
     "output_type": "stream",
     "text": [
      "\r",
      " 39%|███▊      | 463/1198 [1:43:55<1:57:08,  9.56s/it]"
     ]
    },
    {
     "name": "stdout",
     "output_type": "stream",
     "text": [
      "done.\n",
      "data/part_A/test_data\\images\\IMG_82.jpg\n",
      "(370, 545)\n",
      "generating density...\n"
     ]
    },
    {
     "name": "stderr",
     "output_type": "stream",
     "text": [
      "\r",
      " 39%|███▊      | 464/1198 [1:43:57<1:28:20,  7.22s/it]"
     ]
    },
    {
     "name": "stdout",
     "output_type": "stream",
     "text": [
      "done.\n",
      "data/part_A/test_data\\images\\IMG_83.jpg\n",
      "(768, 1024)\n",
      "generating density...\n"
     ]
    },
    {
     "name": "stderr",
     "output_type": "stream",
     "text": [
      "\r",
      " 39%|███▉      | 465/1198 [1:44:18<2:19:31, 11.42s/it]"
     ]
    },
    {
     "name": "stdout",
     "output_type": "stream",
     "text": [
      "done.\n",
      "data/part_A/test_data\\images\\IMG_84.jpg\n",
      "(680, 1024)\n",
      "generating density...\n"
     ]
    },
    {
     "name": "stderr",
     "output_type": "stream",
     "text": [
      "\r",
      " 39%|███▉      | 466/1198 [1:44:28<2:12:49, 10.89s/it]"
     ]
    },
    {
     "name": "stdout",
     "output_type": "stream",
     "text": [
      "done.\n",
      "data/part_A/test_data\\images\\IMG_85.jpg\n",
      "(577, 1024)\n",
      "generating density...\n"
     ]
    },
    {
     "name": "stderr",
     "output_type": "stream",
     "text": [
      "\r",
      " 39%|███▉      | 467/1198 [1:44:35<2:01:27,  9.97s/it]"
     ]
    },
    {
     "name": "stdout",
     "output_type": "stream",
     "text": [
      "done.\n",
      "data/part_A/test_data\\images\\IMG_86.jpg\n",
      "(741, 1024)\n",
      "generating density...\n"
     ]
    },
    {
     "name": "stderr",
     "output_type": "stream",
     "text": [
      "\r",
      " 39%|███▉      | 468/1198 [1:45:01<2:58:43, 14.69s/it]"
     ]
    },
    {
     "name": "stdout",
     "output_type": "stream",
     "text": [
      "done.\n",
      "data/part_A/test_data\\images\\IMG_87.jpg\n",
      "(683, 1024)\n",
      "generating density...\n"
     ]
    },
    {
     "name": "stderr",
     "output_type": "stream",
     "text": [
      "\r",
      " 39%|███▉      | 469/1198 [1:45:16<2:58:05, 14.66s/it]"
     ]
    },
    {
     "name": "stdout",
     "output_type": "stream",
     "text": [
      "done.\n",
      "data/part_A/test_data\\images\\IMG_88.jpg\n",
      "(768, 1024)\n",
      "generating density...\n"
     ]
    },
    {
     "name": "stderr",
     "output_type": "stream",
     "text": [
      "\r",
      " 39%|███▉      | 470/1198 [1:45:22<2:28:14, 12.22s/it]"
     ]
    },
    {
     "name": "stdout",
     "output_type": "stream",
     "text": [
      "done.\n",
      "data/part_A/test_data\\images\\IMG_89.jpg\n",
      "(534, 800)\n",
      "generating density...\n"
     ]
    },
    {
     "name": "stderr",
     "output_type": "stream",
     "text": [
      "\r",
      " 39%|███▉      | 471/1198 [1:45:31<2:14:27, 11.10s/it]"
     ]
    },
    {
     "name": "stdout",
     "output_type": "stream",
     "text": [
      "done.\n",
      "data/part_A/test_data\\images\\IMG_9.jpg\n",
      "(768, 1024)\n",
      "generating density...\n"
     ]
    },
    {
     "name": "stderr",
     "output_type": "stream",
     "text": [
      "\r",
      " 39%|███▉      | 472/1198 [1:45:46<2:29:35, 12.36s/it]"
     ]
    },
    {
     "name": "stdout",
     "output_type": "stream",
     "text": [
      "done.\n",
      "data/part_A/test_data\\images\\IMG_90.jpg\n",
      "(457, 1024)\n",
      "generating density...\n"
     ]
    },
    {
     "name": "stderr",
     "output_type": "stream",
     "text": [
      "\r",
      " 39%|███▉      | 473/1198 [1:46:16<3:32:32, 17.59s/it]"
     ]
    },
    {
     "name": "stdout",
     "output_type": "stream",
     "text": [
      "done.\n",
      "data/part_A/test_data\\images\\IMG_91.jpg\n",
      "(683, 1024)\n",
      "generating density...\n"
     ]
    },
    {
     "name": "stderr",
     "output_type": "stream",
     "text": [
      "\r",
      " 40%|███▉      | 474/1198 [1:46:27<3:10:43, 15.81s/it]"
     ]
    },
    {
     "name": "stdout",
     "output_type": "stream",
     "text": [
      "done.\n",
      "data/part_A/test_data\\images\\IMG_92.jpg\n",
      "(540, 833)\n",
      "generating density...\n"
     ]
    },
    {
     "name": "stderr",
     "output_type": "stream",
     "text": [
      "\r",
      " 40%|███▉      | 475/1198 [1:46:46<3:21:16, 16.70s/it]"
     ]
    },
    {
     "name": "stdout",
     "output_type": "stream",
     "text": [
      "done.\n",
      "data/part_A/test_data\\images\\IMG_93.jpg\n",
      "(299, 450)\n",
      "generating density...\n"
     ]
    },
    {
     "name": "stderr",
     "output_type": "stream",
     "text": [
      "\r",
      " 40%|███▉      | 476/1198 [1:46:48<2:25:31, 12.09s/it]"
     ]
    },
    {
     "name": "stdout",
     "output_type": "stream",
     "text": [
      "done.\n",
      "data/part_A/test_data\\images\\IMG_94.jpg\n",
      "(276, 460)\n",
      "generating density...\n"
     ]
    },
    {
     "name": "stderr",
     "output_type": "stream",
     "text": [
      "\r",
      " 40%|███▉      | 477/1198 [1:46:48<1:44:21,  8.68s/it]"
     ]
    },
    {
     "name": "stdout",
     "output_type": "stream",
     "text": [
      "done.\n",
      "data/part_A/test_data\\images\\IMG_95.jpg\n",
      "(234, 350)\n",
      "generating density...\n"
     ]
    },
    {
     "name": "stderr",
     "output_type": "stream",
     "text": [
      "\r",
      " 40%|███▉      | 478/1198 [1:46:49<1:14:53,  6.24s/it]"
     ]
    },
    {
     "name": "stdout",
     "output_type": "stream",
     "text": [
      "done.\n",
      "data/part_A/test_data\\images\\IMG_96.jpg\n",
      "(334, 540)\n",
      "generating density...\n"
     ]
    },
    {
     "name": "stderr",
     "output_type": "stream",
     "text": [
      "\r",
      " 40%|███▉      | 479/1198 [1:46:51<1:00:13,  5.03s/it]"
     ]
    },
    {
     "name": "stdout",
     "output_type": "stream",
     "text": [
      "done.\n",
      "data/part_A/test_data\\images\\IMG_97.jpg\n",
      "(669, 1000)\n",
      "generating density...\n"
     ]
    },
    {
     "name": "stderr",
     "output_type": "stream",
     "text": [
      "\r",
      " 40%|████      | 480/1198 [1:47:13<2:01:34, 10.16s/it]"
     ]
    },
    {
     "name": "stdout",
     "output_type": "stream",
     "text": [
      "done.\n",
      "data/part_A/test_data\\images\\IMG_98.jpg\n",
      "(373, 561)\n",
      "generating density...\n"
     ]
    },
    {
     "name": "stderr",
     "output_type": "stream",
     "text": [
      "\r",
      " 40%|████      | 481/1198 [1:47:15<1:32:48,  7.77s/it]"
     ]
    },
    {
     "name": "stdout",
     "output_type": "stream",
     "text": [
      "done.\n",
      "data/part_A/test_data\\images\\IMG_99.jpg\n",
      "(480, 640)\n",
      "generating density...\n"
     ]
    },
    {
     "name": "stderr",
     "output_type": "stream",
     "text": [
      "\r",
      " 40%|████      | 482/1198 [1:47:19<1:17:08,  6.46s/it]"
     ]
    },
    {
     "name": "stdout",
     "output_type": "stream",
     "text": [
      "done.\n",
      "data/part_B/train_data\\images\\IMG_1.jpg\n",
      "(768, 1024)\n",
      "generating density...\n"
     ]
    },
    {
     "name": "stderr",
     "output_type": "stream",
     "text": [
      "\r",
      " 40%|████      | 483/1198 [1:47:31<1:37:11,  8.16s/it]"
     ]
    },
    {
     "name": "stdout",
     "output_type": "stream",
     "text": [
      "done.\n",
      "data/part_B/train_data\\images\\IMG_10.jpg\n",
      "(768, 1024)\n",
      "generating density...\n"
     ]
    },
    {
     "name": "stderr",
     "output_type": "stream",
     "text": [
      "\r",
      " 40%|████      | 484/1198 [1:47:43<1:51:48,  9.40s/it]"
     ]
    },
    {
     "name": "stdout",
     "output_type": "stream",
     "text": [
      "done.\n",
      "data/part_B/train_data\\images\\IMG_100.jpg\n",
      "(768, 1024)\n",
      "generating density...\n"
     ]
    },
    {
     "name": "stderr",
     "output_type": "stream",
     "text": [
      "\r",
      " 40%|████      | 485/1198 [1:47:51<1:47:23,  9.04s/it]"
     ]
    },
    {
     "name": "stdout",
     "output_type": "stream",
     "text": [
      "done.\n",
      "data/part_B/train_data\\images\\IMG_101.jpg\n",
      "(768, 1024)\n",
      "generating density...\n"
     ]
    },
    {
     "name": "stderr",
     "output_type": "stream",
     "text": [
      "\r",
      " 41%|████      | 486/1198 [1:48:01<1:47:55,  9.09s/it]"
     ]
    },
    {
     "name": "stdout",
     "output_type": "stream",
     "text": [
      "done.\n",
      "data/part_B/train_data\\images\\IMG_102.jpg\n",
      "(768, 1024)\n",
      "generating density...\n"
     ]
    },
    {
     "name": "stderr",
     "output_type": "stream",
     "text": [
      "\r",
      " 41%|████      | 487/1198 [1:48:07<1:36:34,  8.15s/it]"
     ]
    },
    {
     "name": "stdout",
     "output_type": "stream",
     "text": [
      "done.\n",
      "data/part_B/train_data\\images\\IMG_103.jpg\n",
      "(768, 1024)\n",
      "generating density...\n"
     ]
    },
    {
     "name": "stderr",
     "output_type": "stream",
     "text": [
      "\r",
      " 41%|████      | 488/1198 [1:48:15<1:35:47,  8.10s/it]"
     ]
    },
    {
     "name": "stdout",
     "output_type": "stream",
     "text": [
      "done.\n",
      "data/part_B/train_data\\images\\IMG_104.jpg\n",
      "(768, 1024)\n",
      "generating density...\n"
     ]
    },
    {
     "name": "stderr",
     "output_type": "stream",
     "text": [
      "\r",
      " 41%|████      | 489/1198 [1:48:20<1:24:46,  7.17s/it]"
     ]
    },
    {
     "name": "stdout",
     "output_type": "stream",
     "text": [
      "done.\n",
      "data/part_B/train_data\\images\\IMG_105.jpg\n",
      "(768, 1024)\n",
      "generating density...\n"
     ]
    },
    {
     "name": "stderr",
     "output_type": "stream",
     "text": [
      "\r",
      " 41%|████      | 490/1198 [1:48:28<1:28:02,  7.46s/it]"
     ]
    },
    {
     "name": "stdout",
     "output_type": "stream",
     "text": [
      "done.\n",
      "data/part_B/train_data\\images\\IMG_106.jpg\n",
      "(768, 1024)\n",
      "generating density...\n"
     ]
    },
    {
     "name": "stderr",
     "output_type": "stream",
     "text": [
      "\r",
      " 41%|████      | 491/1198 [1:48:36<1:29:10,  7.57s/it]"
     ]
    },
    {
     "name": "stdout",
     "output_type": "stream",
     "text": [
      "done.\n",
      "data/part_B/train_data\\images\\IMG_107.jpg\n",
      "(768, 1024)\n",
      "generating density...\n"
     ]
    },
    {
     "name": "stderr",
     "output_type": "stream",
     "text": [
      "\r",
      " 41%|████      | 492/1198 [1:48:42<1:25:41,  7.28s/it]"
     ]
    },
    {
     "name": "stdout",
     "output_type": "stream",
     "text": [
      "done.\n",
      "data/part_B/train_data\\images\\IMG_108.jpg\n",
      "(768, 1024)\n",
      "generating density...\n"
     ]
    },
    {
     "name": "stderr",
     "output_type": "stream",
     "text": [
      "\r",
      " 41%|████      | 493/1198 [1:48:51<1:31:56,  7.82s/it]"
     ]
    },
    {
     "name": "stdout",
     "output_type": "stream",
     "text": [
      "done.\n",
      "data/part_B/train_data\\images\\IMG_109.jpg\n",
      "(768, 1024)\n",
      "generating density...\n"
     ]
    },
    {
     "name": "stderr",
     "output_type": "stream",
     "text": [
      "\r",
      " 41%|████      | 494/1198 [1:49:00<1:33:58,  8.01s/it]"
     ]
    },
    {
     "name": "stdout",
     "output_type": "stream",
     "text": [
      "done.\n",
      "data/part_B/train_data\\images\\IMG_11.jpg\n",
      "(768, 1024)\n",
      "generating density...\n"
     ]
    },
    {
     "name": "stderr",
     "output_type": "stream",
     "text": [
      "\r",
      " 41%|████▏     | 495/1198 [1:49:08<1:34:08,  8.03s/it]"
     ]
    },
    {
     "name": "stdout",
     "output_type": "stream",
     "text": [
      "done.\n",
      "data/part_B/train_data\\images\\IMG_110.jpg\n",
      "(768, 1024)\n",
      "generating density...\n"
     ]
    },
    {
     "name": "stderr",
     "output_type": "stream",
     "text": [
      "\r",
      " 41%|████▏     | 496/1198 [1:49:12<1:21:49,  6.99s/it]"
     ]
    },
    {
     "name": "stdout",
     "output_type": "stream",
     "text": [
      "done.\n",
      "data/part_B/train_data\\images\\IMG_111.jpg\n",
      "(768, 1024)\n",
      "generating density...\n"
     ]
    },
    {
     "name": "stderr",
     "output_type": "stream",
     "text": [
      "\r",
      " 41%|████▏     | 497/1198 [1:49:21<1:27:36,  7.50s/it]"
     ]
    },
    {
     "name": "stdout",
     "output_type": "stream",
     "text": [
      "done.\n",
      "data/part_B/train_data\\images\\IMG_112.jpg\n",
      "(768, 1024)\n",
      "generating density...\n"
     ]
    },
    {
     "name": "stderr",
     "output_type": "stream",
     "text": [
      "\r",
      " 42%|████▏     | 498/1198 [1:49:29<1:30:36,  7.77s/it]"
     ]
    },
    {
     "name": "stdout",
     "output_type": "stream",
     "text": [
      "done.\n",
      "data/part_B/train_data\\images\\IMG_113.jpg\n",
      "(768, 1024)\n",
      "generating density...\n"
     ]
    },
    {
     "name": "stderr",
     "output_type": "stream",
     "text": [
      "\r",
      " 42%|████▏     | 499/1198 [1:49:36<1:28:00,  7.55s/it]"
     ]
    },
    {
     "name": "stdout",
     "output_type": "stream",
     "text": [
      "done.\n",
      "data/part_B/train_data\\images\\IMG_114.jpg\n",
      "(768, 1024)\n",
      "generating density...\n"
     ]
    },
    {
     "name": "stderr",
     "output_type": "stream",
     "text": [
      "\r",
      " 42%|████▏     | 500/1198 [1:49:47<1:38:01,  8.43s/it]"
     ]
    },
    {
     "name": "stdout",
     "output_type": "stream",
     "text": [
      "done.\n",
      "data/part_B/train_data\\images\\IMG_115.jpg\n",
      "(768, 1024)\n",
      "generating density...\n"
     ]
    },
    {
     "name": "stderr",
     "output_type": "stream",
     "text": [
      "\r",
      " 42%|████▏     | 501/1198 [1:49:55<1:35:20,  8.21s/it]"
     ]
    },
    {
     "name": "stdout",
     "output_type": "stream",
     "text": [
      "done.\n",
      "data/part_B/train_data\\images\\IMG_116.jpg\n",
      "(768, 1024)\n",
      "generating density...\n"
     ]
    },
    {
     "name": "stderr",
     "output_type": "stream",
     "text": [
      "\r",
      " 42%|████▏     | 502/1198 [1:50:05<1:44:00,  8.97s/it]"
     ]
    },
    {
     "name": "stdout",
     "output_type": "stream",
     "text": [
      "done.\n",
      "data/part_B/train_data\\images\\IMG_117.jpg\n",
      "(768, 1024)\n",
      "generating density...\n"
     ]
    },
    {
     "name": "stderr",
     "output_type": "stream",
     "text": [
      "\r",
      " 42%|████▏     | 503/1198 [1:50:19<1:59:14, 10.29s/it]"
     ]
    },
    {
     "name": "stdout",
     "output_type": "stream",
     "text": [
      "done.\n",
      "data/part_B/train_data\\images\\IMG_118.jpg\n",
      "(768, 1024)\n",
      "generating density...\n"
     ]
    },
    {
     "name": "stderr",
     "output_type": "stream",
     "text": [
      "\r",
      " 42%|████▏     | 504/1198 [1:50:25<1:46:27,  9.20s/it]"
     ]
    },
    {
     "name": "stdout",
     "output_type": "stream",
     "text": [
      "done.\n",
      "data/part_B/train_data\\images\\IMG_119.jpg\n",
      "(768, 1024)\n",
      "generating density...\n"
     ]
    },
    {
     "name": "stderr",
     "output_type": "stream",
     "text": [
      "\r",
      " 42%|████▏     | 505/1198 [1:50:34<1:42:54,  8.91s/it]"
     ]
    },
    {
     "name": "stdout",
     "output_type": "stream",
     "text": [
      "done.\n",
      "data/part_B/train_data\\images\\IMG_12.jpg\n",
      "(768, 1024)\n",
      "generating density...\n"
     ]
    },
    {
     "name": "stderr",
     "output_type": "stream",
     "text": [
      "\r",
      " 42%|████▏     | 506/1198 [1:50:44<1:48:28,  9.41s/it]"
     ]
    },
    {
     "name": "stdout",
     "output_type": "stream",
     "text": [
      "done.\n",
      "data/part_B/train_data\\images\\IMG_120.jpg\n",
      "(768, 1024)\n",
      "generating density...\n"
     ]
    },
    {
     "name": "stderr",
     "output_type": "stream",
     "text": [
      "\r",
      " 42%|████▏     | 507/1198 [1:50:49<1:34:00,  8.16s/it]"
     ]
    },
    {
     "name": "stdout",
     "output_type": "stream",
     "text": [
      "done.\n",
      "data/part_B/train_data\\images\\IMG_121.jpg\n",
      "(768, 1024)\n",
      "generating density...\n"
     ]
    },
    {
     "name": "stderr",
     "output_type": "stream",
     "text": [
      "\r",
      " 42%|████▏     | 508/1198 [1:50:56<1:29:39,  7.80s/it]"
     ]
    },
    {
     "name": "stdout",
     "output_type": "stream",
     "text": [
      "done.\n",
      "data/part_B/train_data\\images\\IMG_122.jpg\n",
      "(768, 1024)\n",
      "generating density...\n"
     ]
    },
    {
     "name": "stderr",
     "output_type": "stream",
     "text": [
      "\r",
      " 42%|████▏     | 509/1198 [1:51:02<1:21:46,  7.12s/it]"
     ]
    },
    {
     "name": "stdout",
     "output_type": "stream",
     "text": [
      "done.\n",
      "data/part_B/train_data\\images\\IMG_123.jpg\n",
      "(768, 1024)\n",
      "generating density...\n"
     ]
    },
    {
     "name": "stderr",
     "output_type": "stream",
     "text": [
      "\r",
      " 43%|████▎     | 510/1198 [1:51:12<1:30:55,  7.93s/it]"
     ]
    },
    {
     "name": "stdout",
     "output_type": "stream",
     "text": [
      "done.\n",
      "data/part_B/train_data\\images\\IMG_124.jpg\n",
      "(768, 1024)\n",
      "generating density...\n"
     ]
    },
    {
     "name": "stderr",
     "output_type": "stream",
     "text": [
      "\r",
      " 43%|████▎     | 511/1198 [1:51:23<1:41:55,  8.90s/it]"
     ]
    },
    {
     "name": "stdout",
     "output_type": "stream",
     "text": [
      "done.\n",
      "data/part_B/train_data\\images\\IMG_125.jpg\n",
      "(768, 1024)\n",
      "generating density...\n"
     ]
    },
    {
     "name": "stderr",
     "output_type": "stream",
     "text": [
      "\r",
      " 43%|████▎     | 512/1198 [1:51:29<1:30:29,  7.92s/it]"
     ]
    },
    {
     "name": "stdout",
     "output_type": "stream",
     "text": [
      "done.\n",
      "data/part_B/train_data\\images\\IMG_126.jpg\n",
      "(768, 1024)\n",
      "generating density...\n"
     ]
    },
    {
     "name": "stderr",
     "output_type": "stream",
     "text": [
      "\r",
      " 43%|████▎     | 513/1198 [1:51:37<1:33:35,  8.20s/it]"
     ]
    },
    {
     "name": "stdout",
     "output_type": "stream",
     "text": [
      "done.\n",
      "data/part_B/train_data\\images\\IMG_127.jpg\n",
      "(768, 1024)\n",
      "generating density...\n"
     ]
    },
    {
     "name": "stderr",
     "output_type": "stream",
     "text": [
      "\r",
      " 43%|████▎     | 514/1198 [1:51:45<1:32:30,  8.11s/it]"
     ]
    },
    {
     "name": "stdout",
     "output_type": "stream",
     "text": [
      "done.\n",
      "data/part_B/train_data\\images\\IMG_128.jpg\n",
      "(768, 1024)\n",
      "generating density...\n"
     ]
    },
    {
     "name": "stderr",
     "output_type": "stream",
     "text": [
      "\r",
      " 43%|████▎     | 515/1198 [1:51:51<1:24:37,  7.43s/it]"
     ]
    },
    {
     "name": "stdout",
     "output_type": "stream",
     "text": [
      "done.\n",
      "data/part_B/train_data\\images\\IMG_129.jpg\n",
      "(768, 1024)\n",
      "generating density...\n"
     ]
    },
    {
     "name": "stderr",
     "output_type": "stream",
     "text": [
      "\r",
      " 43%|████▎     | 516/1198 [1:51:59<1:27:39,  7.71s/it]"
     ]
    },
    {
     "name": "stdout",
     "output_type": "stream",
     "text": [
      "done.\n",
      "data/part_B/train_data\\images\\IMG_13.jpg\n",
      "(768, 1024)\n",
      "generating density...\n"
     ]
    },
    {
     "name": "stderr",
     "output_type": "stream",
     "text": [
      "\r",
      " 43%|████▎     | 517/1198 [1:52:07<1:27:40,  7.72s/it]"
     ]
    },
    {
     "name": "stdout",
     "output_type": "stream",
     "text": [
      "done.\n",
      "data/part_B/train_data\\images\\IMG_130.jpg\n",
      "(768, 1024)\n",
      "generating density...\n"
     ]
    },
    {
     "name": "stderr",
     "output_type": "stream",
     "text": [
      "\r",
      " 43%|████▎     | 518/1198 [1:52:14<1:24:16,  7.44s/it]"
     ]
    },
    {
     "name": "stdout",
     "output_type": "stream",
     "text": [
      "done.\n",
      "data/part_B/train_data\\images\\IMG_131.jpg\n",
      "(768, 1024)\n",
      "generating density...\n"
     ]
    },
    {
     "name": "stderr",
     "output_type": "stream",
     "text": [
      "\r",
      " 43%|████▎     | 519/1198 [1:52:25<1:37:23,  8.61s/it]"
     ]
    },
    {
     "name": "stdout",
     "output_type": "stream",
     "text": [
      "done.\n",
      "data/part_B/train_data\\images\\IMG_132.jpg\n",
      "(768, 1024)\n",
      "generating density...\n"
     ]
    },
    {
     "name": "stderr",
     "output_type": "stream",
     "text": [
      "\r",
      " 43%|████▎     | 520/1198 [1:52:36<1:44:40,  9.26s/it]"
     ]
    },
    {
     "name": "stdout",
     "output_type": "stream",
     "text": [
      "done.\n",
      "data/part_B/train_data\\images\\IMG_133.jpg\n",
      "(768, 1024)\n",
      "generating density...\n"
     ]
    },
    {
     "name": "stderr",
     "output_type": "stream",
     "text": [
      "\r",
      " 43%|████▎     | 521/1198 [1:52:47<1:50:16,  9.77s/it]"
     ]
    },
    {
     "name": "stdout",
     "output_type": "stream",
     "text": [
      "done.\n",
      "data/part_B/train_data\\images\\IMG_134.jpg\n",
      "(768, 1024)\n",
      "generating density...\n"
     ]
    },
    {
     "name": "stderr",
     "output_type": "stream",
     "text": [
      "\r",
      " 44%|████▎     | 522/1198 [1:52:58<1:53:15, 10.05s/it]"
     ]
    },
    {
     "name": "stdout",
     "output_type": "stream",
     "text": [
      "done.\n",
      "data/part_B/train_data\\images\\IMG_135.jpg\n",
      "(768, 1024)\n",
      "generating density...\n"
     ]
    },
    {
     "name": "stderr",
     "output_type": "stream",
     "text": [
      "\r",
      " 44%|████▎     | 523/1198 [1:53:03<1:37:36,  8.68s/it]"
     ]
    },
    {
     "name": "stdout",
     "output_type": "stream",
     "text": [
      "done.\n",
      "data/part_B/train_data\\images\\IMG_136.jpg\n",
      "(768, 1024)\n",
      "generating density...\n"
     ]
    },
    {
     "name": "stderr",
     "output_type": "stream",
     "text": [
      "\r",
      " 44%|████▎     | 524/1198 [1:53:15<1:46:17,  9.46s/it]"
     ]
    },
    {
     "name": "stdout",
     "output_type": "stream",
     "text": [
      "done.\n",
      "data/part_B/train_data\\images\\IMG_137.jpg\n",
      "(768, 1024)\n",
      "generating density...\n"
     ]
    },
    {
     "name": "stderr",
     "output_type": "stream",
     "text": [
      "\r",
      " 44%|████▍     | 525/1198 [1:53:24<1:44:31,  9.32s/it]"
     ]
    },
    {
     "name": "stdout",
     "output_type": "stream",
     "text": [
      "done.\n",
      "data/part_B/train_data\\images\\IMG_138.jpg\n",
      "(768, 1024)\n",
      "generating density...\n"
     ]
    },
    {
     "name": "stderr",
     "output_type": "stream",
     "text": [
      "\r",
      " 44%|████▍     | 526/1198 [1:53:34<1:48:27,  9.68s/it]"
     ]
    },
    {
     "name": "stdout",
     "output_type": "stream",
     "text": [
      "done.\n",
      "data/part_B/train_data\\images\\IMG_139.jpg\n",
      "(768, 1024)\n",
      "generating density...\n"
     ]
    },
    {
     "name": "stderr",
     "output_type": "stream",
     "text": [
      "\r",
      " 44%|████▍     | 527/1198 [1:53:41<1:39:58,  8.94s/it]"
     ]
    },
    {
     "name": "stdout",
     "output_type": "stream",
     "text": [
      "done.\n",
      "data/part_B/train_data\\images\\IMG_14.jpg\n",
      "(768, 1024)\n",
      "generating density...\n"
     ]
    },
    {
     "name": "stderr",
     "output_type": "stream",
     "text": [
      "\r",
      " 44%|████▍     | 528/1198 [1:53:50<1:37:30,  8.73s/it]"
     ]
    },
    {
     "name": "stdout",
     "output_type": "stream",
     "text": [
      "done.\n",
      "data/part_B/train_data\\images\\IMG_140.jpg\n",
      "(768, 1024)\n",
      "generating density...\n"
     ]
    },
    {
     "name": "stderr",
     "output_type": "stream",
     "text": [
      "\r",
      " 44%|████▍     | 529/1198 [1:54:01<1:47:19,  9.63s/it]"
     ]
    },
    {
     "name": "stdout",
     "output_type": "stream",
     "text": [
      "done.\n",
      "data/part_B/train_data\\images\\IMG_141.jpg\n",
      "(768, 1024)\n",
      "generating density...\n"
     ]
    },
    {
     "name": "stderr",
     "output_type": "stream",
     "text": [
      "\r",
      " 44%|████▍     | 530/1198 [1:54:08<1:35:56,  8.62s/it]"
     ]
    },
    {
     "name": "stdout",
     "output_type": "stream",
     "text": [
      "done.\n",
      "data/part_B/train_data\\images\\IMG_142.jpg\n",
      "(768, 1024)\n",
      "generating density...\n"
     ]
    },
    {
     "name": "stderr",
     "output_type": "stream",
     "text": [
      "\r",
      " 44%|████▍     | 531/1198 [1:54:15<1:33:06,  8.38s/it]"
     ]
    },
    {
     "name": "stdout",
     "output_type": "stream",
     "text": [
      "done.\n",
      "data/part_B/train_data\\images\\IMG_143.jpg\n",
      "(768, 1024)\n",
      "generating density...\n"
     ]
    },
    {
     "name": "stderr",
     "output_type": "stream",
     "text": [
      "\r",
      " 44%|████▍     | 532/1198 [1:54:21<1:22:46,  7.46s/it]"
     ]
    },
    {
     "name": "stdout",
     "output_type": "stream",
     "text": [
      "done.\n",
      "data/part_B/train_data\\images\\IMG_144.jpg\n",
      "(768, 1024)\n",
      "generating density...\n"
     ]
    },
    {
     "name": "stderr",
     "output_type": "stream",
     "text": [
      "\r",
      " 44%|████▍     | 533/1198 [1:54:25<1:12:00,  6.50s/it]"
     ]
    },
    {
     "name": "stdout",
     "output_type": "stream",
     "text": [
      "done.\n",
      "data/part_B/train_data\\images\\IMG_145.jpg\n",
      "(768, 1024)\n",
      "generating density...\n"
     ]
    },
    {
     "name": "stderr",
     "output_type": "stream",
     "text": [
      "\r",
      " 45%|████▍     | 534/1198 [1:54:34<1:20:09,  7.24s/it]"
     ]
    },
    {
     "name": "stdout",
     "output_type": "stream",
     "text": [
      "done.\n",
      "data/part_B/train_data\\images\\IMG_146.jpg\n",
      "(768, 1024)\n",
      "generating density...\n"
     ]
    },
    {
     "name": "stderr",
     "output_type": "stream",
     "text": [
      "\r",
      " 45%|████▍     | 535/1198 [1:54:42<1:21:34,  7.38s/it]"
     ]
    },
    {
     "name": "stdout",
     "output_type": "stream",
     "text": [
      "done.\n",
      "data/part_B/train_data\\images\\IMG_147.jpg\n",
      "(768, 1024)\n",
      "generating density...\n"
     ]
    },
    {
     "name": "stderr",
     "output_type": "stream",
     "text": [
      "\r",
      " 45%|████▍     | 536/1198 [1:54:54<1:37:00,  8.79s/it]"
     ]
    },
    {
     "name": "stdout",
     "output_type": "stream",
     "text": [
      "done.\n",
      "data/part_B/train_data\\images\\IMG_148.jpg\n",
      "(768, 1024)\n",
      "generating density...\n"
     ]
    },
    {
     "name": "stderr",
     "output_type": "stream",
     "text": [
      "\r",
      " 45%|████▍     | 537/1198 [1:55:06<1:50:01,  9.99s/it]"
     ]
    },
    {
     "name": "stdout",
     "output_type": "stream",
     "text": [
      "done.\n",
      "data/part_B/train_data\\images\\IMG_149.jpg\n",
      "(768, 1024)\n",
      "generating density...\n"
     ]
    },
    {
     "name": "stderr",
     "output_type": "stream",
     "text": [
      "\r",
      " 45%|████▍     | 538/1198 [1:55:14<1:42:48,  9.35s/it]"
     ]
    },
    {
     "name": "stdout",
     "output_type": "stream",
     "text": [
      "done.\n",
      "data/part_B/train_data\\images\\IMG_15.jpg\n",
      "(768, 1024)\n",
      "generating density...\n"
     ]
    },
    {
     "name": "stderr",
     "output_type": "stream",
     "text": [
      "\r",
      " 45%|████▍     | 539/1198 [1:55:30<2:02:14, 11.13s/it]"
     ]
    },
    {
     "name": "stdout",
     "output_type": "stream",
     "text": [
      "done.\n",
      "data/part_B/train_data\\images\\IMG_150.jpg\n",
      "(768, 1024)\n",
      "generating density...\n"
     ]
    },
    {
     "name": "stderr",
     "output_type": "stream",
     "text": [
      "\r",
      " 45%|████▌     | 540/1198 [1:55:40<2:01:03, 11.04s/it]"
     ]
    },
    {
     "name": "stdout",
     "output_type": "stream",
     "text": [
      "done.\n",
      "data/part_B/train_data\\images\\IMG_151.jpg\n",
      "(768, 1024)\n",
      "generating density...\n"
     ]
    },
    {
     "name": "stderr",
     "output_type": "stream",
     "text": [
      "\r",
      " 45%|████▌     | 541/1198 [1:55:55<2:11:06, 11.97s/it]"
     ]
    },
    {
     "name": "stdout",
     "output_type": "stream",
     "text": [
      "done.\n",
      "data/part_B/train_data\\images\\IMG_152.jpg\n",
      "(768, 1024)\n",
      "generating density...\n"
     ]
    },
    {
     "name": "stderr",
     "output_type": "stream",
     "text": [
      "\r",
      " 45%|████▌     | 542/1198 [1:56:00<1:49:52, 10.05s/it]"
     ]
    },
    {
     "name": "stdout",
     "output_type": "stream",
     "text": [
      "done.\n",
      "data/part_B/train_data\\images\\IMG_153.jpg\n",
      "(768, 1024)\n",
      "generating density...\n"
     ]
    },
    {
     "name": "stderr",
     "output_type": "stream",
     "text": [
      "\r",
      " 45%|████▌     | 543/1198 [1:56:06<1:34:28,  8.65s/it]"
     ]
    },
    {
     "name": "stdout",
     "output_type": "stream",
     "text": [
      "done.\n",
      "data/part_B/train_data\\images\\IMG_154.jpg\n",
      "(768, 1024)\n",
      "generating density...\n"
     ]
    },
    {
     "name": "stderr",
     "output_type": "stream",
     "text": [
      "\r",
      " 45%|████▌     | 544/1198 [1:56:23<2:04:03, 11.38s/it]"
     ]
    },
    {
     "name": "stdout",
     "output_type": "stream",
     "text": [
      "done.\n",
      "data/part_B/train_data\\images\\IMG_155.jpg\n",
      "(768, 1024)\n",
      "generating density...\n"
     ]
    },
    {
     "name": "stderr",
     "output_type": "stream",
     "text": [
      "\r",
      " 45%|████▌     | 545/1198 [1:56:37<2:10:58, 12.03s/it]"
     ]
    },
    {
     "name": "stdout",
     "output_type": "stream",
     "text": [
      "done.\n",
      "data/part_B/train_data\\images\\IMG_156.jpg\n",
      "(768, 1024)\n",
      "generating density...\n"
     ]
    },
    {
     "name": "stderr",
     "output_type": "stream",
     "text": [
      "\r",
      " 46%|████▌     | 546/1198 [1:56:46<2:02:43, 11.29s/it]"
     ]
    },
    {
     "name": "stdout",
     "output_type": "stream",
     "text": [
      "done.\n",
      "data/part_B/train_data\\images\\IMG_157.jpg\n",
      "(768, 1024)\n",
      "generating density...\n"
     ]
    },
    {
     "name": "stderr",
     "output_type": "stream",
     "text": [
      "\r",
      " 46%|████▌     | 547/1198 [1:56:56<1:55:49, 10.68s/it]"
     ]
    },
    {
     "name": "stdout",
     "output_type": "stream",
     "text": [
      "done.\n",
      "data/part_B/train_data\\images\\IMG_158.jpg\n",
      "(768, 1024)\n",
      "generating density...\n"
     ]
    },
    {
     "name": "stderr",
     "output_type": "stream",
     "text": [
      "\r",
      " 46%|████▌     | 548/1198 [1:57:01<1:38:46,  9.12s/it]"
     ]
    },
    {
     "name": "stdout",
     "output_type": "stream",
     "text": [
      "done.\n",
      "data/part_B/train_data\\images\\IMG_159.jpg\n",
      "(768, 1024)\n",
      "generating density...\n"
     ]
    },
    {
     "name": "stderr",
     "output_type": "stream",
     "text": [
      "\r",
      " 46%|████▌     | 549/1198 [1:57:12<1:45:25,  9.75s/it]"
     ]
    },
    {
     "name": "stdout",
     "output_type": "stream",
     "text": [
      "done.\n",
      "data/part_B/train_data\\images\\IMG_16.jpg\n",
      "(768, 1024)\n",
      "generating density...\n"
     ]
    },
    {
     "name": "stderr",
     "output_type": "stream",
     "text": [
      "\r",
      " 46%|████▌     | 550/1198 [1:57:18<1:33:39,  8.67s/it]"
     ]
    },
    {
     "name": "stdout",
     "output_type": "stream",
     "text": [
      "done.\n",
      "data/part_B/train_data\\images\\IMG_160.jpg\n",
      "(768, 1024)\n",
      "generating density...\n"
     ]
    },
    {
     "name": "stderr",
     "output_type": "stream",
     "text": [
      "\r",
      " 46%|████▌     | 551/1198 [1:57:29<1:38:01,  9.09s/it]"
     ]
    },
    {
     "name": "stdout",
     "output_type": "stream",
     "text": [
      "done.\n",
      "data/part_B/train_data\\images\\IMG_161.jpg\n",
      "(768, 1024)\n",
      "generating density...\n"
     ]
    },
    {
     "name": "stderr",
     "output_type": "stream",
     "text": [
      "\r",
      " 46%|████▌     | 552/1198 [1:57:36<1:33:45,  8.71s/it]"
     ]
    },
    {
     "name": "stdout",
     "output_type": "stream",
     "text": [
      "done.\n",
      "data/part_B/train_data\\images\\IMG_162.jpg\n",
      "(768, 1024)\n",
      "generating density...\n"
     ]
    },
    {
     "name": "stderr",
     "output_type": "stream",
     "text": [
      "\r",
      " 46%|████▌     | 553/1198 [1:57:47<1:41:01,  9.40s/it]"
     ]
    },
    {
     "name": "stdout",
     "output_type": "stream",
     "text": [
      "done.\n",
      "data/part_B/train_data\\images\\IMG_163.jpg\n",
      "(768, 1024)\n",
      "generating density...\n"
     ]
    },
    {
     "name": "stderr",
     "output_type": "stream",
     "text": [
      "\r",
      " 46%|████▌     | 554/1198 [1:57:57<1:40:47,  9.39s/it]"
     ]
    },
    {
     "name": "stdout",
     "output_type": "stream",
     "text": [
      "done.\n",
      "data/part_B/train_data\\images\\IMG_164.jpg\n",
      "(768, 1024)\n",
      "generating density...\n"
     ]
    },
    {
     "name": "stderr",
     "output_type": "stream",
     "text": [
      "\r",
      " 46%|████▋     | 555/1198 [1:58:05<1:36:05,  8.97s/it]"
     ]
    },
    {
     "name": "stdout",
     "output_type": "stream",
     "text": [
      "done.\n",
      "data/part_B/train_data\\images\\IMG_165.jpg\n",
      "(768, 1024)\n",
      "generating density...\n"
     ]
    },
    {
     "name": "stderr",
     "output_type": "stream",
     "text": [
      "\r",
      " 46%|████▋     | 556/1198 [1:58:11<1:26:59,  8.13s/it]"
     ]
    },
    {
     "name": "stdout",
     "output_type": "stream",
     "text": [
      "done.\n",
      "data/part_B/train_data\\images\\IMG_166.jpg\n",
      "(768, 1024)\n",
      "generating density...\n"
     ]
    },
    {
     "name": "stderr",
     "output_type": "stream",
     "text": [
      "\r",
      " 46%|████▋     | 557/1198 [1:58:16<1:18:03,  7.31s/it]"
     ]
    },
    {
     "name": "stdout",
     "output_type": "stream",
     "text": [
      "done.\n",
      "data/part_B/train_data\\images\\IMG_167.jpg\n",
      "(768, 1024)\n",
      "generating density...\n"
     ]
    },
    {
     "name": "stderr",
     "output_type": "stream",
     "text": [
      "\r",
      " 47%|████▋     | 558/1198 [1:58:27<1:27:35,  8.21s/it]"
     ]
    },
    {
     "name": "stdout",
     "output_type": "stream",
     "text": [
      "done.\n",
      "data/part_B/train_data\\images\\IMG_168.jpg\n",
      "(768, 1024)\n",
      "generating density...\n"
     ]
    },
    {
     "name": "stderr",
     "output_type": "stream",
     "text": [
      "\r",
      " 47%|████▋     | 559/1198 [1:58:40<1:42:24,  9.62s/it]"
     ]
    },
    {
     "name": "stdout",
     "output_type": "stream",
     "text": [
      "done.\n",
      "data/part_B/train_data\\images\\IMG_169.jpg\n",
      "(768, 1024)\n",
      "generating density...\n"
     ]
    },
    {
     "name": "stderr",
     "output_type": "stream",
     "text": [
      "\r",
      " 47%|████▋     | 560/1198 [1:58:49<1:41:51,  9.58s/it]"
     ]
    },
    {
     "name": "stdout",
     "output_type": "stream",
     "text": [
      "done.\n",
      "data/part_B/train_data\\images\\IMG_17.jpg\n",
      "(768, 1024)\n",
      "generating density...\n"
     ]
    },
    {
     "name": "stderr",
     "output_type": "stream",
     "text": [
      "\r",
      " 47%|████▋     | 561/1198 [1:58:55<1:30:51,  8.56s/it]"
     ]
    },
    {
     "name": "stdout",
     "output_type": "stream",
     "text": [
      "done.\n",
      "data/part_B/train_data\\images\\IMG_170.jpg\n",
      "(768, 1024)\n",
      "generating density...\n"
     ]
    },
    {
     "name": "stderr",
     "output_type": "stream",
     "text": [
      "\r",
      " 47%|████▋     | 562/1198 [1:59:04<1:30:06,  8.50s/it]"
     ]
    },
    {
     "name": "stdout",
     "output_type": "stream",
     "text": [
      "done.\n",
      "data/part_B/train_data\\images\\IMG_171.jpg\n",
      "(768, 1024)\n",
      "generating density...\n"
     ]
    },
    {
     "name": "stderr",
     "output_type": "stream",
     "text": [
      "\r",
      " 47%|████▋     | 563/1198 [1:59:08<1:18:25,  7.41s/it]"
     ]
    },
    {
     "name": "stdout",
     "output_type": "stream",
     "text": [
      "done.\n",
      "data/part_B/train_data\\images\\IMG_172.jpg\n",
      "(768, 1024)\n",
      "generating density...\n"
     ]
    },
    {
     "name": "stderr",
     "output_type": "stream",
     "text": [
      "\r",
      " 47%|████▋     | 564/1198 [1:59:18<1:25:15,  8.07s/it]"
     ]
    },
    {
     "name": "stdout",
     "output_type": "stream",
     "text": [
      "done.\n",
      "data/part_B/train_data\\images\\IMG_173.jpg\n",
      "(768, 1024)\n",
      "generating density...\n"
     ]
    },
    {
     "name": "stderr",
     "output_type": "stream",
     "text": [
      "\r",
      " 47%|████▋     | 565/1198 [1:59:25<1:21:32,  7.73s/it]"
     ]
    },
    {
     "name": "stdout",
     "output_type": "stream",
     "text": [
      "done.\n",
      "data/part_B/train_data\\images\\IMG_174.jpg\n",
      "(768, 1024)\n",
      "generating density...\n"
     ]
    },
    {
     "name": "stderr",
     "output_type": "stream",
     "text": [
      "\r",
      " 47%|████▋     | 566/1198 [1:59:34<1:24:56,  8.06s/it]"
     ]
    },
    {
     "name": "stdout",
     "output_type": "stream",
     "text": [
      "done.\n",
      "data/part_B/train_data\\images\\IMG_175.jpg\n",
      "(768, 1024)\n",
      "generating density...\n"
     ]
    },
    {
     "name": "stderr",
     "output_type": "stream",
     "text": [
      "\r",
      " 47%|████▋     | 567/1198 [1:59:49<1:47:07, 10.19s/it]"
     ]
    },
    {
     "name": "stdout",
     "output_type": "stream",
     "text": [
      "done.\n",
      "data/part_B/train_data\\images\\IMG_176.jpg\n",
      "(768, 1024)\n",
      "generating density...\n"
     ]
    },
    {
     "name": "stderr",
     "output_type": "stream",
     "text": [
      "\r",
      " 47%|████▋     | 568/1198 [2:00:01<1:51:58, 10.66s/it]"
     ]
    },
    {
     "name": "stdout",
     "output_type": "stream",
     "text": [
      "done.\n",
      "data/part_B/train_data\\images\\IMG_177.jpg\n",
      "(768, 1024)\n",
      "generating density...\n"
     ]
    },
    {
     "name": "stderr",
     "output_type": "stream",
     "text": [
      "\r",
      " 47%|████▋     | 569/1198 [2:00:09<1:42:52,  9.81s/it]"
     ]
    },
    {
     "name": "stdout",
     "output_type": "stream",
     "text": [
      "done.\n",
      "data/part_B/train_data\\images\\IMG_178.jpg\n",
      "(768, 1024)\n",
      "generating density...\n"
     ]
    },
    {
     "name": "stderr",
     "output_type": "stream",
     "text": [
      "\r",
      " 48%|████▊     | 570/1198 [2:00:16<1:35:30,  9.13s/it]"
     ]
    },
    {
     "name": "stdout",
     "output_type": "stream",
     "text": [
      "done.\n",
      "data/part_B/train_data\\images\\IMG_179.jpg\n",
      "(768, 1024)\n",
      "generating density...\n"
     ]
    },
    {
     "name": "stderr",
     "output_type": "stream",
     "text": [
      "\r",
      " 48%|████▊     | 571/1198 [2:00:22<1:26:52,  8.31s/it]"
     ]
    },
    {
     "name": "stdout",
     "output_type": "stream",
     "text": [
      "done.\n",
      "data/part_B/train_data\\images\\IMG_18.jpg\n",
      "(768, 1024)\n",
      "generating density...\n"
     ]
    },
    {
     "name": "stderr",
     "output_type": "stream",
     "text": [
      "\r",
      " 48%|████▊     | 572/1198 [2:00:30<1:22:51,  7.94s/it]"
     ]
    },
    {
     "name": "stdout",
     "output_type": "stream",
     "text": [
      "done.\n",
      "data/part_B/train_data\\images\\IMG_180.jpg\n",
      "(768, 1024)\n",
      "generating density...\n"
     ]
    },
    {
     "name": "stderr",
     "output_type": "stream",
     "text": [
      "\r",
      " 48%|████▊     | 573/1198 [2:00:38<1:23:07,  7.98s/it]"
     ]
    },
    {
     "name": "stdout",
     "output_type": "stream",
     "text": [
      "done.\n",
      "data/part_B/train_data\\images\\IMG_181.jpg\n",
      "(768, 1024)\n",
      "generating density...\n"
     ]
    },
    {
     "name": "stderr",
     "output_type": "stream",
     "text": [
      "\r",
      " 48%|████▊     | 574/1198 [2:00:47<1:26:19,  8.30s/it]"
     ]
    },
    {
     "name": "stdout",
     "output_type": "stream",
     "text": [
      "done.\n",
      "data/part_B/train_data\\images\\IMG_182.jpg\n",
      "(768, 1024)\n",
      "generating density...\n"
     ]
    },
    {
     "name": "stderr",
     "output_type": "stream",
     "text": [
      "\r",
      " 48%|████▊     | 575/1198 [2:00:53<1:18:54,  7.60s/it]"
     ]
    },
    {
     "name": "stdout",
     "output_type": "stream",
     "text": [
      "done.\n",
      "data/part_B/train_data\\images\\IMG_183.jpg\n",
      "(768, 1024)\n",
      "generating density...\n"
     ]
    },
    {
     "name": "stderr",
     "output_type": "stream",
     "text": [
      "\r",
      " 48%|████▊     | 576/1198 [2:01:00<1:18:51,  7.61s/it]"
     ]
    },
    {
     "name": "stdout",
     "output_type": "stream",
     "text": [
      "done.\n",
      "data/part_B/train_data\\images\\IMG_184.jpg\n",
      "(768, 1024)\n",
      "generating density...\n"
     ]
    },
    {
     "name": "stderr",
     "output_type": "stream",
     "text": [
      "\r",
      " 48%|████▊     | 577/1198 [2:01:09<1:22:27,  7.97s/it]"
     ]
    },
    {
     "name": "stdout",
     "output_type": "stream",
     "text": [
      "done.\n",
      "data/part_B/train_data\\images\\IMG_185.jpg\n",
      "(768, 1024)\n",
      "generating density...\n"
     ]
    },
    {
     "name": "stderr",
     "output_type": "stream",
     "text": [
      "\r",
      " 48%|████▊     | 578/1198 [2:01:17<1:23:12,  8.05s/it]"
     ]
    },
    {
     "name": "stdout",
     "output_type": "stream",
     "text": [
      "done.\n",
      "data/part_B/train_data\\images\\IMG_186.jpg\n",
      "(768, 1024)\n",
      "generating density...\n"
     ]
    },
    {
     "name": "stderr",
     "output_type": "stream",
     "text": [
      "\r",
      " 48%|████▊     | 579/1198 [2:01:29<1:34:15,  9.14s/it]"
     ]
    },
    {
     "name": "stdout",
     "output_type": "stream",
     "text": [
      "done.\n",
      "data/part_B/train_data\\images\\IMG_187.jpg\n",
      "(768, 1024)\n",
      "generating density...\n"
     ]
    },
    {
     "name": "stderr",
     "output_type": "stream",
     "text": [
      "\r",
      " 48%|████▊     | 580/1198 [2:01:37<1:30:15,  8.76s/it]"
     ]
    },
    {
     "name": "stdout",
     "output_type": "stream",
     "text": [
      "done.\n",
      "data/part_B/train_data\\images\\IMG_188.jpg\n",
      "(768, 1024)\n",
      "generating density...\n"
     ]
    },
    {
     "name": "stderr",
     "output_type": "stream",
     "text": [
      "\r",
      " 48%|████▊     | 581/1198 [2:01:51<1:46:48, 10.39s/it]"
     ]
    },
    {
     "name": "stdout",
     "output_type": "stream",
     "text": [
      "done.\n",
      "data/part_B/train_data\\images\\IMG_189.jpg\n",
      "(768, 1024)\n",
      "generating density...\n"
     ]
    },
    {
     "name": "stderr",
     "output_type": "stream",
     "text": [
      "\r",
      " 49%|████▊     | 582/1198 [2:01:59<1:39:51,  9.73s/it]"
     ]
    },
    {
     "name": "stdout",
     "output_type": "stream",
     "text": [
      "done.\n",
      "data/part_B/train_data\\images\\IMG_19.jpg\n",
      "(768, 1024)\n",
      "generating density...\n"
     ]
    },
    {
     "name": "stderr",
     "output_type": "stream",
     "text": [
      "\r",
      " 49%|████▊     | 583/1198 [2:02:06<1:30:32,  8.83s/it]"
     ]
    },
    {
     "name": "stdout",
     "output_type": "stream",
     "text": [
      "done.\n",
      "data/part_B/train_data\\images\\IMG_190.jpg\n",
      "(768, 1024)\n",
      "generating density...\n"
     ]
    },
    {
     "name": "stderr",
     "output_type": "stream",
     "text": [
      "\r",
      " 49%|████▊     | 584/1198 [2:02:18<1:40:22,  9.81s/it]"
     ]
    },
    {
     "name": "stdout",
     "output_type": "stream",
     "text": [
      "done.\n",
      "data/part_B/train_data\\images\\IMG_191.jpg\n",
      "(768, 1024)\n",
      "generating density...\n"
     ]
    },
    {
     "name": "stderr",
     "output_type": "stream",
     "text": [
      "\r",
      " 49%|████▉     | 585/1198 [2:02:36<2:05:20, 12.27s/it]"
     ]
    },
    {
     "name": "stdout",
     "output_type": "stream",
     "text": [
      "done.\n",
      "data/part_B/train_data\\images\\IMG_192.jpg\n",
      "(768, 1024)\n",
      "generating density...\n"
     ]
    },
    {
     "name": "stderr",
     "output_type": "stream",
     "text": [
      "\r",
      " 49%|████▉     | 586/1198 [2:02:44<1:53:05, 11.09s/it]"
     ]
    },
    {
     "name": "stdout",
     "output_type": "stream",
     "text": [
      "done.\n",
      "data/part_B/train_data\\images\\IMG_193.jpg\n",
      "(768, 1024)\n",
      "generating density...\n"
     ]
    },
    {
     "name": "stderr",
     "output_type": "stream",
     "text": [
      "\r",
      " 49%|████▉     | 587/1198 [2:02:53<1:46:06, 10.42s/it]"
     ]
    },
    {
     "name": "stdout",
     "output_type": "stream",
     "text": [
      "done.\n",
      "data/part_B/train_data\\images\\IMG_194.jpg\n",
      "(768, 1024)\n",
      "generating density...\n"
     ]
    },
    {
     "name": "stderr",
     "output_type": "stream",
     "text": [
      "\r",
      " 49%|████▉     | 588/1198 [2:03:08<1:58:44, 11.68s/it]"
     ]
    },
    {
     "name": "stdout",
     "output_type": "stream",
     "text": [
      "done.\n",
      "data/part_B/train_data\\images\\IMG_195.jpg\n",
      "(768, 1024)\n",
      "generating density...\n"
     ]
    },
    {
     "name": "stderr",
     "output_type": "stream",
     "text": [
      "\r",
      " 49%|████▉     | 589/1198 [2:03:14<1:41:50, 10.03s/it]"
     ]
    },
    {
     "name": "stdout",
     "output_type": "stream",
     "text": [
      "done.\n",
      "data/part_B/train_data\\images\\IMG_196.jpg\n",
      "(768, 1024)\n",
      "generating density...\n"
     ]
    },
    {
     "name": "stderr",
     "output_type": "stream",
     "text": [
      "\r",
      " 49%|████▉     | 590/1198 [2:03:20<1:27:57,  8.68s/it]"
     ]
    },
    {
     "name": "stdout",
     "output_type": "stream",
     "text": [
      "done.\n",
      "data/part_B/train_data\\images\\IMG_197.jpg\n",
      "(768, 1024)\n",
      "generating density...\n"
     ]
    },
    {
     "name": "stderr",
     "output_type": "stream",
     "text": [
      "\r",
      " 49%|████▉     | 591/1198 [2:03:29<1:30:15,  8.92s/it]"
     ]
    },
    {
     "name": "stdout",
     "output_type": "stream",
     "text": [
      "done.\n",
      "data/part_B/train_data\\images\\IMG_198.jpg\n",
      "(768, 1024)\n",
      "generating density...\n"
     ]
    },
    {
     "name": "stderr",
     "output_type": "stream",
     "text": [
      "\r",
      " 49%|████▉     | 592/1198 [2:03:37<1:26:58,  8.61s/it]"
     ]
    },
    {
     "name": "stdout",
     "output_type": "stream",
     "text": [
      "done.\n",
      "data/part_B/train_data\\images\\IMG_199.jpg\n",
      "(768, 1024)\n",
      "generating density...\n"
     ]
    },
    {
     "name": "stderr",
     "output_type": "stream",
     "text": [
      "\r",
      " 49%|████▉     | 593/1198 [2:03:46<1:27:31,  8.68s/it]"
     ]
    },
    {
     "name": "stdout",
     "output_type": "stream",
     "text": [
      "done.\n",
      "data/part_B/train_data\\images\\IMG_2.jpg\n",
      "(768, 1024)\n",
      "generating density...\n"
     ]
    },
    {
     "name": "stderr",
     "output_type": "stream",
     "text": [
      "\r",
      " 50%|████▉     | 594/1198 [2:03:53<1:22:36,  8.21s/it]"
     ]
    },
    {
     "name": "stdout",
     "output_type": "stream",
     "text": [
      "done.\n",
      "data/part_B/train_data\\images\\IMG_20.jpg\n",
      "(768, 1024)\n",
      "generating density...\n"
     ]
    },
    {
     "name": "stderr",
     "output_type": "stream",
     "text": [
      "\r",
      " 50%|████▉     | 595/1198 [2:04:01<1:22:30,  8.21s/it]"
     ]
    },
    {
     "name": "stdout",
     "output_type": "stream",
     "text": [
      "done.\n",
      "data/part_B/train_data\\images\\IMG_200.jpg\n",
      "(768, 1024)\n",
      "generating density...\n"
     ]
    },
    {
     "name": "stderr",
     "output_type": "stream",
     "text": [
      "\r",
      " 50%|████▉     | 596/1198 [2:04:11<1:26:58,  8.67s/it]"
     ]
    },
    {
     "name": "stdout",
     "output_type": "stream",
     "text": [
      "done.\n",
      "data/part_B/train_data\\images\\IMG_201.jpg\n",
      "(768, 1024)\n",
      "generating density...\n"
     ]
    },
    {
     "name": "stderr",
     "output_type": "stream",
     "text": [
      "\r",
      " 50%|████▉     | 597/1198 [2:04:18<1:23:14,  8.31s/it]"
     ]
    },
    {
     "name": "stdout",
     "output_type": "stream",
     "text": [
      "done.\n",
      "data/part_B/train_data\\images\\IMG_202.jpg\n",
      "(768, 1024)\n",
      "generating density...\n"
     ]
    },
    {
     "name": "stderr",
     "output_type": "stream",
     "text": [
      "\r",
      " 50%|████▉     | 598/1198 [2:04:29<1:31:08,  9.11s/it]"
     ]
    },
    {
     "name": "stdout",
     "output_type": "stream",
     "text": [
      "done.\n",
      "data/part_B/train_data\\images\\IMG_203.jpg\n",
      "(768, 1024)\n",
      "generating density...\n"
     ]
    },
    {
     "name": "stderr",
     "output_type": "stream",
     "text": [
      "\r",
      " 50%|█████     | 599/1198 [2:04:42<1:42:57, 10.31s/it]"
     ]
    },
    {
     "name": "stdout",
     "output_type": "stream",
     "text": [
      "done.\n",
      "data/part_B/train_data\\images\\IMG_204.jpg\n",
      "(768, 1024)\n",
      "generating density...\n"
     ]
    },
    {
     "name": "stderr",
     "output_type": "stream",
     "text": [
      "\r",
      " 50%|█████     | 600/1198 [2:04:50<1:35:57,  9.63s/it]"
     ]
    },
    {
     "name": "stdout",
     "output_type": "stream",
     "text": [
      "done.\n",
      "data/part_B/train_data\\images\\IMG_205.jpg\n",
      "(768, 1024)\n",
      "generating density...\n"
     ]
    },
    {
     "name": "stderr",
     "output_type": "stream",
     "text": [
      "\r",
      " 50%|█████     | 601/1198 [2:04:57<1:26:38,  8.71s/it]"
     ]
    },
    {
     "name": "stdout",
     "output_type": "stream",
     "text": [
      "done.\n",
      "data/part_B/train_data\\images\\IMG_206.jpg\n",
      "(768, 1024)\n",
      "generating density...\n"
     ]
    },
    {
     "name": "stderr",
     "output_type": "stream",
     "text": [
      "\r",
      " 50%|█████     | 602/1198 [2:05:02<1:16:36,  7.71s/it]"
     ]
    },
    {
     "name": "stdout",
     "output_type": "stream",
     "text": [
      "done.\n",
      "data/part_B/train_data\\images\\IMG_207.jpg\n",
      "(768, 1024)\n",
      "generating density...\n"
     ]
    },
    {
     "name": "stderr",
     "output_type": "stream",
     "text": [
      "\r",
      " 50%|█████     | 603/1198 [2:05:10<1:16:38,  7.73s/it]"
     ]
    },
    {
     "name": "stdout",
     "output_type": "stream",
     "text": [
      "done.\n",
      "data/part_B/train_data\\images\\IMG_208.jpg\n",
      "(768, 1024)\n",
      "generating density...\n"
     ]
    },
    {
     "name": "stderr",
     "output_type": "stream",
     "text": [
      "\r",
      " 50%|█████     | 604/1198 [2:05:18<1:18:10,  7.90s/it]"
     ]
    },
    {
     "name": "stdout",
     "output_type": "stream",
     "text": [
      "done.\n",
      "data/part_B/train_data\\images\\IMG_209.jpg\n",
      "(768, 1024)\n",
      "generating density...\n"
     ]
    },
    {
     "name": "stderr",
     "output_type": "stream",
     "text": [
      "\r",
      " 51%|█████     | 605/1198 [2:05:26<1:16:07,  7.70s/it]"
     ]
    },
    {
     "name": "stdout",
     "output_type": "stream",
     "text": [
      "done.\n",
      "data/part_B/train_data\\images\\IMG_21.jpg\n",
      "(768, 1024)\n",
      "generating density...\n"
     ]
    },
    {
     "name": "stderr",
     "output_type": "stream",
     "text": [
      "\r",
      " 51%|█████     | 606/1198 [2:05:36<1:23:11,  8.43s/it]"
     ]
    },
    {
     "name": "stdout",
     "output_type": "stream",
     "text": [
      "done.\n",
      "data/part_B/train_data\\images\\IMG_210.jpg\n",
      "(768, 1024)\n",
      "generating density...\n"
     ]
    },
    {
     "name": "stderr",
     "output_type": "stream",
     "text": [
      "\r",
      " 51%|█████     | 607/1198 [2:05:45<1:23:51,  8.51s/it]"
     ]
    },
    {
     "name": "stdout",
     "output_type": "stream",
     "text": [
      "done.\n",
      "data/part_B/train_data\\images\\IMG_211.jpg\n",
      "(768, 1024)\n",
      "generating density...\n"
     ]
    },
    {
     "name": "stderr",
     "output_type": "stream",
     "text": [
      "\r",
      " 51%|█████     | 608/1198 [2:05:49<1:12:12,  7.34s/it]"
     ]
    },
    {
     "name": "stdout",
     "output_type": "stream",
     "text": [
      "done.\n",
      "data/part_B/train_data\\images\\IMG_212.jpg\n",
      "(768, 1024)\n",
      "generating density...\n"
     ]
    },
    {
     "name": "stderr",
     "output_type": "stream",
     "text": [
      "\r",
      " 51%|█████     | 609/1198 [2:05:58<1:16:33,  7.80s/it]"
     ]
    },
    {
     "name": "stdout",
     "output_type": "stream",
     "text": [
      "done.\n",
      "data/part_B/train_data\\images\\IMG_213.jpg\n",
      "(768, 1024)\n",
      "generating density...\n"
     ]
    },
    {
     "name": "stderr",
     "output_type": "stream",
     "text": [
      "\r",
      " 51%|█████     | 610/1198 [2:06:05<1:14:11,  7.57s/it]"
     ]
    },
    {
     "name": "stdout",
     "output_type": "stream",
     "text": [
      "done.\n",
      "data/part_B/train_data\\images\\IMG_214.jpg\n",
      "(768, 1024)\n",
      "generating density...\n"
     ]
    },
    {
     "name": "stderr",
     "output_type": "stream",
     "text": [
      "\r",
      " 51%|█████     | 611/1198 [2:06:15<1:20:39,  8.24s/it]"
     ]
    },
    {
     "name": "stdout",
     "output_type": "stream",
     "text": [
      "done.\n",
      "data/part_B/train_data\\images\\IMG_215.jpg\n",
      "(768, 1024)\n",
      "generating density...\n"
     ]
    },
    {
     "name": "stderr",
     "output_type": "stream",
     "text": [
      "\r",
      " 51%|█████     | 612/1198 [2:06:22<1:16:44,  7.86s/it]"
     ]
    },
    {
     "name": "stdout",
     "output_type": "stream",
     "text": [
      "done.\n",
      "data/part_B/train_data\\images\\IMG_216.jpg\n",
      "(768, 1024)\n",
      "generating density...\n"
     ]
    },
    {
     "name": "stderr",
     "output_type": "stream",
     "text": [
      "\r",
      " 51%|█████     | 613/1198 [2:06:33<1:27:18,  8.95s/it]"
     ]
    },
    {
     "name": "stdout",
     "output_type": "stream",
     "text": [
      "done.\n",
      "data/part_B/train_data\\images\\IMG_217.jpg\n",
      "(768, 1024)\n",
      "generating density...\n"
     ]
    },
    {
     "name": "stderr",
     "output_type": "stream",
     "text": [
      "\r",
      " 51%|█████▏    | 614/1198 [2:06:41<1:23:27,  8.57s/it]"
     ]
    },
    {
     "name": "stdout",
     "output_type": "stream",
     "text": [
      "done.\n",
      "data/part_B/train_data\\images\\IMG_218.jpg\n",
      "(768, 1024)\n",
      "generating density...\n"
     ]
    },
    {
     "name": "stderr",
     "output_type": "stream",
     "text": [
      "\r",
      " 51%|█████▏    | 615/1198 [2:06:49<1:21:26,  8.38s/it]"
     ]
    },
    {
     "name": "stdout",
     "output_type": "stream",
     "text": [
      "done.\n",
      "data/part_B/train_data\\images\\IMG_219.jpg\n",
      "(768, 1024)\n",
      "generating density...\n"
     ]
    },
    {
     "name": "stderr",
     "output_type": "stream",
     "text": [
      "\r",
      " 51%|█████▏    | 616/1198 [2:06:53<1:08:21,  7.05s/it]"
     ]
    },
    {
     "name": "stdout",
     "output_type": "stream",
     "text": [
      "done.\n",
      "data/part_B/train_data\\images\\IMG_22.jpg\n",
      "(768, 1024)\n",
      "generating density...\n"
     ]
    },
    {
     "name": "stderr",
     "output_type": "stream",
     "text": [
      "\r",
      " 52%|█████▏    | 617/1198 [2:07:00<1:08:56,  7.12s/it]"
     ]
    },
    {
     "name": "stdout",
     "output_type": "stream",
     "text": [
      "done.\n",
      "data/part_B/train_data\\images\\IMG_220.jpg\n",
      "(768, 1024)\n",
      "generating density...\n"
     ]
    },
    {
     "name": "stderr",
     "output_type": "stream",
     "text": [
      "\r",
      " 52%|█████▏    | 618/1198 [2:07:06<1:04:51,  6.71s/it]"
     ]
    },
    {
     "name": "stdout",
     "output_type": "stream",
     "text": [
      "done.\n",
      "data/part_B/train_data\\images\\IMG_221.jpg\n",
      "(768, 1024)\n",
      "generating density...\n"
     ]
    },
    {
     "name": "stderr",
     "output_type": "stream",
     "text": [
      "\r",
      " 52%|█████▏    | 619/1198 [2:07:14<1:09:27,  7.20s/it]"
     ]
    },
    {
     "name": "stdout",
     "output_type": "stream",
     "text": [
      "done.\n",
      "data/part_B/train_data\\images\\IMG_222.jpg\n",
      "(768, 1024)\n",
      "generating density...\n"
     ]
    },
    {
     "name": "stderr",
     "output_type": "stream",
     "text": [
      "\r",
      " 52%|█████▏    | 620/1198 [2:07:31<1:36:51, 10.05s/it]"
     ]
    },
    {
     "name": "stdout",
     "output_type": "stream",
     "text": [
      "done.\n",
      "data/part_B/train_data\\images\\IMG_223.jpg\n",
      "(768, 1024)\n",
      "generating density...\n"
     ]
    },
    {
     "name": "stderr",
     "output_type": "stream",
     "text": [
      "\r",
      " 52%|█████▏    | 621/1198 [2:07:43<1:43:08, 10.72s/it]"
     ]
    },
    {
     "name": "stdout",
     "output_type": "stream",
     "text": [
      "done.\n",
      "data/part_B/train_data\\images\\IMG_224.jpg\n",
      "(768, 1024)\n",
      "generating density...\n"
     ]
    },
    {
     "name": "stderr",
     "output_type": "stream",
     "text": [
      "\r",
      " 52%|█████▏    | 622/1198 [2:07:55<1:44:23, 10.87s/it]"
     ]
    },
    {
     "name": "stdout",
     "output_type": "stream",
     "text": [
      "done.\n",
      "data/part_B/train_data\\images\\IMG_225.jpg\n",
      "(768, 1024)\n",
      "generating density...\n"
     ]
    },
    {
     "name": "stderr",
     "output_type": "stream",
     "text": [
      "\r",
      " 52%|█████▏    | 623/1198 [2:08:02<1:35:09,  9.93s/it]"
     ]
    },
    {
     "name": "stdout",
     "output_type": "stream",
     "text": [
      "done.\n",
      "data/part_B/train_data\\images\\IMG_226.jpg\n",
      "(768, 1024)\n",
      "generating density...\n"
     ]
    },
    {
     "name": "stderr",
     "output_type": "stream",
     "text": [
      "\r",
      " 52%|█████▏    | 624/1198 [2:08:12<1:33:50,  9.81s/it]"
     ]
    },
    {
     "name": "stdout",
     "output_type": "stream",
     "text": [
      "done.\n",
      "data/part_B/train_data\\images\\IMG_227.jpg\n",
      "(768, 1024)\n",
      "generating density...\n"
     ]
    },
    {
     "name": "stderr",
     "output_type": "stream",
     "text": [
      "\r",
      " 52%|█████▏    | 625/1198 [2:08:22<1:35:12,  9.97s/it]"
     ]
    },
    {
     "name": "stdout",
     "output_type": "stream",
     "text": [
      "done.\n",
      "data/part_B/train_data\\images\\IMG_228.jpg\n",
      "(768, 1024)\n",
      "generating density...\n"
     ]
    },
    {
     "name": "stderr",
     "output_type": "stream",
     "text": [
      "\r",
      " 52%|█████▏    | 626/1198 [2:08:32<1:33:22,  9.79s/it]"
     ]
    },
    {
     "name": "stdout",
     "output_type": "stream",
     "text": [
      "done.\n",
      "data/part_B/train_data\\images\\IMG_229.jpg\n",
      "(768, 1024)\n",
      "generating density...\n"
     ]
    },
    {
     "name": "stderr",
     "output_type": "stream",
     "text": [
      "\r",
      " 52%|█████▏    | 627/1198 [2:08:38<1:23:44,  8.80s/it]"
     ]
    },
    {
     "name": "stdout",
     "output_type": "stream",
     "text": [
      "done.\n",
      "data/part_B/train_data\\images\\IMG_23.jpg\n",
      "(768, 1024)\n",
      "generating density...\n"
     ]
    },
    {
     "name": "stderr",
     "output_type": "stream",
     "text": [
      "\r",
      " 52%|█████▏    | 628/1198 [2:08:47<1:24:42,  8.92s/it]"
     ]
    },
    {
     "name": "stdout",
     "output_type": "stream",
     "text": [
      "done.\n",
      "data/part_B/train_data\\images\\IMG_230.jpg\n",
      "(768, 1024)\n",
      "generating density...\n"
     ]
    },
    {
     "name": "stderr",
     "output_type": "stream",
     "text": [
      "\r",
      " 53%|█████▎    | 629/1198 [2:09:00<1:35:39, 10.09s/it]"
     ]
    },
    {
     "name": "stdout",
     "output_type": "stream",
     "text": [
      "done.\n",
      "data/part_B/train_data\\images\\IMG_231.jpg\n",
      "(768, 1024)\n",
      "generating density...\n"
     ]
    },
    {
     "name": "stderr",
     "output_type": "stream",
     "text": [
      "\r",
      " 53%|█████▎    | 630/1198 [2:09:17<1:56:29, 12.31s/it]"
     ]
    },
    {
     "name": "stdout",
     "output_type": "stream",
     "text": [
      "done.\n",
      "data/part_B/train_data\\images\\IMG_232.jpg\n",
      "(768, 1024)\n",
      "generating density...\n"
     ]
    },
    {
     "name": "stderr",
     "output_type": "stream",
     "text": [
      "\r",
      " 53%|█████▎    | 631/1198 [2:09:23<1:38:02, 10.38s/it]"
     ]
    },
    {
     "name": "stdout",
     "output_type": "stream",
     "text": [
      "done.\n",
      "data/part_B/train_data\\images\\IMG_233.jpg\n",
      "(768, 1024)\n",
      "generating density...\n"
     ]
    },
    {
     "name": "stderr",
     "output_type": "stream",
     "text": [
      "\r",
      " 53%|█████▎    | 632/1198 [2:09:28<1:20:46,  8.56s/it]"
     ]
    },
    {
     "name": "stdout",
     "output_type": "stream",
     "text": [
      "done.\n",
      "data/part_B/train_data\\images\\IMG_234.jpg\n",
      "(768, 1024)\n",
      "generating density...\n"
     ]
    },
    {
     "name": "stderr",
     "output_type": "stream",
     "text": [
      "\r",
      " 53%|█████▎    | 633/1198 [2:09:36<1:19:55,  8.49s/it]"
     ]
    },
    {
     "name": "stdout",
     "output_type": "stream",
     "text": [
      "done.\n",
      "data/part_B/train_data\\images\\IMG_235.jpg\n",
      "(768, 1024)\n",
      "generating density...\n"
     ]
    },
    {
     "name": "stderr",
     "output_type": "stream",
     "text": [
      "\r",
      " 53%|█████▎    | 634/1198 [2:09:43<1:15:02,  7.98s/it]"
     ]
    },
    {
     "name": "stdout",
     "output_type": "stream",
     "text": [
      "done.\n",
      "data/part_B/train_data\\images\\IMG_236.jpg\n",
      "(768, 1024)\n",
      "generating density...\n"
     ]
    },
    {
     "name": "stderr",
     "output_type": "stream",
     "text": [
      "\r",
      " 53%|█████▎    | 635/1198 [2:09:50<1:13:17,  7.81s/it]"
     ]
    },
    {
     "name": "stdout",
     "output_type": "stream",
     "text": [
      "done.\n",
      "data/part_B/train_data\\images\\IMG_237.jpg\n",
      "(768, 1024)\n",
      "generating density...\n"
     ]
    },
    {
     "name": "stderr",
     "output_type": "stream",
     "text": [
      "\r",
      " 53%|█████▎    | 636/1198 [2:09:57<1:11:15,  7.61s/it]"
     ]
    },
    {
     "name": "stdout",
     "output_type": "stream",
     "text": [
      "done.\n",
      "data/part_B/train_data\\images\\IMG_238.jpg\n",
      "(768, 1024)\n",
      "generating density...\n"
     ]
    },
    {
     "name": "stderr",
     "output_type": "stream",
     "text": [
      "\r",
      " 53%|█████▎    | 637/1198 [2:10:02<1:02:30,  6.69s/it]"
     ]
    },
    {
     "name": "stdout",
     "output_type": "stream",
     "text": [
      "done.\n",
      "data/part_B/train_data\\images\\IMG_239.jpg\n",
      "(768, 1024)\n",
      "generating density...\n"
     ]
    },
    {
     "name": "stderr",
     "output_type": "stream",
     "text": [
      "\r",
      " 53%|█████▎    | 638/1198 [2:10:17<1:24:44,  9.08s/it]"
     ]
    },
    {
     "name": "stdout",
     "output_type": "stream",
     "text": [
      "done.\n",
      "data/part_B/train_data\\images\\IMG_24.jpg\n",
      "(768, 1024)\n",
      "generating density...\n"
     ]
    },
    {
     "name": "stderr",
     "output_type": "stream",
     "text": [
      "\r",
      " 53%|█████▎    | 639/1198 [2:10:24<1:19:50,  8.57s/it]"
     ]
    },
    {
     "name": "stdout",
     "output_type": "stream",
     "text": [
      "done.\n",
      "data/part_B/train_data\\images\\IMG_240.jpg\n",
      "(768, 1024)\n",
      "generating density...\n"
     ]
    },
    {
     "name": "stderr",
     "output_type": "stream",
     "text": [
      "\r",
      " 53%|█████▎    | 640/1198 [2:10:32<1:18:23,  8.43s/it]"
     ]
    },
    {
     "name": "stdout",
     "output_type": "stream",
     "text": [
      "done.\n",
      "data/part_B/train_data\\images\\IMG_241.jpg\n",
      "(768, 1024)\n",
      "generating density...\n"
     ]
    },
    {
     "name": "stderr",
     "output_type": "stream",
     "text": [
      "\r",
      " 54%|█████▎    | 641/1198 [2:10:44<1:29:17,  9.62s/it]"
     ]
    },
    {
     "name": "stdout",
     "output_type": "stream",
     "text": [
      "done.\n",
      "data/part_B/train_data\\images\\IMG_242.jpg\n",
      "(768, 1024)\n",
      "generating density...\n"
     ]
    },
    {
     "name": "stderr",
     "output_type": "stream",
     "text": [
      "\r",
      " 54%|█████▎    | 642/1198 [2:10:51<1:21:19,  8.78s/it]"
     ]
    },
    {
     "name": "stdout",
     "output_type": "stream",
     "text": [
      "done.\n",
      "data/part_B/train_data\\images\\IMG_243.jpg\n",
      "(768, 1024)\n",
      "generating density...\n"
     ]
    },
    {
     "name": "stderr",
     "output_type": "stream",
     "text": [
      "\r",
      " 54%|█████▎    | 643/1198 [2:11:03<1:30:38,  9.80s/it]"
     ]
    },
    {
     "name": "stdout",
     "output_type": "stream",
     "text": [
      "done.\n",
      "data/part_B/train_data\\images\\IMG_244.jpg\n",
      "(768, 1024)\n",
      "generating density...\n"
     ]
    },
    {
     "name": "stderr",
     "output_type": "stream",
     "text": [
      "\r",
      " 54%|█████▍    | 644/1198 [2:11:08<1:15:58,  8.23s/it]"
     ]
    },
    {
     "name": "stdout",
     "output_type": "stream",
     "text": [
      "done.\n",
      "data/part_B/train_data\\images\\IMG_245.jpg\n",
      "(768, 1024)\n",
      "generating density...\n"
     ]
    },
    {
     "name": "stderr",
     "output_type": "stream",
     "text": [
      "\r",
      " 54%|█████▍    | 645/1198 [2:11:16<1:14:54,  8.13s/it]"
     ]
    },
    {
     "name": "stdout",
     "output_type": "stream",
     "text": [
      "done.\n",
      "data/part_B/train_data\\images\\IMG_246.jpg\n",
      "(768, 1024)\n",
      "generating density...\n"
     ]
    },
    {
     "name": "stderr",
     "output_type": "stream",
     "text": [
      "\r",
      " 54%|█████▍    | 646/1198 [2:11:26<1:21:27,  8.85s/it]"
     ]
    },
    {
     "name": "stdout",
     "output_type": "stream",
     "text": [
      "done.\n",
      "data/part_B/train_data\\images\\IMG_247.jpg\n",
      "(768, 1024)\n",
      "generating density...\n"
     ]
    },
    {
     "name": "stderr",
     "output_type": "stream",
     "text": [
      "\r",
      " 54%|█████▍    | 647/1198 [2:11:37<1:27:18,  9.51s/it]"
     ]
    },
    {
     "name": "stdout",
     "output_type": "stream",
     "text": [
      "done.\n",
      "data/part_B/train_data\\images\\IMG_248.jpg\n",
      "(768, 1024)\n",
      "generating density...\n"
     ]
    },
    {
     "name": "stderr",
     "output_type": "stream",
     "text": [
      "\r",
      " 54%|█████▍    | 648/1198 [2:11:45<1:21:08,  8.85s/it]"
     ]
    },
    {
     "name": "stdout",
     "output_type": "stream",
     "text": [
      "done.\n",
      "data/part_B/train_data\\images\\IMG_249.jpg\n",
      "(768, 1024)\n",
      "generating density...\n"
     ]
    },
    {
     "name": "stderr",
     "output_type": "stream",
     "text": [
      "\r",
      " 54%|█████▍    | 649/1198 [2:11:52<1:16:34,  8.37s/it]"
     ]
    },
    {
     "name": "stdout",
     "output_type": "stream",
     "text": [
      "done.\n",
      "data/part_B/train_data\\images\\IMG_25.jpg\n",
      "(768, 1024)\n",
      "generating density...\n"
     ]
    },
    {
     "name": "stderr",
     "output_type": "stream",
     "text": [
      "\r",
      " 54%|█████▍    | 650/1198 [2:12:00<1:14:32,  8.16s/it]"
     ]
    },
    {
     "name": "stdout",
     "output_type": "stream",
     "text": [
      "done.\n",
      "data/part_B/train_data\\images\\IMG_250.jpg\n",
      "(768, 1024)\n",
      "generating density...\n"
     ]
    },
    {
     "name": "stderr",
     "output_type": "stream",
     "text": [
      "\r",
      " 54%|█████▍    | 651/1198 [2:12:12<1:24:26,  9.26s/it]"
     ]
    },
    {
     "name": "stdout",
     "output_type": "stream",
     "text": [
      "done.\n",
      "data/part_B/train_data\\images\\IMG_251.jpg\n",
      "(768, 1024)\n",
      "generating density...\n"
     ]
    },
    {
     "name": "stderr",
     "output_type": "stream",
     "text": [
      "\r",
      " 54%|█████▍    | 652/1198 [2:12:20<1:22:15,  9.04s/it]"
     ]
    },
    {
     "name": "stdout",
     "output_type": "stream",
     "text": [
      "done.\n",
      "data/part_B/train_data\\images\\IMG_252.jpg\n",
      "(768, 1024)\n",
      "generating density...\n"
     ]
    },
    {
     "name": "stderr",
     "output_type": "stream",
     "text": [
      "\r",
      " 55%|█████▍    | 653/1198 [2:12:28<1:18:55,  8.69s/it]"
     ]
    },
    {
     "name": "stdout",
     "output_type": "stream",
     "text": [
      "done.\n",
      "data/part_B/train_data\\images\\IMG_253.jpg\n",
      "(768, 1024)\n",
      "generating density...\n"
     ]
    },
    {
     "name": "stderr",
     "output_type": "stream",
     "text": [
      "\r",
      " 55%|█████▍    | 654/1198 [2:12:37<1:18:37,  8.67s/it]"
     ]
    },
    {
     "name": "stdout",
     "output_type": "stream",
     "text": [
      "done.\n",
      "data/part_B/train_data\\images\\IMG_254.jpg\n",
      "(768, 1024)\n",
      "generating density...\n"
     ]
    },
    {
     "name": "stderr",
     "output_type": "stream",
     "text": [
      "\r",
      " 55%|█████▍    | 655/1198 [2:12:47<1:22:39,  9.13s/it]"
     ]
    },
    {
     "name": "stdout",
     "output_type": "stream",
     "text": [
      "done.\n",
      "data/part_B/train_data\\images\\IMG_255.jpg\n",
      "(768, 1024)\n",
      "generating density...\n"
     ]
    },
    {
     "name": "stderr",
     "output_type": "stream",
     "text": [
      "\r",
      " 55%|█████▍    | 656/1198 [2:12:50<1:07:38,  7.49s/it]"
     ]
    },
    {
     "name": "stdout",
     "output_type": "stream",
     "text": [
      "done.\n",
      "data/part_B/train_data\\images\\IMG_256.jpg\n",
      "(768, 1024)\n",
      "generating density...\n"
     ]
    },
    {
     "name": "stderr",
     "output_type": "stream",
     "text": [
      "\r",
      " 55%|█████▍    | 657/1198 [2:12:57<1:03:53,  7.09s/it]"
     ]
    },
    {
     "name": "stdout",
     "output_type": "stream",
     "text": [
      "done.\n",
      "data/part_B/train_data\\images\\IMG_257.jpg\n",
      "(768, 1024)\n",
      "generating density...\n"
     ]
    },
    {
     "name": "stderr",
     "output_type": "stream",
     "text": [
      "\r",
      " 55%|█████▍    | 658/1198 [2:13:06<1:11:06,  7.90s/it]"
     ]
    },
    {
     "name": "stdout",
     "output_type": "stream",
     "text": [
      "done.\n",
      "data/part_B/train_data\\images\\IMG_258.jpg\n",
      "(768, 1024)\n",
      "generating density...\n"
     ]
    },
    {
     "name": "stderr",
     "output_type": "stream",
     "text": [
      "\r",
      " 55%|█████▌    | 659/1198 [2:13:16<1:15:36,  8.42s/it]"
     ]
    },
    {
     "name": "stdout",
     "output_type": "stream",
     "text": [
      "done.\n",
      "data/part_B/train_data\\images\\IMG_259.jpg\n",
      "(768, 1024)\n",
      "generating density...\n"
     ]
    },
    {
     "name": "stderr",
     "output_type": "stream",
     "text": [
      "\r",
      " 55%|█████▌    | 660/1198 [2:13:28<1:25:13,  9.50s/it]"
     ]
    },
    {
     "name": "stdout",
     "output_type": "stream",
     "text": [
      "done.\n",
      "data/part_B/train_data\\images\\IMG_26.jpg\n",
      "(768, 1024)\n",
      "generating density...\n"
     ]
    },
    {
     "name": "stderr",
     "output_type": "stream",
     "text": [
      "\r",
      " 55%|█████▌    | 661/1198 [2:13:36<1:21:05,  9.06s/it]"
     ]
    },
    {
     "name": "stdout",
     "output_type": "stream",
     "text": [
      "done.\n",
      "data/part_B/train_data\\images\\IMG_260.jpg\n",
      "(768, 1024)\n",
      "generating density...\n"
     ]
    },
    {
     "name": "stderr",
     "output_type": "stream",
     "text": [
      "\r",
      " 55%|█████▌    | 662/1198 [2:13:44<1:17:20,  8.66s/it]"
     ]
    },
    {
     "name": "stdout",
     "output_type": "stream",
     "text": [
      "done.\n",
      "data/part_B/train_data\\images\\IMG_261.jpg\n",
      "(768, 1024)\n",
      "generating density...\n"
     ]
    },
    {
     "name": "stderr",
     "output_type": "stream",
     "text": [
      "\r",
      " 55%|█████▌    | 663/1198 [2:13:50<1:10:59,  7.96s/it]"
     ]
    },
    {
     "name": "stdout",
     "output_type": "stream",
     "text": [
      "done.\n",
      "data/part_B/train_data\\images\\IMG_262.jpg\n",
      "(768, 1024)\n",
      "generating density...\n"
     ]
    },
    {
     "name": "stderr",
     "output_type": "stream",
     "text": [
      "\r",
      " 55%|█████▌    | 664/1198 [2:13:58<1:09:44,  7.84s/it]"
     ]
    },
    {
     "name": "stdout",
     "output_type": "stream",
     "text": [
      "done.\n",
      "data/part_B/train_data\\images\\IMG_263.jpg\n",
      "(768, 1024)\n",
      "generating density...\n"
     ]
    },
    {
     "name": "stderr",
     "output_type": "stream",
     "text": [
      "\r",
      " 56%|█████▌    | 665/1198 [2:14:06<1:09:52,  7.87s/it]"
     ]
    },
    {
     "name": "stdout",
     "output_type": "stream",
     "text": [
      "done.\n",
      "data/part_B/train_data\\images\\IMG_264.jpg\n",
      "(768, 1024)\n",
      "generating density...\n"
     ]
    },
    {
     "name": "stderr",
     "output_type": "stream",
     "text": [
      "\r",
      " 56%|█████▌    | 666/1198 [2:14:11<1:03:31,  7.17s/it]"
     ]
    },
    {
     "name": "stdout",
     "output_type": "stream",
     "text": [
      "done.\n",
      "data/part_B/train_data\\images\\IMG_265.jpg\n",
      "(768, 1024)\n",
      "generating density...\n"
     ]
    },
    {
     "name": "stderr",
     "output_type": "stream",
     "text": [
      "\r",
      " 56%|█████▌    | 667/1198 [2:14:17<1:00:46,  6.87s/it]"
     ]
    },
    {
     "name": "stdout",
     "output_type": "stream",
     "text": [
      "done.\n",
      "data/part_B/train_data\\images\\IMG_266.jpg\n",
      "(768, 1024)\n",
      "generating density...\n"
     ]
    },
    {
     "name": "stderr",
     "output_type": "stream",
     "text": [
      "\r",
      " 56%|█████▌    | 668/1198 [2:14:24<1:01:31,  6.97s/it]"
     ]
    },
    {
     "name": "stdout",
     "output_type": "stream",
     "text": [
      "done.\n",
      "data/part_B/train_data\\images\\IMG_267.jpg\n",
      "(768, 1024)\n",
      "generating density...\n"
     ]
    },
    {
     "name": "stderr",
     "output_type": "stream",
     "text": [
      "\r",
      " 56%|█████▌    | 669/1198 [2:14:32<1:02:47,  7.12s/it]"
     ]
    },
    {
     "name": "stdout",
     "output_type": "stream",
     "text": [
      "done.\n",
      "data/part_B/train_data\\images\\IMG_268.jpg\n",
      "(768, 1024)\n",
      "generating density...\n"
     ]
    },
    {
     "name": "stderr",
     "output_type": "stream",
     "text": [
      "\r",
      " 56%|█████▌    | 670/1198 [2:14:38<1:01:04,  6.94s/it]"
     ]
    },
    {
     "name": "stdout",
     "output_type": "stream",
     "text": [
      "done.\n",
      "data/part_B/train_data\\images\\IMG_269.jpg\n",
      "(768, 1024)\n",
      "generating density...\n"
     ]
    },
    {
     "name": "stderr",
     "output_type": "stream",
     "text": [
      "\r",
      " 56%|█████▌    | 671/1198 [2:14:50<1:12:30,  8.26s/it]"
     ]
    },
    {
     "name": "stdout",
     "output_type": "stream",
     "text": [
      "done.\n",
      "data/part_B/train_data\\images\\IMG_27.jpg\n",
      "(768, 1024)\n",
      "generating density...\n"
     ]
    },
    {
     "name": "stderr",
     "output_type": "stream",
     "text": [
      "\r",
      " 56%|█████▌    | 672/1198 [2:15:02<1:23:13,  9.49s/it]"
     ]
    },
    {
     "name": "stdout",
     "output_type": "stream",
     "text": [
      "done.\n",
      "data/part_B/train_data\\images\\IMG_270.jpg\n",
      "(768, 1024)\n",
      "generating density...\n"
     ]
    },
    {
     "name": "stderr",
     "output_type": "stream",
     "text": [
      "\r",
      " 56%|█████▌    | 673/1198 [2:15:11<1:20:14,  9.17s/it]"
     ]
    },
    {
     "name": "stdout",
     "output_type": "stream",
     "text": [
      "done.\n",
      "data/part_B/train_data\\images\\IMG_271.jpg\n",
      "(768, 1024)\n",
      "generating density...\n"
     ]
    },
    {
     "name": "stderr",
     "output_type": "stream",
     "text": [
      "\r",
      " 56%|█████▋    | 674/1198 [2:15:21<1:22:56,  9.50s/it]"
     ]
    },
    {
     "name": "stdout",
     "output_type": "stream",
     "text": [
      "done.\n",
      "data/part_B/train_data\\images\\IMG_272.jpg\n",
      "(768, 1024)\n",
      "generating density...\n"
     ]
    },
    {
     "name": "stderr",
     "output_type": "stream",
     "text": [
      "\r",
      " 56%|█████▋    | 675/1198 [2:15:30<1:21:43,  9.38s/it]"
     ]
    },
    {
     "name": "stdout",
     "output_type": "stream",
     "text": [
      "done.\n",
      "data/part_B/train_data\\images\\IMG_273.jpg\n",
      "(768, 1024)\n",
      "generating density...\n"
     ]
    },
    {
     "name": "stderr",
     "output_type": "stream",
     "text": [
      "\r",
      " 56%|█████▋    | 676/1198 [2:15:39<1:21:30,  9.37s/it]"
     ]
    },
    {
     "name": "stdout",
     "output_type": "stream",
     "text": [
      "done.\n",
      "data/part_B/train_data\\images\\IMG_274.jpg\n",
      "(768, 1024)\n",
      "generating density...\n"
     ]
    },
    {
     "name": "stderr",
     "output_type": "stream",
     "text": [
      "\r",
      " 57%|█████▋    | 677/1198 [2:15:45<1:12:25,  8.34s/it]"
     ]
    },
    {
     "name": "stdout",
     "output_type": "stream",
     "text": [
      "done.\n",
      "data/part_B/train_data\\images\\IMG_275.jpg\n",
      "(768, 1024)\n",
      "generating density...\n"
     ]
    },
    {
     "name": "stderr",
     "output_type": "stream",
     "text": [
      "\r",
      " 57%|█████▋    | 678/1198 [2:15:53<1:10:17,  8.11s/it]"
     ]
    },
    {
     "name": "stdout",
     "output_type": "stream",
     "text": [
      "done.\n",
      "data/part_B/train_data\\images\\IMG_276.jpg\n",
      "(768, 1024)\n",
      "generating density...\n"
     ]
    },
    {
     "name": "stderr",
     "output_type": "stream",
     "text": [
      "\r",
      " 57%|█████▋    | 679/1198 [2:15:58<1:01:20,  7.09s/it]"
     ]
    },
    {
     "name": "stdout",
     "output_type": "stream",
     "text": [
      "done.\n",
      "data/part_B/train_data\\images\\IMG_277.jpg\n",
      "(768, 1024)\n",
      "generating density...\n"
     ]
    },
    {
     "name": "stderr",
     "output_type": "stream",
     "text": [
      "\r",
      " 57%|█████▋    | 680/1198 [2:16:03<57:41,  6.68s/it]  "
     ]
    },
    {
     "name": "stdout",
     "output_type": "stream",
     "text": [
      "done.\n",
      "data/part_B/train_data\\images\\IMG_278.jpg\n",
      "(768, 1024)\n",
      "generating density...\n"
     ]
    },
    {
     "name": "stderr",
     "output_type": "stream",
     "text": [
      "\r",
      " 57%|█████▋    | 681/1198 [2:16:10<57:01,  6.62s/it]"
     ]
    },
    {
     "name": "stdout",
     "output_type": "stream",
     "text": [
      "done.\n",
      "data/part_B/train_data\\images\\IMG_279.jpg\n",
      "(768, 1024)\n",
      "generating density...\n"
     ]
    },
    {
     "name": "stderr",
     "output_type": "stream",
     "text": [
      "\r",
      " 57%|█████▋    | 682/1198 [2:16:20<1:05:35,  7.63s/it]"
     ]
    },
    {
     "name": "stdout",
     "output_type": "stream",
     "text": [
      "done.\n",
      "data/part_B/train_data\\images\\IMG_28.jpg\n",
      "(768, 1024)\n",
      "generating density...\n"
     ]
    },
    {
     "name": "stderr",
     "output_type": "stream",
     "text": [
      "\r",
      " 57%|█████▋    | 683/1198 [2:16:28<1:07:50,  7.90s/it]"
     ]
    },
    {
     "name": "stdout",
     "output_type": "stream",
     "text": [
      "done.\n",
      "data/part_B/train_data\\images\\IMG_280.jpg\n",
      "(768, 1024)\n",
      "generating density...\n"
     ]
    },
    {
     "name": "stderr",
     "output_type": "stream",
     "text": [
      "\r",
      " 57%|█████▋    | 684/1198 [2:16:42<1:23:42,  9.77s/it]"
     ]
    },
    {
     "name": "stdout",
     "output_type": "stream",
     "text": [
      "done.\n",
      "data/part_B/train_data\\images\\IMG_281.jpg\n",
      "(768, 1024)\n",
      "generating density...\n"
     ]
    },
    {
     "name": "stderr",
     "output_type": "stream",
     "text": [
      "\r",
      " 57%|█████▋    | 685/1198 [2:16:48<1:12:40,  8.50s/it]"
     ]
    },
    {
     "name": "stdout",
     "output_type": "stream",
     "text": [
      "done.\n",
      "data/part_B/train_data\\images\\IMG_282.jpg\n",
      "(768, 1024)\n",
      "generating density...\n"
     ]
    },
    {
     "name": "stderr",
     "output_type": "stream",
     "text": [
      "\r",
      " 57%|█████▋    | 686/1198 [2:16:57<1:14:54,  8.78s/it]"
     ]
    },
    {
     "name": "stdout",
     "output_type": "stream",
     "text": [
      "done.\n",
      "data/part_B/train_data\\images\\IMG_283.jpg\n",
      "(768, 1024)\n",
      "generating density...\n"
     ]
    },
    {
     "name": "stderr",
     "output_type": "stream",
     "text": [
      "\r",
      " 57%|█████▋    | 687/1198 [2:17:06<1:14:40,  8.77s/it]"
     ]
    },
    {
     "name": "stdout",
     "output_type": "stream",
     "text": [
      "done.\n",
      "data/part_B/train_data\\images\\IMG_284.jpg\n",
      "(768, 1024)\n",
      "generating density...\n"
     ]
    },
    {
     "name": "stderr",
     "output_type": "stream",
     "text": [
      "\r",
      " 57%|█████▋    | 688/1198 [2:17:20<1:28:27, 10.41s/it]"
     ]
    },
    {
     "name": "stdout",
     "output_type": "stream",
     "text": [
      "done.\n",
      "data/part_B/train_data\\images\\IMG_285.jpg\n",
      "(768, 1024)\n",
      "generating density...\n"
     ]
    },
    {
     "name": "stderr",
     "output_type": "stream",
     "text": [
      "\r",
      " 58%|█████▊    | 689/1198 [2:17:25<1:12:57,  8.60s/it]"
     ]
    },
    {
     "name": "stdout",
     "output_type": "stream",
     "text": [
      "done.\n",
      "data/part_B/train_data\\images\\IMG_286.jpg\n",
      "(768, 1024)\n",
      "generating density...\n"
     ]
    },
    {
     "name": "stderr",
     "output_type": "stream",
     "text": [
      "\r",
      " 58%|█████▊    | 690/1198 [2:17:30<1:04:33,  7.63s/it]"
     ]
    },
    {
     "name": "stdout",
     "output_type": "stream",
     "text": [
      "done.\n",
      "data/part_B/train_data\\images\\IMG_287.jpg\n",
      "(768, 1024)\n",
      "generating density...\n"
     ]
    },
    {
     "name": "stderr",
     "output_type": "stream",
     "text": [
      "\r",
      " 58%|█████▊    | 691/1198 [2:17:40<1:11:29,  8.46s/it]"
     ]
    },
    {
     "name": "stdout",
     "output_type": "stream",
     "text": [
      "done.\n",
      "data/part_B/train_data\\images\\IMG_288.jpg\n",
      "(768, 1024)\n",
      "generating density...\n"
     ]
    },
    {
     "name": "stderr",
     "output_type": "stream",
     "text": [
      "\r",
      " 58%|█████▊    | 692/1198 [2:17:45<1:02:03,  7.36s/it]"
     ]
    },
    {
     "name": "stdout",
     "output_type": "stream",
     "text": [
      "done.\n",
      "data/part_B/train_data\\images\\IMG_289.jpg\n",
      "(768, 1024)\n",
      "generating density...\n"
     ]
    },
    {
     "name": "stderr",
     "output_type": "stream",
     "text": [
      "\r",
      " 58%|█████▊    | 693/1198 [2:17:58<1:15:53,  9.02s/it]"
     ]
    },
    {
     "name": "stdout",
     "output_type": "stream",
     "text": [
      "done.\n",
      "data/part_B/train_data\\images\\IMG_29.jpg\n",
      "(768, 1024)\n",
      "generating density...\n"
     ]
    },
    {
     "name": "stderr",
     "output_type": "stream",
     "text": [
      "\r",
      " 58%|█████▊    | 694/1198 [2:18:05<1:11:28,  8.51s/it]"
     ]
    },
    {
     "name": "stdout",
     "output_type": "stream",
     "text": [
      "done.\n",
      "data/part_B/train_data\\images\\IMG_290.jpg\n",
      "(768, 1024)\n",
      "generating density...\n"
     ]
    },
    {
     "name": "stderr",
     "output_type": "stream",
     "text": [
      "\r",
      " 58%|█████▊    | 695/1198 [2:18:15<1:14:33,  8.89s/it]"
     ]
    },
    {
     "name": "stdout",
     "output_type": "stream",
     "text": [
      "done.\n",
      "data/part_B/train_data\\images\\IMG_291.jpg\n",
      "(768, 1024)\n",
      "generating density...\n"
     ]
    },
    {
     "name": "stderr",
     "output_type": "stream",
     "text": [
      "\r",
      " 58%|█████▊    | 696/1198 [2:18:24<1:13:51,  8.83s/it]"
     ]
    },
    {
     "name": "stdout",
     "output_type": "stream",
     "text": [
      "done.\n",
      "data/part_B/train_data\\images\\IMG_292.jpg\n",
      "(768, 1024)\n",
      "generating density...\n"
     ]
    },
    {
     "name": "stderr",
     "output_type": "stream",
     "text": [
      "\r",
      " 58%|█████▊    | 697/1198 [2:18:30<1:08:00,  8.14s/it]"
     ]
    },
    {
     "name": "stdout",
     "output_type": "stream",
     "text": [
      "done.\n",
      "data/part_B/train_data\\images\\IMG_293.jpg\n",
      "(768, 1024)\n",
      "generating density...\n"
     ]
    },
    {
     "name": "stderr",
     "output_type": "stream",
     "text": [
      "\r",
      " 58%|█████▊    | 698/1198 [2:18:36<1:00:49,  7.30s/it]"
     ]
    },
    {
     "name": "stdout",
     "output_type": "stream",
     "text": [
      "done.\n",
      "data/part_B/train_data\\images\\IMG_294.jpg\n",
      "(768, 1024)\n",
      "generating density...\n"
     ]
    },
    {
     "name": "stderr",
     "output_type": "stream",
     "text": [
      "\r",
      " 58%|█████▊    | 699/1198 [2:18:41<55:11,  6.64s/it]  "
     ]
    },
    {
     "name": "stdout",
     "output_type": "stream",
     "text": [
      "done.\n",
      "data/part_B/train_data\\images\\IMG_295.jpg\n",
      "(768, 1024)\n",
      "generating density...\n"
     ]
    },
    {
     "name": "stderr",
     "output_type": "stream",
     "text": [
      "\r",
      " 58%|█████▊    | 700/1198 [2:18:53<1:09:36,  8.39s/it]"
     ]
    },
    {
     "name": "stdout",
     "output_type": "stream",
     "text": [
      "done.\n",
      "data/part_B/train_data\\images\\IMG_296.jpg\n",
      "(768, 1024)\n",
      "generating density...\n"
     ]
    },
    {
     "name": "stderr",
     "output_type": "stream",
     "text": [
      "\r",
      " 59%|█████▊    | 701/1198 [2:19:01<1:07:58,  8.21s/it]"
     ]
    },
    {
     "name": "stdout",
     "output_type": "stream",
     "text": [
      "done.\n",
      "data/part_B/train_data\\images\\IMG_297.jpg\n",
      "(768, 1024)\n",
      "generating density...\n"
     ]
    },
    {
     "name": "stderr",
     "output_type": "stream",
     "text": [
      "\r",
      " 59%|█████▊    | 702/1198 [2:19:17<1:25:40, 10.36s/it]"
     ]
    },
    {
     "name": "stdout",
     "output_type": "stream",
     "text": [
      "done.\n",
      "data/part_B/train_data\\images\\IMG_298.jpg\n",
      "(768, 1024)\n",
      "generating density...\n"
     ]
    },
    {
     "name": "stderr",
     "output_type": "stream",
     "text": [
      "\r",
      " 59%|█████▊    | 703/1198 [2:19:24<1:18:52,  9.56s/it]"
     ]
    },
    {
     "name": "stdout",
     "output_type": "stream",
     "text": [
      "done.\n",
      "data/part_B/train_data\\images\\IMG_299.jpg\n",
      "(768, 1024)\n",
      "generating density...\n"
     ]
    },
    {
     "name": "stderr",
     "output_type": "stream",
     "text": [
      "\r",
      " 59%|█████▉    | 704/1198 [2:19:31<1:12:23,  8.79s/it]"
     ]
    },
    {
     "name": "stdout",
     "output_type": "stream",
     "text": [
      "done.\n",
      "data/part_B/train_data\\images\\IMG_3.jpg\n",
      "(768, 1024)\n",
      "generating density...\n"
     ]
    },
    {
     "name": "stderr",
     "output_type": "stream",
     "text": [
      "\r",
      " 59%|█████▉    | 705/1198 [2:19:37<1:05:53,  8.02s/it]"
     ]
    },
    {
     "name": "stdout",
     "output_type": "stream",
     "text": [
      "done.\n",
      "data/part_B/train_data\\images\\IMG_30.jpg\n",
      "(768, 1024)\n",
      "generating density...\n"
     ]
    },
    {
     "name": "stderr",
     "output_type": "stream",
     "text": [
      "\r",
      " 59%|█████▉    | 706/1198 [2:19:51<1:19:48,  9.73s/it]"
     ]
    },
    {
     "name": "stdout",
     "output_type": "stream",
     "text": [
      "done.\n",
      "data/part_B/train_data\\images\\IMG_300.jpg\n",
      "(768, 1024)\n",
      "generating density...\n"
     ]
    },
    {
     "name": "stderr",
     "output_type": "stream",
     "text": [
      "\r",
      " 59%|█████▉    | 707/1198 [2:20:03<1:24:46, 10.36s/it]"
     ]
    },
    {
     "name": "stdout",
     "output_type": "stream",
     "text": [
      "done.\n",
      "data/part_B/train_data\\images\\IMG_301.jpg\n",
      "(768, 1024)\n",
      "generating density...\n"
     ]
    },
    {
     "name": "stderr",
     "output_type": "stream",
     "text": [
      "\r",
      " 59%|█████▉    | 708/1198 [2:20:10<1:16:19,  9.35s/it]"
     ]
    },
    {
     "name": "stdout",
     "output_type": "stream",
     "text": [
      "done.\n",
      "data/part_B/train_data\\images\\IMG_302.jpg\n",
      "(768, 1024)\n",
      "generating density...\n"
     ]
    },
    {
     "name": "stderr",
     "output_type": "stream",
     "text": [
      "\r",
      " 59%|█████▉    | 709/1198 [2:20:19<1:16:07,  9.34s/it]"
     ]
    },
    {
     "name": "stdout",
     "output_type": "stream",
     "text": [
      "done.\n",
      "data/part_B/train_data\\images\\IMG_303.jpg\n",
      "(768, 1024)\n",
      "generating density...\n"
     ]
    },
    {
     "name": "stderr",
     "output_type": "stream",
     "text": [
      "\r",
      " 59%|█████▉    | 710/1198 [2:20:31<1:21:05,  9.97s/it]"
     ]
    },
    {
     "name": "stdout",
     "output_type": "stream",
     "text": [
      "done.\n",
      "data/part_B/train_data\\images\\IMG_304.jpg\n",
      "(768, 1024)\n",
      "generating density...\n"
     ]
    },
    {
     "name": "stderr",
     "output_type": "stream",
     "text": [
      "\r",
      " 59%|█████▉    | 711/1198 [2:20:42<1:24:38, 10.43s/it]"
     ]
    },
    {
     "name": "stdout",
     "output_type": "stream",
     "text": [
      "done.\n",
      "data/part_B/train_data\\images\\IMG_305.jpg\n",
      "(768, 1024)\n",
      "generating density...\n"
     ]
    },
    {
     "name": "stderr",
     "output_type": "stream",
     "text": [
      "\r",
      " 59%|█████▉    | 712/1198 [2:20:54<1:26:31, 10.68s/it]"
     ]
    },
    {
     "name": "stdout",
     "output_type": "stream",
     "text": [
      "done.\n",
      "data/part_B/train_data\\images\\IMG_306.jpg\n",
      "(768, 1024)\n",
      "generating density...\n"
     ]
    },
    {
     "name": "stderr",
     "output_type": "stream",
     "text": [
      "\r",
      " 60%|█████▉    | 713/1198 [2:21:02<1:20:14,  9.93s/it]"
     ]
    },
    {
     "name": "stdout",
     "output_type": "stream",
     "text": [
      "done.\n",
      "data/part_B/train_data\\images\\IMG_307.jpg\n",
      "(768, 1024)\n",
      "generating density...\n"
     ]
    },
    {
     "name": "stderr",
     "output_type": "stream",
     "text": [
      "\r",
      " 60%|█████▉    | 714/1198 [2:21:10<1:17:03,  9.55s/it]"
     ]
    },
    {
     "name": "stdout",
     "output_type": "stream",
     "text": [
      "done.\n",
      "data/part_B/train_data\\images\\IMG_308.jpg\n",
      "(768, 1024)\n",
      "generating density...\n"
     ]
    },
    {
     "name": "stderr",
     "output_type": "stream",
     "text": [
      "\r",
      " 60%|█████▉    | 715/1198 [2:21:19<1:13:59,  9.19s/it]"
     ]
    },
    {
     "name": "stdout",
     "output_type": "stream",
     "text": [
      "done.\n",
      "data/part_B/train_data\\images\\IMG_309.jpg\n",
      "(768, 1024)\n",
      "generating density...\n"
     ]
    },
    {
     "name": "stderr",
     "output_type": "stream",
     "text": [
      "\r",
      " 60%|█████▉    | 716/1198 [2:21:25<1:07:18,  8.38s/it]"
     ]
    },
    {
     "name": "stdout",
     "output_type": "stream",
     "text": [
      "done.\n",
      "data/part_B/train_data\\images\\IMG_31.jpg\n",
      "(768, 1024)\n",
      "generating density...\n"
     ]
    },
    {
     "name": "stderr",
     "output_type": "stream",
     "text": [
      "\r",
      " 60%|█████▉    | 717/1198 [2:21:35<1:09:45,  8.70s/it]"
     ]
    },
    {
     "name": "stdout",
     "output_type": "stream",
     "text": [
      "done.\n",
      "data/part_B/train_data\\images\\IMG_310.jpg\n",
      "(768, 1024)\n",
      "generating density...\n"
     ]
    },
    {
     "name": "stderr",
     "output_type": "stream",
     "text": [
      "\r",
      " 60%|█████▉    | 718/1198 [2:21:43<1:07:44,  8.47s/it]"
     ]
    },
    {
     "name": "stdout",
     "output_type": "stream",
     "text": [
      "done.\n",
      "data/part_B/train_data\\images\\IMG_311.jpg\n",
      "(768, 1024)\n",
      "generating density...\n"
     ]
    },
    {
     "name": "stderr",
     "output_type": "stream",
     "text": [
      "\r",
      " 60%|██████    | 719/1198 [2:21:52<1:10:38,  8.85s/it]"
     ]
    },
    {
     "name": "stdout",
     "output_type": "stream",
     "text": [
      "done.\n",
      "data/part_B/train_data\\images\\IMG_312.jpg\n",
      "(768, 1024)\n",
      "generating density...\n"
     ]
    },
    {
     "name": "stderr",
     "output_type": "stream",
     "text": [
      "\r",
      " 60%|██████    | 720/1198 [2:22:01<1:10:04,  8.80s/it]"
     ]
    },
    {
     "name": "stdout",
     "output_type": "stream",
     "text": [
      "done.\n",
      "data/part_B/train_data\\images\\IMG_313.jpg\n",
      "(768, 1024)\n",
      "generating density...\n"
     ]
    },
    {
     "name": "stderr",
     "output_type": "stream",
     "text": [
      "\r",
      " 60%|██████    | 721/1198 [2:22:08<1:06:19,  8.34s/it]"
     ]
    },
    {
     "name": "stdout",
     "output_type": "stream",
     "text": [
      "done.\n",
      "data/part_B/train_data\\images\\IMG_314.jpg\n",
      "(768, 1024)\n",
      "generating density...\n"
     ]
    },
    {
     "name": "stderr",
     "output_type": "stream",
     "text": [
      "\r",
      " 60%|██████    | 722/1198 [2:22:15<1:01:20,  7.73s/it]"
     ]
    },
    {
     "name": "stdout",
     "output_type": "stream",
     "text": [
      "done.\n",
      "data/part_B/train_data\\images\\IMG_315.jpg\n",
      "(768, 1024)\n",
      "generating density...\n"
     ]
    },
    {
     "name": "stderr",
     "output_type": "stream",
     "text": [
      "\r",
      " 60%|██████    | 723/1198 [2:22:25<1:08:25,  8.64s/it]"
     ]
    },
    {
     "name": "stdout",
     "output_type": "stream",
     "text": [
      "done.\n",
      "data/part_B/train_data\\images\\IMG_316.jpg\n",
      "(768, 1024)\n",
      "generating density...\n"
     ]
    },
    {
     "name": "stderr",
     "output_type": "stream",
     "text": [
      "\r",
      " 60%|██████    | 724/1198 [2:22:32<1:03:16,  8.01s/it]"
     ]
    },
    {
     "name": "stdout",
     "output_type": "stream",
     "text": [
      "done.\n",
      "data/part_B/train_data\\images\\IMG_317.jpg\n",
      "(768, 1024)\n",
      "generating density...\n"
     ]
    },
    {
     "name": "stderr",
     "output_type": "stream",
     "text": [
      "\r",
      " 61%|██████    | 725/1198 [2:22:40<1:02:56,  7.98s/it]"
     ]
    },
    {
     "name": "stdout",
     "output_type": "stream",
     "text": [
      "done.\n",
      "data/part_B/train_data\\images\\IMG_318.jpg\n",
      "(768, 1024)\n",
      "generating density...\n"
     ]
    },
    {
     "name": "stderr",
     "output_type": "stream",
     "text": [
      "\r",
      " 61%|██████    | 726/1198 [2:22:47<1:01:05,  7.77s/it]"
     ]
    },
    {
     "name": "stdout",
     "output_type": "stream",
     "text": [
      "done.\n",
      "data/part_B/train_data\\images\\IMG_319.jpg\n",
      "(768, 1024)\n",
      "generating density...\n"
     ]
    },
    {
     "name": "stderr",
     "output_type": "stream",
     "text": [
      "\r",
      " 61%|██████    | 727/1198 [2:22:53<57:14,  7.29s/it]  "
     ]
    },
    {
     "name": "stdout",
     "output_type": "stream",
     "text": [
      "done.\n",
      "data/part_B/train_data\\images\\IMG_32.jpg\n",
      "(768, 1024)\n",
      "generating density...\n"
     ]
    },
    {
     "name": "stderr",
     "output_type": "stream",
     "text": [
      "\r",
      " 61%|██████    | 728/1198 [2:23:00<55:25,  7.08s/it]"
     ]
    },
    {
     "name": "stdout",
     "output_type": "stream",
     "text": [
      "done.\n",
      "data/part_B/train_data\\images\\IMG_320.jpg\n",
      "(768, 1024)\n",
      "generating density...\n"
     ]
    },
    {
     "name": "stderr",
     "output_type": "stream",
     "text": [
      "\r",
      " 61%|██████    | 729/1198 [2:23:08<57:21,  7.34s/it]"
     ]
    },
    {
     "name": "stdout",
     "output_type": "stream",
     "text": [
      "done.\n",
      "data/part_B/train_data\\images\\IMG_321.jpg\n",
      "(768, 1024)\n",
      "generating density...\n"
     ]
    },
    {
     "name": "stderr",
     "output_type": "stream",
     "text": [
      "\r",
      " 61%|██████    | 730/1198 [2:23:18<1:04:26,  8.26s/it]"
     ]
    },
    {
     "name": "stdout",
     "output_type": "stream",
     "text": [
      "done.\n",
      "data/part_B/train_data\\images\\IMG_322.jpg\n",
      "(768, 1024)\n",
      "generating density...\n"
     ]
    },
    {
     "name": "stderr",
     "output_type": "stream",
     "text": [
      "\r",
      " 61%|██████    | 731/1198 [2:23:23<55:53,  7.18s/it]  "
     ]
    },
    {
     "name": "stdout",
     "output_type": "stream",
     "text": [
      "done.\n",
      "data/part_B/train_data\\images\\IMG_323.jpg\n",
      "(768, 1024)\n",
      "generating density...\n"
     ]
    },
    {
     "name": "stderr",
     "output_type": "stream",
     "text": [
      "\r",
      " 61%|██████    | 732/1198 [2:23:30<55:28,  7.14s/it]"
     ]
    },
    {
     "name": "stdout",
     "output_type": "stream",
     "text": [
      "done.\n",
      "data/part_B/train_data\\images\\IMG_324.jpg\n",
      "(768, 1024)\n",
      "generating density...\n"
     ]
    },
    {
     "name": "stderr",
     "output_type": "stream",
     "text": [
      "\r",
      " 61%|██████    | 733/1198 [2:23:42<1:05:49,  8.49s/it]"
     ]
    },
    {
     "name": "stdout",
     "output_type": "stream",
     "text": [
      "done.\n",
      "data/part_B/train_data\\images\\IMG_325.jpg\n",
      "(768, 1024)\n",
      "generating density...\n"
     ]
    },
    {
     "name": "stderr",
     "output_type": "stream",
     "text": [
      "\r",
      " 61%|██████▏   | 734/1198 [2:23:50<1:05:08,  8.42s/it]"
     ]
    },
    {
     "name": "stdout",
     "output_type": "stream",
     "text": [
      "done.\n",
      "data/part_B/train_data\\images\\IMG_326.jpg\n",
      "(768, 1024)\n",
      "generating density...\n"
     ]
    },
    {
     "name": "stderr",
     "output_type": "stream",
     "text": [
      "\r",
      " 61%|██████▏   | 735/1198 [2:23:55<58:18,  7.56s/it]  "
     ]
    },
    {
     "name": "stdout",
     "output_type": "stream",
     "text": [
      "done.\n",
      "data/part_B/train_data\\images\\IMG_327.jpg\n",
      "(768, 1024)\n",
      "generating density...\n"
     ]
    },
    {
     "name": "stderr",
     "output_type": "stream",
     "text": [
      "\r",
      " 61%|██████▏   | 736/1198 [2:24:04<1:00:51,  7.90s/it]"
     ]
    },
    {
     "name": "stdout",
     "output_type": "stream",
     "text": [
      "done.\n",
      "data/part_B/train_data\\images\\IMG_328.jpg\n",
      "(768, 1024)\n",
      "generating density...\n"
     ]
    },
    {
     "name": "stderr",
     "output_type": "stream",
     "text": [
      "\r",
      " 62%|██████▏   | 737/1198 [2:24:09<54:11,  7.05s/it]  "
     ]
    },
    {
     "name": "stdout",
     "output_type": "stream",
     "text": [
      "done.\n",
      "data/part_B/train_data\\images\\IMG_329.jpg\n",
      "(768, 1024)\n",
      "generating density...\n"
     ]
    },
    {
     "name": "stderr",
     "output_type": "stream",
     "text": [
      "\r",
      " 62%|██████▏   | 738/1198 [2:24:18<57:07,  7.45s/it]"
     ]
    },
    {
     "name": "stdout",
     "output_type": "stream",
     "text": [
      "done.\n",
      "data/part_B/train_data\\images\\IMG_33.jpg\n",
      "(768, 1024)\n",
      "generating density...\n"
     ]
    },
    {
     "name": "stderr",
     "output_type": "stream",
     "text": [
      "\r",
      " 62%|██████▏   | 739/1198 [2:24:28<1:05:04,  8.51s/it]"
     ]
    },
    {
     "name": "stdout",
     "output_type": "stream",
     "text": [
      "done.\n",
      "data/part_B/train_data\\images\\IMG_330.jpg\n",
      "(768, 1024)\n",
      "generating density...\n"
     ]
    },
    {
     "name": "stderr",
     "output_type": "stream",
     "text": [
      "\r",
      " 62%|██████▏   | 740/1198 [2:24:39<1:08:43,  9.00s/it]"
     ]
    },
    {
     "name": "stdout",
     "output_type": "stream",
     "text": [
      "done.\n",
      "data/part_B/train_data\\images\\IMG_331.jpg\n",
      "(768, 1024)\n",
      "generating density...\n"
     ]
    },
    {
     "name": "stderr",
     "output_type": "stream",
     "text": [
      "\r",
      " 62%|██████▏   | 741/1198 [2:24:55<1:26:02, 11.30s/it]"
     ]
    },
    {
     "name": "stdout",
     "output_type": "stream",
     "text": [
      "done.\n",
      "data/part_B/train_data\\images\\IMG_332.jpg\n",
      "(768, 1024)\n",
      "generating density...\n"
     ]
    },
    {
     "name": "stderr",
     "output_type": "stream",
     "text": [
      "\r",
      " 62%|██████▏   | 742/1198 [2:24:59<1:09:15,  9.11s/it]"
     ]
    },
    {
     "name": "stdout",
     "output_type": "stream",
     "text": [
      "done.\n",
      "data/part_B/train_data\\images\\IMG_333.jpg\n",
      "(768, 1024)\n",
      "generating density...\n"
     ]
    },
    {
     "name": "stderr",
     "output_type": "stream",
     "text": [
      "\r",
      " 62%|██████▏   | 743/1198 [2:25:07<1:05:14,  8.60s/it]"
     ]
    },
    {
     "name": "stdout",
     "output_type": "stream",
     "text": [
      "done.\n",
      "data/part_B/train_data\\images\\IMG_334.jpg\n",
      "(768, 1024)\n",
      "generating density...\n"
     ]
    },
    {
     "name": "stderr",
     "output_type": "stream",
     "text": [
      "\r",
      " 62%|██████▏   | 744/1198 [2:25:15<1:03:39,  8.41s/it]"
     ]
    },
    {
     "name": "stdout",
     "output_type": "stream",
     "text": [
      "done.\n",
      "data/part_B/train_data\\images\\IMG_335.jpg\n",
      "(768, 1024)\n",
      "generating density...\n"
     ]
    },
    {
     "name": "stderr",
     "output_type": "stream",
     "text": [
      "\r",
      " 62%|██████▏   | 745/1198 [2:25:20<57:22,  7.60s/it]  "
     ]
    },
    {
     "name": "stdout",
     "output_type": "stream",
     "text": [
      "done.\n",
      "data/part_B/train_data\\images\\IMG_336.jpg\n",
      "(768, 1024)\n",
      "generating density...\n"
     ]
    },
    {
     "name": "stderr",
     "output_type": "stream",
     "text": [
      "\r",
      " 62%|██████▏   | 746/1198 [2:25:31<1:04:14,  8.53s/it]"
     ]
    },
    {
     "name": "stdout",
     "output_type": "stream",
     "text": [
      "done.\n",
      "data/part_B/train_data\\images\\IMG_337.jpg\n",
      "(768, 1024)\n",
      "generating density...\n"
     ]
    },
    {
     "name": "stderr",
     "output_type": "stream",
     "text": [
      "\r",
      " 62%|██████▏   | 747/1198 [2:25:39<1:01:37,  8.20s/it]"
     ]
    },
    {
     "name": "stdout",
     "output_type": "stream",
     "text": [
      "done.\n",
      "data/part_B/train_data\\images\\IMG_338.jpg\n",
      "(768, 1024)\n",
      "generating density...\n"
     ]
    },
    {
     "name": "stderr",
     "output_type": "stream",
     "text": [
      "\r",
      " 62%|██████▏   | 748/1198 [2:25:47<1:01:29,  8.20s/it]"
     ]
    },
    {
     "name": "stdout",
     "output_type": "stream",
     "text": [
      "done.\n",
      "data/part_B/train_data\\images\\IMG_339.jpg\n",
      "(768, 1024)\n",
      "generating density...\n"
     ]
    },
    {
     "name": "stderr",
     "output_type": "stream",
     "text": [
      "\r",
      " 63%|██████▎   | 749/1198 [2:25:53<57:46,  7.72s/it]  "
     ]
    },
    {
     "name": "stdout",
     "output_type": "stream",
     "text": [
      "done.\n",
      "data/part_B/train_data\\images\\IMG_34.jpg\n",
      "(768, 1024)\n",
      "generating density...\n"
     ]
    },
    {
     "name": "stderr",
     "output_type": "stream",
     "text": [
      "\r",
      " 63%|██████▎   | 750/1198 [2:26:02<1:00:06,  8.05s/it]"
     ]
    },
    {
     "name": "stdout",
     "output_type": "stream",
     "text": [
      "done.\n",
      "data/part_B/train_data\\images\\IMG_340.jpg\n",
      "(768, 1024)\n",
      "generating density...\n"
     ]
    },
    {
     "name": "stderr",
     "output_type": "stream",
     "text": [
      "\r",
      " 63%|██████▎   | 751/1198 [2:26:11<1:00:55,  8.18s/it]"
     ]
    },
    {
     "name": "stdout",
     "output_type": "stream",
     "text": [
      "done.\n",
      "data/part_B/train_data\\images\\IMG_341.jpg\n",
      "(768, 1024)\n",
      "generating density...\n"
     ]
    },
    {
     "name": "stderr",
     "output_type": "stream",
     "text": [
      "\r",
      " 63%|██████▎   | 752/1198 [2:26:20<1:02:27,  8.40s/it]"
     ]
    },
    {
     "name": "stdout",
     "output_type": "stream",
     "text": [
      "done.\n",
      "data/part_B/train_data\\images\\IMG_342.jpg\n",
      "(768, 1024)\n",
      "generating density...\n"
     ]
    },
    {
     "name": "stderr",
     "output_type": "stream",
     "text": [
      "\r",
      " 63%|██████▎   | 753/1198 [2:26:30<1:06:45,  9.00s/it]"
     ]
    },
    {
     "name": "stdout",
     "output_type": "stream",
     "text": [
      "done.\n",
      "data/part_B/train_data\\images\\IMG_343.jpg\n",
      "(768, 1024)\n",
      "generating density...\n"
     ]
    },
    {
     "name": "stderr",
     "output_type": "stream",
     "text": [
      "\r",
      " 63%|██████▎   | 754/1198 [2:26:39<1:06:27,  8.98s/it]"
     ]
    },
    {
     "name": "stdout",
     "output_type": "stream",
     "text": [
      "done.\n",
      "data/part_B/train_data\\images\\IMG_344.jpg\n",
      "(768, 1024)\n",
      "generating density...\n"
     ]
    },
    {
     "name": "stderr",
     "output_type": "stream",
     "text": [
      "\r",
      " 63%|██████▎   | 755/1198 [2:26:46<1:03:01,  8.54s/it]"
     ]
    },
    {
     "name": "stdout",
     "output_type": "stream",
     "text": [
      "done.\n",
      "data/part_B/train_data\\images\\IMG_345.jpg\n",
      "(768, 1024)\n",
      "generating density...\n"
     ]
    },
    {
     "name": "stderr",
     "output_type": "stream",
     "text": [
      "\r",
      " 63%|██████▎   | 756/1198 [2:26:54<1:00:15,  8.18s/it]"
     ]
    },
    {
     "name": "stdout",
     "output_type": "stream",
     "text": [
      "done.\n",
      "data/part_B/train_data\\images\\IMG_346.jpg\n",
      "(768, 1024)\n",
      "generating density...\n"
     ]
    },
    {
     "name": "stderr",
     "output_type": "stream",
     "text": [
      "\r",
      " 63%|██████▎   | 757/1198 [2:27:02<1:01:16,  8.34s/it]"
     ]
    },
    {
     "name": "stdout",
     "output_type": "stream",
     "text": [
      "done.\n",
      "data/part_B/train_data\\images\\IMG_347.jpg\n",
      "(768, 1024)\n",
      "generating density...\n"
     ]
    },
    {
     "name": "stderr",
     "output_type": "stream",
     "text": [
      "\r",
      " 63%|██████▎   | 758/1198 [2:27:09<57:14,  7.81s/it]  "
     ]
    },
    {
     "name": "stdout",
     "output_type": "stream",
     "text": [
      "done.\n",
      "data/part_B/train_data\\images\\IMG_348.jpg\n",
      "(768, 1024)\n",
      "generating density...\n"
     ]
    },
    {
     "name": "stderr",
     "output_type": "stream",
     "text": [
      "\r",
      " 63%|██████▎   | 759/1198 [2:27:24<1:12:02,  9.85s/it]"
     ]
    },
    {
     "name": "stdout",
     "output_type": "stream",
     "text": [
      "done.\n",
      "data/part_B/train_data\\images\\IMG_349.jpg\n",
      "(768, 1024)\n",
      "generating density...\n"
     ]
    },
    {
     "name": "stderr",
     "output_type": "stream",
     "text": [
      "\r",
      " 63%|██████▎   | 760/1198 [2:27:31<1:07:24,  9.23s/it]"
     ]
    },
    {
     "name": "stdout",
     "output_type": "stream",
     "text": [
      "done.\n",
      "data/part_B/train_data\\images\\IMG_35.jpg\n",
      "(768, 1024)\n",
      "generating density...\n"
     ]
    },
    {
     "name": "stderr",
     "output_type": "stream",
     "text": [
      "\r",
      " 64%|██████▎   | 761/1198 [2:27:36<56:38,  7.78s/it]  "
     ]
    },
    {
     "name": "stdout",
     "output_type": "stream",
     "text": [
      "done.\n",
      "data/part_B/train_data\\images\\IMG_350.jpg\n",
      "(768, 1024)\n",
      "generating density...\n"
     ]
    },
    {
     "name": "stderr",
     "output_type": "stream",
     "text": [
      "\r",
      " 64%|██████▎   | 762/1198 [2:27:42<52:10,  7.18s/it]"
     ]
    },
    {
     "name": "stdout",
     "output_type": "stream",
     "text": [
      "done.\n",
      "data/part_B/train_data\\images\\IMG_351.jpg\n",
      "(768, 1024)\n",
      "generating density...\n"
     ]
    },
    {
     "name": "stderr",
     "output_type": "stream",
     "text": [
      "\r",
      " 64%|██████▎   | 763/1198 [2:27:48<50:24,  6.95s/it]"
     ]
    },
    {
     "name": "stdout",
     "output_type": "stream",
     "text": [
      "done.\n",
      "data/part_B/train_data\\images\\IMG_352.jpg\n",
      "(768, 1024)\n",
      "generating density...\n"
     ]
    },
    {
     "name": "stderr",
     "output_type": "stream",
     "text": [
      "\r",
      " 64%|██████▍   | 764/1198 [2:28:02<1:06:41,  9.22s/it]"
     ]
    },
    {
     "name": "stdout",
     "output_type": "stream",
     "text": [
      "done.\n",
      "data/part_B/train_data\\images\\IMG_353.jpg\n",
      "(768, 1024)\n",
      "generating density...\n"
     ]
    },
    {
     "name": "stderr",
     "output_type": "stream",
     "text": [
      "\r",
      " 64%|██████▍   | 765/1198 [2:28:10<1:02:28,  8.66s/it]"
     ]
    },
    {
     "name": "stdout",
     "output_type": "stream",
     "text": [
      "done.\n",
      "data/part_B/train_data\\images\\IMG_354.jpg\n",
      "(768, 1024)\n",
      "generating density...\n"
     ]
    },
    {
     "name": "stderr",
     "output_type": "stream",
     "text": [
      "\r",
      " 64%|██████▍   | 766/1198 [2:28:21<1:07:38,  9.39s/it]"
     ]
    },
    {
     "name": "stdout",
     "output_type": "stream",
     "text": [
      "done.\n",
      "data/part_B/train_data\\images\\IMG_355.jpg\n",
      "(768, 1024)\n",
      "generating density...\n"
     ]
    },
    {
     "name": "stderr",
     "output_type": "stream",
     "text": [
      "\r",
      " 64%|██████▍   | 767/1198 [2:28:27<1:00:41,  8.45s/it]"
     ]
    },
    {
     "name": "stdout",
     "output_type": "stream",
     "text": [
      "done.\n",
      "data/part_B/train_data\\images\\IMG_356.jpg\n",
      "(768, 1024)\n",
      "generating density...\n"
     ]
    },
    {
     "name": "stderr",
     "output_type": "stream",
     "text": [
      "\r",
      " 64%|██████▍   | 768/1198 [2:28:35<59:32,  8.31s/it]  "
     ]
    },
    {
     "name": "stdout",
     "output_type": "stream",
     "text": [
      "done.\n",
      "data/part_B/train_data\\images\\IMG_357.jpg\n",
      "(768, 1024)\n",
      "generating density...\n"
     ]
    },
    {
     "name": "stderr",
     "output_type": "stream",
     "text": [
      "\r",
      " 64%|██████▍   | 769/1198 [2:28:43<57:52,  8.09s/it]"
     ]
    },
    {
     "name": "stdout",
     "output_type": "stream",
     "text": [
      "done.\n",
      "data/part_B/train_data\\images\\IMG_358.jpg\n",
      "(768, 1024)\n",
      "generating density...\n"
     ]
    },
    {
     "name": "stderr",
     "output_type": "stream",
     "text": [
      "\r",
      " 64%|██████▍   | 770/1198 [2:28:51<59:04,  8.28s/it]"
     ]
    },
    {
     "name": "stdout",
     "output_type": "stream",
     "text": [
      "done.\n",
      "data/part_B/train_data\\images\\IMG_359.jpg\n",
      "(768, 1024)\n",
      "generating density...\n"
     ]
    },
    {
     "name": "stderr",
     "output_type": "stream",
     "text": [
      "\r",
      " 64%|██████▍   | 771/1198 [2:28:59<58:00,  8.15s/it]"
     ]
    },
    {
     "name": "stdout",
     "output_type": "stream",
     "text": [
      "done.\n",
      "data/part_B/train_data\\images\\IMG_36.jpg\n",
      "(768, 1024)\n",
      "generating density...\n"
     ]
    },
    {
     "name": "stderr",
     "output_type": "stream",
     "text": [
      "\r",
      " 64%|██████▍   | 772/1198 [2:29:05<52:33,  7.40s/it]"
     ]
    },
    {
     "name": "stdout",
     "output_type": "stream",
     "text": [
      "done.\n",
      "data/part_B/train_data\\images\\IMG_360.jpg\n",
      "(768, 1024)\n",
      "generating density...\n"
     ]
    },
    {
     "name": "stderr",
     "output_type": "stream",
     "text": [
      "\r",
      " 65%|██████▍   | 773/1198 [2:29:15<58:37,  8.28s/it]"
     ]
    },
    {
     "name": "stdout",
     "output_type": "stream",
     "text": [
      "done.\n",
      "data/part_B/train_data\\images\\IMG_361.jpg\n",
      "(768, 1024)\n",
      "generating density...\n"
     ]
    },
    {
     "name": "stderr",
     "output_type": "stream",
     "text": [
      "\r",
      " 65%|██████▍   | 774/1198 [2:29:28<1:07:59,  9.62s/it]"
     ]
    },
    {
     "name": "stdout",
     "output_type": "stream",
     "text": [
      "done.\n",
      "data/part_B/train_data\\images\\IMG_362.jpg\n",
      "(768, 1024)\n",
      "generating density...\n"
     ]
    },
    {
     "name": "stderr",
     "output_type": "stream",
     "text": [
      "\r",
      " 65%|██████▍   | 775/1198 [2:29:36<1:03:30,  9.01s/it]"
     ]
    },
    {
     "name": "stdout",
     "output_type": "stream",
     "text": [
      "done.\n",
      "data/part_B/train_data\\images\\IMG_363.jpg\n",
      "(768, 1024)\n",
      "generating density...\n"
     ]
    },
    {
     "name": "stderr",
     "output_type": "stream",
     "text": [
      "\r",
      " 65%|██████▍   | 776/1198 [2:29:42<58:25,  8.31s/it]  "
     ]
    },
    {
     "name": "stdout",
     "output_type": "stream",
     "text": [
      "done.\n",
      "data/part_B/train_data\\images\\IMG_364.jpg\n",
      "(768, 1024)\n",
      "generating density...\n"
     ]
    },
    {
     "name": "stderr",
     "output_type": "stream",
     "text": [
      "\r",
      " 65%|██████▍   | 777/1198 [2:29:55<1:08:12,  9.72s/it]"
     ]
    },
    {
     "name": "stdout",
     "output_type": "stream",
     "text": [
      "done.\n",
      "data/part_B/train_data\\images\\IMG_365.jpg\n",
      "(768, 1024)\n",
      "generating density...\n"
     ]
    },
    {
     "name": "stderr",
     "output_type": "stream",
     "text": [
      "\r",
      " 65%|██████▍   | 778/1198 [2:30:02<1:02:19,  8.90s/it]"
     ]
    },
    {
     "name": "stdout",
     "output_type": "stream",
     "text": [
      "done.\n",
      "data/part_B/train_data\\images\\IMG_366.jpg\n",
      "(768, 1024)\n",
      "generating density...\n"
     ]
    },
    {
     "name": "stderr",
     "output_type": "stream",
     "text": [
      "\r",
      " 65%|██████▌   | 779/1198 [2:30:09<57:38,  8.25s/it]  "
     ]
    },
    {
     "name": "stdout",
     "output_type": "stream",
     "text": [
      "done.\n",
      "data/part_B/train_data\\images\\IMG_367.jpg\n",
      "(768, 1024)\n",
      "generating density...\n"
     ]
    },
    {
     "name": "stderr",
     "output_type": "stream",
     "text": [
      "\r",
      " 65%|██████▌   | 780/1198 [2:30:16<55:23,  7.95s/it]"
     ]
    },
    {
     "name": "stdout",
     "output_type": "stream",
     "text": [
      "done.\n",
      "data/part_B/train_data\\images\\IMG_368.jpg\n",
      "(768, 1024)\n",
      "generating density...\n"
     ]
    },
    {
     "name": "stderr",
     "output_type": "stream",
     "text": [
      "\r",
      " 65%|██████▌   | 781/1198 [2:30:24<55:42,  8.02s/it]"
     ]
    },
    {
     "name": "stdout",
     "output_type": "stream",
     "text": [
      "done.\n",
      "data/part_B/train_data\\images\\IMG_369.jpg\n",
      "(768, 1024)\n",
      "generating density...\n"
     ]
    },
    {
     "name": "stderr",
     "output_type": "stream",
     "text": [
      "\r",
      " 65%|██████▌   | 782/1198 [2:30:34<59:26,  8.57s/it]"
     ]
    },
    {
     "name": "stdout",
     "output_type": "stream",
     "text": [
      "done.\n",
      "data/part_B/train_data\\images\\IMG_37.jpg\n",
      "(768, 1024)\n",
      "generating density...\n"
     ]
    },
    {
     "name": "stderr",
     "output_type": "stream",
     "text": [
      "\r",
      " 65%|██████▌   | 783/1198 [2:30:43<59:40,  8.63s/it]"
     ]
    },
    {
     "name": "stdout",
     "output_type": "stream",
     "text": [
      "done.\n",
      "data/part_B/train_data\\images\\IMG_370.jpg\n",
      "(768, 1024)\n",
      "generating density...\n"
     ]
    },
    {
     "name": "stderr",
     "output_type": "stream",
     "text": [
      "\r",
      " 65%|██████▌   | 784/1198 [2:30:51<58:15,  8.44s/it]"
     ]
    },
    {
     "name": "stdout",
     "output_type": "stream",
     "text": [
      "done.\n",
      "data/part_B/train_data\\images\\IMG_371.jpg\n",
      "(768, 1024)\n",
      "generating density...\n"
     ]
    },
    {
     "name": "stderr",
     "output_type": "stream",
     "text": [
      "\r",
      " 66%|██████▌   | 785/1198 [2:31:02<1:02:20,  9.06s/it]"
     ]
    },
    {
     "name": "stdout",
     "output_type": "stream",
     "text": [
      "done.\n",
      "data/part_B/train_data\\images\\IMG_372.jpg\n",
      "(768, 1024)\n",
      "generating density...\n"
     ]
    },
    {
     "name": "stderr",
     "output_type": "stream",
     "text": [
      "\r",
      " 66%|██████▌   | 786/1198 [2:31:10<1:01:22,  8.94s/it]"
     ]
    },
    {
     "name": "stdout",
     "output_type": "stream",
     "text": [
      "done.\n",
      "data/part_B/train_data\\images\\IMG_373.jpg\n",
      "(768, 1024)\n",
      "generating density...\n"
     ]
    },
    {
     "name": "stderr",
     "output_type": "stream",
     "text": [
      "\r",
      " 66%|██████▌   | 787/1198 [2:31:15<53:10,  7.76s/it]  "
     ]
    },
    {
     "name": "stdout",
     "output_type": "stream",
     "text": [
      "done.\n",
      "data/part_B/train_data\\images\\IMG_374.jpg\n",
      "(768, 1024)\n",
      "generating density...\n"
     ]
    },
    {
     "name": "stderr",
     "output_type": "stream",
     "text": [
      "\r",
      " 66%|██████▌   | 788/1198 [2:31:24<55:53,  8.18s/it]"
     ]
    },
    {
     "name": "stdout",
     "output_type": "stream",
     "text": [
      "done.\n",
      "data/part_B/train_data\\images\\IMG_375.jpg\n",
      "(768, 1024)\n",
      "generating density...\n"
     ]
    },
    {
     "name": "stderr",
     "output_type": "stream",
     "text": [
      "\r",
      " 66%|██████▌   | 789/1198 [2:31:32<53:46,  7.89s/it]"
     ]
    },
    {
     "name": "stdout",
     "output_type": "stream",
     "text": [
      "done.\n",
      "data/part_B/train_data\\images\\IMG_376.jpg\n",
      "(768, 1024)\n",
      "generating density...\n"
     ]
    },
    {
     "name": "stderr",
     "output_type": "stream",
     "text": [
      "\r",
      " 66%|██████▌   | 790/1198 [2:31:37<49:15,  7.24s/it]"
     ]
    },
    {
     "name": "stdout",
     "output_type": "stream",
     "text": [
      "done.\n",
      "data/part_B/train_data\\images\\IMG_377.jpg\n",
      "(768, 1024)\n",
      "generating density...\n"
     ]
    },
    {
     "name": "stderr",
     "output_type": "stream",
     "text": [
      "\r",
      " 66%|██████▌   | 791/1198 [2:31:48<55:53,  8.24s/it]"
     ]
    },
    {
     "name": "stdout",
     "output_type": "stream",
     "text": [
      "done.\n",
      "data/part_B/train_data\\images\\IMG_378.jpg\n",
      "(768, 1024)\n",
      "generating density...\n"
     ]
    },
    {
     "name": "stderr",
     "output_type": "stream",
     "text": [
      "\r",
      " 66%|██████▌   | 792/1198 [2:31:54<51:17,  7.58s/it]"
     ]
    },
    {
     "name": "stdout",
     "output_type": "stream",
     "text": [
      "done.\n",
      "data/part_B/train_data\\images\\IMG_379.jpg\n",
      "(768, 1024)\n",
      "generating density...\n"
     ]
    },
    {
     "name": "stderr",
     "output_type": "stream",
     "text": [
      "\r",
      " 66%|██████▌   | 793/1198 [2:32:04<55:36,  8.24s/it]"
     ]
    },
    {
     "name": "stdout",
     "output_type": "stream",
     "text": [
      "done.\n",
      "data/part_B/train_data\\images\\IMG_38.jpg\n",
      "(768, 1024)\n",
      "generating density...\n"
     ]
    },
    {
     "name": "stderr",
     "output_type": "stream",
     "text": [
      "\r",
      " 66%|██████▋   | 794/1198 [2:32:11<53:36,  7.96s/it]"
     ]
    },
    {
     "name": "stdout",
     "output_type": "stream",
     "text": [
      "done.\n",
      "data/part_B/train_data\\images\\IMG_380.jpg\n",
      "(768, 1024)\n",
      "generating density...\n"
     ]
    },
    {
     "name": "stderr",
     "output_type": "stream",
     "text": [
      "\r",
      " 66%|██████▋   | 795/1198 [2:32:21<56:51,  8.47s/it]"
     ]
    },
    {
     "name": "stdout",
     "output_type": "stream",
     "text": [
      "done.\n",
      "data/part_B/train_data\\images\\IMG_381.jpg\n",
      "(768, 1024)\n",
      "generating density...\n"
     ]
    },
    {
     "name": "stderr",
     "output_type": "stream",
     "text": [
      "\r",
      " 66%|██████▋   | 796/1198 [2:32:31<59:57,  8.95s/it]"
     ]
    },
    {
     "name": "stdout",
     "output_type": "stream",
     "text": [
      "done.\n",
      "data/part_B/train_data\\images\\IMG_382.jpg\n",
      "(768, 1024)\n",
      "generating density...\n"
     ]
    },
    {
     "name": "stderr",
     "output_type": "stream",
     "text": [
      "\r",
      " 67%|██████▋   | 797/1198 [2:32:40<1:00:32,  9.06s/it]"
     ]
    },
    {
     "name": "stdout",
     "output_type": "stream",
     "text": [
      "done.\n",
      "data/part_B/train_data\\images\\IMG_383.jpg\n",
      "(768, 1024)\n",
      "generating density...\n"
     ]
    },
    {
     "name": "stderr",
     "output_type": "stream",
     "text": [
      "\r",
      " 67%|██████▋   | 798/1198 [2:32:48<57:46,  8.67s/it]  "
     ]
    },
    {
     "name": "stdout",
     "output_type": "stream",
     "text": [
      "done.\n",
      "data/part_B/train_data\\images\\IMG_384.jpg\n",
      "(768, 1024)\n",
      "generating density...\n"
     ]
    },
    {
     "name": "stderr",
     "output_type": "stream",
     "text": [
      "\r",
      " 67%|██████▋   | 799/1198 [2:32:56<57:29,  8.64s/it]"
     ]
    },
    {
     "name": "stdout",
     "output_type": "stream",
     "text": [
      "done.\n",
      "data/part_B/train_data\\images\\IMG_385.jpg\n",
      "(768, 1024)\n",
      "generating density...\n"
     ]
    },
    {
     "name": "stderr",
     "output_type": "stream",
     "text": [
      "\r",
      " 67%|██████▋   | 800/1198 [2:33:04<54:33,  8.22s/it]"
     ]
    },
    {
     "name": "stdout",
     "output_type": "stream",
     "text": [
      "done.\n",
      "data/part_B/train_data\\images\\IMG_386.jpg\n",
      "(768, 1024)\n",
      "generating density...\n"
     ]
    },
    {
     "name": "stderr",
     "output_type": "stream",
     "text": [
      "\r",
      " 67%|██████▋   | 801/1198 [2:33:10<51:15,  7.75s/it]"
     ]
    },
    {
     "name": "stdout",
     "output_type": "stream",
     "text": [
      "done.\n",
      "data/part_B/train_data\\images\\IMG_387.jpg\n",
      "(768, 1024)\n",
      "generating density...\n"
     ]
    },
    {
     "name": "stderr",
     "output_type": "stream",
     "text": [
      "\r",
      " 67%|██████▋   | 802/1198 [2:33:19<52:17,  7.92s/it]"
     ]
    },
    {
     "name": "stdout",
     "output_type": "stream",
     "text": [
      "done.\n",
      "data/part_B/train_data\\images\\IMG_388.jpg\n",
      "(768, 1024)\n",
      "generating density...\n"
     ]
    },
    {
     "name": "stderr",
     "output_type": "stream",
     "text": [
      "\r",
      " 67%|██████▋   | 803/1198 [2:33:28<54:41,  8.31s/it]"
     ]
    },
    {
     "name": "stdout",
     "output_type": "stream",
     "text": [
      "done.\n",
      "data/part_B/train_data\\images\\IMG_389.jpg\n",
      "(768, 1024)\n",
      "generating density...\n"
     ]
    },
    {
     "name": "stderr",
     "output_type": "stream",
     "text": [
      "\r",
      " 67%|██████▋   | 804/1198 [2:33:34<51:06,  7.78s/it]"
     ]
    },
    {
     "name": "stdout",
     "output_type": "stream",
     "text": [
      "done.\n",
      "data/part_B/train_data\\images\\IMG_39.jpg\n",
      "(768, 1024)\n",
      "generating density...\n"
     ]
    },
    {
     "name": "stderr",
     "output_type": "stream",
     "text": [
      "\r",
      " 67%|██████▋   | 805/1198 [2:33:49<1:04:06,  9.79s/it]"
     ]
    },
    {
     "name": "stdout",
     "output_type": "stream",
     "text": [
      "done.\n",
      "data/part_B/train_data\\images\\IMG_390.jpg\n",
      "(768, 1024)\n",
      "generating density...\n"
     ]
    },
    {
     "name": "stderr",
     "output_type": "stream",
     "text": [
      "\r",
      " 67%|██████▋   | 806/1198 [2:33:58<1:01:57,  9.48s/it]"
     ]
    },
    {
     "name": "stdout",
     "output_type": "stream",
     "text": [
      "done.\n",
      "data/part_B/train_data\\images\\IMG_391.jpg\n",
      "(768, 1024)\n",
      "generating density...\n"
     ]
    },
    {
     "name": "stderr",
     "output_type": "stream",
     "text": [
      "\r",
      " 67%|██████▋   | 807/1198 [2:34:06<59:00,  9.06s/it]  "
     ]
    },
    {
     "name": "stdout",
     "output_type": "stream",
     "text": [
      "done.\n",
      "data/part_B/train_data\\images\\IMG_392.jpg\n",
      "(768, 1024)\n",
      "generating density...\n"
     ]
    },
    {
     "name": "stderr",
     "output_type": "stream",
     "text": [
      "\r",
      " 67%|██████▋   | 808/1198 [2:34:15<59:47,  9.20s/it]"
     ]
    },
    {
     "name": "stdout",
     "output_type": "stream",
     "text": [
      "done.\n",
      "data/part_B/train_data\\images\\IMG_393.jpg\n",
      "(768, 1024)\n",
      "generating density...\n"
     ]
    },
    {
     "name": "stderr",
     "output_type": "stream",
     "text": [
      "\r",
      " 68%|██████▊   | 809/1198 [2:34:24<58:46,  9.07s/it]"
     ]
    },
    {
     "name": "stdout",
     "output_type": "stream",
     "text": [
      "done.\n",
      "data/part_B/train_data\\images\\IMG_394.jpg\n",
      "(768, 1024)\n",
      "generating density...\n"
     ]
    },
    {
     "name": "stderr",
     "output_type": "stream",
     "text": [
      "\r",
      " 68%|██████▊   | 810/1198 [2:34:33<58:44,  9.08s/it]"
     ]
    },
    {
     "name": "stdout",
     "output_type": "stream",
     "text": [
      "done.\n",
      "data/part_B/train_data\\images\\IMG_395.jpg\n",
      "(768, 1024)\n",
      "generating density...\n"
     ]
    },
    {
     "name": "stderr",
     "output_type": "stream",
     "text": [
      "\r",
      " 68%|██████▊   | 811/1198 [2:34:41<55:28,  8.60s/it]"
     ]
    },
    {
     "name": "stdout",
     "output_type": "stream",
     "text": [
      "done.\n",
      "data/part_B/train_data\\images\\IMG_396.jpg\n",
      "(768, 1024)\n",
      "generating density...\n"
     ]
    },
    {
     "name": "stderr",
     "output_type": "stream",
     "text": [
      "\r",
      " 68%|██████▊   | 812/1198 [2:34:47<50:23,  7.83s/it]"
     ]
    },
    {
     "name": "stdout",
     "output_type": "stream",
     "text": [
      "done.\n",
      "data/part_B/train_data\\images\\IMG_397.jpg\n",
      "(768, 1024)\n",
      "generating density...\n"
     ]
    },
    {
     "name": "stderr",
     "output_type": "stream",
     "text": [
      "\r",
      " 68%|██████▊   | 813/1198 [2:34:54<49:27,  7.71s/it]"
     ]
    },
    {
     "name": "stdout",
     "output_type": "stream",
     "text": [
      "done.\n",
      "data/part_B/train_data\\images\\IMG_398.jpg\n",
      "(768, 1024)\n",
      "generating density...\n"
     ]
    },
    {
     "name": "stderr",
     "output_type": "stream",
     "text": [
      "\r",
      " 68%|██████▊   | 814/1198 [2:35:00<45:20,  7.08s/it]"
     ]
    },
    {
     "name": "stdout",
     "output_type": "stream",
     "text": [
      "done.\n",
      "data/part_B/train_data\\images\\IMG_399.jpg\n",
      "(768, 1024)\n",
      "generating density...\n"
     ]
    },
    {
     "name": "stderr",
     "output_type": "stream",
     "text": [
      "\r",
      " 68%|██████▊   | 815/1198 [2:35:10<50:41,  7.94s/it]"
     ]
    },
    {
     "name": "stdout",
     "output_type": "stream",
     "text": [
      "done.\n",
      "data/part_B/train_data\\images\\IMG_4.jpg\n",
      "(768, 1024)\n",
      "generating density...\n"
     ]
    },
    {
     "name": "stderr",
     "output_type": "stream",
     "text": [
      "\r",
      " 68%|██████▊   | 816/1198 [2:35:25<1:04:20, 10.11s/it]"
     ]
    },
    {
     "name": "stdout",
     "output_type": "stream",
     "text": [
      "done.\n",
      "data/part_B/train_data\\images\\IMG_40.jpg\n",
      "(768, 1024)\n",
      "generating density...\n"
     ]
    },
    {
     "name": "stderr",
     "output_type": "stream",
     "text": [
      "\r",
      " 68%|██████▊   | 817/1198 [2:35:34<1:02:20,  9.82s/it]"
     ]
    },
    {
     "name": "stdout",
     "output_type": "stream",
     "text": [
      "done.\n",
      "data/part_B/train_data\\images\\IMG_400.jpg\n",
      "(768, 1024)\n",
      "generating density...\n"
     ]
    },
    {
     "name": "stderr",
     "output_type": "stream",
     "text": [
      "\r",
      " 68%|██████▊   | 818/1198 [2:35:41<56:41,  8.95s/it]  "
     ]
    },
    {
     "name": "stdout",
     "output_type": "stream",
     "text": [
      "done.\n",
      "data/part_B/train_data\\images\\IMG_41.jpg\n",
      "(768, 1024)\n",
      "generating density...\n"
     ]
    },
    {
     "name": "stderr",
     "output_type": "stream",
     "text": [
      "\r",
      " 68%|██████▊   | 819/1198 [2:35:49<54:15,  8.59s/it]"
     ]
    },
    {
     "name": "stdout",
     "output_type": "stream",
     "text": [
      "done.\n",
      "data/part_B/train_data\\images\\IMG_42.jpg\n",
      "(768, 1024)\n",
      "generating density...\n"
     ]
    },
    {
     "name": "stderr",
     "output_type": "stream",
     "text": [
      "\r",
      " 68%|██████▊   | 820/1198 [2:35:54<48:46,  7.74s/it]"
     ]
    },
    {
     "name": "stdout",
     "output_type": "stream",
     "text": [
      "done.\n",
      "data/part_B/train_data\\images\\IMG_43.jpg\n",
      "(768, 1024)\n",
      "generating density...\n"
     ]
    },
    {
     "name": "stderr",
     "output_type": "stream",
     "text": [
      "\r",
      " 69%|██████▊   | 821/1198 [2:36:05<54:12,  8.63s/it]"
     ]
    },
    {
     "name": "stdout",
     "output_type": "stream",
     "text": [
      "done.\n",
      "data/part_B/train_data\\images\\IMG_44.jpg\n",
      "(768, 1024)\n",
      "generating density...\n"
     ]
    },
    {
     "name": "stderr",
     "output_type": "stream",
     "text": [
      "\r",
      " 69%|██████▊   | 822/1198 [2:36:15<56:00,  8.94s/it]"
     ]
    },
    {
     "name": "stdout",
     "output_type": "stream",
     "text": [
      "done.\n",
      "data/part_B/train_data\\images\\IMG_45.jpg\n",
      "(768, 1024)\n",
      "generating density...\n"
     ]
    },
    {
     "name": "stderr",
     "output_type": "stream",
     "text": [
      "\r",
      " 69%|██████▊   | 823/1198 [2:36:20<48:39,  7.79s/it]"
     ]
    },
    {
     "name": "stdout",
     "output_type": "stream",
     "text": [
      "done.\n",
      "data/part_B/train_data\\images\\IMG_46.jpg\n",
      "(768, 1024)\n",
      "generating density...\n"
     ]
    },
    {
     "name": "stderr",
     "output_type": "stream",
     "text": [
      "\r",
      " 69%|██████▉   | 824/1198 [2:36:28<49:29,  7.94s/it]"
     ]
    },
    {
     "name": "stdout",
     "output_type": "stream",
     "text": [
      "done.\n",
      "data/part_B/train_data\\images\\IMG_47.jpg\n",
      "(768, 1024)\n",
      "generating density...\n"
     ]
    },
    {
     "name": "stderr",
     "output_type": "stream",
     "text": [
      "\r",
      " 69%|██████▉   | 825/1198 [2:36:38<52:24,  8.43s/it]"
     ]
    },
    {
     "name": "stdout",
     "output_type": "stream",
     "text": [
      "done.\n",
      "data/part_B/train_data\\images\\IMG_48.jpg\n",
      "(768, 1024)\n",
      "generating density...\n"
     ]
    },
    {
     "name": "stderr",
     "output_type": "stream",
     "text": [
      "\r",
      " 69%|██████▉   | 826/1198 [2:36:45<49:45,  8.03s/it]"
     ]
    },
    {
     "name": "stdout",
     "output_type": "stream",
     "text": [
      "done.\n",
      "data/part_B/train_data\\images\\IMG_49.jpg\n",
      "(768, 1024)\n",
      "generating density...\n"
     ]
    },
    {
     "name": "stderr",
     "output_type": "stream",
     "text": [
      "\r",
      " 69%|██████▉   | 827/1198 [2:36:55<53:50,  8.71s/it]"
     ]
    },
    {
     "name": "stdout",
     "output_type": "stream",
     "text": [
      "done.\n",
      "data/part_B/train_data\\images\\IMG_5.jpg\n",
      "(768, 1024)\n",
      "generating density...\n"
     ]
    },
    {
     "name": "stderr",
     "output_type": "stream",
     "text": [
      "\r",
      " 69%|██████▉   | 828/1198 [2:37:03<52:43,  8.55s/it]"
     ]
    },
    {
     "name": "stdout",
     "output_type": "stream",
     "text": [
      "done.\n",
      "data/part_B/train_data\\images\\IMG_50.jpg\n",
      "(768, 1024)\n",
      "generating density...\n"
     ]
    },
    {
     "name": "stderr",
     "output_type": "stream",
     "text": [
      "\r",
      " 69%|██████▉   | 829/1198 [2:37:16<1:00:32,  9.84s/it]"
     ]
    },
    {
     "name": "stdout",
     "output_type": "stream",
     "text": [
      "done.\n",
      "data/part_B/train_data\\images\\IMG_51.jpg\n",
      "(768, 1024)\n",
      "generating density...\n"
     ]
    },
    {
     "name": "stderr",
     "output_type": "stream",
     "text": [
      "\r",
      " 69%|██████▉   | 830/1198 [2:37:32<1:10:59, 11.57s/it]"
     ]
    },
    {
     "name": "stdout",
     "output_type": "stream",
     "text": [
      "done.\n",
      "data/part_B/train_data\\images\\IMG_52.jpg\n",
      "(768, 1024)\n",
      "generating density...\n"
     ]
    },
    {
     "name": "stderr",
     "output_type": "stream",
     "text": [
      "\r",
      " 69%|██████▉   | 831/1198 [2:37:36<57:24,  9.38s/it]  "
     ]
    },
    {
     "name": "stdout",
     "output_type": "stream",
     "text": [
      "done.\n",
      "data/part_B/train_data\\images\\IMG_53.jpg\n",
      "(768, 1024)\n",
      "generating density...\n"
     ]
    },
    {
     "name": "stderr",
     "output_type": "stream",
     "text": [
      "\r",
      " 69%|██████▉   | 832/1198 [2:37:44<55:19,  9.07s/it]"
     ]
    },
    {
     "name": "stdout",
     "output_type": "stream",
     "text": [
      "done.\n",
      "data/part_B/train_data\\images\\IMG_54.jpg\n",
      "(768, 1024)\n",
      "generating density...\n"
     ]
    },
    {
     "name": "stderr",
     "output_type": "stream",
     "text": [
      "\r",
      " 70%|██████▉   | 833/1198 [2:37:54<55:54,  9.19s/it]"
     ]
    },
    {
     "name": "stdout",
     "output_type": "stream",
     "text": [
      "done.\n",
      "data/part_B/train_data\\images\\IMG_55.jpg\n",
      "(768, 1024)\n",
      "generating density...\n"
     ]
    },
    {
     "name": "stderr",
     "output_type": "stream",
     "text": [
      "\r",
      " 70%|██████▉   | 834/1198 [2:38:05<58:39,  9.67s/it]"
     ]
    },
    {
     "name": "stdout",
     "output_type": "stream",
     "text": [
      "done.\n",
      "data/part_B/train_data\\images\\IMG_56.jpg\n",
      "(768, 1024)\n",
      "generating density...\n"
     ]
    },
    {
     "name": "stderr",
     "output_type": "stream",
     "text": [
      "\r",
      " 70%|██████▉   | 835/1198 [2:38:15<59:51,  9.89s/it]"
     ]
    },
    {
     "name": "stdout",
     "output_type": "stream",
     "text": [
      "done.\n",
      "data/part_B/train_data\\images\\IMG_57.jpg\n",
      "(768, 1024)\n",
      "generating density...\n"
     ]
    },
    {
     "name": "stderr",
     "output_type": "stream",
     "text": [
      "\r",
      " 70%|██████▉   | 836/1198 [2:38:21<52:07,  8.64s/it]"
     ]
    },
    {
     "name": "stdout",
     "output_type": "stream",
     "text": [
      "done.\n",
      "data/part_B/train_data\\images\\IMG_58.jpg\n",
      "(768, 1024)\n",
      "generating density...\n"
     ]
    },
    {
     "name": "stderr",
     "output_type": "stream",
     "text": [
      "\r",
      " 70%|██████▉   | 837/1198 [2:38:36<1:04:17, 10.69s/it]"
     ]
    },
    {
     "name": "stdout",
     "output_type": "stream",
     "text": [
      "done.\n",
      "data/part_B/train_data\\images\\IMG_59.jpg\n",
      "(768, 1024)\n",
      "generating density...\n"
     ]
    },
    {
     "name": "stderr",
     "output_type": "stream",
     "text": [
      "\r",
      " 70%|██████▉   | 838/1198 [2:38:43<56:32,  9.42s/it]  "
     ]
    },
    {
     "name": "stdout",
     "output_type": "stream",
     "text": [
      "done.\n",
      "data/part_B/train_data\\images\\IMG_6.jpg\n",
      "(768, 1024)\n",
      "generating density...\n"
     ]
    },
    {
     "name": "stderr",
     "output_type": "stream",
     "text": [
      "\r",
      " 70%|███████   | 839/1198 [2:38:48<49:06,  8.21s/it]"
     ]
    },
    {
     "name": "stdout",
     "output_type": "stream",
     "text": [
      "done.\n",
      "data/part_B/train_data\\images\\IMG_60.jpg\n",
      "(768, 1024)\n",
      "generating density...\n"
     ]
    },
    {
     "name": "stderr",
     "output_type": "stream",
     "text": [
      "\r",
      " 70%|███████   | 840/1198 [2:38:52<42:07,  7.06s/it]"
     ]
    },
    {
     "name": "stdout",
     "output_type": "stream",
     "text": [
      "done.\n",
      "data/part_B/train_data\\images\\IMG_61.jpg\n",
      "(768, 1024)\n",
      "generating density...\n"
     ]
    },
    {
     "name": "stderr",
     "output_type": "stream",
     "text": [
      "\r",
      " 70%|███████   | 841/1198 [2:38:59<41:07,  6.91s/it]"
     ]
    },
    {
     "name": "stdout",
     "output_type": "stream",
     "text": [
      "done.\n",
      "data/part_B/train_data\\images\\IMG_62.jpg\n",
      "(768, 1024)\n",
      "generating density...\n"
     ]
    },
    {
     "name": "stderr",
     "output_type": "stream",
     "text": [
      "\r",
      " 70%|███████   | 842/1198 [2:39:11<50:05,  8.44s/it]"
     ]
    },
    {
     "name": "stdout",
     "output_type": "stream",
     "text": [
      "done.\n",
      "data/part_B/train_data\\images\\IMG_63.jpg\n",
      "(768, 1024)\n",
      "generating density...\n"
     ]
    },
    {
     "name": "stderr",
     "output_type": "stream",
     "text": [
      "\r",
      " 70%|███████   | 843/1198 [2:39:20<50:14,  8.49s/it]"
     ]
    },
    {
     "name": "stdout",
     "output_type": "stream",
     "text": [
      "done.\n",
      "data/part_B/train_data\\images\\IMG_64.jpg\n",
      "(768, 1024)\n",
      "generating density...\n"
     ]
    },
    {
     "name": "stderr",
     "output_type": "stream",
     "text": [
      "\r",
      " 70%|███████   | 844/1198 [2:39:32<57:39,  9.77s/it]"
     ]
    },
    {
     "name": "stdout",
     "output_type": "stream",
     "text": [
      "done.\n",
      "data/part_B/train_data\\images\\IMG_65.jpg\n",
      "(768, 1024)\n",
      "generating density...\n"
     ]
    },
    {
     "name": "stderr",
     "output_type": "stream",
     "text": [
      "\r",
      " 71%|███████   | 845/1198 [2:39:42<56:28,  9.60s/it]"
     ]
    },
    {
     "name": "stdout",
     "output_type": "stream",
     "text": [
      "done.\n",
      "data/part_B/train_data\\images\\IMG_66.jpg\n",
      "(768, 1024)\n",
      "generating density...\n"
     ]
    },
    {
     "name": "stderr",
     "output_type": "stream",
     "text": [
      "\r",
      " 71%|███████   | 846/1198 [2:39:50<54:04,  9.22s/it]"
     ]
    },
    {
     "name": "stdout",
     "output_type": "stream",
     "text": [
      "done.\n",
      "data/part_B/train_data\\images\\IMG_67.jpg\n",
      "(768, 1024)\n",
      "generating density...\n"
     ]
    },
    {
     "name": "stderr",
     "output_type": "stream",
     "text": [
      "\r",
      " 71%|███████   | 847/1198 [2:39:57<50:42,  8.67s/it]"
     ]
    },
    {
     "name": "stdout",
     "output_type": "stream",
     "text": [
      "done.\n",
      "data/part_B/train_data\\images\\IMG_68.jpg\n",
      "(768, 1024)\n",
      "generating density...\n"
     ]
    },
    {
     "name": "stderr",
     "output_type": "stream",
     "text": [
      "\r",
      " 71%|███████   | 848/1198 [2:40:05<49:00,  8.40s/it]"
     ]
    },
    {
     "name": "stdout",
     "output_type": "stream",
     "text": [
      "done.\n",
      "data/part_B/train_data\\images\\IMG_69.jpg\n",
      "(768, 1024)\n",
      "generating density...\n"
     ]
    },
    {
     "name": "stderr",
     "output_type": "stream",
     "text": [
      "\r",
      " 71%|███████   | 849/1198 [2:40:13<47:33,  8.18s/it]"
     ]
    },
    {
     "name": "stdout",
     "output_type": "stream",
     "text": [
      "done.\n",
      "data/part_B/train_data\\images\\IMG_7.jpg\n",
      "(768, 1024)\n",
      "generating density...\n"
     ]
    },
    {
     "name": "stderr",
     "output_type": "stream",
     "text": [
      "\r",
      " 71%|███████   | 850/1198 [2:40:21<46:43,  8.05s/it]"
     ]
    },
    {
     "name": "stdout",
     "output_type": "stream",
     "text": [
      "done.\n",
      "data/part_B/train_data\\images\\IMG_70.jpg\n",
      "(768, 1024)\n",
      "generating density...\n"
     ]
    },
    {
     "name": "stderr",
     "output_type": "stream",
     "text": [
      "\r",
      " 71%|███████   | 851/1198 [2:40:29<46:42,  8.08s/it]"
     ]
    },
    {
     "name": "stdout",
     "output_type": "stream",
     "text": [
      "done.\n",
      "data/part_B/train_data\\images\\IMG_71.jpg\n",
      "(768, 1024)\n",
      "generating density...\n"
     ]
    },
    {
     "name": "stderr",
     "output_type": "stream",
     "text": [
      "\r",
      " 71%|███████   | 852/1198 [2:40:35<43:57,  7.62s/it]"
     ]
    },
    {
     "name": "stdout",
     "output_type": "stream",
     "text": [
      "done.\n",
      "data/part_B/train_data\\images\\IMG_72.jpg\n",
      "(768, 1024)\n",
      "generating density...\n"
     ]
    },
    {
     "name": "stderr",
     "output_type": "stream",
     "text": [
      "\r",
      " 71%|███████   | 853/1198 [2:40:44<46:18,  8.05s/it]"
     ]
    },
    {
     "name": "stdout",
     "output_type": "stream",
     "text": [
      "done.\n",
      "data/part_B/train_data\\images\\IMG_73.jpg\n",
      "(768, 1024)\n",
      "generating density...\n"
     ]
    },
    {
     "name": "stderr",
     "output_type": "stream",
     "text": [
      "\r",
      " 71%|███████▏  | 854/1198 [2:40:52<45:27,  7.93s/it]"
     ]
    },
    {
     "name": "stdout",
     "output_type": "stream",
     "text": [
      "done.\n",
      "data/part_B/train_data\\images\\IMG_74.jpg\n",
      "(768, 1024)\n",
      "generating density...\n"
     ]
    },
    {
     "name": "stderr",
     "output_type": "stream",
     "text": [
      "\r",
      " 71%|███████▏  | 855/1198 [2:40:58<42:28,  7.43s/it]"
     ]
    },
    {
     "name": "stdout",
     "output_type": "stream",
     "text": [
      "done.\n",
      "data/part_B/train_data\\images\\IMG_75.jpg\n",
      "(768, 1024)\n",
      "generating density...\n"
     ]
    },
    {
     "name": "stderr",
     "output_type": "stream",
     "text": [
      "\r",
      " 71%|███████▏  | 856/1198 [2:41:05<41:30,  7.28s/it]"
     ]
    },
    {
     "name": "stdout",
     "output_type": "stream",
     "text": [
      "done.\n",
      "data/part_B/train_data\\images\\IMG_76.jpg\n",
      "(768, 1024)\n",
      "generating density...\n"
     ]
    },
    {
     "name": "stderr",
     "output_type": "stream",
     "text": [
      "\r",
      " 72%|███████▏  | 857/1198 [2:41:11<38:47,  6.82s/it]"
     ]
    },
    {
     "name": "stdout",
     "output_type": "stream",
     "text": [
      "done.\n",
      "data/part_B/train_data\\images\\IMG_77.jpg\n",
      "(768, 1024)\n",
      "generating density...\n"
     ]
    },
    {
     "name": "stderr",
     "output_type": "stream",
     "text": [
      "\r",
      " 72%|███████▏  | 858/1198 [2:41:23<47:58,  8.47s/it]"
     ]
    },
    {
     "name": "stdout",
     "output_type": "stream",
     "text": [
      "done.\n",
      "data/part_B/train_data\\images\\IMG_78.jpg\n",
      "(768, 1024)\n",
      "generating density...\n"
     ]
    },
    {
     "name": "stderr",
     "output_type": "stream",
     "text": [
      "\r",
      " 72%|███████▏  | 859/1198 [2:41:29<42:43,  7.56s/it]"
     ]
    },
    {
     "name": "stdout",
     "output_type": "stream",
     "text": [
      "done.\n",
      "data/part_B/train_data\\images\\IMG_79.jpg\n",
      "(768, 1024)\n",
      "generating density...\n"
     ]
    },
    {
     "name": "stderr",
     "output_type": "stream",
     "text": [
      "\r",
      " 72%|███████▏  | 860/1198 [2:41:36<42:42,  7.58s/it]"
     ]
    },
    {
     "name": "stdout",
     "output_type": "stream",
     "text": [
      "done.\n",
      "data/part_B/train_data\\images\\IMG_8.jpg\n",
      "(768, 1024)\n",
      "generating density...\n"
     ]
    },
    {
     "name": "stderr",
     "output_type": "stream",
     "text": [
      "\r",
      " 72%|███████▏  | 861/1198 [2:41:46<45:26,  8.09s/it]"
     ]
    },
    {
     "name": "stdout",
     "output_type": "stream",
     "text": [
      "done.\n",
      "data/part_B/train_data\\images\\IMG_80.jpg\n",
      "(768, 1024)\n",
      "generating density...\n"
     ]
    },
    {
     "name": "stderr",
     "output_type": "stream",
     "text": [
      "\r",
      " 72%|███████▏  | 862/1198 [2:41:55<47:52,  8.55s/it]"
     ]
    },
    {
     "name": "stdout",
     "output_type": "stream",
     "text": [
      "done.\n",
      "data/part_B/train_data\\images\\IMG_81.jpg\n",
      "(768, 1024)\n",
      "generating density...\n"
     ]
    },
    {
     "name": "stderr",
     "output_type": "stream",
     "text": [
      "\r",
      " 72%|███████▏  | 863/1198 [2:42:02<44:51,  8.04s/it]"
     ]
    },
    {
     "name": "stdout",
     "output_type": "stream",
     "text": [
      "done.\n",
      "data/part_B/train_data\\images\\IMG_82.jpg\n",
      "(768, 1024)\n",
      "generating density...\n"
     ]
    },
    {
     "name": "stderr",
     "output_type": "stream",
     "text": [
      "\r",
      " 72%|███████▏  | 864/1198 [2:42:09<42:46,  7.68s/it]"
     ]
    },
    {
     "name": "stdout",
     "output_type": "stream",
     "text": [
      "done.\n",
      "data/part_B/train_data\\images\\IMG_83.jpg\n",
      "(768, 1024)\n",
      "generating density...\n"
     ]
    },
    {
     "name": "stderr",
     "output_type": "stream",
     "text": [
      "\r",
      " 72%|███████▏  | 865/1198 [2:42:14<38:25,  6.92s/it]"
     ]
    },
    {
     "name": "stdout",
     "output_type": "stream",
     "text": [
      "done.\n",
      "data/part_B/train_data\\images\\IMG_84.jpg\n",
      "(768, 1024)\n",
      "generating density...\n"
     ]
    },
    {
     "name": "stderr",
     "output_type": "stream",
     "text": [
      "\r",
      " 72%|███████▏  | 866/1198 [2:42:17<32:31,  5.88s/it]"
     ]
    },
    {
     "name": "stdout",
     "output_type": "stream",
     "text": [
      "done.\n",
      "data/part_B/train_data\\images\\IMG_85.jpg\n",
      "(768, 1024)\n",
      "generating density...\n"
     ]
    },
    {
     "name": "stderr",
     "output_type": "stream",
     "text": [
      "\r",
      " 72%|███████▏  | 867/1198 [2:42:24<33:11,  6.02s/it]"
     ]
    },
    {
     "name": "stdout",
     "output_type": "stream",
     "text": [
      "done.\n",
      "data/part_B/train_data\\images\\IMG_86.jpg\n",
      "(768, 1024)\n",
      "generating density...\n"
     ]
    },
    {
     "name": "stderr",
     "output_type": "stream",
     "text": [
      "\r",
      " 72%|███████▏  | 868/1198 [2:42:29<31:56,  5.81s/it]"
     ]
    },
    {
     "name": "stdout",
     "output_type": "stream",
     "text": [
      "done.\n",
      "data/part_B/train_data\\images\\IMG_87.jpg\n",
      "(768, 1024)\n",
      "generating density...\n"
     ]
    },
    {
     "name": "stderr",
     "output_type": "stream",
     "text": [
      "\r",
      " 73%|███████▎  | 869/1198 [2:42:35<32:03,  5.85s/it]"
     ]
    },
    {
     "name": "stdout",
     "output_type": "stream",
     "text": [
      "done.\n",
      "data/part_B/train_data\\images\\IMG_88.jpg\n",
      "(768, 1024)\n",
      "generating density...\n"
     ]
    },
    {
     "name": "stderr",
     "output_type": "stream",
     "text": [
      "\r",
      " 73%|███████▎  | 870/1198 [2:42:39<28:31,  5.22s/it]"
     ]
    },
    {
     "name": "stdout",
     "output_type": "stream",
     "text": [
      "done.\n",
      "data/part_B/train_data\\images\\IMG_89.jpg\n",
      "(768, 1024)\n",
      "generating density...\n"
     ]
    },
    {
     "name": "stderr",
     "output_type": "stream",
     "text": [
      "\r",
      " 73%|███████▎  | 871/1198 [2:42:50<38:13,  7.01s/it]"
     ]
    },
    {
     "name": "stdout",
     "output_type": "stream",
     "text": [
      "done.\n",
      "data/part_B/train_data\\images\\IMG_9.jpg\n",
      "(768, 1024)\n",
      "generating density...\n"
     ]
    },
    {
     "name": "stderr",
     "output_type": "stream",
     "text": [
      "\r",
      " 73%|███████▎  | 872/1198 [2:43:01<44:27,  8.18s/it]"
     ]
    },
    {
     "name": "stdout",
     "output_type": "stream",
     "text": [
      "done.\n",
      "data/part_B/train_data\\images\\IMG_90.jpg\n",
      "(768, 1024)\n",
      "generating density...\n"
     ]
    },
    {
     "name": "stderr",
     "output_type": "stream",
     "text": [
      "\r",
      " 73%|███████▎  | 873/1198 [2:43:08<42:25,  7.83s/it]"
     ]
    },
    {
     "name": "stdout",
     "output_type": "stream",
     "text": [
      "done.\n",
      "data/part_B/train_data\\images\\IMG_91.jpg\n",
      "(768, 1024)\n",
      "generating density...\n"
     ]
    },
    {
     "name": "stderr",
     "output_type": "stream",
     "text": [
      "\r",
      " 73%|███████▎  | 874/1198 [2:43:14<39:26,  7.30s/it]"
     ]
    },
    {
     "name": "stdout",
     "output_type": "stream",
     "text": [
      "done.\n",
      "data/part_B/train_data\\images\\IMG_92.jpg\n",
      "(768, 1024)\n",
      "generating density...\n"
     ]
    },
    {
     "name": "stderr",
     "output_type": "stream",
     "text": [
      "\r",
      " 73%|███████▎  | 875/1198 [2:43:20<36:56,  6.86s/it]"
     ]
    },
    {
     "name": "stdout",
     "output_type": "stream",
     "text": [
      "done.\n",
      "data/part_B/train_data\\images\\IMG_93.jpg\n",
      "(768, 1024)\n",
      "generating density...\n"
     ]
    },
    {
     "name": "stderr",
     "output_type": "stream",
     "text": [
      "\r",
      " 73%|███████▎  | 876/1198 [2:43:24<31:52,  5.94s/it]"
     ]
    },
    {
     "name": "stdout",
     "output_type": "stream",
     "text": [
      "done.\n",
      "data/part_B/train_data\\images\\IMG_94.jpg\n",
      "(768, 1024)\n",
      "generating density...\n"
     ]
    },
    {
     "name": "stderr",
     "output_type": "stream",
     "text": [
      "\r",
      " 73%|███████▎  | 877/1198 [2:43:29<31:28,  5.88s/it]"
     ]
    },
    {
     "name": "stdout",
     "output_type": "stream",
     "text": [
      "done.\n",
      "data/part_B/train_data\\images\\IMG_95.jpg\n",
      "(768, 1024)\n",
      "generating density...\n"
     ]
    },
    {
     "name": "stderr",
     "output_type": "stream",
     "text": [
      "\r",
      " 73%|███████▎  | 878/1198 [2:43:36<32:40,  6.13s/it]"
     ]
    },
    {
     "name": "stdout",
     "output_type": "stream",
     "text": [
      "done.\n",
      "data/part_B/train_data\\images\\IMG_96.jpg\n",
      "(768, 1024)\n",
      "generating density...\n"
     ]
    },
    {
     "name": "stderr",
     "output_type": "stream",
     "text": [
      "\r",
      " 73%|███████▎  | 879/1198 [2:43:50<45:08,  8.49s/it]"
     ]
    },
    {
     "name": "stdout",
     "output_type": "stream",
     "text": [
      "done.\n",
      "data/part_B/train_data\\images\\IMG_97.jpg\n",
      "(768, 1024)\n",
      "generating density...\n"
     ]
    },
    {
     "name": "stderr",
     "output_type": "stream",
     "text": [
      "\r",
      " 73%|███████▎  | 880/1198 [2:44:01<48:59,  9.24s/it]"
     ]
    },
    {
     "name": "stdout",
     "output_type": "stream",
     "text": [
      "done.\n",
      "data/part_B/train_data\\images\\IMG_98.jpg\n",
      "(768, 1024)\n",
      "generating density...\n"
     ]
    },
    {
     "name": "stderr",
     "output_type": "stream",
     "text": [
      "\r",
      " 74%|███████▎  | 881/1198 [2:44:15<56:11, 10.63s/it]"
     ]
    },
    {
     "name": "stdout",
     "output_type": "stream",
     "text": [
      "done.\n",
      "data/part_B/train_data\\images\\IMG_99.jpg\n",
      "(768, 1024)\n",
      "generating density...\n"
     ]
    },
    {
     "name": "stderr",
     "output_type": "stream",
     "text": [
      "\r",
      " 74%|███████▎  | 882/1198 [2:44:27<58:52, 11.18s/it]"
     ]
    },
    {
     "name": "stdout",
     "output_type": "stream",
     "text": [
      "done.\n",
      "data/part_B/test_data\\images\\IMG_1.jpg\n",
      "(768, 1024)\n",
      "generating density...\n"
     ]
    },
    {
     "name": "stderr",
     "output_type": "stream",
     "text": [
      "\r",
      " 74%|███████▎  | 883/1198 [2:44:32<48:15,  9.19s/it]"
     ]
    },
    {
     "name": "stdout",
     "output_type": "stream",
     "text": [
      "done.\n",
      "data/part_B/test_data\\images\\IMG_10.jpg\n",
      "(768, 1024)\n",
      "generating density...\n"
     ]
    },
    {
     "name": "stderr",
     "output_type": "stream",
     "text": [
      "\r",
      " 74%|███████▍  | 884/1198 [2:44:43<51:40,  9.87s/it]"
     ]
    },
    {
     "name": "stdout",
     "output_type": "stream",
     "text": [
      "done.\n",
      "data/part_B/test_data\\images\\IMG_100.jpg\n",
      "(768, 1024)\n",
      "generating density...\n"
     ]
    },
    {
     "name": "stderr",
     "output_type": "stream",
     "text": [
      "\r",
      " 74%|███████▍  | 885/1198 [2:44:52<49:28,  9.49s/it]"
     ]
    },
    {
     "name": "stdout",
     "output_type": "stream",
     "text": [
      "done.\n",
      "data/part_B/test_data\\images\\IMG_101.jpg\n",
      "(768, 1024)\n",
      "generating density...\n"
     ]
    },
    {
     "name": "stderr",
     "output_type": "stream",
     "text": [
      "\r",
      " 74%|███████▍  | 886/1198 [2:44:59<45:35,  8.77s/it]"
     ]
    },
    {
     "name": "stdout",
     "output_type": "stream",
     "text": [
      "done.\n",
      "data/part_B/test_data\\images\\IMG_102.jpg\n",
      "(768, 1024)\n",
      "generating density...\n"
     ]
    },
    {
     "name": "stderr",
     "output_type": "stream",
     "text": [
      "\r",
      " 74%|███████▍  | 887/1198 [2:45:08<45:58,  8.87s/it]"
     ]
    },
    {
     "name": "stdout",
     "output_type": "stream",
     "text": [
      "done.\n",
      "data/part_B/test_data\\images\\IMG_103.jpg\n",
      "(768, 1024)\n",
      "generating density...\n"
     ]
    },
    {
     "name": "stderr",
     "output_type": "stream",
     "text": [
      "\r",
      " 74%|███████▍  | 888/1198 [2:45:17<45:34,  8.82s/it]"
     ]
    },
    {
     "name": "stdout",
     "output_type": "stream",
     "text": [
      "done.\n",
      "data/part_B/test_data\\images\\IMG_104.jpg\n",
      "(768, 1024)\n",
      "generating density...\n"
     ]
    },
    {
     "name": "stderr",
     "output_type": "stream",
     "text": [
      "\r",
      " 74%|███████▍  | 889/1198 [2:45:22<38:57,  7.56s/it]"
     ]
    },
    {
     "name": "stdout",
     "output_type": "stream",
     "text": [
      "done.\n",
      "data/part_B/test_data\\images\\IMG_105.jpg\n",
      "(768, 1024)\n",
      "generating density...\n"
     ]
    },
    {
     "name": "stderr",
     "output_type": "stream",
     "text": [
      "\r",
      " 74%|███████▍  | 890/1198 [2:45:34<46:07,  8.98s/it]"
     ]
    },
    {
     "name": "stdout",
     "output_type": "stream",
     "text": [
      "done.\n",
      "data/part_B/test_data\\images\\IMG_106.jpg\n",
      "(768, 1024)\n",
      "generating density...\n"
     ]
    },
    {
     "name": "stderr",
     "output_type": "stream",
     "text": [
      "\r",
      " 74%|███████▍  | 891/1198 [2:45:45<49:44,  9.72s/it]"
     ]
    },
    {
     "name": "stdout",
     "output_type": "stream",
     "text": [
      "done.\n",
      "data/part_B/test_data\\images\\IMG_107.jpg\n",
      "(768, 1024)\n",
      "generating density...\n"
     ]
    },
    {
     "name": "stderr",
     "output_type": "stream",
     "text": [
      "\r",
      " 74%|███████▍  | 892/1198 [2:46:02<1:00:03, 11.78s/it]"
     ]
    },
    {
     "name": "stdout",
     "output_type": "stream",
     "text": [
      "done.\n",
      "data/part_B/test_data\\images\\IMG_108.jpg\n",
      "(768, 1024)\n",
      "generating density...\n"
     ]
    },
    {
     "name": "stderr",
     "output_type": "stream",
     "text": [
      "\r",
      " 75%|███████▍  | 893/1198 [2:46:14<59:51, 11.78s/it]  "
     ]
    },
    {
     "name": "stdout",
     "output_type": "stream",
     "text": [
      "done.\n",
      "data/part_B/test_data\\images\\IMG_109.jpg\n",
      "(768, 1024)\n",
      "generating density...\n"
     ]
    },
    {
     "name": "stderr",
     "output_type": "stream",
     "text": [
      "\r",
      " 75%|███████▍  | 894/1198 [2:46:24<56:59, 11.25s/it]"
     ]
    },
    {
     "name": "stdout",
     "output_type": "stream",
     "text": [
      "done.\n",
      "data/part_B/test_data\\images\\IMG_11.jpg\n",
      "(768, 1024)\n",
      "generating density...\n"
     ]
    },
    {
     "name": "stderr",
     "output_type": "stream",
     "text": [
      "\r",
      " 75%|███████▍  | 895/1198 [2:46:33<54:36, 10.81s/it]"
     ]
    },
    {
     "name": "stdout",
     "output_type": "stream",
     "text": [
      "done.\n",
      "data/part_B/test_data\\images\\IMG_110.jpg\n",
      "(768, 1024)\n",
      "generating density...\n"
     ]
    },
    {
     "name": "stderr",
     "output_type": "stream",
     "text": [
      "\r",
      " 75%|███████▍  | 896/1198 [2:46:42<51:38, 10.26s/it]"
     ]
    },
    {
     "name": "stdout",
     "output_type": "stream",
     "text": [
      "done.\n",
      "data/part_B/test_data\\images\\IMG_111.jpg\n",
      "(768, 1024)\n",
      "generating density...\n"
     ]
    },
    {
     "name": "stderr",
     "output_type": "stream",
     "text": [
      "\r",
      " 75%|███████▍  | 897/1198 [2:46:49<46:10,  9.20s/it]"
     ]
    },
    {
     "name": "stdout",
     "output_type": "stream",
     "text": [
      "done.\n",
      "data/part_B/test_data\\images\\IMG_112.jpg\n",
      "(768, 1024)\n",
      "generating density...\n"
     ]
    },
    {
     "name": "stderr",
     "output_type": "stream",
     "text": [
      "\r",
      " 75%|███████▍  | 898/1198 [2:46:58<45:42,  9.14s/it]"
     ]
    },
    {
     "name": "stdout",
     "output_type": "stream",
     "text": [
      "done.\n",
      "data/part_B/test_data\\images\\IMG_113.jpg\n",
      "(768, 1024)\n",
      "generating density...\n"
     ]
    },
    {
     "name": "stderr",
     "output_type": "stream",
     "text": [
      "\r",
      " 75%|███████▌  | 899/1198 [2:47:04<40:56,  8.21s/it]"
     ]
    },
    {
     "name": "stdout",
     "output_type": "stream",
     "text": [
      "done.\n",
      "data/part_B/test_data\\images\\IMG_114.jpg\n",
      "(768, 1024)\n",
      "generating density...\n"
     ]
    },
    {
     "name": "stderr",
     "output_type": "stream",
     "text": [
      "\r",
      " 75%|███████▌  | 900/1198 [2:47:17<46:59,  9.46s/it]"
     ]
    },
    {
     "name": "stdout",
     "output_type": "stream",
     "text": [
      "done.\n",
      "data/part_B/test_data\\images\\IMG_115.jpg\n",
      "(768, 1024)\n",
      "generating density...\n"
     ]
    },
    {
     "name": "stderr",
     "output_type": "stream",
     "text": [
      "\r",
      " 75%|███████▌  | 901/1198 [2:47:21<39:24,  7.96s/it]"
     ]
    },
    {
     "name": "stdout",
     "output_type": "stream",
     "text": [
      "done.\n",
      "data/part_B/test_data\\images\\IMG_116.jpg\n",
      "(768, 1024)\n",
      "generating density...\n"
     ]
    },
    {
     "name": "stderr",
     "output_type": "stream",
     "text": [
      "\r",
      " 75%|███████▌  | 902/1198 [2:47:32<43:40,  8.85s/it]"
     ]
    },
    {
     "name": "stdout",
     "output_type": "stream",
     "text": [
      "done.\n",
      "data/part_B/test_data\\images\\IMG_117.jpg\n",
      "(768, 1024)\n",
      "generating density...\n"
     ]
    },
    {
     "name": "stderr",
     "output_type": "stream",
     "text": [
      "\r",
      " 75%|███████▌  | 903/1198 [2:47:36<36:58,  7.52s/it]"
     ]
    },
    {
     "name": "stdout",
     "output_type": "stream",
     "text": [
      "done.\n",
      "data/part_B/test_data\\images\\IMG_118.jpg\n",
      "(768, 1024)\n",
      "generating density...\n"
     ]
    },
    {
     "name": "stderr",
     "output_type": "stream",
     "text": [
      "\r",
      " 75%|███████▌  | 904/1198 [2:47:46<40:25,  8.25s/it]"
     ]
    },
    {
     "name": "stdout",
     "output_type": "stream",
     "text": [
      "done.\n",
      "data/part_B/test_data\\images\\IMG_119.jpg\n",
      "(768, 1024)\n",
      "generating density...\n"
     ]
    },
    {
     "name": "stderr",
     "output_type": "stream",
     "text": [
      "\r",
      " 76%|███████▌  | 905/1198 [2:47:56<41:50,  8.57s/it]"
     ]
    },
    {
     "name": "stdout",
     "output_type": "stream",
     "text": [
      "done.\n",
      "data/part_B/test_data\\images\\IMG_12.jpg\n",
      "(768, 1024)\n",
      "generating density...\n"
     ]
    },
    {
     "name": "stderr",
     "output_type": "stream",
     "text": [
      "\r",
      " 76%|███████▌  | 906/1198 [2:48:12<53:45, 11.05s/it]"
     ]
    },
    {
     "name": "stdout",
     "output_type": "stream",
     "text": [
      "done.\n",
      "data/part_B/test_data\\images\\IMG_120.jpg\n",
      "(768, 1024)\n",
      "generating density...\n"
     ]
    },
    {
     "name": "stderr",
     "output_type": "stream",
     "text": [
      "\r",
      " 76%|███████▌  | 907/1198 [2:48:20<48:16,  9.95s/it]"
     ]
    },
    {
     "name": "stdout",
     "output_type": "stream",
     "text": [
      "done.\n",
      "data/part_B/test_data\\images\\IMG_121.jpg\n",
      "(768, 1024)\n",
      "generating density...\n"
     ]
    },
    {
     "name": "stderr",
     "output_type": "stream",
     "text": [
      "\r",
      " 76%|███████▌  | 908/1198 [2:48:29<46:31,  9.62s/it]"
     ]
    },
    {
     "name": "stdout",
     "output_type": "stream",
     "text": [
      "done.\n",
      "data/part_B/test_data\\images\\IMG_122.jpg\n",
      "(768, 1024)\n",
      "generating density...\n"
     ]
    },
    {
     "name": "stderr",
     "output_type": "stream",
     "text": [
      "\r",
      " 76%|███████▌  | 909/1198 [2:48:35<41:29,  8.61s/it]"
     ]
    },
    {
     "name": "stdout",
     "output_type": "stream",
     "text": [
      "done.\n",
      "data/part_B/test_data\\images\\IMG_123.jpg\n",
      "(768, 1024)\n",
      "generating density...\n"
     ]
    },
    {
     "name": "stderr",
     "output_type": "stream",
     "text": [
      "\r",
      " 76%|███████▌  | 910/1198 [2:48:41<37:45,  7.87s/it]"
     ]
    },
    {
     "name": "stdout",
     "output_type": "stream",
     "text": [
      "done.\n",
      "data/part_B/test_data\\images\\IMG_124.jpg\n",
      "(768, 1024)\n",
      "generating density...\n"
     ]
    },
    {
     "name": "stderr",
     "output_type": "stream",
     "text": [
      "\r",
      " 76%|███████▌  | 911/1198 [2:48:48<36:36,  7.66s/it]"
     ]
    },
    {
     "name": "stdout",
     "output_type": "stream",
     "text": [
      "done.\n",
      "data/part_B/test_data\\images\\IMG_125.jpg\n",
      "(768, 1024)\n",
      "generating density...\n"
     ]
    },
    {
     "name": "stderr",
     "output_type": "stream",
     "text": [
      "\r",
      " 76%|███████▌  | 912/1198 [2:48:57<38:42,  8.12s/it]"
     ]
    },
    {
     "name": "stdout",
     "output_type": "stream",
     "text": [
      "done.\n",
      "data/part_B/test_data\\images\\IMG_126.jpg\n",
      "(768, 1024)\n",
      "generating density...\n"
     ]
    },
    {
     "name": "stderr",
     "output_type": "stream",
     "text": [
      "\r",
      " 76%|███████▌  | 913/1198 [2:49:03<35:14,  7.42s/it]"
     ]
    },
    {
     "name": "stdout",
     "output_type": "stream",
     "text": [
      "done.\n",
      "data/part_B/test_data\\images\\IMG_127.jpg\n",
      "(768, 1024)\n",
      "generating density...\n"
     ]
    },
    {
     "name": "stderr",
     "output_type": "stream",
     "text": [
      "\r",
      " 76%|███████▋  | 914/1198 [2:49:11<35:59,  7.60s/it]"
     ]
    },
    {
     "name": "stdout",
     "output_type": "stream",
     "text": [
      "done.\n",
      "data/part_B/test_data\\images\\IMG_128.jpg\n",
      "(768, 1024)\n",
      "generating density...\n"
     ]
    },
    {
     "name": "stderr",
     "output_type": "stream",
     "text": [
      "\r",
      " 76%|███████▋  | 915/1198 [2:49:16<31:49,  6.75s/it]"
     ]
    },
    {
     "name": "stdout",
     "output_type": "stream",
     "text": [
      "done.\n",
      "data/part_B/test_data\\images\\IMG_129.jpg\n",
      "(768, 1024)\n",
      "generating density...\n"
     ]
    },
    {
     "name": "stderr",
     "output_type": "stream",
     "text": [
      "\r",
      " 76%|███████▋  | 916/1198 [2:49:26<36:36,  7.79s/it]"
     ]
    },
    {
     "name": "stdout",
     "output_type": "stream",
     "text": [
      "done.\n",
      "data/part_B/test_data\\images\\IMG_13.jpg\n",
      "(768, 1024)\n",
      "generating density...\n"
     ]
    },
    {
     "name": "stderr",
     "output_type": "stream",
     "text": [
      "\r",
      " 77%|███████▋  | 917/1198 [2:49:33<34:30,  7.37s/it]"
     ]
    },
    {
     "name": "stdout",
     "output_type": "stream",
     "text": [
      "done.\n",
      "data/part_B/test_data\\images\\IMG_130.jpg\n",
      "(768, 1024)\n",
      "generating density...\n"
     ]
    },
    {
     "name": "stderr",
     "output_type": "stream",
     "text": [
      "\r",
      " 77%|███████▋  | 918/1198 [2:49:40<33:42,  7.22s/it]"
     ]
    },
    {
     "name": "stdout",
     "output_type": "stream",
     "text": [
      "done.\n",
      "data/part_B/test_data\\images\\IMG_131.jpg\n",
      "(768, 1024)\n",
      "generating density...\n"
     ]
    },
    {
     "name": "stderr",
     "output_type": "stream",
     "text": [
      "\r",
      " 77%|███████▋  | 919/1198 [2:49:48<34:41,  7.46s/it]"
     ]
    },
    {
     "name": "stdout",
     "output_type": "stream",
     "text": [
      "done.\n",
      "data/part_B/test_data\\images\\IMG_132.jpg\n",
      "(768, 1024)\n",
      "generating density...\n"
     ]
    },
    {
     "name": "stderr",
     "output_type": "stream",
     "text": [
      "\r",
      " 77%|███████▋  | 920/1198 [2:49:55<34:34,  7.46s/it]"
     ]
    },
    {
     "name": "stdout",
     "output_type": "stream",
     "text": [
      "done.\n",
      "data/part_B/test_data\\images\\IMG_133.jpg\n",
      "(768, 1024)\n",
      "generating density...\n"
     ]
    },
    {
     "name": "stderr",
     "output_type": "stream",
     "text": [
      "\r",
      " 77%|███████▋  | 921/1198 [2:50:05<37:31,  8.13s/it]"
     ]
    },
    {
     "name": "stdout",
     "output_type": "stream",
     "text": [
      "done.\n",
      "data/part_B/test_data\\images\\IMG_134.jpg\n",
      "(768, 1024)\n",
      "generating density...\n"
     ]
    },
    {
     "name": "stderr",
     "output_type": "stream",
     "text": [
      "\r",
      " 77%|███████▋  | 922/1198 [2:50:16<42:03,  9.14s/it]"
     ]
    },
    {
     "name": "stdout",
     "output_type": "stream",
     "text": [
      "done.\n",
      "data/part_B/test_data\\images\\IMG_135.jpg\n",
      "(768, 1024)\n",
      "generating density...\n"
     ]
    },
    {
     "name": "stderr",
     "output_type": "stream",
     "text": [
      "\r",
      " 77%|███████▋  | 923/1198 [2:50:26<42:59,  9.38s/it]"
     ]
    },
    {
     "name": "stdout",
     "output_type": "stream",
     "text": [
      "done.\n",
      "data/part_B/test_data\\images\\IMG_136.jpg\n",
      "(768, 1024)\n",
      "generating density...\n"
     ]
    },
    {
     "name": "stderr",
     "output_type": "stream",
     "text": [
      "\r",
      " 77%|███████▋  | 924/1198 [2:50:38<45:36,  9.99s/it]"
     ]
    },
    {
     "name": "stdout",
     "output_type": "stream",
     "text": [
      "done.\n",
      "data/part_B/test_data\\images\\IMG_137.jpg\n",
      "(768, 1024)\n",
      "generating density...\n"
     ]
    },
    {
     "name": "stderr",
     "output_type": "stream",
     "text": [
      "\r",
      " 77%|███████▋  | 925/1198 [2:50:49<47:38, 10.47s/it]"
     ]
    },
    {
     "name": "stdout",
     "output_type": "stream",
     "text": [
      "done.\n",
      "data/part_B/test_data\\images\\IMG_138.jpg\n",
      "(768, 1024)\n",
      "generating density...\n"
     ]
    },
    {
     "name": "stderr",
     "output_type": "stream",
     "text": [
      "\r",
      " 77%|███████▋  | 926/1198 [2:50:56<43:03,  9.50s/it]"
     ]
    },
    {
     "name": "stdout",
     "output_type": "stream",
     "text": [
      "done.\n",
      "data/part_B/test_data\\images\\IMG_139.jpg\n",
      "(768, 1024)\n",
      "generating density...\n"
     ]
    },
    {
     "name": "stderr",
     "output_type": "stream",
     "text": [
      "\r",
      " 77%|███████▋  | 927/1198 [2:51:05<41:52,  9.27s/it]"
     ]
    },
    {
     "name": "stdout",
     "output_type": "stream",
     "text": [
      "done.\n",
      "data/part_B/test_data\\images\\IMG_14.jpg\n",
      "(768, 1024)\n",
      "generating density...\n"
     ]
    },
    {
     "name": "stderr",
     "output_type": "stream",
     "text": [
      "\r",
      " 77%|███████▋  | 928/1198 [2:51:10<36:24,  8.09s/it]"
     ]
    },
    {
     "name": "stdout",
     "output_type": "stream",
     "text": [
      "done.\n",
      "data/part_B/test_data\\images\\IMG_140.jpg\n",
      "(768, 1024)\n",
      "generating density...\n"
     ]
    },
    {
     "name": "stderr",
     "output_type": "stream",
     "text": [
      "\r",
      " 78%|███████▊  | 929/1198 [2:51:17<34:31,  7.70s/it]"
     ]
    },
    {
     "name": "stdout",
     "output_type": "stream",
     "text": [
      "done.\n",
      "data/part_B/test_data\\images\\IMG_141.jpg\n",
      "(768, 1024)\n",
      "generating density...\n"
     ]
    },
    {
     "name": "stderr",
     "output_type": "stream",
     "text": [
      "\r",
      " 78%|███████▊  | 930/1198 [2:51:24<33:00,  7.39s/it]"
     ]
    },
    {
     "name": "stdout",
     "output_type": "stream",
     "text": [
      "done.\n",
      "data/part_B/test_data\\images\\IMG_142.jpg\n",
      "(768, 1024)\n",
      "generating density...\n"
     ]
    },
    {
     "name": "stderr",
     "output_type": "stream",
     "text": [
      "\r",
      " 78%|███████▊  | 931/1198 [2:51:29<29:20,  6.59s/it]"
     ]
    },
    {
     "name": "stdout",
     "output_type": "stream",
     "text": [
      "done.\n",
      "data/part_B/test_data\\images\\IMG_143.jpg\n",
      "(768, 1024)\n",
      "generating density...\n"
     ]
    },
    {
     "name": "stderr",
     "output_type": "stream",
     "text": [
      "\r",
      " 78%|███████▊  | 932/1198 [2:51:43<39:26,  8.90s/it]"
     ]
    },
    {
     "name": "stdout",
     "output_type": "stream",
     "text": [
      "done.\n",
      "data/part_B/test_data\\images\\IMG_144.jpg\n",
      "(768, 1024)\n",
      "generating density...\n"
     ]
    },
    {
     "name": "stderr",
     "output_type": "stream",
     "text": [
      "\r",
      " 78%|███████▊  | 933/1198 [2:51:52<39:13,  8.88s/it]"
     ]
    },
    {
     "name": "stdout",
     "output_type": "stream",
     "text": [
      "done.\n",
      "data/part_B/test_data\\images\\IMG_145.jpg\n",
      "(768, 1024)\n",
      "generating density...\n"
     ]
    },
    {
     "name": "stderr",
     "output_type": "stream",
     "text": [
      "\r",
      " 78%|███████▊  | 934/1198 [2:52:00<37:37,  8.55s/it]"
     ]
    },
    {
     "name": "stdout",
     "output_type": "stream",
     "text": [
      "done.\n",
      "data/part_B/test_data\\images\\IMG_146.jpg\n",
      "(768, 1024)\n",
      "generating density...\n"
     ]
    },
    {
     "name": "stderr",
     "output_type": "stream",
     "text": [
      "\r",
      " 78%|███████▊  | 935/1198 [2:52:08<37:02,  8.45s/it]"
     ]
    },
    {
     "name": "stdout",
     "output_type": "stream",
     "text": [
      "done.\n",
      "data/part_B/test_data\\images\\IMG_147.jpg\n",
      "(768, 1024)\n",
      "generating density...\n"
     ]
    },
    {
     "name": "stderr",
     "output_type": "stream",
     "text": [
      "\r",
      " 78%|███████▊  | 936/1198 [2:52:20<41:43,  9.56s/it]"
     ]
    },
    {
     "name": "stdout",
     "output_type": "stream",
     "text": [
      "done.\n",
      "data/part_B/test_data\\images\\IMG_148.jpg\n",
      "(768, 1024)\n",
      "generating density...\n"
     ]
    },
    {
     "name": "stderr",
     "output_type": "stream",
     "text": [
      "\r",
      " 78%|███████▊  | 937/1198 [2:52:32<44:44, 10.29s/it]"
     ]
    },
    {
     "name": "stdout",
     "output_type": "stream",
     "text": [
      "done.\n",
      "data/part_B/test_data\\images\\IMG_149.jpg\n",
      "(768, 1024)\n",
      "generating density...\n"
     ]
    },
    {
     "name": "stderr",
     "output_type": "stream",
     "text": [
      "\r",
      " 78%|███████▊  | 938/1198 [2:52:39<40:50,  9.42s/it]"
     ]
    },
    {
     "name": "stdout",
     "output_type": "stream",
     "text": [
      "done.\n",
      "data/part_B/test_data\\images\\IMG_15.jpg\n",
      "(768, 1024)\n",
      "generating density...\n"
     ]
    },
    {
     "name": "stderr",
     "output_type": "stream",
     "text": [
      "\r",
      " 78%|███████▊  | 939/1198 [2:52:45<35:58,  8.33s/it]"
     ]
    },
    {
     "name": "stdout",
     "output_type": "stream",
     "text": [
      "done.\n",
      "data/part_B/test_data\\images\\IMG_150.jpg\n",
      "(768, 1024)\n",
      "generating density...\n"
     ]
    },
    {
     "name": "stderr",
     "output_type": "stream",
     "text": [
      "\r",
      " 78%|███████▊  | 940/1198 [2:52:54<36:19,  8.45s/it]"
     ]
    },
    {
     "name": "stdout",
     "output_type": "stream",
     "text": [
      "done.\n",
      "data/part_B/test_data\\images\\IMG_151.jpg\n",
      "(768, 1024)\n",
      "generating density...\n"
     ]
    },
    {
     "name": "stderr",
     "output_type": "stream",
     "text": [
      "\r",
      " 79%|███████▊  | 941/1198 [2:53:00<33:17,  7.77s/it]"
     ]
    },
    {
     "name": "stdout",
     "output_type": "stream",
     "text": [
      "done.\n",
      "data/part_B/test_data\\images\\IMG_152.jpg\n",
      "(768, 1024)\n",
      "generating density...\n"
     ]
    },
    {
     "name": "stderr",
     "output_type": "stream",
     "text": [
      "\r",
      " 79%|███████▊  | 942/1198 [2:53:17<45:33, 10.68s/it]"
     ]
    },
    {
     "name": "stdout",
     "output_type": "stream",
     "text": [
      "done.\n",
      "data/part_B/test_data\\images\\IMG_153.jpg\n",
      "(768, 1024)\n",
      "generating density...\n"
     ]
    },
    {
     "name": "stderr",
     "output_type": "stream",
     "text": [
      "\r",
      " 79%|███████▊  | 943/1198 [2:53:31<48:40, 11.45s/it]"
     ]
    },
    {
     "name": "stdout",
     "output_type": "stream",
     "text": [
      "done.\n",
      "data/part_B/test_data\\images\\IMG_154.jpg\n",
      "(768, 1024)\n",
      "generating density...\n"
     ]
    },
    {
     "name": "stderr",
     "output_type": "stream",
     "text": [
      "\r",
      " 79%|███████▉  | 944/1198 [2:53:47<54:25, 12.86s/it]"
     ]
    },
    {
     "name": "stdout",
     "output_type": "stream",
     "text": [
      "done.\n",
      "data/part_B/test_data\\images\\IMG_155.jpg\n",
      "(768, 1024)\n",
      "generating density...\n"
     ]
    },
    {
     "name": "stderr",
     "output_type": "stream",
     "text": [
      "\r",
      " 79%|███████▉  | 945/1198 [2:53:54<47:06, 11.17s/it]"
     ]
    },
    {
     "name": "stdout",
     "output_type": "stream",
     "text": [
      "done.\n",
      "data/part_B/test_data\\images\\IMG_156.jpg\n",
      "(768, 1024)\n",
      "generating density...\n"
     ]
    },
    {
     "name": "stderr",
     "output_type": "stream",
     "text": [
      "\r",
      " 79%|███████▉  | 946/1198 [2:54:02<42:56, 10.22s/it]"
     ]
    },
    {
     "name": "stdout",
     "output_type": "stream",
     "text": [
      "done.\n",
      "data/part_B/test_data\\images\\IMG_157.jpg\n",
      "(768, 1024)\n",
      "generating density...\n"
     ]
    },
    {
     "name": "stderr",
     "output_type": "stream",
     "text": [
      "\r",
      " 79%|███████▉  | 947/1198 [2:54:09<38:42,  9.25s/it]"
     ]
    },
    {
     "name": "stdout",
     "output_type": "stream",
     "text": [
      "done.\n",
      "data/part_B/test_data\\images\\IMG_158.jpg\n",
      "(768, 1024)\n",
      "generating density...\n"
     ]
    },
    {
     "name": "stderr",
     "output_type": "stream",
     "text": [
      "\r",
      " 79%|███████▉  | 948/1198 [2:54:18<38:14,  9.18s/it]"
     ]
    },
    {
     "name": "stdout",
     "output_type": "stream",
     "text": [
      "done.\n",
      "data/part_B/test_data\\images\\IMG_159.jpg\n",
      "(768, 1024)\n",
      "generating density...\n"
     ]
    },
    {
     "name": "stderr",
     "output_type": "stream",
     "text": [
      "\r",
      " 79%|███████▉  | 949/1198 [2:54:32<44:24, 10.70s/it]"
     ]
    },
    {
     "name": "stdout",
     "output_type": "stream",
     "text": [
      "done.\n",
      "data/part_B/test_data\\images\\IMG_16.jpg\n",
      "(768, 1024)\n",
      "generating density...\n"
     ]
    },
    {
     "name": "stderr",
     "output_type": "stream",
     "text": [
      "\r",
      " 79%|███████▉  | 950/1198 [2:54:41<41:47, 10.11s/it]"
     ]
    },
    {
     "name": "stdout",
     "output_type": "stream",
     "text": [
      "done.\n",
      "data/part_B/test_data\\images\\IMG_160.jpg\n",
      "(768, 1024)\n",
      "generating density...\n"
     ]
    },
    {
     "name": "stderr",
     "output_type": "stream",
     "text": [
      "\r",
      " 79%|███████▉  | 951/1198 [2:54:51<41:34, 10.10s/it]"
     ]
    },
    {
     "name": "stdout",
     "output_type": "stream",
     "text": [
      "done.\n",
      "data/part_B/test_data\\images\\IMG_161.jpg\n",
      "(768, 1024)\n",
      "generating density...\n"
     ]
    },
    {
     "name": "stderr",
     "output_type": "stream",
     "text": [
      "\r",
      " 79%|███████▉  | 952/1198 [2:54:58<37:34,  9.16s/it]"
     ]
    },
    {
     "name": "stdout",
     "output_type": "stream",
     "text": [
      "done.\n",
      "data/part_B/test_data\\images\\IMG_162.jpg\n",
      "(768, 1024)\n",
      "generating density...\n"
     ]
    },
    {
     "name": "stderr",
     "output_type": "stream",
     "text": [
      "\r",
      " 80%|███████▉  | 953/1198 [2:55:07<37:23,  9.16s/it]"
     ]
    },
    {
     "name": "stdout",
     "output_type": "stream",
     "text": [
      "done.\n",
      "data/part_B/test_data\\images\\IMG_163.jpg\n",
      "(768, 1024)\n",
      "generating density...\n"
     ]
    },
    {
     "name": "stderr",
     "output_type": "stream",
     "text": [
      "\r",
      " 80%|███████▉  | 954/1198 [2:55:15<35:28,  8.72s/it]"
     ]
    },
    {
     "name": "stdout",
     "output_type": "stream",
     "text": [
      "done.\n",
      "data/part_B/test_data\\images\\IMG_164.jpg\n",
      "(768, 1024)\n",
      "generating density...\n"
     ]
    },
    {
     "name": "stderr",
     "output_type": "stream",
     "text": [
      "\r",
      " 80%|███████▉  | 955/1198 [2:55:25<36:51,  9.10s/it]"
     ]
    },
    {
     "name": "stdout",
     "output_type": "stream",
     "text": [
      "done.\n",
      "data/part_B/test_data\\images\\IMG_165.jpg\n",
      "(768, 1024)\n",
      "generating density...\n"
     ]
    },
    {
     "name": "stderr",
     "output_type": "stream",
     "text": [
      "\r",
      " 80%|███████▉  | 956/1198 [2:55:33<35:41,  8.85s/it]"
     ]
    },
    {
     "name": "stdout",
     "output_type": "stream",
     "text": [
      "done.\n",
      "data/part_B/test_data\\images\\IMG_166.jpg\n",
      "(768, 1024)\n",
      "generating density...\n"
     ]
    },
    {
     "name": "stderr",
     "output_type": "stream",
     "text": [
      "\r",
      " 80%|███████▉  | 957/1198 [2:55:45<38:43,  9.64s/it]"
     ]
    },
    {
     "name": "stdout",
     "output_type": "stream",
     "text": [
      "done.\n",
      "data/part_B/test_data\\images\\IMG_167.jpg\n",
      "(768, 1024)\n",
      "generating density...\n"
     ]
    },
    {
     "name": "stderr",
     "output_type": "stream",
     "text": [
      "\r",
      " 80%|███████▉  | 958/1198 [2:55:52<35:12,  8.80s/it]"
     ]
    },
    {
     "name": "stdout",
     "output_type": "stream",
     "text": [
      "done.\n",
      "data/part_B/test_data\\images\\IMG_168.jpg\n",
      "(768, 1024)\n",
      "generating density...\n"
     ]
    },
    {
     "name": "stderr",
     "output_type": "stream",
     "text": [
      "\r",
      " 80%|████████  | 959/1198 [2:55:59<33:10,  8.33s/it]"
     ]
    },
    {
     "name": "stdout",
     "output_type": "stream",
     "text": [
      "done.\n",
      "data/part_B/test_data\\images\\IMG_169.jpg\n",
      "(768, 1024)\n",
      "generating density...\n"
     ]
    },
    {
     "name": "stderr",
     "output_type": "stream",
     "text": [
      "\r",
      " 80%|████████  | 960/1198 [2:56:10<35:56,  9.06s/it]"
     ]
    },
    {
     "name": "stdout",
     "output_type": "stream",
     "text": [
      "done.\n",
      "data/part_B/test_data\\images\\IMG_17.jpg\n",
      "(768, 1024)\n",
      "generating density...\n"
     ]
    },
    {
     "name": "stderr",
     "output_type": "stream",
     "text": [
      "\r",
      " 80%|████████  | 961/1198 [2:56:17<33:26,  8.47s/it]"
     ]
    },
    {
     "name": "stdout",
     "output_type": "stream",
     "text": [
      "done.\n",
      "data/part_B/test_data\\images\\IMG_170.jpg\n",
      "(768, 1024)\n",
      "generating density...\n"
     ]
    },
    {
     "name": "stderr",
     "output_type": "stream",
     "text": [
      "\r",
      " 80%|████████  | 962/1198 [2:56:33<42:36, 10.83s/it]"
     ]
    },
    {
     "name": "stdout",
     "output_type": "stream",
     "text": [
      "done.\n",
      "data/part_B/test_data\\images\\IMG_171.jpg\n",
      "(768, 1024)\n",
      "generating density...\n"
     ]
    },
    {
     "name": "stderr",
     "output_type": "stream",
     "text": [
      "\r",
      " 80%|████████  | 963/1198 [2:56:38<35:49,  9.15s/it]"
     ]
    },
    {
     "name": "stdout",
     "output_type": "stream",
     "text": [
      "done.\n",
      "data/part_B/test_data\\images\\IMG_172.jpg\n",
      "(768, 1024)\n",
      "generating density...\n"
     ]
    },
    {
     "name": "stderr",
     "output_type": "stream",
     "text": [
      "\r",
      " 80%|████████  | 964/1198 [2:56:43<30:32,  7.83s/it]"
     ]
    },
    {
     "name": "stdout",
     "output_type": "stream",
     "text": [
      "done.\n",
      "data/part_B/test_data\\images\\IMG_173.jpg\n",
      "(768, 1024)\n",
      "generating density...\n"
     ]
    },
    {
     "name": "stderr",
     "output_type": "stream",
     "text": [
      "\r",
      " 81%|████████  | 965/1198 [2:56:51<31:15,  8.05s/it]"
     ]
    },
    {
     "name": "stdout",
     "output_type": "stream",
     "text": [
      "done.\n",
      "data/part_B/test_data\\images\\IMG_174.jpg\n",
      "(768, 1024)\n",
      "generating density...\n"
     ]
    },
    {
     "name": "stderr",
     "output_type": "stream",
     "text": [
      "\r",
      " 81%|████████  | 966/1198 [2:57:00<31:28,  8.14s/it]"
     ]
    },
    {
     "name": "stdout",
     "output_type": "stream",
     "text": [
      "done.\n",
      "data/part_B/test_data\\images\\IMG_175.jpg\n",
      "(768, 1024)\n",
      "generating density...\n"
     ]
    },
    {
     "name": "stderr",
     "output_type": "stream",
     "text": [
      "\r",
      " 81%|████████  | 967/1198 [2:57:07<30:06,  7.82s/it]"
     ]
    },
    {
     "name": "stdout",
     "output_type": "stream",
     "text": [
      "done.\n",
      "data/part_B/test_data\\images\\IMG_176.jpg\n",
      "(768, 1024)\n",
      "generating density...\n"
     ]
    },
    {
     "name": "stderr",
     "output_type": "stream",
     "text": [
      "\r",
      " 81%|████████  | 968/1198 [2:57:17<32:35,  8.50s/it]"
     ]
    },
    {
     "name": "stdout",
     "output_type": "stream",
     "text": [
      "done.\n",
      "data/part_B/test_data\\images\\IMG_177.jpg\n",
      "(768, 1024)\n",
      "generating density...\n"
     ]
    },
    {
     "name": "stderr",
     "output_type": "stream",
     "text": [
      "\r",
      " 81%|████████  | 969/1198 [2:57:23<30:06,  7.89s/it]"
     ]
    },
    {
     "name": "stdout",
     "output_type": "stream",
     "text": [
      "done.\n",
      "data/part_B/test_data\\images\\IMG_178.jpg\n",
      "(768, 1024)\n",
      "generating density...\n"
     ]
    },
    {
     "name": "stderr",
     "output_type": "stream",
     "text": [
      "\r",
      " 81%|████████  | 970/1198 [2:57:29<26:50,  7.06s/it]"
     ]
    },
    {
     "name": "stdout",
     "output_type": "stream",
     "text": [
      "done.\n",
      "data/part_B/test_data\\images\\IMG_179.jpg\n",
      "(768, 1024)\n",
      "generating density...\n"
     ]
    },
    {
     "name": "stderr",
     "output_type": "stream",
     "text": [
      "\r",
      " 81%|████████  | 971/1198 [2:57:36<27:09,  7.18s/it]"
     ]
    },
    {
     "name": "stdout",
     "output_type": "stream",
     "text": [
      "done.\n",
      "data/part_B/test_data\\images\\IMG_18.jpg\n",
      "(768, 1024)\n",
      "generating density...\n"
     ]
    },
    {
     "name": "stderr",
     "output_type": "stream",
     "text": [
      "\r",
      " 81%|████████  | 972/1198 [2:57:46<30:23,  8.07s/it]"
     ]
    },
    {
     "name": "stdout",
     "output_type": "stream",
     "text": [
      "done.\n",
      "data/part_B/test_data\\images\\IMG_180.jpg\n",
      "(768, 1024)\n",
      "generating density...\n"
     ]
    },
    {
     "name": "stderr",
     "output_type": "stream",
     "text": [
      "\r",
      " 81%|████████  | 973/1198 [2:57:54<30:07,  8.03s/it]"
     ]
    },
    {
     "name": "stdout",
     "output_type": "stream",
     "text": [
      "done.\n",
      "data/part_B/test_data\\images\\IMG_181.jpg\n",
      "(768, 1024)\n",
      "generating density...\n"
     ]
    },
    {
     "name": "stderr",
     "output_type": "stream",
     "text": [
      "\r",
      " 81%|████████▏ | 974/1198 [2:58:00<28:03,  7.51s/it]"
     ]
    },
    {
     "name": "stdout",
     "output_type": "stream",
     "text": [
      "done.\n",
      "data/part_B/test_data\\images\\IMG_182.jpg\n",
      "(768, 1024)\n",
      "generating density...\n"
     ]
    },
    {
     "name": "stderr",
     "output_type": "stream",
     "text": [
      "\r",
      " 81%|████████▏ | 975/1198 [2:58:14<34:36,  9.31s/it]"
     ]
    },
    {
     "name": "stdout",
     "output_type": "stream",
     "text": [
      "done.\n",
      "data/part_B/test_data\\images\\IMG_183.jpg\n",
      "(768, 1024)\n",
      "generating density...\n"
     ]
    },
    {
     "name": "stderr",
     "output_type": "stream",
     "text": [
      "\r",
      " 81%|████████▏ | 976/1198 [2:58:25<36:24,  9.84s/it]"
     ]
    },
    {
     "name": "stdout",
     "output_type": "stream",
     "text": [
      "done.\n",
      "data/part_B/test_data\\images\\IMG_184.jpg\n",
      "(768, 1024)\n",
      "generating density...\n"
     ]
    },
    {
     "name": "stderr",
     "output_type": "stream",
     "text": [
      "\r",
      " 82%|████████▏ | 977/1198 [2:58:37<38:59, 10.59s/it]"
     ]
    },
    {
     "name": "stdout",
     "output_type": "stream",
     "text": [
      "done.\n",
      "data/part_B/test_data\\images\\IMG_185.jpg\n",
      "(768, 1024)\n",
      "generating density...\n"
     ]
    },
    {
     "name": "stderr",
     "output_type": "stream",
     "text": [
      "\r",
      " 82%|████████▏ | 978/1198 [2:58:45<35:17,  9.62s/it]"
     ]
    },
    {
     "name": "stdout",
     "output_type": "stream",
     "text": [
      "done.\n",
      "data/part_B/test_data\\images\\IMG_186.jpg\n",
      "(768, 1024)\n",
      "generating density...\n"
     ]
    },
    {
     "name": "stderr",
     "output_type": "stream",
     "text": [
      "\r",
      " 82%|████████▏ | 979/1198 [2:58:56<37:20, 10.23s/it]"
     ]
    },
    {
     "name": "stdout",
     "output_type": "stream",
     "text": [
      "done.\n",
      "data/part_B/test_data\\images\\IMG_187.jpg\n",
      "(768, 1024)\n",
      "generating density...\n"
     ]
    },
    {
     "name": "stderr",
     "output_type": "stream",
     "text": [
      "\r",
      " 82%|████████▏ | 980/1198 [2:59:05<35:28,  9.76s/it]"
     ]
    },
    {
     "name": "stdout",
     "output_type": "stream",
     "text": [
      "done.\n",
      "data/part_B/test_data\\images\\IMG_188.jpg\n",
      "(768, 1024)\n",
      "generating density...\n"
     ]
    },
    {
     "name": "stderr",
     "output_type": "stream",
     "text": [
      "\r",
      " 82%|████████▏ | 981/1198 [2:59:13<33:48,  9.35s/it]"
     ]
    },
    {
     "name": "stdout",
     "output_type": "stream",
     "text": [
      "done.\n",
      "data/part_B/test_data\\images\\IMG_189.jpg\n",
      "(768, 1024)\n",
      "generating density...\n"
     ]
    },
    {
     "name": "stderr",
     "output_type": "stream",
     "text": [
      "\r",
      " 82%|████████▏ | 982/1198 [2:59:21<31:21,  8.71s/it]"
     ]
    },
    {
     "name": "stdout",
     "output_type": "stream",
     "text": [
      "done.\n",
      "data/part_B/test_data\\images\\IMG_19.jpg\n",
      "(768, 1024)\n",
      "generating density...\n"
     ]
    },
    {
     "name": "stderr",
     "output_type": "stream",
     "text": [
      "\r",
      " 82%|████████▏ | 983/1198 [2:59:36<38:49, 10.84s/it]"
     ]
    },
    {
     "name": "stdout",
     "output_type": "stream",
     "text": [
      "done.\n",
      "data/part_B/test_data\\images\\IMG_190.jpg\n",
      "(768, 1024)\n",
      "generating density...\n"
     ]
    },
    {
     "name": "stderr",
     "output_type": "stream",
     "text": [
      "\r",
      " 82%|████████▏ | 984/1198 [2:59:46<36:50, 10.33s/it]"
     ]
    },
    {
     "name": "stdout",
     "output_type": "stream",
     "text": [
      "done.\n",
      "data/part_B/test_data\\images\\IMG_191.jpg\n",
      "(768, 1024)\n",
      "generating density...\n"
     ]
    },
    {
     "name": "stderr",
     "output_type": "stream",
     "text": [
      "\r",
      " 82%|████████▏ | 985/1198 [2:59:57<37:27, 10.55s/it]"
     ]
    },
    {
     "name": "stdout",
     "output_type": "stream",
     "text": [
      "done.\n",
      "data/part_B/test_data\\images\\IMG_192.jpg\n",
      "(768, 1024)\n",
      "generating density...\n"
     ]
    },
    {
     "name": "stderr",
     "output_type": "stream",
     "text": [
      "\r",
      " 82%|████████▏ | 986/1198 [3:00:03<32:44,  9.27s/it]"
     ]
    },
    {
     "name": "stdout",
     "output_type": "stream",
     "text": [
      "done.\n",
      "data/part_B/test_data\\images\\IMG_193.jpg\n",
      "(768, 1024)\n",
      "generating density...\n"
     ]
    },
    {
     "name": "stderr",
     "output_type": "stream",
     "text": [
      "\r",
      " 82%|████████▏ | 987/1198 [3:00:13<33:52,  9.63s/it]"
     ]
    },
    {
     "name": "stdout",
     "output_type": "stream",
     "text": [
      "done.\n",
      "data/part_B/test_data\\images\\IMG_194.jpg\n",
      "(768, 1024)\n",
      "generating density...\n"
     ]
    },
    {
     "name": "stderr",
     "output_type": "stream",
     "text": [
      "\r",
      " 82%|████████▏ | 988/1198 [3:00:21<31:36,  9.03s/it]"
     ]
    },
    {
     "name": "stdout",
     "output_type": "stream",
     "text": [
      "done.\n",
      "data/part_B/test_data\\images\\IMG_195.jpg\n",
      "(768, 1024)\n",
      "generating density...\n"
     ]
    },
    {
     "name": "stderr",
     "output_type": "stream",
     "text": [
      "\r",
      " 83%|████████▎ | 989/1198 [3:00:28<29:44,  8.54s/it]"
     ]
    },
    {
     "name": "stdout",
     "output_type": "stream",
     "text": [
      "done.\n",
      "data/part_B/test_data\\images\\IMG_196.jpg\n",
      "(768, 1024)\n",
      "generating density...\n"
     ]
    },
    {
     "name": "stderr",
     "output_type": "stream",
     "text": [
      "\r",
      " 83%|████████▎ | 990/1198 [3:00:39<31:18,  9.03s/it]"
     ]
    },
    {
     "name": "stdout",
     "output_type": "stream",
     "text": [
      "done.\n",
      "data/part_B/test_data\\images\\IMG_197.jpg\n",
      "(768, 1024)\n",
      "generating density...\n"
     ]
    },
    {
     "name": "stderr",
     "output_type": "stream",
     "text": [
      "\r",
      " 83%|████████▎ | 991/1198 [3:00:47<30:19,  8.79s/it]"
     ]
    },
    {
     "name": "stdout",
     "output_type": "stream",
     "text": [
      "done.\n",
      "data/part_B/test_data\\images\\IMG_198.jpg\n",
      "(768, 1024)\n",
      "generating density...\n"
     ]
    },
    {
     "name": "stderr",
     "output_type": "stream",
     "text": [
      "\r",
      " 83%|████████▎ | 992/1198 [3:00:50<24:48,  7.23s/it]"
     ]
    },
    {
     "name": "stdout",
     "output_type": "stream",
     "text": [
      "done.\n",
      "data/part_B/test_data\\images\\IMG_199.jpg\n",
      "(768, 1024)\n",
      "generating density...\n"
     ]
    },
    {
     "name": "stderr",
     "output_type": "stream",
     "text": [
      "\r",
      " 83%|████████▎ | 993/1198 [3:01:01<28:06,  8.23s/it]"
     ]
    },
    {
     "name": "stdout",
     "output_type": "stream",
     "text": [
      "done.\n",
      "data/part_B/test_data\\images\\IMG_2.jpg\n",
      "(768, 1024)\n",
      "generating density...\n"
     ]
    },
    {
     "name": "stderr",
     "output_type": "stream",
     "text": [
      "\r",
      " 83%|████████▎ | 994/1198 [3:01:09<28:15,  8.31s/it]"
     ]
    },
    {
     "name": "stdout",
     "output_type": "stream",
     "text": [
      "done.\n",
      "data/part_B/test_data\\images\\IMG_20.jpg\n",
      "(768, 1024)\n",
      "generating density...\n"
     ]
    },
    {
     "name": "stderr",
     "output_type": "stream",
     "text": [
      "\r",
      " 83%|████████▎ | 995/1198 [3:01:13<22:54,  6.77s/it]"
     ]
    },
    {
     "name": "stdout",
     "output_type": "stream",
     "text": [
      "done.\n",
      "data/part_B/test_data\\images\\IMG_200.jpg\n",
      "(768, 1024)\n",
      "generating density...\n"
     ]
    },
    {
     "name": "stderr",
     "output_type": "stream",
     "text": [
      "\r",
      " 83%|████████▎ | 996/1198 [3:01:19<22:20,  6.64s/it]"
     ]
    },
    {
     "name": "stdout",
     "output_type": "stream",
     "text": [
      "done.\n",
      "data/part_B/test_data\\images\\IMG_201.jpg\n",
      "(768, 1024)\n",
      "generating density...\n"
     ]
    },
    {
     "name": "stderr",
     "output_type": "stream",
     "text": [
      "\r",
      " 83%|████████▎ | 997/1198 [3:01:28<24:31,  7.32s/it]"
     ]
    },
    {
     "name": "stdout",
     "output_type": "stream",
     "text": [
      "done.\n",
      "data/part_B/test_data\\images\\IMG_202.jpg\n",
      "(768, 1024)\n",
      "generating density...\n"
     ]
    },
    {
     "name": "stderr",
     "output_type": "stream",
     "text": [
      "\r",
      " 83%|████████▎ | 998/1198 [3:01:38<27:31,  8.26s/it]"
     ]
    },
    {
     "name": "stdout",
     "output_type": "stream",
     "text": [
      "done.\n",
      "data/part_B/test_data\\images\\IMG_203.jpg\n",
      "(768, 1024)\n",
      "generating density...\n"
     ]
    },
    {
     "name": "stderr",
     "output_type": "stream",
     "text": [
      "\r",
      " 83%|████████▎ | 999/1198 [3:01:47<27:39,  8.34s/it]"
     ]
    },
    {
     "name": "stdout",
     "output_type": "stream",
     "text": [
      "done.\n",
      "data/part_B/test_data\\images\\IMG_204.jpg\n",
      "(768, 1024)\n",
      "generating density...\n"
     ]
    },
    {
     "name": "stderr",
     "output_type": "stream",
     "text": [
      "\r",
      " 83%|████████▎ | 1000/1198 [3:01:56<28:30,  8.64s/it]"
     ]
    },
    {
     "name": "stdout",
     "output_type": "stream",
     "text": [
      "done.\n",
      "data/part_B/test_data\\images\\IMG_205.jpg\n",
      "(768, 1024)\n",
      "generating density...\n"
     ]
    },
    {
     "name": "stderr",
     "output_type": "stream",
     "text": [
      "\r",
      " 84%|████████▎ | 1001/1198 [3:02:05<28:18,  8.62s/it]"
     ]
    },
    {
     "name": "stdout",
     "output_type": "stream",
     "text": [
      "done.\n",
      "data/part_B/test_data\\images\\IMG_206.jpg\n",
      "(768, 1024)\n",
      "generating density...\n"
     ]
    },
    {
     "name": "stderr",
     "output_type": "stream",
     "text": [
      "\r",
      " 84%|████████▎ | 1002/1198 [3:02:15<29:28,  9.02s/it]"
     ]
    },
    {
     "name": "stdout",
     "output_type": "stream",
     "text": [
      "done.\n",
      "data/part_B/test_data\\images\\IMG_207.jpg\n",
      "(768, 1024)\n",
      "generating density...\n"
     ]
    },
    {
     "name": "stderr",
     "output_type": "stream",
     "text": [
      "\r",
      " 84%|████████▎ | 1003/1198 [3:02:25<30:54,  9.51s/it]"
     ]
    },
    {
     "name": "stdout",
     "output_type": "stream",
     "text": [
      "done.\n",
      "data/part_B/test_data\\images\\IMG_208.jpg\n",
      "(768, 1024)\n",
      "generating density...\n"
     ]
    },
    {
     "name": "stderr",
     "output_type": "stream",
     "text": [
      "\r",
      " 84%|████████▍ | 1004/1198 [3:02:34<29:39,  9.17s/it]"
     ]
    },
    {
     "name": "stdout",
     "output_type": "stream",
     "text": [
      "done.\n",
      "data/part_B/test_data\\images\\IMG_209.jpg\n",
      "(768, 1024)\n",
      "generating density...\n"
     ]
    },
    {
     "name": "stderr",
     "output_type": "stream",
     "text": [
      "\r",
      " 84%|████████▍ | 1005/1198 [3:02:44<30:29,  9.48s/it]"
     ]
    },
    {
     "name": "stdout",
     "output_type": "stream",
     "text": [
      "done.\n",
      "data/part_B/test_data\\images\\IMG_21.jpg\n",
      "(768, 1024)\n",
      "generating density...\n"
     ]
    },
    {
     "name": "stderr",
     "output_type": "stream",
     "text": [
      "\r",
      " 84%|████████▍ | 1006/1198 [3:02:54<31:00,  9.69s/it]"
     ]
    },
    {
     "name": "stdout",
     "output_type": "stream",
     "text": [
      "done.\n",
      "data/part_B/test_data\\images\\IMG_210.jpg\n",
      "(768, 1024)\n",
      "generating density...\n"
     ]
    },
    {
     "name": "stderr",
     "output_type": "stream",
     "text": [
      "\r",
      " 84%|████████▍ | 1007/1198 [3:02:58<25:35,  8.04s/it]"
     ]
    },
    {
     "name": "stdout",
     "output_type": "stream",
     "text": [
      "done.\n",
      "data/part_B/test_data\\images\\IMG_211.jpg\n",
      "(768, 1024)\n",
      "generating density...\n"
     ]
    },
    {
     "name": "stderr",
     "output_type": "stream",
     "text": [
      "\r",
      " 84%|████████▍ | 1008/1198 [3:03:05<23:43,  7.49s/it]"
     ]
    },
    {
     "name": "stdout",
     "output_type": "stream",
     "text": [
      "done.\n",
      "data/part_B/test_data\\images\\IMG_212.jpg\n",
      "(768, 1024)\n",
      "generating density...\n"
     ]
    },
    {
     "name": "stderr",
     "output_type": "stream",
     "text": [
      "\r",
      " 84%|████████▍ | 1009/1198 [3:03:15<26:32,  8.43s/it]"
     ]
    },
    {
     "name": "stdout",
     "output_type": "stream",
     "text": [
      "done.\n",
      "data/part_B/test_data\\images\\IMG_213.jpg\n",
      "(768, 1024)\n",
      "generating density...\n"
     ]
    },
    {
     "name": "stderr",
     "output_type": "stream",
     "text": [
      "\r",
      " 84%|████████▍ | 1010/1198 [3:03:29<31:10,  9.95s/it]"
     ]
    },
    {
     "name": "stdout",
     "output_type": "stream",
     "text": [
      "done.\n",
      "data/part_B/test_data\\images\\IMG_214.jpg\n",
      "(768, 1024)\n",
      "generating density...\n"
     ]
    },
    {
     "name": "stderr",
     "output_type": "stream",
     "text": [
      "\r",
      " 84%|████████▍ | 1011/1198 [3:03:38<30:15,  9.71s/it]"
     ]
    },
    {
     "name": "stdout",
     "output_type": "stream",
     "text": [
      "done.\n",
      "data/part_B/test_data\\images\\IMG_215.jpg\n",
      "(768, 1024)\n",
      "generating density...\n"
     ]
    },
    {
     "name": "stderr",
     "output_type": "stream",
     "text": [
      "\r",
      " 84%|████████▍ | 1012/1198 [3:03:46<29:01,  9.36s/it]"
     ]
    },
    {
     "name": "stdout",
     "output_type": "stream",
     "text": [
      "done.\n",
      "data/part_B/test_data\\images\\IMG_216.jpg\n",
      "(768, 1024)\n",
      "generating density...\n"
     ]
    },
    {
     "name": "stderr",
     "output_type": "stream",
     "text": [
      "\r",
      " 85%|████████▍ | 1013/1198 [3:03:58<31:10, 10.11s/it]"
     ]
    },
    {
     "name": "stdout",
     "output_type": "stream",
     "text": [
      "done.\n",
      "data/part_B/test_data\\images\\IMG_217.jpg\n",
      "(768, 1024)\n",
      "generating density...\n"
     ]
    },
    {
     "name": "stderr",
     "output_type": "stream",
     "text": [
      "\r",
      " 85%|████████▍ | 1014/1198 [3:04:08<30:32,  9.96s/it]"
     ]
    },
    {
     "name": "stdout",
     "output_type": "stream",
     "text": [
      "done.\n",
      "data/part_B/test_data\\images\\IMG_218.jpg\n",
      "(768, 1024)\n",
      "generating density...\n"
     ]
    },
    {
     "name": "stderr",
     "output_type": "stream",
     "text": [
      "\r",
      " 85%|████████▍ | 1015/1198 [3:04:18<30:23,  9.97s/it]"
     ]
    },
    {
     "name": "stdout",
     "output_type": "stream",
     "text": [
      "done.\n",
      "data/part_B/test_data\\images\\IMG_219.jpg\n",
      "(768, 1024)\n",
      "generating density...\n"
     ]
    },
    {
     "name": "stderr",
     "output_type": "stream",
     "text": [
      "\r",
      " 85%|████████▍ | 1016/1198 [3:04:31<33:20, 10.99s/it]"
     ]
    },
    {
     "name": "stdout",
     "output_type": "stream",
     "text": [
      "done.\n",
      "data/part_B/test_data\\images\\IMG_22.jpg\n",
      "(768, 1024)\n",
      "generating density...\n"
     ]
    },
    {
     "name": "stderr",
     "output_type": "stream",
     "text": [
      "\r",
      " 85%|████████▍ | 1017/1198 [3:04:46<37:01, 12.27s/it]"
     ]
    },
    {
     "name": "stdout",
     "output_type": "stream",
     "text": [
      "done.\n",
      "data/part_B/test_data\\images\\IMG_220.jpg\n",
      "(768, 1024)\n",
      "generating density...\n"
     ]
    },
    {
     "name": "stderr",
     "output_type": "stream",
     "text": [
      "\r",
      " 85%|████████▍ | 1018/1198 [3:04:55<33:29, 11.16s/it]"
     ]
    },
    {
     "name": "stdout",
     "output_type": "stream",
     "text": [
      "done.\n",
      "data/part_B/test_data\\images\\IMG_221.jpg\n",
      "(768, 1024)\n",
      "generating density...\n"
     ]
    },
    {
     "name": "stderr",
     "output_type": "stream",
     "text": [
      "\r",
      " 85%|████████▌ | 1019/1198 [3:05:04<31:07, 10.43s/it]"
     ]
    },
    {
     "name": "stdout",
     "output_type": "stream",
     "text": [
      "done.\n",
      "data/part_B/test_data\\images\\IMG_222.jpg\n",
      "(768, 1024)\n",
      "generating density...\n"
     ]
    },
    {
     "name": "stderr",
     "output_type": "stream",
     "text": [
      "\r",
      " 85%|████████▌ | 1020/1198 [3:05:14<30:25, 10.25s/it]"
     ]
    },
    {
     "name": "stdout",
     "output_type": "stream",
     "text": [
      "done.\n",
      "data/part_B/test_data\\images\\IMG_223.jpg\n",
      "(768, 1024)\n",
      "generating density...\n"
     ]
    },
    {
     "name": "stderr",
     "output_type": "stream",
     "text": [
      "\r",
      " 85%|████████▌ | 1021/1198 [3:05:24<30:14, 10.25s/it]"
     ]
    },
    {
     "name": "stdout",
     "output_type": "stream",
     "text": [
      "done.\n",
      "data/part_B/test_data\\images\\IMG_224.jpg\n",
      "(768, 1024)\n",
      "generating density...\n"
     ]
    },
    {
     "name": "stderr",
     "output_type": "stream",
     "text": [
      "\r",
      " 85%|████████▌ | 1022/1198 [3:05:33<28:48,  9.82s/it]"
     ]
    },
    {
     "name": "stdout",
     "output_type": "stream",
     "text": [
      "done.\n",
      "data/part_B/test_data\\images\\IMG_225.jpg\n",
      "(768, 1024)\n",
      "generating density...\n"
     ]
    },
    {
     "name": "stderr",
     "output_type": "stream",
     "text": [
      "\r",
      " 85%|████████▌ | 1023/1198 [3:05:46<31:21, 10.75s/it]"
     ]
    },
    {
     "name": "stdout",
     "output_type": "stream",
     "text": [
      "done.\n",
      "data/part_B/test_data\\images\\IMG_226.jpg\n",
      "(768, 1024)\n",
      "generating density...\n"
     ]
    },
    {
     "name": "stderr",
     "output_type": "stream",
     "text": [
      "\r",
      " 85%|████████▌ | 1024/1198 [3:05:52<27:10,  9.37s/it]"
     ]
    },
    {
     "name": "stdout",
     "output_type": "stream",
     "text": [
      "done.\n",
      "data/part_B/test_data\\images\\IMG_227.jpg\n",
      "(768, 1024)\n",
      "generating density...\n"
     ]
    },
    {
     "name": "stderr",
     "output_type": "stream",
     "text": [
      "\r",
      " 86%|████████▌ | 1025/1198 [3:06:01<26:35,  9.23s/it]"
     ]
    },
    {
     "name": "stdout",
     "output_type": "stream",
     "text": [
      "done.\n",
      "data/part_B/test_data\\images\\IMG_228.jpg\n",
      "(768, 1024)\n",
      "generating density...\n"
     ]
    },
    {
     "name": "stderr",
     "output_type": "stream",
     "text": [
      "\r",
      " 86%|████████▌ | 1026/1198 [3:06:11<27:44,  9.68s/it]"
     ]
    },
    {
     "name": "stdout",
     "output_type": "stream",
     "text": [
      "done.\n",
      "data/part_B/test_data\\images\\IMG_229.jpg\n",
      "(768, 1024)\n",
      "generating density...\n"
     ]
    },
    {
     "name": "stderr",
     "output_type": "stream",
     "text": [
      "\r",
      " 86%|████████▌ | 1027/1198 [3:06:18<24:50,  8.72s/it]"
     ]
    },
    {
     "name": "stdout",
     "output_type": "stream",
     "text": [
      "done.\n",
      "data/part_B/test_data\\images\\IMG_23.jpg\n",
      "(768, 1024)\n",
      "generating density...\n"
     ]
    },
    {
     "name": "stderr",
     "output_type": "stream",
     "text": [
      "\r",
      " 86%|████████▌ | 1028/1198 [3:06:27<25:03,  8.84s/it]"
     ]
    },
    {
     "name": "stdout",
     "output_type": "stream",
     "text": [
      "done.\n",
      "data/part_B/test_data\\images\\IMG_230.jpg\n",
      "(768, 1024)\n",
      "generating density...\n"
     ]
    },
    {
     "name": "stderr",
     "output_type": "stream",
     "text": [
      "\r",
      " 86%|████████▌ | 1029/1198 [3:06:37<25:54,  9.20s/it]"
     ]
    },
    {
     "name": "stdout",
     "output_type": "stream",
     "text": [
      "done.\n",
      "data/part_B/test_data\\images\\IMG_231.jpg\n",
      "(768, 1024)\n",
      "generating density...\n"
     ]
    },
    {
     "name": "stderr",
     "output_type": "stream",
     "text": [
      "\r",
      " 86%|████████▌ | 1030/1198 [3:06:46<25:22,  9.06s/it]"
     ]
    },
    {
     "name": "stdout",
     "output_type": "stream",
     "text": [
      "done.\n",
      "data/part_B/test_data\\images\\IMG_232.jpg\n",
      "(768, 1024)\n",
      "generating density...\n"
     ]
    },
    {
     "name": "stderr",
     "output_type": "stream",
     "text": [
      "\r",
      " 86%|████████▌ | 1031/1198 [3:06:54<24:29,  8.80s/it]"
     ]
    },
    {
     "name": "stdout",
     "output_type": "stream",
     "text": [
      "done.\n",
      "data/part_B/test_data\\images\\IMG_233.jpg\n",
      "(768, 1024)\n",
      "generating density...\n"
     ]
    },
    {
     "name": "stderr",
     "output_type": "stream",
     "text": [
      "\r",
      " 86%|████████▌ | 1032/1198 [3:07:00<21:51,  7.90s/it]"
     ]
    },
    {
     "name": "stdout",
     "output_type": "stream",
     "text": [
      "done.\n",
      "data/part_B/test_data\\images\\IMG_234.jpg\n",
      "(768, 1024)\n",
      "generating density...\n"
     ]
    },
    {
     "name": "stderr",
     "output_type": "stream",
     "text": [
      "\r",
      " 86%|████████▌ | 1033/1198 [3:07:14<26:40,  9.70s/it]"
     ]
    },
    {
     "name": "stdout",
     "output_type": "stream",
     "text": [
      "done.\n",
      "data/part_B/test_data\\images\\IMG_235.jpg\n",
      "(768, 1024)\n",
      "generating density...\n"
     ]
    },
    {
     "name": "stderr",
     "output_type": "stream",
     "text": [
      "\r",
      " 86%|████████▋ | 1034/1198 [3:07:25<28:08, 10.29s/it]"
     ]
    },
    {
     "name": "stdout",
     "output_type": "stream",
     "text": [
      "done.\n",
      "data/part_B/test_data\\images\\IMG_236.jpg\n",
      "(768, 1024)\n",
      "generating density...\n"
     ]
    },
    {
     "name": "stderr",
     "output_type": "stream",
     "text": [
      "\r",
      " 86%|████████▋ | 1035/1198 [3:07:41<32:16, 11.88s/it]"
     ]
    },
    {
     "name": "stdout",
     "output_type": "stream",
     "text": [
      "done.\n",
      "data/part_B/test_data\\images\\IMG_237.jpg\n",
      "(768, 1024)\n",
      "generating density...\n"
     ]
    },
    {
     "name": "stderr",
     "output_type": "stream",
     "text": [
      "\r",
      " 86%|████████▋ | 1036/1198 [3:07:55<33:45, 12.50s/it]"
     ]
    },
    {
     "name": "stdout",
     "output_type": "stream",
     "text": [
      "done.\n",
      "data/part_B/test_data\\images\\IMG_238.jpg\n",
      "(768, 1024)\n",
      "generating density...\n"
     ]
    },
    {
     "name": "stderr",
     "output_type": "stream",
     "text": [
      "\r",
      " 87%|████████▋ | 1037/1198 [3:08:02<29:33, 11.01s/it]"
     ]
    },
    {
     "name": "stdout",
     "output_type": "stream",
     "text": [
      "done.\n",
      "data/part_B/test_data\\images\\IMG_239.jpg\n",
      "(768, 1024)\n",
      "generating density...\n"
     ]
    },
    {
     "name": "stderr",
     "output_type": "stream",
     "text": [
      "\r",
      " 87%|████████▋ | 1038/1198 [3:08:12<28:20, 10.63s/it]"
     ]
    },
    {
     "name": "stdout",
     "output_type": "stream",
     "text": [
      "done.\n",
      "data/part_B/test_data\\images\\IMG_24.jpg\n",
      "(768, 1024)\n",
      "generating density...\n"
     ]
    },
    {
     "name": "stderr",
     "output_type": "stream",
     "text": [
      "\r",
      " 87%|████████▋ | 1039/1198 [3:08:20<26:00,  9.82s/it]"
     ]
    },
    {
     "name": "stdout",
     "output_type": "stream",
     "text": [
      "done.\n",
      "data/part_B/test_data\\images\\IMG_240.jpg\n",
      "(768, 1024)\n",
      "generating density...\n"
     ]
    },
    {
     "name": "stderr",
     "output_type": "stream",
     "text": [
      "\r",
      " 87%|████████▋ | 1040/1198 [3:08:27<23:32,  8.94s/it]"
     ]
    },
    {
     "name": "stdout",
     "output_type": "stream",
     "text": [
      "done.\n",
      "data/part_B/test_data\\images\\IMG_241.jpg\n",
      "(768, 1024)\n",
      "generating density...\n"
     ]
    },
    {
     "name": "stderr",
     "output_type": "stream",
     "text": [
      "\r",
      " 87%|████████▋ | 1041/1198 [3:08:36<23:46,  9.09s/it]"
     ]
    },
    {
     "name": "stdout",
     "output_type": "stream",
     "text": [
      "done.\n",
      "data/part_B/test_data\\images\\IMG_242.jpg\n",
      "(768, 1024)\n",
      "generating density...\n"
     ]
    },
    {
     "name": "stderr",
     "output_type": "stream",
     "text": [
      "\r",
      " 87%|████████▋ | 1042/1198 [3:08:46<24:05,  9.26s/it]"
     ]
    },
    {
     "name": "stdout",
     "output_type": "stream",
     "text": [
      "done.\n",
      "data/part_B/test_data\\images\\IMG_243.jpg\n",
      "(768, 1024)\n",
      "generating density...\n"
     ]
    },
    {
     "name": "stderr",
     "output_type": "stream",
     "text": [
      "\r",
      " 87%|████████▋ | 1043/1198 [3:08:56<24:09,  9.35s/it]"
     ]
    },
    {
     "name": "stdout",
     "output_type": "stream",
     "text": [
      "done.\n",
      "data/part_B/test_data\\images\\IMG_244.jpg\n",
      "(768, 1024)\n",
      "generating density...\n"
     ]
    },
    {
     "name": "stderr",
     "output_type": "stream",
     "text": [
      "\r",
      " 87%|████████▋ | 1044/1198 [3:09:03<22:17,  8.68s/it]"
     ]
    },
    {
     "name": "stdout",
     "output_type": "stream",
     "text": [
      "done.\n",
      "data/part_B/test_data\\images\\IMG_245.jpg\n",
      "(768, 1024)\n",
      "generating density...\n"
     ]
    },
    {
     "name": "stderr",
     "output_type": "stream",
     "text": [
      "\r",
      " 87%|████████▋ | 1045/1198 [3:09:11<22:07,  8.68s/it]"
     ]
    },
    {
     "name": "stdout",
     "output_type": "stream",
     "text": [
      "done.\n",
      "data/part_B/test_data\\images\\IMG_246.jpg\n",
      "(768, 1024)\n",
      "generating density...\n"
     ]
    },
    {
     "name": "stderr",
     "output_type": "stream",
     "text": [
      "\r",
      " 87%|████████▋ | 1046/1198 [3:09:27<27:20, 10.79s/it]"
     ]
    },
    {
     "name": "stdout",
     "output_type": "stream",
     "text": [
      "done.\n",
      "data/part_B/test_data\\images\\IMG_247.jpg\n",
      "(768, 1024)\n",
      "generating density...\n"
     ]
    },
    {
     "name": "stderr",
     "output_type": "stream",
     "text": [
      "\r",
      " 87%|████████▋ | 1047/1198 [3:09:36<25:52, 10.28s/it]"
     ]
    },
    {
     "name": "stdout",
     "output_type": "stream",
     "text": [
      "done.\n",
      "data/part_B/test_data\\images\\IMG_248.jpg\n",
      "(768, 1024)\n",
      "generating density...\n"
     ]
    },
    {
     "name": "stderr",
     "output_type": "stream",
     "text": [
      "\r",
      " 87%|████████▋ | 1048/1198 [3:09:45<24:22,  9.75s/it]"
     ]
    },
    {
     "name": "stdout",
     "output_type": "stream",
     "text": [
      "done.\n",
      "data/part_B/test_data\\images\\IMG_249.jpg\n",
      "(768, 1024)\n",
      "generating density...\n"
     ]
    },
    {
     "name": "stderr",
     "output_type": "stream",
     "text": [
      "\r",
      " 88%|████████▊ | 1049/1198 [3:09:57<26:20, 10.61s/it]"
     ]
    },
    {
     "name": "stdout",
     "output_type": "stream",
     "text": [
      "done.\n",
      "data/part_B/test_data\\images\\IMG_25.jpg\n",
      "(768, 1024)\n",
      "generating density...\n"
     ]
    },
    {
     "name": "stderr",
     "output_type": "stream",
     "text": [
      "\r",
      " 88%|████████▊ | 1050/1198 [3:10:07<25:11, 10.22s/it]"
     ]
    },
    {
     "name": "stdout",
     "output_type": "stream",
     "text": [
      "done.\n",
      "data/part_B/test_data\\images\\IMG_250.jpg\n",
      "(768, 1024)\n",
      "generating density...\n"
     ]
    },
    {
     "name": "stderr",
     "output_type": "stream",
     "text": [
      "\r",
      " 88%|████████▊ | 1051/1198 [3:10:10<20:04,  8.20s/it]"
     ]
    },
    {
     "name": "stdout",
     "output_type": "stream",
     "text": [
      "done.\n",
      "data/part_B/test_data\\images\\IMG_251.jpg\n",
      "(768, 1024)\n",
      "generating density...\n"
     ]
    },
    {
     "name": "stderr",
     "output_type": "stream",
     "text": [
      "\r",
      " 88%|████████▊ | 1052/1198 [3:10:23<23:14,  9.55s/it]"
     ]
    },
    {
     "name": "stdout",
     "output_type": "stream",
     "text": [
      "done.\n",
      "data/part_B/test_data\\images\\IMG_252.jpg\n",
      "(768, 1024)\n",
      "generating density...\n"
     ]
    },
    {
     "name": "stderr",
     "output_type": "stream",
     "text": [
      "\r",
      " 88%|████████▊ | 1053/1198 [3:10:29<20:47,  8.60s/it]"
     ]
    },
    {
     "name": "stdout",
     "output_type": "stream",
     "text": [
      "done.\n",
      "data/part_B/test_data\\images\\IMG_253.jpg\n",
      "(768, 1024)\n",
      "generating density...\n"
     ]
    },
    {
     "name": "stderr",
     "output_type": "stream",
     "text": [
      "\r",
      " 88%|████████▊ | 1054/1198 [3:10:39<21:20,  8.89s/it]"
     ]
    },
    {
     "name": "stdout",
     "output_type": "stream",
     "text": [
      "done.\n",
      "data/part_B/test_data\\images\\IMG_254.jpg\n",
      "(768, 1024)\n",
      "generating density...\n"
     ]
    },
    {
     "name": "stderr",
     "output_type": "stream",
     "text": [
      "\r",
      " 88%|████████▊ | 1055/1198 [3:10:48<21:40,  9.10s/it]"
     ]
    },
    {
     "name": "stdout",
     "output_type": "stream",
     "text": [
      "done.\n",
      "data/part_B/test_data\\images\\IMG_255.jpg\n",
      "(768, 1024)\n",
      "generating density...\n"
     ]
    },
    {
     "name": "stderr",
     "output_type": "stream",
     "text": [
      "\r",
      " 88%|████████▊ | 1056/1198 [3:10:53<18:23,  7.77s/it]"
     ]
    },
    {
     "name": "stdout",
     "output_type": "stream",
     "text": [
      "done.\n",
      "data/part_B/test_data\\images\\IMG_256.jpg\n",
      "(768, 1024)\n",
      "generating density...\n"
     ]
    },
    {
     "name": "stderr",
     "output_type": "stream",
     "text": [
      "\r",
      " 88%|████████▊ | 1057/1198 [3:11:04<20:24,  8.68s/it]"
     ]
    },
    {
     "name": "stdout",
     "output_type": "stream",
     "text": [
      "done.\n",
      "data/part_B/test_data\\images\\IMG_257.jpg\n",
      "(768, 1024)\n",
      "generating density...\n"
     ]
    },
    {
     "name": "stderr",
     "output_type": "stream",
     "text": [
      "\r",
      " 88%|████████▊ | 1058/1198 [3:11:12<20:09,  8.64s/it]"
     ]
    },
    {
     "name": "stdout",
     "output_type": "stream",
     "text": [
      "done.\n",
      "data/part_B/test_data\\images\\IMG_258.jpg\n",
      "(768, 1024)\n",
      "generating density...\n"
     ]
    },
    {
     "name": "stderr",
     "output_type": "stream",
     "text": [
      "\r",
      " 88%|████████▊ | 1059/1198 [3:11:18<18:01,  7.78s/it]"
     ]
    },
    {
     "name": "stdout",
     "output_type": "stream",
     "text": [
      "done.\n",
      "data/part_B/test_data\\images\\IMG_259.jpg\n",
      "(768, 1024)\n",
      "generating density...\n"
     ]
    },
    {
     "name": "stderr",
     "output_type": "stream",
     "text": [
      "\r",
      " 88%|████████▊ | 1060/1198 [3:11:26<18:10,  7.90s/it]"
     ]
    },
    {
     "name": "stdout",
     "output_type": "stream",
     "text": [
      "done.\n",
      "data/part_B/test_data\\images\\IMG_26.jpg\n",
      "(768, 1024)\n",
      "generating density...\n"
     ]
    },
    {
     "name": "stderr",
     "output_type": "stream",
     "text": [
      "\r",
      " 89%|████████▊ | 1061/1198 [3:11:31<16:06,  7.06s/it]"
     ]
    },
    {
     "name": "stdout",
     "output_type": "stream",
     "text": [
      "done.\n",
      "data/part_B/test_data\\images\\IMG_260.jpg\n",
      "(768, 1024)\n",
      "generating density...\n"
     ]
    },
    {
     "name": "stderr",
     "output_type": "stream",
     "text": [
      "\r",
      " 89%|████████▊ | 1062/1198 [3:11:40<16:54,  7.46s/it]"
     ]
    },
    {
     "name": "stdout",
     "output_type": "stream",
     "text": [
      "done.\n",
      "data/part_B/test_data\\images\\IMG_261.jpg\n",
      "(768, 1024)\n",
      "generating density...\n"
     ]
    },
    {
     "name": "stderr",
     "output_type": "stream",
     "text": [
      "\r",
      " 89%|████████▊ | 1063/1198 [3:11:49<18:06,  8.05s/it]"
     ]
    },
    {
     "name": "stdout",
     "output_type": "stream",
     "text": [
      "done.\n",
      "data/part_B/test_data\\images\\IMG_262.jpg\n",
      "(768, 1024)\n",
      "generating density...\n"
     ]
    },
    {
     "name": "stderr",
     "output_type": "stream",
     "text": [
      "\r",
      " 89%|████████▉ | 1064/1198 [3:12:00<19:33,  8.76s/it]"
     ]
    },
    {
     "name": "stdout",
     "output_type": "stream",
     "text": [
      "done.\n",
      "data/part_B/test_data\\images\\IMG_263.jpg\n",
      "(768, 1024)\n",
      "generating density...\n"
     ]
    },
    {
     "name": "stderr",
     "output_type": "stream",
     "text": [
      "\r",
      " 89%|████████▉ | 1065/1198 [3:12:08<18:50,  8.50s/it]"
     ]
    },
    {
     "name": "stdout",
     "output_type": "stream",
     "text": [
      "done.\n",
      "data/part_B/test_data\\images\\IMG_264.jpg\n",
      "(768, 1024)\n",
      "generating density...\n"
     ]
    },
    {
     "name": "stderr",
     "output_type": "stream",
     "text": [
      "\r",
      " 89%|████████▉ | 1066/1198 [3:12:15<17:45,  8.07s/it]"
     ]
    },
    {
     "name": "stdout",
     "output_type": "stream",
     "text": [
      "done.\n",
      "data/part_B/test_data\\images\\IMG_265.jpg\n",
      "(768, 1024)\n",
      "generating density...\n"
     ]
    },
    {
     "name": "stderr",
     "output_type": "stream",
     "text": [
      "\r",
      " 89%|████████▉ | 1067/1198 [3:12:21<16:27,  7.54s/it]"
     ]
    },
    {
     "name": "stdout",
     "output_type": "stream",
     "text": [
      "done.\n",
      "data/part_B/test_data\\images\\IMG_266.jpg\n",
      "(768, 1024)\n",
      "generating density...\n"
     ]
    },
    {
     "name": "stderr",
     "output_type": "stream",
     "text": [
      "\r",
      " 89%|████████▉ | 1068/1198 [3:12:28<15:51,  7.32s/it]"
     ]
    },
    {
     "name": "stdout",
     "output_type": "stream",
     "text": [
      "done.\n",
      "data/part_B/test_data\\images\\IMG_267.jpg\n",
      "(768, 1024)\n",
      "generating density...\n"
     ]
    },
    {
     "name": "stderr",
     "output_type": "stream",
     "text": [
      "\r",
      " 89%|████████▉ | 1069/1198 [3:12:36<16:29,  7.67s/it]"
     ]
    },
    {
     "name": "stdout",
     "output_type": "stream",
     "text": [
      "done.\n",
      "data/part_B/test_data\\images\\IMG_268.jpg\n",
      "(768, 1024)\n",
      "generating density...\n"
     ]
    },
    {
     "name": "stderr",
     "output_type": "stream",
     "text": [
      "\r",
      " 89%|████████▉ | 1070/1198 [3:12:45<17:09,  8.04s/it]"
     ]
    },
    {
     "name": "stdout",
     "output_type": "stream",
     "text": [
      "done.\n",
      "data/part_B/test_data\\images\\IMG_269.jpg\n",
      "(768, 1024)\n",
      "generating density...\n"
     ]
    },
    {
     "name": "stderr",
     "output_type": "stream",
     "text": [
      "\r",
      " 89%|████████▉ | 1071/1198 [3:13:00<21:18, 10.07s/it]"
     ]
    },
    {
     "name": "stdout",
     "output_type": "stream",
     "text": [
      "done.\n",
      "data/part_B/test_data\\images\\IMG_27.jpg\n",
      "(768, 1024)\n",
      "generating density...\n"
     ]
    },
    {
     "name": "stderr",
     "output_type": "stream",
     "text": [
      "\r",
      " 89%|████████▉ | 1072/1198 [3:13:14<23:57, 11.41s/it]"
     ]
    },
    {
     "name": "stdout",
     "output_type": "stream",
     "text": [
      "done.\n",
      "data/part_B/test_data\\images\\IMG_270.jpg\n",
      "(768, 1024)\n",
      "generating density...\n"
     ]
    },
    {
     "name": "stderr",
     "output_type": "stream",
     "text": [
      "\r",
      " 90%|████████▉ | 1073/1198 [3:13:25<23:26, 11.25s/it]"
     ]
    },
    {
     "name": "stdout",
     "output_type": "stream",
     "text": [
      "done.\n",
      "data/part_B/test_data\\images\\IMG_271.jpg\n",
      "(768, 1024)\n",
      "generating density...\n"
     ]
    },
    {
     "name": "stderr",
     "output_type": "stream",
     "text": [
      "\r",
      " 90%|████████▉ | 1074/1198 [3:13:30<19:10,  9.28s/it]"
     ]
    },
    {
     "name": "stdout",
     "output_type": "stream",
     "text": [
      "done.\n",
      "data/part_B/test_data\\images\\IMG_272.jpg\n",
      "(768, 1024)\n",
      "generating density...\n"
     ]
    },
    {
     "name": "stderr",
     "output_type": "stream",
     "text": [
      "\r",
      " 90%|████████▉ | 1075/1198 [3:13:44<21:55, 10.70s/it]"
     ]
    },
    {
     "name": "stdout",
     "output_type": "stream",
     "text": [
      "done.\n",
      "data/part_B/test_data\\images\\IMG_273.jpg\n",
      "(768, 1024)\n",
      "generating density...\n"
     ]
    },
    {
     "name": "stderr",
     "output_type": "stream",
     "text": [
      "\r",
      " 90%|████████▉ | 1076/1198 [3:13:51<19:36,  9.64s/it]"
     ]
    },
    {
     "name": "stdout",
     "output_type": "stream",
     "text": [
      "done.\n",
      "data/part_B/test_data\\images\\IMG_274.jpg\n",
      "(768, 1024)\n",
      "generating density...\n"
     ]
    },
    {
     "name": "stderr",
     "output_type": "stream",
     "text": [
      "\r",
      " 90%|████████▉ | 1077/1198 [3:14:02<20:16, 10.05s/it]"
     ]
    },
    {
     "name": "stdout",
     "output_type": "stream",
     "text": [
      "done.\n",
      "data/part_B/test_data\\images\\IMG_275.jpg\n",
      "(768, 1024)\n",
      "generating density...\n"
     ]
    },
    {
     "name": "stderr",
     "output_type": "stream",
     "text": [
      "\r",
      " 90%|████████▉ | 1078/1198 [3:14:12<19:48,  9.90s/it]"
     ]
    },
    {
     "name": "stdout",
     "output_type": "stream",
     "text": [
      "done.\n",
      "data/part_B/test_data\\images\\IMG_276.jpg\n",
      "(768, 1024)\n",
      "generating density...\n"
     ]
    },
    {
     "name": "stderr",
     "output_type": "stream",
     "text": [
      "\r",
      " 90%|█████████ | 1079/1198 [3:14:17<16:44,  8.44s/it]"
     ]
    },
    {
     "name": "stdout",
     "output_type": "stream",
     "text": [
      "done.\n",
      "data/part_B/test_data\\images\\IMG_277.jpg\n",
      "(768, 1024)\n",
      "generating density...\n"
     ]
    },
    {
     "name": "stderr",
     "output_type": "stream",
     "text": [
      "\r",
      " 90%|█████████ | 1080/1198 [3:14:25<16:35,  8.44s/it]"
     ]
    },
    {
     "name": "stdout",
     "output_type": "stream",
     "text": [
      "done.\n",
      "data/part_B/test_data\\images\\IMG_278.jpg\n",
      "(768, 1024)\n",
      "generating density...\n"
     ]
    },
    {
     "name": "stderr",
     "output_type": "stream",
     "text": [
      "\r",
      " 90%|█████████ | 1081/1198 [3:14:32<15:17,  7.84s/it]"
     ]
    },
    {
     "name": "stdout",
     "output_type": "stream",
     "text": [
      "done.\n",
      "data/part_B/test_data\\images\\IMG_279.jpg\n",
      "(768, 1024)\n",
      "generating density...\n"
     ]
    },
    {
     "name": "stderr",
     "output_type": "stream",
     "text": [
      "\r",
      " 90%|█████████ | 1082/1198 [3:14:38<14:25,  7.46s/it]"
     ]
    },
    {
     "name": "stdout",
     "output_type": "stream",
     "text": [
      "done.\n",
      "data/part_B/test_data\\images\\IMG_28.jpg\n",
      "(768, 1024)\n",
      "generating density...\n"
     ]
    },
    {
     "name": "stderr",
     "output_type": "stream",
     "text": [
      "\r",
      " 90%|█████████ | 1083/1198 [3:14:45<13:40,  7.14s/it]"
     ]
    },
    {
     "name": "stdout",
     "output_type": "stream",
     "text": [
      "done.\n",
      "data/part_B/test_data\\images\\IMG_280.jpg\n",
      "(768, 1024)\n",
      "generating density...\n"
     ]
    },
    {
     "name": "stderr",
     "output_type": "stream",
     "text": [
      "\r",
      " 90%|█████████ | 1084/1198 [3:14:53<14:27,  7.61s/it]"
     ]
    },
    {
     "name": "stdout",
     "output_type": "stream",
     "text": [
      "done.\n",
      "data/part_B/test_data\\images\\IMG_281.jpg\n",
      "(768, 1024)\n",
      "generating density...\n"
     ]
    },
    {
     "name": "stderr",
     "output_type": "stream",
     "text": [
      "\r",
      " 91%|█████████ | 1085/1198 [3:15:01<14:10,  7.53s/it]"
     ]
    },
    {
     "name": "stdout",
     "output_type": "stream",
     "text": [
      "done.\n",
      "data/part_B/test_data\\images\\IMG_282.jpg\n",
      "(768, 1024)\n",
      "generating density...\n"
     ]
    },
    {
     "name": "stderr",
     "output_type": "stream",
     "text": [
      "\r",
      " 91%|█████████ | 1086/1198 [3:15:05<12:19,  6.60s/it]"
     ]
    },
    {
     "name": "stdout",
     "output_type": "stream",
     "text": [
      "done.\n",
      "data/part_B/test_data\\images\\IMG_283.jpg\n",
      "(768, 1024)\n",
      "generating density...\n"
     ]
    },
    {
     "name": "stderr",
     "output_type": "stream",
     "text": [
      "\r",
      " 91%|█████████ | 1087/1198 [3:15:18<15:34,  8.42s/it]"
     ]
    },
    {
     "name": "stdout",
     "output_type": "stream",
     "text": [
      "done.\n",
      "data/part_B/test_data\\images\\IMG_284.jpg\n",
      "(768, 1024)\n",
      "generating density...\n"
     ]
    },
    {
     "name": "stderr",
     "output_type": "stream",
     "text": [
      "\r",
      " 91%|█████████ | 1088/1198 [3:15:24<14:20,  7.83s/it]"
     ]
    },
    {
     "name": "stdout",
     "output_type": "stream",
     "text": [
      "done.\n",
      "data/part_B/test_data\\images\\IMG_285.jpg\n",
      "(768, 1024)\n",
      "generating density...\n"
     ]
    },
    {
     "name": "stderr",
     "output_type": "stream",
     "text": [
      "\r",
      " 91%|█████████ | 1089/1198 [3:15:31<13:41,  7.53s/it]"
     ]
    },
    {
     "name": "stdout",
     "output_type": "stream",
     "text": [
      "done.\n",
      "data/part_B/test_data\\images\\IMG_286.jpg\n",
      "(768, 1024)\n",
      "generating density...\n"
     ]
    },
    {
     "name": "stderr",
     "output_type": "stream",
     "text": [
      "\r",
      " 91%|█████████ | 1090/1198 [3:15:40<14:10,  7.88s/it]"
     ]
    },
    {
     "name": "stdout",
     "output_type": "stream",
     "text": [
      "done.\n",
      "data/part_B/test_data\\images\\IMG_287.jpg\n",
      "(768, 1024)\n",
      "generating density...\n"
     ]
    },
    {
     "name": "stderr",
     "output_type": "stream",
     "text": [
      "\r",
      " 91%|█████████ | 1091/1198 [3:15:48<14:29,  8.13s/it]"
     ]
    },
    {
     "name": "stdout",
     "output_type": "stream",
     "text": [
      "done.\n",
      "data/part_B/test_data\\images\\IMG_288.jpg\n",
      "(768, 1024)\n",
      "generating density...\n"
     ]
    },
    {
     "name": "stderr",
     "output_type": "stream",
     "text": [
      "\r",
      " 91%|█████████ | 1092/1198 [3:15:54<12:49,  7.26s/it]"
     ]
    },
    {
     "name": "stdout",
     "output_type": "stream",
     "text": [
      "done.\n",
      "data/part_B/test_data\\images\\IMG_289.jpg\n",
      "(768, 1024)\n",
      "generating density...\n"
     ]
    },
    {
     "name": "stderr",
     "output_type": "stream",
     "text": [
      "\r",
      " 91%|█████████ | 1093/1198 [3:16:00<12:26,  7.11s/it]"
     ]
    },
    {
     "name": "stdout",
     "output_type": "stream",
     "text": [
      "done.\n",
      "data/part_B/test_data\\images\\IMG_29.jpg\n",
      "(768, 1024)\n",
      "generating density...\n"
     ]
    },
    {
     "name": "stderr",
     "output_type": "stream",
     "text": [
      "\r",
      " 91%|█████████▏| 1094/1198 [3:16:10<13:25,  7.74s/it]"
     ]
    },
    {
     "name": "stdout",
     "output_type": "stream",
     "text": [
      "done.\n",
      "data/part_B/test_data\\images\\IMG_290.jpg\n",
      "(768, 1024)\n",
      "generating density...\n"
     ]
    },
    {
     "name": "stderr",
     "output_type": "stream",
     "text": [
      "\r",
      " 91%|█████████▏| 1095/1198 [3:16:19<13:53,  8.10s/it]"
     ]
    },
    {
     "name": "stdout",
     "output_type": "stream",
     "text": [
      "done.\n",
      "data/part_B/test_data\\images\\IMG_291.jpg\n",
      "(768, 1024)\n",
      "generating density...\n"
     ]
    },
    {
     "name": "stderr",
     "output_type": "stream",
     "text": [
      "\r",
      " 91%|█████████▏| 1096/1198 [3:16:30<15:29,  9.11s/it]"
     ]
    },
    {
     "name": "stdout",
     "output_type": "stream",
     "text": [
      "done.\n",
      "data/part_B/test_data\\images\\IMG_292.jpg\n",
      "(768, 1024)\n",
      "generating density...\n"
     ]
    },
    {
     "name": "stderr",
     "output_type": "stream",
     "text": [
      "\r",
      " 92%|█████████▏| 1097/1198 [3:16:40<15:32,  9.24s/it]"
     ]
    },
    {
     "name": "stdout",
     "output_type": "stream",
     "text": [
      "done.\n",
      "data/part_B/test_data\\images\\IMG_293.jpg\n",
      "(768, 1024)\n",
      "generating density...\n"
     ]
    },
    {
     "name": "stderr",
     "output_type": "stream",
     "text": [
      "\r",
      " 92%|█████████▏| 1098/1198 [3:16:55<18:40, 11.20s/it]"
     ]
    },
    {
     "name": "stdout",
     "output_type": "stream",
     "text": [
      "done.\n",
      "data/part_B/test_data\\images\\IMG_294.jpg\n",
      "(768, 1024)\n",
      "generating density...\n"
     ]
    },
    {
     "name": "stderr",
     "output_type": "stream",
     "text": [
      "\r",
      " 92%|█████████▏| 1099/1198 [3:17:03<16:42, 10.13s/it]"
     ]
    },
    {
     "name": "stdout",
     "output_type": "stream",
     "text": [
      "done.\n",
      "data/part_B/test_data\\images\\IMG_295.jpg\n",
      "(768, 1024)\n",
      "generating density...\n"
     ]
    },
    {
     "name": "stderr",
     "output_type": "stream",
     "text": [
      "\r",
      " 92%|█████████▏| 1100/1198 [3:17:15<17:16, 10.57s/it]"
     ]
    },
    {
     "name": "stdout",
     "output_type": "stream",
     "text": [
      "done.\n",
      "data/part_B/test_data\\images\\IMG_296.jpg\n",
      "(768, 1024)\n",
      "generating density...\n"
     ]
    },
    {
     "name": "stderr",
     "output_type": "stream",
     "text": [
      "\r",
      " 92%|█████████▏| 1101/1198 [3:17:21<14:54,  9.22s/it]"
     ]
    },
    {
     "name": "stdout",
     "output_type": "stream",
     "text": [
      "done.\n",
      "data/part_B/test_data\\images\\IMG_297.jpg\n",
      "(768, 1024)\n",
      "generating density...\n"
     ]
    },
    {
     "name": "stderr",
     "output_type": "stream",
     "text": [
      "\r",
      " 92%|█████████▏| 1102/1198 [3:17:26<13:03,  8.16s/it]"
     ]
    },
    {
     "name": "stdout",
     "output_type": "stream",
     "text": [
      "done.\n",
      "data/part_B/test_data\\images\\IMG_298.jpg\n",
      "(768, 1024)\n",
      "generating density...\n"
     ]
    },
    {
     "name": "stderr",
     "output_type": "stream",
     "text": [
      "\r",
      " 92%|█████████▏| 1103/1198 [3:17:39<14:47,  9.34s/it]"
     ]
    },
    {
     "name": "stdout",
     "output_type": "stream",
     "text": [
      "done.\n",
      "data/part_B/test_data\\images\\IMG_299.jpg\n",
      "(768, 1024)\n",
      "generating density...\n"
     ]
    },
    {
     "name": "stderr",
     "output_type": "stream",
     "text": [
      "\r",
      " 92%|█████████▏| 1104/1198 [3:17:47<14:05,  8.99s/it]"
     ]
    },
    {
     "name": "stdout",
     "output_type": "stream",
     "text": [
      "done.\n",
      "data/part_B/test_data\\images\\IMG_3.jpg\n",
      "(768, 1024)\n",
      "generating density...\n"
     ]
    },
    {
     "name": "stderr",
     "output_type": "stream",
     "text": [
      "\r",
      " 92%|█████████▏| 1105/1198 [3:17:54<13:20,  8.61s/it]"
     ]
    },
    {
     "name": "stdout",
     "output_type": "stream",
     "text": [
      "done.\n",
      "data/part_B/test_data\\images\\IMG_30.jpg\n",
      "(768, 1024)\n",
      "generating density...\n"
     ]
    },
    {
     "name": "stderr",
     "output_type": "stream",
     "text": [
      "\r",
      " 92%|█████████▏| 1106/1198 [3:18:02<12:36,  8.22s/it]"
     ]
    },
    {
     "name": "stdout",
     "output_type": "stream",
     "text": [
      "done.\n",
      "data/part_B/test_data\\images\\IMG_300.jpg\n",
      "(768, 1024)\n",
      "generating density...\n"
     ]
    },
    {
     "name": "stderr",
     "output_type": "stream",
     "text": [
      "\r",
      " 92%|█████████▏| 1107/1198 [3:18:12<13:14,  8.73s/it]"
     ]
    },
    {
     "name": "stdout",
     "output_type": "stream",
     "text": [
      "done.\n",
      "data/part_B/test_data\\images\\IMG_301.jpg\n",
      "(768, 1024)\n",
      "generating density...\n"
     ]
    },
    {
     "name": "stderr",
     "output_type": "stream",
     "text": [
      "\r",
      " 92%|█████████▏| 1108/1198 [3:18:18<12:14,  8.16s/it]"
     ]
    },
    {
     "name": "stdout",
     "output_type": "stream",
     "text": [
      "done.\n",
      "data/part_B/test_data\\images\\IMG_302.jpg\n",
      "(768, 1024)\n",
      "generating density...\n"
     ]
    },
    {
     "name": "stderr",
     "output_type": "stream",
     "text": [
      "\r",
      " 93%|█████████▎| 1109/1198 [3:18:27<12:12,  8.22s/it]"
     ]
    },
    {
     "name": "stdout",
     "output_type": "stream",
     "text": [
      "done.\n",
      "data/part_B/test_data\\images\\IMG_303.jpg\n",
      "(768, 1024)\n",
      "generating density...\n"
     ]
    },
    {
     "name": "stderr",
     "output_type": "stream",
     "text": [
      "\r",
      " 93%|█████████▎| 1110/1198 [3:18:37<13:06,  8.94s/it]"
     ]
    },
    {
     "name": "stdout",
     "output_type": "stream",
     "text": [
      "done.\n",
      "data/part_B/test_data\\images\\IMG_304.jpg\n",
      "(768, 1024)\n",
      "generating density...\n"
     ]
    },
    {
     "name": "stderr",
     "output_type": "stream",
     "text": [
      "\r",
      " 93%|█████████▎| 1111/1198 [3:18:49<14:13,  9.81s/it]"
     ]
    },
    {
     "name": "stdout",
     "output_type": "stream",
     "text": [
      "done.\n",
      "data/part_B/test_data\\images\\IMG_305.jpg\n",
      "(768, 1024)\n",
      "generating density...\n"
     ]
    },
    {
     "name": "stderr",
     "output_type": "stream",
     "text": [
      "\r",
      " 93%|█████████▎| 1112/1198 [3:18:58<13:45,  9.60s/it]"
     ]
    },
    {
     "name": "stdout",
     "output_type": "stream",
     "text": [
      "done.\n",
      "data/part_B/test_data\\images\\IMG_306.jpg\n",
      "(768, 1024)\n",
      "generating density...\n"
     ]
    },
    {
     "name": "stderr",
     "output_type": "stream",
     "text": [
      "\r",
      " 93%|█████████▎| 1113/1198 [3:19:13<15:41, 11.08s/it]"
     ]
    },
    {
     "name": "stdout",
     "output_type": "stream",
     "text": [
      "done.\n",
      "data/part_B/test_data\\images\\IMG_307.jpg\n",
      "(768, 1024)\n",
      "generating density...\n"
     ]
    },
    {
     "name": "stderr",
     "output_type": "stream",
     "text": [
      "\r",
      " 93%|█████████▎| 1114/1198 [3:19:21<14:18, 10.22s/it]"
     ]
    },
    {
     "name": "stdout",
     "output_type": "stream",
     "text": [
      "done.\n",
      "data/part_B/test_data\\images\\IMG_308.jpg\n",
      "(768, 1024)\n",
      "generating density...\n"
     ]
    },
    {
     "name": "stderr",
     "output_type": "stream",
     "text": [
      "\r",
      " 93%|█████████▎| 1115/1198 [3:19:29<13:18,  9.62s/it]"
     ]
    },
    {
     "name": "stdout",
     "output_type": "stream",
     "text": [
      "done.\n",
      "data/part_B/test_data\\images\\IMG_309.jpg\n",
      "(768, 1024)\n",
      "generating density...\n"
     ]
    },
    {
     "name": "stderr",
     "output_type": "stream",
     "text": [
      "\r",
      " 93%|█████████▎| 1116/1198 [3:19:34<11:17,  8.26s/it]"
     ]
    },
    {
     "name": "stdout",
     "output_type": "stream",
     "text": [
      "done.\n",
      "data/part_B/test_data\\images\\IMG_31.jpg\n",
      "(768, 1024)\n",
      "generating density...\n"
     ]
    },
    {
     "name": "stderr",
     "output_type": "stream",
     "text": [
      "\r",
      " 93%|█████████▎| 1117/1198 [3:19:46<12:37,  9.35s/it]"
     ]
    },
    {
     "name": "stdout",
     "output_type": "stream",
     "text": [
      "done.\n",
      "data/part_B/test_data\\images\\IMG_310.jpg\n",
      "(768, 1024)\n",
      "generating density...\n"
     ]
    },
    {
     "name": "stderr",
     "output_type": "stream",
     "text": [
      "\r",
      " 93%|█████████▎| 1118/1198 [3:19:56<12:24,  9.30s/it]"
     ]
    },
    {
     "name": "stdout",
     "output_type": "stream",
     "text": [
      "done.\n",
      "data/part_B/test_data\\images\\IMG_311.jpg\n",
      "(768, 1024)\n",
      "generating density...\n"
     ]
    },
    {
     "name": "stderr",
     "output_type": "stream",
     "text": [
      "\r",
      " 93%|█████████▎| 1119/1198 [3:20:03<11:20,  8.62s/it]"
     ]
    },
    {
     "name": "stdout",
     "output_type": "stream",
     "text": [
      "done.\n",
      "data/part_B/test_data\\images\\IMG_312.jpg\n",
      "(768, 1024)\n",
      "generating density...\n"
     ]
    },
    {
     "name": "stderr",
     "output_type": "stream",
     "text": [
      "\r",
      " 93%|█████████▎| 1120/1198 [3:20:10<10:47,  8.30s/it]"
     ]
    },
    {
     "name": "stdout",
     "output_type": "stream",
     "text": [
      "done.\n",
      "data/part_B/test_data\\images\\IMG_313.jpg\n",
      "(768, 1024)\n",
      "generating density...\n"
     ]
    },
    {
     "name": "stderr",
     "output_type": "stream",
     "text": [
      "\r",
      " 94%|█████████▎| 1121/1198 [3:20:14<09:08,  7.12s/it]"
     ]
    },
    {
     "name": "stdout",
     "output_type": "stream",
     "text": [
      "done.\n",
      "data/part_B/test_data\\images\\IMG_314.jpg\n",
      "(768, 1024)\n",
      "generating density...\n"
     ]
    },
    {
     "name": "stderr",
     "output_type": "stream",
     "text": [
      "\r",
      " 94%|█████████▎| 1122/1198 [3:20:23<09:30,  7.50s/it]"
     ]
    },
    {
     "name": "stdout",
     "output_type": "stream",
     "text": [
      "done.\n",
      "data/part_B/test_data\\images\\IMG_315.jpg\n",
      "(768, 1024)\n",
      "generating density...\n"
     ]
    },
    {
     "name": "stderr",
     "output_type": "stream",
     "text": [
      "\r",
      " 94%|█████████▎| 1123/1198 [3:20:29<08:57,  7.17s/it]"
     ]
    },
    {
     "name": "stdout",
     "output_type": "stream",
     "text": [
      "done.\n",
      "data/part_B/test_data\\images\\IMG_316.jpg\n",
      "(768, 1024)\n",
      "generating density...\n"
     ]
    },
    {
     "name": "stderr",
     "output_type": "stream",
     "text": [
      "\r",
      " 94%|█████████▍| 1124/1198 [3:20:50<13:59, 11.34s/it]"
     ]
    },
    {
     "name": "stdout",
     "output_type": "stream",
     "text": [
      "done.\n",
      "data/part_B/test_data\\images\\IMG_32.jpg\n",
      "(768, 1024)\n",
      "generating density...\n"
     ]
    },
    {
     "name": "stderr",
     "output_type": "stream",
     "text": [
      "\r",
      " 94%|█████████▍| 1125/1198 [3:20:58<12:25, 10.21s/it]"
     ]
    },
    {
     "name": "stdout",
     "output_type": "stream",
     "text": [
      "done.\n",
      "data/part_B/test_data\\images\\IMG_33.jpg\n",
      "(768, 1024)\n",
      "generating density...\n"
     ]
    },
    {
     "name": "stderr",
     "output_type": "stream",
     "text": [
      "\r",
      " 94%|█████████▍| 1126/1198 [3:21:09<12:32, 10.46s/it]"
     ]
    },
    {
     "name": "stdout",
     "output_type": "stream",
     "text": [
      "done.\n",
      "data/part_B/test_data\\images\\IMG_34.jpg\n",
      "(768, 1024)\n",
      "generating density...\n"
     ]
    },
    {
     "name": "stderr",
     "output_type": "stream",
     "text": [
      "\r",
      " 94%|█████████▍| 1127/1198 [3:21:17<11:21,  9.60s/it]"
     ]
    },
    {
     "name": "stdout",
     "output_type": "stream",
     "text": [
      "done.\n",
      "data/part_B/test_data\\images\\IMG_35.jpg\n",
      "(768, 1024)\n",
      "generating density...\n"
     ]
    },
    {
     "name": "stderr",
     "output_type": "stream",
     "text": [
      "\r",
      " 94%|█████████▍| 1128/1198 [3:21:30<12:33, 10.77s/it]"
     ]
    },
    {
     "name": "stdout",
     "output_type": "stream",
     "text": [
      "done.\n",
      "data/part_B/test_data\\images\\IMG_36.jpg\n",
      "(768, 1024)\n",
      "generating density...\n"
     ]
    },
    {
     "name": "stderr",
     "output_type": "stream",
     "text": [
      "\r",
      " 94%|█████████▍| 1129/1198 [3:21:38<11:32, 10.04s/it]"
     ]
    },
    {
     "name": "stdout",
     "output_type": "stream",
     "text": [
      "done.\n",
      "data/part_B/test_data\\images\\IMG_37.jpg\n",
      "(768, 1024)\n",
      "generating density...\n"
     ]
    },
    {
     "name": "stderr",
     "output_type": "stream",
     "text": [
      "\r",
      " 94%|█████████▍| 1130/1198 [3:21:44<09:59,  8.81s/it]"
     ]
    },
    {
     "name": "stdout",
     "output_type": "stream",
     "text": [
      "done.\n",
      "data/part_B/test_data\\images\\IMG_38.jpg\n",
      "(768, 1024)\n",
      "generating density...\n"
     ]
    },
    {
     "name": "stderr",
     "output_type": "stream",
     "text": [
      "\r",
      " 94%|█████████▍| 1131/1198 [3:21:53<09:57,  8.92s/it]"
     ]
    },
    {
     "name": "stdout",
     "output_type": "stream",
     "text": [
      "done.\n",
      "data/part_B/test_data\\images\\IMG_39.jpg\n",
      "(768, 1024)\n",
      "generating density...\n"
     ]
    },
    {
     "name": "stderr",
     "output_type": "stream",
     "text": [
      "\r",
      " 94%|█████████▍| 1132/1198 [3:22:01<09:25,  8.56s/it]"
     ]
    },
    {
     "name": "stdout",
     "output_type": "stream",
     "text": [
      "done.\n",
      "data/part_B/test_data\\images\\IMG_4.jpg\n",
      "(768, 1024)\n",
      "generating density...\n"
     ]
    },
    {
     "name": "stderr",
     "output_type": "stream",
     "text": [
      "\r",
      " 95%|█████████▍| 1133/1198 [3:22:11<09:43,  8.98s/it]"
     ]
    },
    {
     "name": "stdout",
     "output_type": "stream",
     "text": [
      "done.\n",
      "data/part_B/test_data\\images\\IMG_40.jpg\n",
      "(768, 1024)\n",
      "generating density...\n"
     ]
    },
    {
     "name": "stderr",
     "output_type": "stream",
     "text": [
      "\r",
      " 95%|█████████▍| 1134/1198 [3:22:21<09:53,  9.28s/it]"
     ]
    },
    {
     "name": "stdout",
     "output_type": "stream",
     "text": [
      "done.\n",
      "data/part_B/test_data\\images\\IMG_41.jpg\n",
      "(768, 1024)\n",
      "generating density...\n"
     ]
    },
    {
     "name": "stderr",
     "output_type": "stream",
     "text": [
      "\r",
      " 95%|█████████▍| 1135/1198 [3:22:27<08:34,  8.17s/it]"
     ]
    },
    {
     "name": "stdout",
     "output_type": "stream",
     "text": [
      "done.\n",
      "data/part_B/test_data\\images\\IMG_42.jpg\n",
      "(768, 1024)\n",
      "generating density...\n"
     ]
    },
    {
     "name": "stderr",
     "output_type": "stream",
     "text": [
      "\r",
      " 95%|█████████▍| 1136/1198 [3:22:34<08:16,  8.01s/it]"
     ]
    },
    {
     "name": "stdout",
     "output_type": "stream",
     "text": [
      "done.\n",
      "data/part_B/test_data\\images\\IMG_43.jpg\n",
      "(768, 1024)\n",
      "generating density...\n"
     ]
    },
    {
     "name": "stderr",
     "output_type": "stream",
     "text": [
      "\r",
      " 95%|█████████▍| 1137/1198 [3:22:45<08:54,  8.76s/it]"
     ]
    },
    {
     "name": "stdout",
     "output_type": "stream",
     "text": [
      "done.\n",
      "data/part_B/test_data\\images\\IMG_44.jpg\n",
      "(768, 1024)\n",
      "generating density...\n"
     ]
    },
    {
     "name": "stderr",
     "output_type": "stream",
     "text": [
      "\r",
      " 95%|█████████▍| 1138/1198 [3:22:51<07:58,  7.98s/it]"
     ]
    },
    {
     "name": "stdout",
     "output_type": "stream",
     "text": [
      "done.\n",
      "data/part_B/test_data\\images\\IMG_45.jpg\n",
      "(768, 1024)\n",
      "generating density...\n"
     ]
    },
    {
     "name": "stderr",
     "output_type": "stream",
     "text": [
      "\r",
      " 95%|█████████▌| 1139/1198 [3:23:02<08:47,  8.94s/it]"
     ]
    },
    {
     "name": "stdout",
     "output_type": "stream",
     "text": [
      "done.\n",
      "data/part_B/test_data\\images\\IMG_46.jpg\n",
      "(768, 1024)\n",
      "generating density...\n"
     ]
    },
    {
     "name": "stderr",
     "output_type": "stream",
     "text": [
      "\r",
      " 95%|█████████▌| 1140/1198 [3:23:12<08:47,  9.10s/it]"
     ]
    },
    {
     "name": "stdout",
     "output_type": "stream",
     "text": [
      "done.\n",
      "data/part_B/test_data\\images\\IMG_47.jpg\n",
      "(768, 1024)\n",
      "generating density...\n"
     ]
    },
    {
     "name": "stderr",
     "output_type": "stream",
     "text": [
      "\r",
      " 95%|█████████▌| 1141/1198 [3:23:20<08:19,  8.76s/it]"
     ]
    },
    {
     "name": "stdout",
     "output_type": "stream",
     "text": [
      "done.\n",
      "data/part_B/test_data\\images\\IMG_48.jpg\n",
      "(768, 1024)\n",
      "generating density...\n"
     ]
    },
    {
     "name": "stderr",
     "output_type": "stream",
     "text": [
      "\r",
      " 95%|█████████▌| 1142/1198 [3:23:27<07:52,  8.43s/it]"
     ]
    },
    {
     "name": "stdout",
     "output_type": "stream",
     "text": [
      "done.\n",
      "data/part_B/test_data\\images\\IMG_49.jpg\n",
      "(768, 1024)\n",
      "generating density...\n"
     ]
    },
    {
     "name": "stderr",
     "output_type": "stream",
     "text": [
      "\r",
      " 95%|█████████▌| 1143/1198 [3:23:34<07:17,  7.96s/it]"
     ]
    },
    {
     "name": "stdout",
     "output_type": "stream",
     "text": [
      "done.\n",
      "data/part_B/test_data\\images\\IMG_5.jpg\n",
      "(768, 1024)\n",
      "generating density...\n"
     ]
    },
    {
     "name": "stderr",
     "output_type": "stream",
     "text": [
      "\r",
      " 95%|█████████▌| 1144/1198 [3:23:43<07:18,  8.12s/it]"
     ]
    },
    {
     "name": "stdout",
     "output_type": "stream",
     "text": [
      "done.\n",
      "data/part_B/test_data\\images\\IMG_50.jpg\n",
      "(768, 1024)\n",
      "generating density...\n"
     ]
    },
    {
     "name": "stderr",
     "output_type": "stream",
     "text": [
      "\r",
      " 96%|█████████▌| 1145/1198 [3:23:56<08:33,  9.68s/it]"
     ]
    },
    {
     "name": "stdout",
     "output_type": "stream",
     "text": [
      "done.\n",
      "data/part_B/test_data\\images\\IMG_51.jpg\n",
      "(768, 1024)\n",
      "generating density...\n"
     ]
    },
    {
     "name": "stderr",
     "output_type": "stream",
     "text": [
      "\r",
      " 96%|█████████▌| 1146/1198 [3:24:10<09:25, 10.87s/it]"
     ]
    },
    {
     "name": "stdout",
     "output_type": "stream",
     "text": [
      "done.\n",
      "data/part_B/test_data\\images\\IMG_52.jpg\n",
      "(768, 1024)\n",
      "generating density...\n"
     ]
    },
    {
     "name": "stderr",
     "output_type": "stream",
     "text": [
      "\r",
      " 96%|█████████▌| 1147/1198 [3:24:13<07:25,  8.74s/it]"
     ]
    },
    {
     "name": "stdout",
     "output_type": "stream",
     "text": [
      "done.\n",
      "data/part_B/test_data\\images\\IMG_53.jpg\n",
      "(768, 1024)\n",
      "generating density...\n"
     ]
    },
    {
     "name": "stderr",
     "output_type": "stream",
     "text": [
      "\r",
      " 96%|█████████▌| 1148/1198 [3:24:19<06:33,  7.87s/it]"
     ]
    },
    {
     "name": "stdout",
     "output_type": "stream",
     "text": [
      "done.\n",
      "data/part_B/test_data\\images\\IMG_54.jpg\n",
      "(768, 1024)\n",
      "generating density...\n"
     ]
    },
    {
     "name": "stderr",
     "output_type": "stream",
     "text": [
      "\r",
      " 96%|█████████▌| 1149/1198 [3:24:26<06:12,  7.60s/it]"
     ]
    },
    {
     "name": "stdout",
     "output_type": "stream",
     "text": [
      "done.\n",
      "data/part_B/test_data\\images\\IMG_55.jpg\n",
      "(768, 1024)\n",
      "generating density...\n"
     ]
    },
    {
     "name": "stderr",
     "output_type": "stream",
     "text": [
      "\r",
      " 96%|█████████▌| 1150/1198 [3:24:36<06:41,  8.36s/it]"
     ]
    },
    {
     "name": "stdout",
     "output_type": "stream",
     "text": [
      "done.\n",
      "data/part_B/test_data\\images\\IMG_56.jpg\n",
      "(768, 1024)\n",
      "generating density...\n"
     ]
    },
    {
     "name": "stderr",
     "output_type": "stream",
     "text": [
      "\r",
      " 96%|█████████▌| 1151/1198 [3:24:43<06:13,  7.95s/it]"
     ]
    },
    {
     "name": "stdout",
     "output_type": "stream",
     "text": [
      "done.\n",
      "data/part_B/test_data\\images\\IMG_57.jpg\n",
      "(768, 1024)\n",
      "generating density...\n"
     ]
    },
    {
     "name": "stderr",
     "output_type": "stream",
     "text": [
      "\r",
      " 96%|█████████▌| 1152/1198 [3:24:52<06:15,  8.15s/it]"
     ]
    },
    {
     "name": "stdout",
     "output_type": "stream",
     "text": [
      "done.\n",
      "data/part_B/test_data\\images\\IMG_58.jpg\n",
      "(768, 1024)\n",
      "generating density...\n"
     ]
    },
    {
     "name": "stderr",
     "output_type": "stream",
     "text": [
      "\r",
      " 96%|█████████▌| 1153/1198 [3:25:00<06:09,  8.22s/it]"
     ]
    },
    {
     "name": "stdout",
     "output_type": "stream",
     "text": [
      "done.\n",
      "data/part_B/test_data\\images\\IMG_59.jpg\n",
      "(768, 1024)\n",
      "generating density...\n"
     ]
    },
    {
     "name": "stderr",
     "output_type": "stream",
     "text": [
      "\r",
      " 96%|█████████▋| 1154/1198 [3:25:07<05:35,  7.62s/it]"
     ]
    },
    {
     "name": "stdout",
     "output_type": "stream",
     "text": [
      "done.\n",
      "data/part_B/test_data\\images\\IMG_6.jpg\n",
      "(768, 1024)\n",
      "generating density...\n"
     ]
    },
    {
     "name": "stderr",
     "output_type": "stream",
     "text": [
      "\r",
      " 96%|█████████▋| 1155/1198 [3:25:20<06:43,  9.38s/it]"
     ]
    },
    {
     "name": "stdout",
     "output_type": "stream",
     "text": [
      "done.\n",
      "data/part_B/test_data\\images\\IMG_60.jpg\n",
      "(768, 1024)\n",
      "generating density...\n"
     ]
    },
    {
     "name": "stderr",
     "output_type": "stream",
     "text": [
      "\r",
      " 96%|█████████▋| 1156/1198 [3:25:28<06:11,  8.84s/it]"
     ]
    },
    {
     "name": "stdout",
     "output_type": "stream",
     "text": [
      "done.\n",
      "data/part_B/test_data\\images\\IMG_61.jpg\n",
      "(768, 1024)\n",
      "generating density...\n"
     ]
    },
    {
     "name": "stderr",
     "output_type": "stream",
     "text": [
      "\r",
      " 97%|█████████▋| 1157/1198 [3:25:45<07:45, 11.35s/it]"
     ]
    },
    {
     "name": "stdout",
     "output_type": "stream",
     "text": [
      "done.\n",
      "data/part_B/test_data\\images\\IMG_62.jpg\n",
      "(768, 1024)\n",
      "generating density...\n"
     ]
    },
    {
     "name": "stderr",
     "output_type": "stream",
     "text": [
      "\r",
      " 97%|█████████▋| 1158/1198 [3:25:57<07:42, 11.56s/it]"
     ]
    },
    {
     "name": "stdout",
     "output_type": "stream",
     "text": [
      "done.\n",
      "data/part_B/test_data\\images\\IMG_63.jpg\n",
      "(768, 1024)\n",
      "generating density...\n"
     ]
    },
    {
     "name": "stderr",
     "output_type": "stream",
     "text": [
      "\r",
      " 97%|█████████▋| 1159/1198 [3:26:05<06:46, 10.41s/it]"
     ]
    },
    {
     "name": "stdout",
     "output_type": "stream",
     "text": [
      "done.\n",
      "data/part_B/test_data\\images\\IMG_64.jpg\n",
      "(768, 1024)\n",
      "generating density...\n"
     ]
    },
    {
     "name": "stderr",
     "output_type": "stream",
     "text": [
      "\r",
      " 97%|█████████▋| 1160/1198 [3:26:11<05:54,  9.33s/it]"
     ]
    },
    {
     "name": "stdout",
     "output_type": "stream",
     "text": [
      "done.\n",
      "data/part_B/test_data\\images\\IMG_65.jpg\n",
      "(768, 1024)\n",
      "generating density...\n"
     ]
    },
    {
     "name": "stderr",
     "output_type": "stream",
     "text": [
      "\r",
      " 97%|█████████▋| 1161/1198 [3:26:25<06:27, 10.49s/it]"
     ]
    },
    {
     "name": "stdout",
     "output_type": "stream",
     "text": [
      "done.\n",
      "data/part_B/test_data\\images\\IMG_66.jpg\n",
      "(768, 1024)\n",
      "generating density...\n"
     ]
    },
    {
     "name": "stderr",
     "output_type": "stream",
     "text": [
      "\r",
      " 97%|█████████▋| 1162/1198 [3:26:34<06:05, 10.15s/it]"
     ]
    },
    {
     "name": "stdout",
     "output_type": "stream",
     "text": [
      "done.\n",
      "data/part_B/test_data\\images\\IMG_67.jpg\n",
      "(768, 1024)\n",
      "generating density...\n"
     ]
    },
    {
     "name": "stderr",
     "output_type": "stream",
     "text": [
      "\r",
      " 97%|█████████▋| 1163/1198 [3:26:40<05:12,  8.91s/it]"
     ]
    },
    {
     "name": "stdout",
     "output_type": "stream",
     "text": [
      "done.\n",
      "data/part_B/test_data\\images\\IMG_68.jpg\n",
      "(768, 1024)\n",
      "generating density...\n"
     ]
    },
    {
     "name": "stderr",
     "output_type": "stream",
     "text": [
      "\r",
      " 97%|█████████▋| 1164/1198 [3:26:48<04:57,  8.75s/it]"
     ]
    },
    {
     "name": "stdout",
     "output_type": "stream",
     "text": [
      "done.\n",
      "data/part_B/test_data\\images\\IMG_69.jpg\n",
      "(768, 1024)\n",
      "generating density...\n"
     ]
    },
    {
     "name": "stderr",
     "output_type": "stream",
     "text": [
      "\r",
      " 97%|█████████▋| 1165/1198 [3:26:58<04:57,  9.01s/it]"
     ]
    },
    {
     "name": "stdout",
     "output_type": "stream",
     "text": [
      "done.\n",
      "data/part_B/test_data\\images\\IMG_7.jpg\n",
      "(768, 1024)\n",
      "generating density...\n"
     ]
    },
    {
     "name": "stderr",
     "output_type": "stream",
     "text": [
      "\r",
      " 97%|█████████▋| 1166/1198 [3:27:07<04:47,  8.99s/it]"
     ]
    },
    {
     "name": "stdout",
     "output_type": "stream",
     "text": [
      "done.\n",
      "data/part_B/test_data\\images\\IMG_70.jpg\n",
      "(768, 1024)\n",
      "generating density...\n"
     ]
    },
    {
     "name": "stderr",
     "output_type": "stream",
     "text": [
      "\r",
      " 97%|█████████▋| 1167/1198 [3:27:13<04:14,  8.22s/it]"
     ]
    },
    {
     "name": "stdout",
     "output_type": "stream",
     "text": [
      "done.\n",
      "data/part_B/test_data\\images\\IMG_71.jpg\n",
      "(768, 1024)\n",
      "generating density...\n"
     ]
    },
    {
     "name": "stderr",
     "output_type": "stream",
     "text": [
      "\r",
      " 97%|█████████▋| 1168/1198 [3:27:26<04:44,  9.47s/it]"
     ]
    },
    {
     "name": "stdout",
     "output_type": "stream",
     "text": [
      "done.\n",
      "data/part_B/test_data\\images\\IMG_72.jpg\n",
      "(768, 1024)\n",
      "generating density...\n"
     ]
    },
    {
     "name": "stderr",
     "output_type": "stream",
     "text": [
      "\r",
      " 98%|█████████▊| 1169/1198 [3:27:32<04:05,  8.47s/it]"
     ]
    },
    {
     "name": "stdout",
     "output_type": "stream",
     "text": [
      "done.\n",
      "data/part_B/test_data\\images\\IMG_73.jpg\n",
      "(768, 1024)\n",
      "generating density...\n"
     ]
    },
    {
     "name": "stderr",
     "output_type": "stream",
     "text": [
      "\r",
      " 98%|█████████▊| 1170/1198 [3:27:42<04:07,  8.83s/it]"
     ]
    },
    {
     "name": "stdout",
     "output_type": "stream",
     "text": [
      "done.\n",
      "data/part_B/test_data\\images\\IMG_74.jpg\n",
      "(768, 1024)\n",
      "generating density...\n"
     ]
    },
    {
     "name": "stderr",
     "output_type": "stream",
     "text": [
      "\r",
      " 98%|█████████▊| 1171/1198 [3:27:51<04:00,  8.91s/it]"
     ]
    },
    {
     "name": "stdout",
     "output_type": "stream",
     "text": [
      "done.\n",
      "data/part_B/test_data\\images\\IMG_75.jpg\n",
      "(768, 1024)\n",
      "generating density...\n"
     ]
    },
    {
     "name": "stderr",
     "output_type": "stream",
     "text": [
      "\r",
      " 98%|█████████▊| 1172/1198 [3:28:05<04:36, 10.62s/it]"
     ]
    },
    {
     "name": "stdout",
     "output_type": "stream",
     "text": [
      "done.\n",
      "data/part_B/test_data\\images\\IMG_76.jpg\n",
      "(768, 1024)\n",
      "generating density...\n"
     ]
    },
    {
     "name": "stderr",
     "output_type": "stream",
     "text": [
      "\r",
      " 98%|█████████▊| 1173/1198 [3:28:13<04:02,  9.71s/it]"
     ]
    },
    {
     "name": "stdout",
     "output_type": "stream",
     "text": [
      "done.\n",
      "data/part_B/test_data\\images\\IMG_77.jpg\n",
      "(768, 1024)\n",
      "generating density...\n"
     ]
    },
    {
     "name": "stderr",
     "output_type": "stream",
     "text": [
      "\r",
      " 98%|█████████▊| 1174/1198 [3:28:22<03:49,  9.56s/it]"
     ]
    },
    {
     "name": "stdout",
     "output_type": "stream",
     "text": [
      "done.\n",
      "data/part_B/test_data\\images\\IMG_78.jpg\n",
      "(768, 1024)\n",
      "generating density...\n"
     ]
    },
    {
     "name": "stderr",
     "output_type": "stream",
     "text": [
      "\r",
      " 98%|█████████▊| 1175/1198 [3:28:34<03:53, 10.17s/it]"
     ]
    },
    {
     "name": "stdout",
     "output_type": "stream",
     "text": [
      "done.\n",
      "data/part_B/test_data\\images\\IMG_79.jpg\n",
      "(768, 1024)\n",
      "generating density...\n"
     ]
    },
    {
     "name": "stderr",
     "output_type": "stream",
     "text": [
      "\r",
      " 98%|█████████▊| 1176/1198 [3:28:40<03:20,  9.13s/it]"
     ]
    },
    {
     "name": "stdout",
     "output_type": "stream",
     "text": [
      "done.\n",
      "data/part_B/test_data\\images\\IMG_8.jpg\n",
      "(768, 1024)\n",
      "generating density...\n"
     ]
    },
    {
     "name": "stderr",
     "output_type": "stream",
     "text": [
      "\r",
      " 98%|█████████▊| 1177/1198 [3:28:48<03:03,  8.73s/it]"
     ]
    },
    {
     "name": "stdout",
     "output_type": "stream",
     "text": [
      "done.\n",
      "data/part_B/test_data\\images\\IMG_80.jpg\n",
      "(768, 1024)\n",
      "generating density...\n"
     ]
    },
    {
     "name": "stderr",
     "output_type": "stream",
     "text": [
      "\r",
      " 98%|█████████▊| 1178/1198 [3:29:03<03:31, 10.60s/it]"
     ]
    },
    {
     "name": "stdout",
     "output_type": "stream",
     "text": [
      "done.\n",
      "data/part_B/test_data\\images\\IMG_81.jpg\n",
      "(768, 1024)\n",
      "generating density...\n"
     ]
    },
    {
     "name": "stderr",
     "output_type": "stream",
     "text": [
      "\r",
      " 98%|█████████▊| 1179/1198 [3:29:11<03:03,  9.67s/it]"
     ]
    },
    {
     "name": "stdout",
     "output_type": "stream",
     "text": [
      "done.\n",
      "data/part_B/test_data\\images\\IMG_82.jpg\n",
      "(768, 1024)\n",
      "generating density...\n"
     ]
    },
    {
     "name": "stderr",
     "output_type": "stream",
     "text": [
      "\r",
      " 98%|█████████▊| 1180/1198 [3:29:19<02:46,  9.24s/it]"
     ]
    },
    {
     "name": "stdout",
     "output_type": "stream",
     "text": [
      "done.\n",
      "data/part_B/test_data\\images\\IMG_83.jpg\n",
      "(768, 1024)\n",
      "generating density...\n"
     ]
    },
    {
     "name": "stderr",
     "output_type": "stream",
     "text": [
      "\r",
      " 99%|█████████▊| 1181/1198 [3:29:25<02:20,  8.29s/it]"
     ]
    },
    {
     "name": "stdout",
     "output_type": "stream",
     "text": [
      "done.\n",
      "data/part_B/test_data\\images\\IMG_84.jpg\n",
      "(768, 1024)\n",
      "generating density...\n"
     ]
    },
    {
     "name": "stderr",
     "output_type": "stream",
     "text": [
      "\r",
      " 99%|█████████▊| 1182/1198 [3:29:31<02:01,  7.61s/it]"
     ]
    },
    {
     "name": "stdout",
     "output_type": "stream",
     "text": [
      "done.\n",
      "data/part_B/test_data\\images\\IMG_85.jpg\n",
      "(768, 1024)\n",
      "generating density...\n"
     ]
    },
    {
     "name": "stderr",
     "output_type": "stream",
     "text": [
      "\r",
      " 99%|█████████▊| 1183/1198 [3:29:37<01:47,  7.20s/it]"
     ]
    },
    {
     "name": "stdout",
     "output_type": "stream",
     "text": [
      "done.\n",
      "data/part_B/test_data\\images\\IMG_86.jpg\n",
      "(768, 1024)\n",
      "generating density...\n"
     ]
    },
    {
     "name": "stderr",
     "output_type": "stream",
     "text": [
      "\r",
      " 99%|█████████▉| 1184/1198 [3:29:46<01:46,  7.62s/it]"
     ]
    },
    {
     "name": "stdout",
     "output_type": "stream",
     "text": [
      "done.\n",
      "data/part_B/test_data\\images\\IMG_87.jpg\n",
      "(768, 1024)\n",
      "generating density...\n"
     ]
    },
    {
     "name": "stderr",
     "output_type": "stream",
     "text": [
      "\r",
      " 99%|█████████▉| 1185/1198 [3:29:53<01:36,  7.41s/it]"
     ]
    },
    {
     "name": "stdout",
     "output_type": "stream",
     "text": [
      "done.\n",
      "data/part_B/test_data\\images\\IMG_88.jpg\n",
      "(768, 1024)\n",
      "generating density...\n"
     ]
    },
    {
     "name": "stderr",
     "output_type": "stream",
     "text": [
      "\r",
      " 99%|█████████▉| 1186/1198 [3:29:59<01:26,  7.17s/it]"
     ]
    },
    {
     "name": "stdout",
     "output_type": "stream",
     "text": [
      "done.\n",
      "data/part_B/test_data\\images\\IMG_89.jpg\n",
      "(768, 1024)\n",
      "generating density...\n"
     ]
    },
    {
     "name": "stderr",
     "output_type": "stream",
     "text": [
      "\r",
      " 99%|█████████▉| 1187/1198 [3:30:05<01:13,  6.66s/it]"
     ]
    },
    {
     "name": "stdout",
     "output_type": "stream",
     "text": [
      "done.\n",
      "data/part_B/test_data\\images\\IMG_9.jpg\n",
      "(768, 1024)\n",
      "generating density...\n"
     ]
    },
    {
     "name": "stderr",
     "output_type": "stream",
     "text": [
      "\r",
      " 99%|█████████▉| 1188/1198 [3:30:10<01:02,  6.25s/it]"
     ]
    },
    {
     "name": "stdout",
     "output_type": "stream",
     "text": [
      "done.\n",
      "data/part_B/test_data\\images\\IMG_90.jpg\n",
      "(768, 1024)\n",
      "generating density...\n"
     ]
    },
    {
     "name": "stderr",
     "output_type": "stream",
     "text": [
      "\r",
      " 99%|█████████▉| 1189/1198 [3:30:22<01:10,  7.82s/it]"
     ]
    },
    {
     "name": "stdout",
     "output_type": "stream",
     "text": [
      "done.\n",
      "data/part_B/test_data\\images\\IMG_91.jpg\n",
      "(768, 1024)\n",
      "generating density...\n"
     ]
    },
    {
     "name": "stderr",
     "output_type": "stream",
     "text": [
      "\r",
      " 99%|█████████▉| 1190/1198 [3:30:32<01:08,  8.57s/it]"
     ]
    },
    {
     "name": "stdout",
     "output_type": "stream",
     "text": [
      "done.\n",
      "data/part_B/test_data\\images\\IMG_92.jpg\n",
      "(768, 1024)\n",
      "generating density...\n"
     ]
    },
    {
     "name": "stderr",
     "output_type": "stream",
     "text": [
      "\r",
      " 99%|█████████▉| 1191/1198 [3:30:39<00:57,  8.28s/it]"
     ]
    },
    {
     "name": "stdout",
     "output_type": "stream",
     "text": [
      "done.\n",
      "data/part_B/test_data\\images\\IMG_93.jpg\n",
      "(768, 1024)\n",
      "generating density...\n"
     ]
    },
    {
     "name": "stderr",
     "output_type": "stream",
     "text": [
      "\r",
      " 99%|█████████▉| 1192/1198 [3:30:51<00:55,  9.28s/it]"
     ]
    },
    {
     "name": "stdout",
     "output_type": "stream",
     "text": [
      "done.\n",
      "data/part_B/test_data\\images\\IMG_94.jpg\n",
      "(768, 1024)\n",
      "generating density...\n"
     ]
    },
    {
     "name": "stderr",
     "output_type": "stream",
     "text": [
      "\r",
      "100%|█████████▉| 1193/1198 [3:30:58<00:42,  8.48s/it]"
     ]
    },
    {
     "name": "stdout",
     "output_type": "stream",
     "text": [
      "done.\n",
      "data/part_B/test_data\\images\\IMG_95.jpg\n",
      "(768, 1024)\n",
      "generating density...\n"
     ]
    },
    {
     "name": "stderr",
     "output_type": "stream",
     "text": [
      "\r",
      "100%|█████████▉| 1194/1198 [3:31:05<00:32,  8.20s/it]"
     ]
    },
    {
     "name": "stdout",
     "output_type": "stream",
     "text": [
      "done.\n",
      "data/part_B/test_data\\images\\IMG_96.jpg\n",
      "(768, 1024)\n",
      "generating density...\n"
     ]
    },
    {
     "name": "stderr",
     "output_type": "stream",
     "text": [
      "\r",
      "100%|█████████▉| 1195/1198 [3:31:15<00:25,  8.60s/it]"
     ]
    },
    {
     "name": "stdout",
     "output_type": "stream",
     "text": [
      "done.\n",
      "data/part_B/test_data\\images\\IMG_97.jpg\n",
      "(768, 1024)\n",
      "generating density...\n"
     ]
    },
    {
     "name": "stderr",
     "output_type": "stream",
     "text": [
      "\r",
      "100%|█████████▉| 1196/1198 [3:31:23<00:16,  8.47s/it]"
     ]
    },
    {
     "name": "stdout",
     "output_type": "stream",
     "text": [
      "done.\n",
      "data/part_B/test_data\\images\\IMG_98.jpg\n",
      "(768, 1024)\n",
      "generating density...\n"
     ]
    },
    {
     "name": "stderr",
     "output_type": "stream",
     "text": [
      "\r",
      "100%|█████████▉| 1197/1198 [3:31:36<00:09,  9.81s/it]"
     ]
    },
    {
     "name": "stdout",
     "output_type": "stream",
     "text": [
      "done.\n",
      "data/part_B/test_data\\images\\IMG_99.jpg\n",
      "(768, 1024)\n",
      "generating density...\n"
     ]
    },
    {
     "name": "stderr",
     "output_type": "stream",
     "text": [
      "100%|██████████| 1198/1198 [3:31:44<00:00, 10.60s/it]"
     ]
    },
    {
     "name": "stdout",
     "output_type": "stream",
     "text": [
      "done.\n"
     ]
    },
    {
     "name": "stderr",
     "output_type": "stream",
     "text": [
      "\n"
     ]
    }
   ],
   "source": [
    "from tqdm import tqdm\n",
    "\n",
    "i = 0\n",
    "for img_path in tqdm(img_paths):\n",
    "        \n",
    "    print (img_path)\n",
    "    # Load sparse matrix\n",
    "    mat = io.loadmat(img_path.replace('.jpg','.mat').replace('images','ground-truth').replace('IMG_','GT_IMG_'))\n",
    "    \n",
    "    #Read image\n",
    "    img= plt.imread(img_path)\n",
    "    \n",
    "    # Create a zero matrix of image size\n",
    "    k = np.zeros((img.shape[0],img.shape[1]))\n",
    "    \n",
    "    gt = mat[\"image_info\"][0,0][0,0][0]\n",
    "    \n",
    "    #Generate hot encoded matrix of sparse matrix\n",
    "    for i in range(0,len(gt)):\n",
    "        if int(gt[i][1])<img.shape[0] and int(gt[i][0])<img.shape[1]:\n",
    "            k[int(gt[i][1]),int(gt[i][0])]=1\n",
    "    \n",
    "    # generate density map\n",
    "    k = gaussian_filter_density(k)\n",
    "    \n",
    "    # File path to save density map\n",
    "    file_path = img_path.replace('.jpg','.h5').replace('images','ground-truth')\n",
    "    \n",
    "    \n",
    "    with h5py.File(file_path, 'w') as hf:\n",
    "            hf['density'] = k\n",
    "    \n"
   ]
  },
  {
   "cell_type": "code",
   "execution_count": 40,
   "metadata": {
    "scrolled": true
   },
   "outputs": [
    {
     "name": "stdout",
     "output_type": "stream",
     "text": [
      "data/part_B/train_data\\ground-truth\\IMG_118.h5\n"
     ]
    }
   ],
   "source": [
    "file_path = img_paths[503].replace('.jpg','.h5').replace('images','ground-truth') \n",
    "print(file_path)"
   ]
  },
  {
   "cell_type": "code",
   "execution_count": 41,
   "metadata": {},
   "outputs": [
    {
     "name": "stdout",
     "output_type": "stream",
     "text": [
      "Sum =  56.46257\n"
     ]
    },
    {
     "data": {
      "image/png": "[encoded data removed]",
      "text/plain": [
       "<Figure size 432x288 with 1 Axes>"
      ]
     },
     "metadata": {
      "needs_background": "light"
     },
     "output_type": "display_data"
    }
   ],
   "source": [
    "#Sample Ground Truth\n",
    "gt_file = h5py.File(file_path,'r')\n",
    "groundtruth = np.asarray(gt_file['density'])\n",
    "plt.imshow(groundtruth,cmap=CM.jet)\n",
    "print(\"Sum = \" ,np.sum(groundtruth))"
   ]
  },
  {
   "cell_type": "code",
   "execution_count": 42,
   "metadata": {},
   "outputs": [
    {
     "name": "stdout",
     "output_type": "stream",
     "text": [
      "data/part_B/train_data\\images\\IMG_118.jpg\n"
     ]
    },
    {
     "data": {
      "image/png": "[encoded data removed]",
      "text/plain": [
       "<Figure size 432x288 with 1 Axes>"
      ]
     },
     "metadata": {
      "needs_background": "light"
     },
     "output_type": "display_data"
    }
   ],
   "source": [
    "# Image corresponding to the ground truth\n",
    "img = Image.open(file_path.replace('.h5','.jpg').replace('ground-truth','images'))\n",
    "plt.imshow(img)\n",
    "print(file_path.replace('.h5','.jpg').replace('ground-truth','images'))"
   ]
  },
  {
   "cell_type": "code",
   "execution_count": 43,
   "metadata": {},
   "outputs": [
    {
     "data": {
      "text/plain": [
       "(768, 1024)"
      ]
     },
     "execution_count": 43,
     "metadata": {},
     "output_type": "execute_result"
    }
   ],
   "source": [
    "groundtruth.shape"
   ]
  },
  {
   "cell_type": "code",
   "execution_count": null,
   "metadata": {},
   "outputs": [],
   "source": []
  },
  {
   "cell_type": "code",
   "execution_count": 44,
   "metadata": {},
   "outputs": [],
   "source": [
    "import pandas as pd"
   ]
  },
  {
   "cell_type": "code",
   "execution_count": 45,
   "metadata": {},
   "outputs": [
    {
     "data": {
      "text/html": [
       "<div>\n",
       "<style scoped>\n",
       "    .dataframe tbody tr th:only-of-type {\n",
       "        vertical-align: middle;\n",
       "    }\n",
       "\n",
       "    .dataframe tbody tr th {\n",
       "        vertical-align: top;\n",
       "    }\n",
       "\n",
       "    .dataframe thead th {\n",
       "        text-align: right;\n",
       "    }\n",
       "</style>\n",
       "<table border=\"1\" class=\"dataframe\">\n",
       "  <thead>\n",
       "    <tr style=\"text-align: right;\">\n",
       "      <th></th>\n",
       "      <th>1000</th>\n",
       "      <th>1001</th>\n",
       "      <th>1002</th>\n",
       "      <th>1003</th>\n",
       "      <th>1004</th>\n",
       "      <th>1005</th>\n",
       "      <th>1006</th>\n",
       "      <th>1007</th>\n",
       "      <th>1008</th>\n",
       "      <th>1009</th>\n",
       "      <th>...</th>\n",
       "      <th>1014</th>\n",
       "      <th>1015</th>\n",
       "      <th>1016</th>\n",
       "      <th>1017</th>\n",
       "      <th>1018</th>\n",
       "      <th>1019</th>\n",
       "      <th>1020</th>\n",
       "      <th>1021</th>\n",
       "      <th>1022</th>\n",
       "      <th>1023</th>\n",
       "    </tr>\n",
       "  </thead>\n",
       "  <tbody>\n",
       "    <tr>\n",
       "      <th>295</th>\n",
       "      <td>1.224342e-07</td>\n",
       "      <td>1.112272e-07</td>\n",
       "      <td>1.009558e-07</td>\n",
       "      <td>9.155121e-08</td>\n",
       "      <td>8.294857e-08</td>\n",
       "      <td>7.508719e-08</td>\n",
       "      <td>6.791020e-08</td>\n",
       "      <td>6.136437e-08</td>\n",
       "      <td>5.540000e-08</td>\n",
       "      <td>4.997070e-08</td>\n",
       "      <td>...</td>\n",
       "      <td>2.943922e-08</td>\n",
       "      <td>2.641223e-08</td>\n",
       "      <td>2.367532e-08</td>\n",
       "      <td>2.120307e-08</td>\n",
       "      <td>1.897204e-08</td>\n",
       "      <td>1.696061e-08</td>\n",
       "      <td>1.514889e-08</td>\n",
       "      <td>1.351863e-08</td>\n",
       "      <td>1.205304e-08</td>\n",
       "      <td>1.073674e-08</td>\n",
       "    </tr>\n",
       "    <tr>\n",
       "      <th>296</th>\n",
       "      <td>1.153751e-07</td>\n",
       "      <td>1.048142e-07</td>\n",
       "      <td>9.513510e-08</td>\n",
       "      <td>8.627270e-08</td>\n",
       "      <td>7.816606e-08</td>\n",
       "      <td>7.075794e-08</td>\n",
       "      <td>6.399475e-08</td>\n",
       "      <td>5.782633e-08</td>\n",
       "      <td>5.220584e-08</td>\n",
       "      <td>4.708958e-08</td>\n",
       "      <td>...</td>\n",
       "      <td>2.774186e-08</td>\n",
       "      <td>2.488939e-08</td>\n",
       "      <td>2.231029e-08</td>\n",
       "      <td>1.998058e-08</td>\n",
       "      <td>1.787818e-08</td>\n",
       "      <td>1.598272e-08</td>\n",
       "      <td>1.427547e-08</td>\n",
       "      <td>1.273919e-08</td>\n",
       "      <td>1.135810e-08</td>\n",
       "      <td>1.011770e-08</td>\n",
       "    </tr>\n",
       "    <tr>\n",
       "      <th>297</th>\n",
       "      <td>1.086259e-07</td>\n",
       "      <td>9.868287e-08</td>\n",
       "      <td>8.956993e-08</td>\n",
       "      <td>8.122596e-08</td>\n",
       "      <td>7.359354e-08</td>\n",
       "      <td>6.661878e-08</td>\n",
       "      <td>6.025122e-08</td>\n",
       "      <td>5.444364e-08</td>\n",
       "      <td>4.915194e-08</td>\n",
       "      <td>4.433496e-08</td>\n",
       "      <td>...</td>\n",
       "      <td>2.611903e-08</td>\n",
       "      <td>2.343343e-08</td>\n",
       "      <td>2.100519e-08</td>\n",
       "      <td>1.881177e-08</td>\n",
       "      <td>1.683235e-08</td>\n",
       "      <td>1.504777e-08</td>\n",
       "      <td>1.344039e-08</td>\n",
       "      <td>1.199398e-08</td>\n",
       "      <td>1.069368e-08</td>\n",
       "      <td>9.525841e-09</td>\n",
       "    </tr>\n",
       "    <tr>\n",
       "      <th>298</th>\n",
       "      <td>1.021803e-07</td>\n",
       "      <td>9.282724e-08</td>\n",
       "      <td>8.425505e-08</td>\n",
       "      <td>7.640620e-08</td>\n",
       "      <td>6.922666e-08</td>\n",
       "      <td>6.266576e-08</td>\n",
       "      <td>5.667604e-08</td>\n",
       "      <td>5.121307e-08</td>\n",
       "      <td>4.623537e-08</td>\n",
       "      <td>4.170422e-08</td>\n",
       "      <td>...</td>\n",
       "      <td>2.456919e-08</td>\n",
       "      <td>2.204294e-08</td>\n",
       "      <td>1.975879e-08</td>\n",
       "      <td>1.769552e-08</td>\n",
       "      <td>1.583356e-08</td>\n",
       "      <td>1.415487e-08</td>\n",
       "      <td>1.264286e-08</td>\n",
       "      <td>1.128229e-08</td>\n",
       "      <td>1.005914e-08</td>\n",
       "      <td>8.960599e-09</td>\n",
       "    </tr>\n",
       "    <tr>\n",
       "      <th>299</th>\n",
       "      <td>9.603134e-08</td>\n",
       "      <td>8.724113e-08</td>\n",
       "      <td>7.918478e-08</td>\n",
       "      <td>7.180825e-08</td>\n",
       "      <td>6.506077e-08</td>\n",
       "      <td>5.889469e-08</td>\n",
       "      <td>5.326541e-08</td>\n",
       "      <td>4.813119e-08</td>\n",
       "      <td>4.345303e-08</td>\n",
       "      <td>3.919456e-08</td>\n",
       "      <td>...</td>\n",
       "      <td>2.309067e-08</td>\n",
       "      <td>2.071645e-08</td>\n",
       "      <td>1.856975e-08</td>\n",
       "      <td>1.663065e-08</td>\n",
       "      <td>1.488073e-08</td>\n",
       "      <td>1.330306e-08</td>\n",
       "      <td>1.188205e-08</td>\n",
       "      <td>1.060335e-08</td>\n",
       "      <td>9.453808e-09</td>\n",
       "      <td>8.421372e-09</td>\n",
       "    </tr>\n",
       "    <tr>\n",
       "      <th>300</th>\n",
       "      <td>9.017185e-08</td>\n",
       "      <td>8.191799e-08</td>\n",
       "      <td>7.435321e-08</td>\n",
       "      <td>6.742678e-08</td>\n",
       "      <td>6.109099e-08</td>\n",
       "      <td>5.530115e-08</td>\n",
       "      <td>5.001535e-08</td>\n",
       "      <td>4.519440e-08</td>\n",
       "      <td>4.080169e-08</td>\n",
       "      <td>3.680305e-08</td>\n",
       "      <td>...</td>\n",
       "      <td>2.168176e-08</td>\n",
       "      <td>1.945240e-08</td>\n",
       "      <td>1.743669e-08</td>\n",
       "      <td>1.561591e-08</td>\n",
       "      <td>1.397277e-08</td>\n",
       "      <td>1.249136e-08</td>\n",
       "      <td>1.115705e-08</td>\n",
       "      <td>9.956368e-09</td>\n",
       "      <td>8.876971e-09</td>\n",
       "      <td>7.907531e-09</td>\n",
       "    </tr>\n",
       "    <tr>\n",
       "      <th>301</th>\n",
       "      <td>8.459430e-08</td>\n",
       "      <td>7.685098e-08</td>\n",
       "      <td>6.975412e-08</td>\n",
       "      <td>6.325612e-08</td>\n",
       "      <td>5.731223e-08</td>\n",
       "      <td>5.188052e-08</td>\n",
       "      <td>4.692167e-08</td>\n",
       "      <td>4.239892e-08</td>\n",
       "      <td>3.827791e-08</td>\n",
       "      <td>3.452661e-08</td>\n",
       "      <td>...</td>\n",
       "      <td>2.034065e-08</td>\n",
       "      <td>1.824918e-08</td>\n",
       "      <td>1.635815e-08</td>\n",
       "      <td>1.464999e-08</td>\n",
       "      <td>1.310848e-08</td>\n",
       "      <td>1.171871e-08</td>\n",
       "      <td>1.046693e-08</td>\n",
       "      <td>9.340521e-09</td>\n",
       "      <td>8.327889e-09</td>\n",
       "      <td>7.418413e-09</td>\n",
       "    </tr>\n",
       "    <tr>\n",
       "      <th>302</th>\n",
       "      <td>7.929093e-08</td>\n",
       "      <td>7.203305e-08</td>\n",
       "      <td>6.538110e-08</td>\n",
       "      <td>5.929047e-08</td>\n",
       "      <td>5.371922e-08</td>\n",
       "      <td>4.862803e-08</td>\n",
       "      <td>4.398006e-08</td>\n",
       "      <td>3.974085e-08</td>\n",
       "      <td>3.587820e-08</td>\n",
       "      <td>3.236207e-08</td>\n",
       "      <td>...</td>\n",
       "      <td>1.906545e-08</td>\n",
       "      <td>1.710511e-08</td>\n",
       "      <td>1.533263e-08</td>\n",
       "      <td>1.373155e-08</td>\n",
       "      <td>1.228669e-08</td>\n",
       "      <td>1.098404e-08</td>\n",
       "      <td>9.810740e-09</td>\n",
       "      <td>8.754946e-09</td>\n",
       "      <td>7.805799e-09</td>\n",
       "      <td>6.953338e-09</td>\n",
       "    </tr>\n",
       "    <tr>\n",
       "      <th>303</th>\n",
       "      <td>7.425368e-08</td>\n",
       "      <td>6.745689e-08</td>\n",
       "      <td>6.122753e-08</td>\n",
       "      <td>5.552383e-08</td>\n",
       "      <td>5.030651e-08</td>\n",
       "      <td>4.553876e-08</td>\n",
       "      <td>4.118607e-08</td>\n",
       "      <td>3.721617e-08</td>\n",
       "      <td>3.359890e-08</td>\n",
       "      <td>3.030615e-08</td>\n",
       "      <td>...</td>\n",
       "      <td>1.785425e-08</td>\n",
       "      <td>1.601844e-08</td>\n",
       "      <td>1.435857e-08</td>\n",
       "      <td>1.285921e-08</td>\n",
       "      <td>1.150613e-08</td>\n",
       "      <td>1.028624e-08</td>\n",
       "      <td>9.187477e-09</td>\n",
       "      <td>8.198756e-09</td>\n",
       "      <td>7.309907e-09</td>\n",
       "      <td>6.511602e-09</td>\n",
       "    </tr>\n",
       "    <tr>\n",
       "      <th>304</th>\n",
       "      <td>6.947438e-08</td>\n",
       "      <td>6.311506e-08</td>\n",
       "      <td>5.728665e-08</td>\n",
       "      <td>5.195006e-08</td>\n",
       "      <td>4.706856e-08</td>\n",
       "      <td>4.260768e-08</td>\n",
       "      <td>3.853515e-08</td>\n",
       "      <td>3.482077e-08</td>\n",
       "      <td>3.143633e-08</td>\n",
       "      <td>2.835551e-08</td>\n",
       "      <td>...</td>\n",
       "      <td>1.670507e-08</td>\n",
       "      <td>1.498742e-08</td>\n",
       "      <td>1.343439e-08</td>\n",
       "      <td>1.203153e-08</td>\n",
       "      <td>1.076555e-08</td>\n",
       "      <td>9.624173e-09</td>\n",
       "      <td>8.596130e-09</td>\n",
       "      <td>7.671047e-09</td>\n",
       "      <td>6.839408e-09</td>\n",
       "      <td>6.092487e-09</td>\n",
       "    </tr>\n",
       "    <tr>\n",
       "      <th>305</th>\n",
       "      <td>6.494467e-08</td>\n",
       "      <td>5.899997e-08</td>\n",
       "      <td>5.355158e-08</td>\n",
       "      <td>4.856294e-08</td>\n",
       "      <td>4.399970e-08</td>\n",
       "      <td>3.982967e-08</td>\n",
       "      <td>3.602267e-08</td>\n",
       "      <td>3.255046e-08</td>\n",
       "      <td>2.938669e-08</td>\n",
       "      <td>2.650674e-08</td>\n",
       "      <td>...</td>\n",
       "      <td>1.561591e-08</td>\n",
       "      <td>1.401025e-08</td>\n",
       "      <td>1.255847e-08</td>\n",
       "      <td>1.124708e-08</td>\n",
       "      <td>1.006364e-08</td>\n",
       "      <td>8.996680e-09</td>\n",
       "      <td>8.035665e-09</td>\n",
       "      <td>7.170897e-09</td>\n",
       "      <td>6.393481e-09</td>\n",
       "      <td>5.695258e-09</td>\n",
       "    </tr>\n",
       "    <tr>\n",
       "      <th>306</th>\n",
       "      <td>6.065611e-08</td>\n",
       "      <td>5.510396e-08</td>\n",
       "      <td>5.001535e-08</td>\n",
       "      <td>4.535612e-08</td>\n",
       "      <td>4.109422e-08</td>\n",
       "      <td>3.719955e-08</td>\n",
       "      <td>3.364394e-08</td>\n",
       "      <td>3.040102e-08</td>\n",
       "      <td>2.744616e-08</td>\n",
       "      <td>2.475639e-08</td>\n",
       "      <td>...</td>\n",
       "      <td>1.458472e-08</td>\n",
       "      <td>1.308509e-08</td>\n",
       "      <td>1.172918e-08</td>\n",
       "      <td>1.050439e-08</td>\n",
       "      <td>9.399092e-09</td>\n",
       "      <td>8.402592e-09</td>\n",
       "      <td>7.505037e-09</td>\n",
       "      <td>6.697373e-09</td>\n",
       "      <td>5.971293e-09</td>\n",
       "      <td>5.319177e-09</td>\n",
       "    </tr>\n",
       "    <tr>\n",
       "      <th>307</th>\n",
       "      <td>5.660017e-08</td>\n",
       "      <td>5.141928e-08</td>\n",
       "      <td>4.667094e-08</td>\n",
       "      <td>4.232326e-08</td>\n",
       "      <td>3.834634e-08</td>\n",
       "      <td>3.471210e-08</td>\n",
       "      <td>3.139425e-08</td>\n",
       "      <td>2.836818e-08</td>\n",
       "      <td>2.561090e-08</td>\n",
       "      <td>2.310099e-08</td>\n",
       "      <td>...</td>\n",
       "      <td>1.360948e-08</td>\n",
       "      <td>1.221012e-08</td>\n",
       "      <td>1.094488e-08</td>\n",
       "      <td>9.801982e-09</td>\n",
       "      <td>8.770597e-09</td>\n",
       "      <td>7.840730e-09</td>\n",
       "      <td>7.003192e-09</td>\n",
       "      <td>6.249535e-09</td>\n",
       "      <td>5.572006e-09</td>\n",
       "      <td>4.963495e-09</td>\n",
       "    </tr>\n",
       "    <tr>\n",
       "      <th>308</th>\n",
       "      <td>5.276830e-08</td>\n",
       "      <td>4.793816e-08</td>\n",
       "      <td>4.351128e-08</td>\n",
       "      <td>3.945795e-08</td>\n",
       "      <td>3.575027e-08</td>\n",
       "      <td>3.236207e-08</td>\n",
       "      <td>2.926883e-08</td>\n",
       "      <td>2.644763e-08</td>\n",
       "      <td>2.387703e-08</td>\n",
       "      <td>2.153703e-08</td>\n",
       "      <td>...</td>\n",
       "      <td>1.268810e-08</td>\n",
       "      <td>1.138349e-08</td>\n",
       "      <td>1.020390e-08</td>\n",
       "      <td>9.138382e-09</td>\n",
       "      <td>8.176821e-09</td>\n",
       "      <td>7.309906e-09</td>\n",
       "      <td>6.529071e-09</td>\n",
       "      <td>5.826437e-09</td>\n",
       "      <td>5.194777e-09</td>\n",
       "      <td>4.627463e-09</td>\n",
       "    </tr>\n",
       "    <tr>\n",
       "      <th>309</th>\n",
       "      <td>4.915194e-08</td>\n",
       "      <td>4.465282e-08</td>\n",
       "      <td>4.052933e-08</td>\n",
       "      <td>3.675378e-08</td>\n",
       "      <td>3.330020e-08</td>\n",
       "      <td>3.014420e-08</td>\n",
       "      <td>2.726296e-08</td>\n",
       "      <td>2.463510e-08</td>\n",
       "      <td>2.224066e-08</td>\n",
       "      <td>2.006104e-08</td>\n",
       "      <td>...</td>\n",
       "      <td>1.181855e-08</td>\n",
       "      <td>1.060335e-08</td>\n",
       "      <td>9.504599e-09</td>\n",
       "      <td>8.512102e-09</td>\n",
       "      <td>7.616440e-09</td>\n",
       "      <td>6.808938e-09</td>\n",
       "      <td>6.081614e-09</td>\n",
       "      <td>5.427135e-09</td>\n",
       "      <td>4.838764e-09</td>\n",
       "      <td>4.310330e-09</td>\n",
       "    </tr>\n",
       "  </tbody>\n",
       "</table>\n",
       "<p>15 rows × 24 columns</p>\n",
       "</div>"
      ],
      "text/plain": [
       "             1000          1001          1002          1003          1004  \\\n",
       "295  1.224342e-07  1.112272e-07  1.009558e-07  9.155121e-08  8.294857e-08   \n",
       "296  1.153751e-07  1.048142e-07  9.513510e-08  8.627270e-08  7.816606e-08   \n",
       "297  1.086259e-07  9.868287e-08  8.956993e-08  8.122596e-08  7.359354e-08   \n",
       "298  1.021803e-07  9.282724e-08  8.425505e-08  7.640620e-08  6.922666e-08   \n",
       "299  9.603134e-08  8.724113e-08  7.918478e-08  7.180825e-08  6.506077e-08   \n",
       "300  9.017185e-08  8.191799e-08  7.435321e-08  6.742678e-08  6.109099e-08   \n",
       "301  8.459430e-08  7.685098e-08  6.975412e-08  6.325612e-08  5.731223e-08   \n",
       "302  7.929093e-08  7.203305e-08  6.538110e-08  5.929047e-08  5.371922e-08   \n",
       "303  7.425368e-08  6.745689e-08  6.122753e-08  5.552383e-08  5.030651e-08   \n",
       "304  6.947438e-08  6.311506e-08  5.728665e-08  5.195006e-08  4.706856e-08   \n",
       "305  6.494467e-08  5.899997e-08  5.355158e-08  4.856294e-08  4.399970e-08   \n",
       "306  6.065611e-08  5.510396e-08  5.001535e-08  4.535612e-08  4.109422e-08   \n",
       "307  5.660017e-08  5.141928e-08  4.667094e-08  4.232326e-08  3.834634e-08   \n",
       "308  5.276830e-08  4.793816e-08  4.351128e-08  3.945795e-08  3.575027e-08   \n",
       "309  4.915194e-08  4.465282e-08  4.052933e-08  3.675378e-08  3.330020e-08   \n",
       "\n",
       "             1005          1006          1007          1008          1009  \\\n",
       "295  7.508719e-08  6.791020e-08  6.136437e-08  5.540000e-08  4.997070e-08   \n",
       "296  7.075794e-08  6.399475e-08  5.782633e-08  5.220584e-08  4.708958e-08   \n",
       "297  6.661878e-08  6.025122e-08  5.444364e-08  4.915194e-08  4.433496e-08   \n",
       "298  6.266576e-08  5.667604e-08  5.121307e-08  4.623537e-08  4.170422e-08   \n",
       "299  5.889469e-08  5.326541e-08  4.813119e-08  4.345303e-08  3.919456e-08   \n",
       "300  5.530115e-08  5.001535e-08  4.519440e-08  4.080169e-08  3.680305e-08   \n",
       "301  5.188052e-08  4.692167e-08  4.239892e-08  3.827791e-08  3.452661e-08   \n",
       "302  4.862803e-08  4.398006e-08  3.974085e-08  3.587820e-08  3.236207e-08   \n",
       "303  4.553876e-08  4.118607e-08  3.721617e-08  3.359890e-08  3.030615e-08   \n",
       "304  4.260768e-08  3.853515e-08  3.482077e-08  3.143633e-08  2.835551e-08   \n",
       "305  3.982967e-08  3.602267e-08  3.255046e-08  2.938669e-08  2.650674e-08   \n",
       "306  3.719955e-08  3.364394e-08  3.040102e-08  2.744616e-08  2.475639e-08   \n",
       "307  3.471210e-08  3.139425e-08  2.836818e-08  2.561090e-08  2.310099e-08   \n",
       "308  3.236207e-08  2.926883e-08  2.644763e-08  2.387703e-08  2.153703e-08   \n",
       "309  3.014420e-08  2.726296e-08  2.463510e-08  2.224066e-08  2.006104e-08   \n",
       "\n",
       "     ...          1014          1015          1016          1017  \\\n",
       "295  ...  2.943922e-08  2.641223e-08  2.367532e-08  2.120307e-08   \n",
       "296  ...  2.774186e-08  2.488939e-08  2.231029e-08  1.998058e-08   \n",
       "297  ...  2.611903e-08  2.343343e-08  2.100519e-08  1.881177e-08   \n",
       "298  ...  2.456919e-08  2.204294e-08  1.975879e-08  1.769552e-08   \n",
       "299  ...  2.309067e-08  2.071645e-08  1.856975e-08  1.663065e-08   \n",
       "300  ...  2.168176e-08  1.945240e-08  1.743669e-08  1.561591e-08   \n",
       "301  ...  2.034065e-08  1.824918e-08  1.635815e-08  1.464999e-08   \n",
       "302  ...  1.906545e-08  1.710511e-08  1.533263e-08  1.373155e-08   \n",
       "303  ...  1.785425e-08  1.601844e-08  1.435857e-08  1.285921e-08   \n",
       "304  ...  1.670507e-08  1.498742e-08  1.343439e-08  1.203153e-08   \n",
       "305  ...  1.561591e-08  1.401025e-08  1.255847e-08  1.124708e-08   \n",
       "306  ...  1.458472e-08  1.308509e-08  1.172918e-08  1.050439e-08   \n",
       "307  ...  1.360948e-08  1.221012e-08  1.094488e-08  9.801982e-09   \n",
       "308  ...  1.268810e-08  1.138349e-08  1.020390e-08  9.138382e-09   \n",
       "309  ...  1.181855e-08  1.060335e-08  9.504599e-09  8.512102e-09   \n",
       "\n",
       "             1018          1019          1020          1021          1022  \\\n",
       "295  1.897204e-08  1.696061e-08  1.514889e-08  1.351863e-08  1.205304e-08   \n",
       "296  1.787818e-08  1.598272e-08  1.427547e-08  1.273919e-08  1.135810e-08   \n",
       "297  1.683235e-08  1.504777e-08  1.344039e-08  1.199398e-08  1.069368e-08   \n",
       "298  1.583356e-08  1.415487e-08  1.264286e-08  1.128229e-08  1.005914e-08   \n",
       "299  1.488073e-08  1.330306e-08  1.188205e-08  1.060335e-08  9.453808e-09   \n",
       "300  1.397277e-08  1.249136e-08  1.115705e-08  9.956368e-09  8.876971e-09   \n",
       "301  1.310848e-08  1.171871e-08  1.046693e-08  9.340521e-09  8.327889e-09   \n",
       "302  1.228669e-08  1.098404e-08  9.810740e-09  8.754946e-09  7.805799e-09   \n",
       "303  1.150613e-08  1.028624e-08  9.187477e-09  8.198756e-09  7.309907e-09   \n",
       "304  1.076555e-08  9.624173e-09  8.596130e-09  7.671047e-09  6.839408e-09   \n",
       "305  1.006364e-08  8.996680e-09  8.035665e-09  7.170897e-09  6.393481e-09   \n",
       "306  9.399092e-09  8.402592e-09  7.505037e-09  6.697373e-09  5.971293e-09   \n",
       "307  8.770597e-09  7.840730e-09  7.003192e-09  6.249535e-09  5.572006e-09   \n",
       "308  8.176821e-09  7.309906e-09  6.529071e-09  5.826437e-09  5.194777e-09   \n",
       "309  7.616440e-09  6.808938e-09  6.081614e-09  5.427135e-09  4.838764e-09   \n",
       "\n",
       "             1023  \n",
       "295  1.073674e-08  \n",
       "296  1.011770e-08  \n",
       "297  9.525841e-09  \n",
       "298  8.960599e-09  \n",
       "299  8.421372e-09  \n",
       "300  7.907531e-09  \n",
       "301  7.418413e-09  \n",
       "302  6.953338e-09  \n",
       "303  6.511602e-09  \n",
       "304  6.092487e-09  \n",
       "305  5.695258e-09  \n",
       "306  5.319177e-09  \n",
       "307  4.963495e-09  \n",
       "308  4.627463e-09  \n",
       "309  4.310330e-09  \n",
       "\n",
       "[15 rows x 24 columns]"
      ]
     },
     "execution_count": 45,
     "metadata": {},
     "output_type": "execute_result"
    }
   ],
   "source": [
    "sp = pd.DataFrame(groundtruth)\n",
    "sp.iloc[295:310,1000:]"
   ]
  },
  {
   "cell_type": "code",
   "execution_count": 46,
   "metadata": {},
   "outputs": [
    {
     "data": {
      "text/html": [
       "<div>\n",
       "<style scoped>\n",
       "    .dataframe tbody tr th:only-of-type {\n",
       "        vertical-align: middle;\n",
       "    }\n",
       "\n",
       "    .dataframe tbody tr th {\n",
       "        vertical-align: top;\n",
       "    }\n",
       "\n",
       "    .dataframe thead th {\n",
       "        text-align: right;\n",
       "    }\n",
       "</style>\n",
       "<table border=\"1\" class=\"dataframe\">\n",
       "  <thead>\n",
       "    <tr style=\"text-align: right;\">\n",
       "      <th></th>\n",
       "      <th>0</th>\n",
       "      <th>1</th>\n",
       "      <th>2</th>\n",
       "      <th>3</th>\n",
       "      <th>4</th>\n",
       "      <th>5</th>\n",
       "      <th>6</th>\n",
       "      <th>7</th>\n",
       "      <th>8</th>\n",
       "      <th>9</th>\n",
       "      <th>...</th>\n",
       "      <th>1014</th>\n",
       "      <th>1015</th>\n",
       "      <th>1016</th>\n",
       "      <th>1017</th>\n",
       "      <th>1018</th>\n",
       "      <th>1019</th>\n",
       "      <th>1020</th>\n",
       "      <th>1021</th>\n",
       "      <th>1022</th>\n",
       "      <th>1023</th>\n",
       "    </tr>\n",
       "  </thead>\n",
       "  <tbody>\n",
       "    <tr>\n",
       "      <th>0</th>\n",
       "      <td>False</td>\n",
       "      <td>False</td>\n",
       "      <td>False</td>\n",
       "      <td>False</td>\n",
       "      <td>False</td>\n",
       "      <td>False</td>\n",
       "      <td>False</td>\n",
       "      <td>False</td>\n",
       "      <td>False</td>\n",
       "      <td>False</td>\n",
       "      <td>...</td>\n",
       "      <td>False</td>\n",
       "      <td>False</td>\n",
       "      <td>False</td>\n",
       "      <td>False</td>\n",
       "      <td>False</td>\n",
       "      <td>False</td>\n",
       "      <td>False</td>\n",
       "      <td>False</td>\n",
       "      <td>False</td>\n",
       "      <td>False</td>\n",
       "    </tr>\n",
       "    <tr>\n",
       "      <th>1</th>\n",
       "      <td>False</td>\n",
       "      <td>False</td>\n",
       "      <td>False</td>\n",
       "      <td>False</td>\n",
       "      <td>False</td>\n",
       "      <td>False</td>\n",
       "      <td>False</td>\n",
       "      <td>False</td>\n",
       "      <td>False</td>\n",
       "      <td>False</td>\n",
       "      <td>...</td>\n",
       "      <td>False</td>\n",
       "      <td>False</td>\n",
       "      <td>False</td>\n",
       "      <td>False</td>\n",
       "      <td>False</td>\n",
       "      <td>False</td>\n",
       "      <td>False</td>\n",
       "      <td>False</td>\n",
       "      <td>False</td>\n",
       "      <td>False</td>\n",
       "    </tr>\n",
       "    <tr>\n",
       "      <th>2</th>\n",
       "      <td>False</td>\n",
       "      <td>False</td>\n",
       "      <td>False</td>\n",
       "      <td>False</td>\n",
       "      <td>False</td>\n",
       "      <td>False</td>\n",
       "      <td>False</td>\n",
       "      <td>False</td>\n",
       "      <td>False</td>\n",
       "      <td>False</td>\n",
       "      <td>...</td>\n",
       "      <td>False</td>\n",
       "      <td>False</td>\n",
       "      <td>False</td>\n",
       "      <td>False</td>\n",
       "      <td>False</td>\n",
       "      <td>False</td>\n",
       "      <td>False</td>\n",
       "      <td>False</td>\n",
       "      <td>False</td>\n",
       "      <td>False</td>\n",
       "    </tr>\n",
       "    <tr>\n",
       "      <th>3</th>\n",
       "      <td>False</td>\n",
       "      <td>False</td>\n",
       "      <td>False</td>\n",
       "      <td>False</td>\n",
       "      <td>False</td>\n",
       "      <td>False</td>\n",
       "      <td>False</td>\n",
       "      <td>False</td>\n",
       "      <td>False</td>\n",
       "      <td>False</td>\n",
       "      <td>...</td>\n",
       "      <td>False</td>\n",
       "      <td>False</td>\n",
       "      <td>False</td>\n",
       "      <td>False</td>\n",
       "      <td>False</td>\n",
       "      <td>False</td>\n",
       "      <td>False</td>\n",
       "      <td>False</td>\n",
       "      <td>False</td>\n",
       "      <td>False</td>\n",
       "    </tr>\n",
       "    <tr>\n",
       "      <th>4</th>\n",
       "      <td>False</td>\n",
       "      <td>False</td>\n",
       "      <td>False</td>\n",
       "      <td>False</td>\n",
       "      <td>False</td>\n",
       "      <td>False</td>\n",
       "      <td>False</td>\n",
       "      <td>False</td>\n",
       "      <td>False</td>\n",
       "      <td>False</td>\n",
       "      <td>...</td>\n",
       "      <td>False</td>\n",
       "      <td>False</td>\n",
       "      <td>False</td>\n",
       "      <td>False</td>\n",
       "      <td>False</td>\n",
       "      <td>False</td>\n",
       "      <td>False</td>\n",
       "      <td>False</td>\n",
       "      <td>False</td>\n",
       "      <td>False</td>\n",
       "    </tr>\n",
       "    <tr>\n",
       "      <th>...</th>\n",
       "      <td>...</td>\n",
       "      <td>...</td>\n",
       "      <td>...</td>\n",
       "      <td>...</td>\n",
       "      <td>...</td>\n",
       "      <td>...</td>\n",
       "      <td>...</td>\n",
       "      <td>...</td>\n",
       "      <td>...</td>\n",
       "      <td>...</td>\n",
       "      <td>...</td>\n",
       "      <td>...</td>\n",
       "      <td>...</td>\n",
       "      <td>...</td>\n",
       "      <td>...</td>\n",
       "      <td>...</td>\n",
       "      <td>...</td>\n",
       "      <td>...</td>\n",
       "      <td>...</td>\n",
       "      <td>...</td>\n",
       "      <td>...</td>\n",
       "    </tr>\n",
       "    <tr>\n",
       "      <th>763</th>\n",
       "      <td>False</td>\n",
       "      <td>False</td>\n",
       "      <td>False</td>\n",
       "      <td>False</td>\n",
       "      <td>False</td>\n",
       "      <td>False</td>\n",
       "      <td>False</td>\n",
       "      <td>False</td>\n",
       "      <td>False</td>\n",
       "      <td>False</td>\n",
       "      <td>...</td>\n",
       "      <td>False</td>\n",
       "      <td>False</td>\n",
       "      <td>False</td>\n",
       "      <td>False</td>\n",
       "      <td>False</td>\n",
       "      <td>False</td>\n",
       "      <td>False</td>\n",
       "      <td>False</td>\n",
       "      <td>False</td>\n",
       "      <td>False</td>\n",
       "    </tr>\n",
       "    <tr>\n",
       "      <th>764</th>\n",
       "      <td>False</td>\n",
       "      <td>False</td>\n",
       "      <td>False</td>\n",
       "      <td>False</td>\n",
       "      <td>False</td>\n",
       "      <td>False</td>\n",
       "      <td>False</td>\n",
       "      <td>False</td>\n",
       "      <td>False</td>\n",
       "      <td>False</td>\n",
       "      <td>...</td>\n",
       "      <td>False</td>\n",
       "      <td>False</td>\n",
       "      <td>False</td>\n",
       "      <td>False</td>\n",
       "      <td>False</td>\n",
       "      <td>False</td>\n",
       "      <td>False</td>\n",
       "      <td>False</td>\n",
       "      <td>False</td>\n",
       "      <td>False</td>\n",
       "    </tr>\n",
       "    <tr>\n",
       "      <th>765</th>\n",
       "      <td>False</td>\n",
       "      <td>False</td>\n",
       "      <td>False</td>\n",
       "      <td>False</td>\n",
       "      <td>False</td>\n",
       "      <td>False</td>\n",
       "      <td>False</td>\n",
       "      <td>False</td>\n",
       "      <td>False</td>\n",
       "      <td>False</td>\n",
       "      <td>...</td>\n",
       "      <td>False</td>\n",
       "      <td>False</td>\n",
       "      <td>False</td>\n",
       "      <td>False</td>\n",
       "      <td>False</td>\n",
       "      <td>False</td>\n",
       "      <td>False</td>\n",
       "      <td>False</td>\n",
       "      <td>False</td>\n",
       "      <td>False</td>\n",
       "    </tr>\n",
       "    <tr>\n",
       "      <th>766</th>\n",
       "      <td>False</td>\n",
       "      <td>False</td>\n",
       "      <td>False</td>\n",
       "      <td>False</td>\n",
       "      <td>False</td>\n",
       "      <td>False</td>\n",
       "      <td>False</td>\n",
       "      <td>False</td>\n",
       "      <td>False</td>\n",
       "      <td>False</td>\n",
       "      <td>...</td>\n",
       "      <td>False</td>\n",
       "      <td>False</td>\n",
       "      <td>False</td>\n",
       "      <td>False</td>\n",
       "      <td>False</td>\n",
       "      <td>False</td>\n",
       "      <td>False</td>\n",
       "      <td>False</td>\n",
       "      <td>False</td>\n",
       "      <td>False</td>\n",
       "    </tr>\n",
       "    <tr>\n",
       "      <th>767</th>\n",
       "      <td>False</td>\n",
       "      <td>False</td>\n",
       "      <td>False</td>\n",
       "      <td>False</td>\n",
       "      <td>False</td>\n",
       "      <td>False</td>\n",
       "      <td>False</td>\n",
       "      <td>False</td>\n",
       "      <td>False</td>\n",
       "      <td>False</td>\n",
       "      <td>...</td>\n",
       "      <td>False</td>\n",
       "      <td>False</td>\n",
       "      <td>False</td>\n",
       "      <td>False</td>\n",
       "      <td>False</td>\n",
       "      <td>False</td>\n",
       "      <td>False</td>\n",
       "      <td>False</td>\n",
       "      <td>False</td>\n",
       "      <td>False</td>\n",
       "    </tr>\n",
       "  </tbody>\n",
       "</table>\n",
       "<p>768 rows × 1024 columns</p>\n",
       "</div>"
      ],
      "text/plain": [
       "      0      1      2      3      4      5      6      7      8      9     \\\n",
       "0    False  False  False  False  False  False  False  False  False  False   \n",
       "1    False  False  False  False  False  False  False  False  False  False   \n",
       "2    False  False  False  False  False  False  False  False  False  False   \n",
       "3    False  False  False  False  False  False  False  False  False  False   \n",
       "4    False  False  False  False  False  False  False  False  False  False   \n",
       "..     ...    ...    ...    ...    ...    ...    ...    ...    ...    ...   \n",
       "763  False  False  False  False  False  False  False  False  False  False   \n",
       "764  False  False  False  False  False  False  False  False  False  False   \n",
       "765  False  False  False  False  False  False  False  False  False  False   \n",
       "766  False  False  False  False  False  False  False  False  False  False   \n",
       "767  False  False  False  False  False  False  False  False  False  False   \n",
       "\n",
       "     ...   1014   1015   1016   1017   1018   1019   1020   1021   1022   1023  \n",
       "0    ...  False  False  False  False  False  False  False  False  False  False  \n",
       "1    ...  False  False  False  False  False  False  False  False  False  False  \n",
       "2    ...  False  False  False  False  False  False  False  False  False  False  \n",
       "3    ...  False  False  False  False  False  False  False  False  False  False  \n",
       "4    ...  False  False  False  False  False  False  False  False  False  False  \n",
       "..   ...    ...    ...    ...    ...    ...    ...    ...    ...    ...    ...  \n",
       "763  ...  False  False  False  False  False  False  False  False  False  False  \n",
       "764  ...  False  False  False  False  False  False  False  False  False  False  \n",
       "765  ...  False  False  False  False  False  False  False  False  False  False  \n",
       "766  ...  False  False  False  False  False  False  False  False  False  False  \n",
       "767  ...  False  False  False  False  False  False  False  False  False  False  \n",
       "\n",
       "[768 rows x 1024 columns]"
      ]
     },
     "execution_count": 46,
     "metadata": {},
     "output_type": "execute_result"
    }
   ],
   "source": [
    "spclean = (sp > 0.000001)\n",
    "spclean"
   ]
  },
  {
   "cell_type": "code",
   "execution_count": 48,
   "metadata": {},
   "outputs": [
    {
     "data": {
      "text/plain": [
       "False"
      ]
     },
     "execution_count": 48,
     "metadata": {},
     "output_type": "execute_result"
    }
   ],
   "source": [
    "scipy.sparse.issparse(groundtruth)"
   ]
  },
  {
   "cell_type": "code",
   "execution_count": 51,
   "metadata": {},
   "outputs": [
    {
     "data": {
      "text/plain": [
       "0       278\n",
       "1       278\n",
       "2       278\n",
       "3       280\n",
       "4       280\n",
       "       ... \n",
       "1019      0\n",
       "1020      0\n",
       "1021      0\n",
       "1022      0\n",
       "1023      0\n",
       "Length: 1024, dtype: int64"
      ]
     },
     "execution_count": 51,
     "metadata": {},
     "output_type": "execute_result"
    }
   ],
   "source": [
    "np.sum(spclean)"
   ]
  },
  {
   "cell_type": "code",
   "execution_count": null,
   "metadata": {},
   "outputs": [],
   "source": []
  }
 ],
 "metadata": {
  "kernelspec": {
   "display_name": "Python 3",
   "language": "python",
   "name": "python3"
  },
  "language_info": {
   "codemirror_mode": {
    "name": "ipython",
    "version": 3
   },
   "file_extension": ".py",
   "mimetype": "text/x-python",
   "name": "python",
   "nbconvert_exporter": "python",
   "pygments_lexer": "ipython3",
   "version": "3.7.10"
  }
 },
 "nbformat": 4,
 "nbformat_minor": 2
}
